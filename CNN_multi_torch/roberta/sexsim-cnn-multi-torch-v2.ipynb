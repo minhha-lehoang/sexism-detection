{
 "cells": [
  {
   "cell_type": "code",
   "execution_count": 1,
   "id": "5ed9090b",
   "metadata": {
    "execution": {
     "iopub.execute_input": "2024-01-03T15:26:58.340727Z",
     "iopub.status.busy": "2024-01-03T15:26:58.340321Z",
     "iopub.status.idle": "2024-01-03T15:27:23.247214Z",
     "shell.execute_reply": "2024-01-03T15:27:23.246073Z"
    },
    "papermill": {
     "duration": 24.933331,
     "end_time": "2024-01-03T15:27:23.249636",
     "exception": false,
     "start_time": "2024-01-03T15:26:58.316305",
     "status": "completed"
    },
    "tags": []
   },
   "outputs": [
    {
     "name": "stdout",
     "output_type": "stream",
     "text": [
      "Collecting torchview\r\n",
      "  Downloading torchview-0.2.6-py3-none-any.whl (25 kB)\r\n",
      "Installing collected packages: torchview\r\n",
      "Successfully installed torchview-0.2.6\r\n",
      "Collecting torcheval\r\n",
      "  Obtaining dependency information for torcheval from https://files.pythonhosted.org/packages/e4/de/e7abc784b00de9d05999657d29187f1f7a3406ed10ecaf164de06482608f/torcheval-0.0.7-py3-none-any.whl.metadata\r\n",
      "  Downloading torcheval-0.0.7-py3-none-any.whl.metadata (8.6 kB)\r\n",
      "Requirement already satisfied: typing-extensions in /opt/conda/lib/python3.10/site-packages (from torcheval) (4.5.0)\r\n",
      "Downloading torcheval-0.0.7-py3-none-any.whl (179 kB)\r\n",
      "\u001b[2K   \u001b[90m━━━━━━━━━━━━━━━━━━━━━━━━━━━━━━━━━━━━━━━━\u001b[0m \u001b[32m179.2/179.2 kB\u001b[0m \u001b[31m4.5 MB/s\u001b[0m eta \u001b[36m0:00:00\u001b[0m\r\n",
      "\u001b[?25hInstalling collected packages: torcheval\r\n",
      "Successfully installed torcheval-0.0.7\r\n"
     ]
    }
   ],
   "source": [
    "!pip install torchview\n",
    "!pip install torcheval"
   ]
  },
  {
   "cell_type": "markdown",
   "id": "4176e286",
   "metadata": {
    "papermill": {
     "duration": 0.022998,
     "end_time": "2024-01-03T15:27:23.295942",
     "exception": false,
     "start_time": "2024-01-03T15:27:23.272944",
     "status": "completed"
    },
    "tags": []
   },
   "source": [
    "# **Sexist Classification with BERT Embeddings using Multi-task Convolutional Neural Network**"
   ]
  },
  {
   "cell_type": "code",
   "execution_count": 2,
   "id": "179731be",
   "metadata": {
    "execution": {
     "iopub.execute_input": "2024-01-03T15:27:23.342945Z",
     "iopub.status.busy": "2024-01-03T15:27:23.342595Z",
     "iopub.status.idle": "2024-01-03T15:27:31.211548Z",
     "shell.execute_reply": "2024-01-03T15:27:31.210699Z"
    },
    "papermill": {
     "duration": 7.895176,
     "end_time": "2024-01-03T15:27:31.213874",
     "exception": false,
     "start_time": "2024-01-03T15:27:23.318698",
     "status": "completed"
    },
    "tags": []
   },
   "outputs": [
    {
     "name": "stderr",
     "output_type": "stream",
     "text": [
      "/opt/conda/lib/python3.10/site-packages/scipy/__init__.py:146: UserWarning: A NumPy version >=1.16.5 and <1.23.0 is required for this version of SciPy (detected version 1.24.3\n",
      "  warnings.warn(f\"A NumPy version >={np_minversion} and <{np_maxversion}\"\n"
     ]
    }
   ],
   "source": [
    "import pandas as pd\n",
    "import numpy as np\n",
    "import torch\n",
    "import torch.nn as nn\n",
    "from torchview import draw_graph\n",
    "from torch.utils.data import Dataset, DataLoader\n",
    "from transformers import AutoTokenizer, AutoModel\n",
    "from torch.optim import Adam\n",
    "from torcheval.metrics import MulticlassF1Score\n",
    "from sklearn.metrics import classification_report\n",
    "import math\n",
    "from tqdm import tqdm\n",
    "import matplotlib.pyplot as plt\n",
    "\n",
    "seed = 42\n",
    "np.random.seed(seed)\n",
    "torch.manual_seed(seed)\n",
    "torch.cuda.manual_seed(seed)\n",
    "\n",
    "import warnings\n",
    "warnings.filterwarnings(\"ignore\")\n",
    "import logging\n",
    "logging.getLogger().setLevel(logging.ERROR)\n",
    "\n",
    "import os\n",
    "datadir = '/kaggle/input/data_6'\n",
    "# datadir = '../data_6'\n",
    "\n",
    "device = torch.device(\"cuda\" if torch.cuda.is_available() else \"cpu\")\n",
    "\n",
    "LEVELS = np.array(['1', '2', '3', '3_1', '3_2', '3_3', '3_4'])\n",
    "BATCH_SIZE = 24"
   ]
  },
  {
   "cell_type": "markdown",
   "id": "7cd854f6",
   "metadata": {
    "papermill": {
     "duration": 0.022564,
     "end_time": "2024-01-03T15:27:31.260672",
     "exception": false,
     "start_time": "2024-01-03T15:27:31.238108",
     "status": "completed"
    },
    "tags": []
   },
   "source": [
    "## **Load Data**"
   ]
  },
  {
   "cell_type": "code",
   "execution_count": 3,
   "id": "1b1ae3d5",
   "metadata": {
    "execution": {
     "iopub.execute_input": "2024-01-03T15:27:31.307687Z",
     "iopub.status.busy": "2024-01-03T15:27:31.307226Z",
     "iopub.status.idle": "2024-01-03T15:27:31.564474Z",
     "shell.execute_reply": "2024-01-03T15:27:31.563644Z"
    },
    "papermill": {
     "duration": 0.283166,
     "end_time": "2024-01-03T15:27:31.566665",
     "exception": false,
     "start_time": "2024-01-03T15:27:31.283499",
     "status": "completed"
    },
    "tags": []
   },
   "outputs": [
    {
     "data": {
      "text/html": [
       "<div>\n",
       "<style scoped>\n",
       "    .dataframe tbody tr th:only-of-type {\n",
       "        vertical-align: middle;\n",
       "    }\n",
       "\n",
       "    .dataframe tbody tr th {\n",
       "        vertical-align: top;\n",
       "    }\n",
       "\n",
       "    .dataframe thead th {\n",
       "        text-align: right;\n",
       "    }\n",
       "</style>\n",
       "<table border=\"1\" class=\"dataframe\">\n",
       "  <thead>\n",
       "    <tr style=\"text-align: right;\">\n",
       "      <th></th>\n",
       "      <th>rewire_id</th>\n",
       "      <th>text</th>\n",
       "      <th>label_1</th>\n",
       "      <th>label_2</th>\n",
       "      <th>label_3</th>\n",
       "      <th>label_3_1</th>\n",
       "      <th>label_3_2</th>\n",
       "      <th>label_3_3</th>\n",
       "      <th>label_3_4</th>\n",
       "      <th>tokens</th>\n",
       "    </tr>\n",
       "  </thead>\n",
       "  <tbody>\n",
       "    <tr>\n",
       "      <th>0</th>\n",
       "      <td>sexism2022_english-16993</td>\n",
       "      <td>Then, she's a keeper. 😉</td>\n",
       "      <td>not sexist</td>\n",
       "      <td>not sexist</td>\n",
       "      <td>not sexist</td>\n",
       "      <td>not sexist</td>\n",
       "      <td>not sexist</td>\n",
       "      <td>not sexist</td>\n",
       "      <td>not sexist</td>\n",
       "      <td>then , she's a keeper . :winking_face:</td>\n",
       "    </tr>\n",
       "    <tr>\n",
       "      <th>1</th>\n",
       "      <td>sexism2022_english-13149</td>\n",
       "      <td>This is like the Metallica video where the poo...</td>\n",
       "      <td>not sexist</td>\n",
       "      <td>not sexist</td>\n",
       "      <td>not sexist</td>\n",
       "      <td>not sexist</td>\n",
       "      <td>not sexist</td>\n",
       "      <td>not sexist</td>\n",
       "      <td>not sexist</td>\n",
       "      <td>this is like the metallica video where the poo...</td>\n",
       "    </tr>\n",
       "    <tr>\n",
       "      <th>2</th>\n",
       "      <td>sexism2022_english-13021</td>\n",
       "      <td>woman?</td>\n",
       "      <td>not sexist</td>\n",
       "      <td>not sexist</td>\n",
       "      <td>not sexist</td>\n",
       "      <td>not sexist</td>\n",
       "      <td>not sexist</td>\n",
       "      <td>not sexist</td>\n",
       "      <td>not sexist</td>\n",
       "      <td>woman ?</td>\n",
       "    </tr>\n",
       "    <tr>\n",
       "      <th>3</th>\n",
       "      <td>sexism2022_english-14998</td>\n",
       "      <td>Unlicensed day care worker reportedly tells co...</td>\n",
       "      <td>not sexist</td>\n",
       "      <td>not sexist</td>\n",
       "      <td>not sexist</td>\n",
       "      <td>not sexist</td>\n",
       "      <td>not sexist</td>\n",
       "      <td>not sexist</td>\n",
       "      <td>not sexist</td>\n",
       "      <td>unlicensed day care worker reportedly tells co...</td>\n",
       "    </tr>\n",
       "    <tr>\n",
       "      <th>4</th>\n",
       "      <td>sexism2022_english-7228</td>\n",
       "      <td>[USER] Leg day is easy. Hot girls who wear min...</td>\n",
       "      <td>sexist</td>\n",
       "      <td>3. animosity</td>\n",
       "      <td>3.3 backhanded gendered compliments</td>\n",
       "      <td>other</td>\n",
       "      <td>other</td>\n",
       "      <td>3.3 backhanded gendered compliments</td>\n",
       "      <td>other</td>\n",
       "      <td>user leg day is easy . hot girls who wear mini...</td>\n",
       "    </tr>\n",
       "  </tbody>\n",
       "</table>\n",
       "</div>"
      ],
      "text/plain": [
       "                  rewire_id  \\\n",
       "0  sexism2022_english-16993   \n",
       "1  sexism2022_english-13149   \n",
       "2  sexism2022_english-13021   \n",
       "3  sexism2022_english-14998   \n",
       "4   sexism2022_english-7228   \n",
       "\n",
       "                                                text     label_1  \\\n",
       "0                            Then, she's a keeper. 😉  not sexist   \n",
       "1  This is like the Metallica video where the poo...  not sexist   \n",
       "2                                             woman?  not sexist   \n",
       "3  Unlicensed day care worker reportedly tells co...  not sexist   \n",
       "4  [USER] Leg day is easy. Hot girls who wear min...      sexist   \n",
       "\n",
       "        label_2                              label_3   label_3_1   label_3_2  \\\n",
       "0    not sexist                           not sexist  not sexist  not sexist   \n",
       "1    not sexist                           not sexist  not sexist  not sexist   \n",
       "2    not sexist                           not sexist  not sexist  not sexist   \n",
       "3    not sexist                           not sexist  not sexist  not sexist   \n",
       "4  3. animosity  3.3 backhanded gendered compliments       other       other   \n",
       "\n",
       "                             label_3_3   label_3_4  \\\n",
       "0                           not sexist  not sexist   \n",
       "1                           not sexist  not sexist   \n",
       "2                           not sexist  not sexist   \n",
       "3                           not sexist  not sexist   \n",
       "4  3.3 backhanded gendered compliments       other   \n",
       "\n",
       "                                              tokens  \n",
       "0             then , she's a keeper . :winking_face:  \n",
       "1  this is like the metallica video where the poo...  \n",
       "2                                            woman ?  \n",
       "3  unlicensed day care worker reportedly tells co...  \n",
       "4  user leg day is easy . hot girls who wear mini...  "
      ]
     },
     "execution_count": 3,
     "metadata": {},
     "output_type": "execute_result"
    }
   ],
   "source": [
    "train = pd.read_csv(os.path.join(datadir, 'train.csv'))\n",
    "dev = pd.read_csv(os.path.join(datadir, 'dev.csv'))\n",
    "test = pd.read_csv(os.path.join(datadir, 'test.csv'))\n",
    "\n",
    "train.head()"
   ]
  },
  {
   "cell_type": "code",
   "execution_count": 4,
   "id": "cf90c101",
   "metadata": {
    "execution": {
     "iopub.execute_input": "2024-01-03T15:27:31.615092Z",
     "iopub.status.busy": "2024-01-03T15:27:31.614756Z",
     "iopub.status.idle": "2024-01-03T15:27:31.639523Z",
     "shell.execute_reply": "2024-01-03T15:27:31.638642Z"
    },
    "papermill": {
     "duration": 0.050935,
     "end_time": "2024-01-03T15:27:31.641413",
     "exception": false,
     "start_time": "2024-01-03T15:27:31.590478",
     "status": "completed"
    },
    "tags": []
   },
   "outputs": [
    {
     "data": {
      "text/html": [
       "<div>\n",
       "<style scoped>\n",
       "    .dataframe tbody tr th:only-of-type {\n",
       "        vertical-align: middle;\n",
       "    }\n",
       "\n",
       "    .dataframe tbody tr th {\n",
       "        vertical-align: top;\n",
       "    }\n",
       "\n",
       "    .dataframe thead th {\n",
       "        text-align: right;\n",
       "    }\n",
       "</style>\n",
       "<table border=\"1\" class=\"dataframe\">\n",
       "  <thead>\n",
       "    <tr style=\"text-align: right;\">\n",
       "      <th></th>\n",
       "      <th>rewire_id</th>\n",
       "      <th>text</th>\n",
       "      <th>label_1</th>\n",
       "      <th>label_2</th>\n",
       "      <th>label_3</th>\n",
       "      <th>label_3_1</th>\n",
       "      <th>label_3_2</th>\n",
       "      <th>label_3_3</th>\n",
       "      <th>label_3_4</th>\n",
       "      <th>tokens</th>\n",
       "    </tr>\n",
       "  </thead>\n",
       "  <tbody>\n",
       "    <tr>\n",
       "      <th>0</th>\n",
       "      <td>sexism2022_english-10017</td>\n",
       "      <td>She'll get a nice divorce settlement. Tiger Wo...</td>\n",
       "      <td>not sexist</td>\n",
       "      <td>not sexist</td>\n",
       "      <td>not sexist</td>\n",
       "      <td>not sexist</td>\n",
       "      <td>not sexist</td>\n",
       "      <td>not sexist</td>\n",
       "      <td>not sexist</td>\n",
       "      <td>she'll get a nice divorce settlement . tiger w...</td>\n",
       "    </tr>\n",
       "    <tr>\n",
       "      <th>1</th>\n",
       "      <td>sexism2022_english-10571</td>\n",
       "      <td>[URL] Here is another thread on it. I think it...</td>\n",
       "      <td>sexist</td>\n",
       "      <td>3. animosity</td>\n",
       "      <td>3.2 immutable gender differences and gender st...</td>\n",
       "      <td>other</td>\n",
       "      <td>other</td>\n",
       "      <td>3.2 immutable gender differences and gender st...</td>\n",
       "      <td>other</td>\n",
       "      <td>url here is another thread on it . i think its...</td>\n",
       "    </tr>\n",
       "    <tr>\n",
       "      <th>2</th>\n",
       "      <td>sexism2022_english-3800</td>\n",
       "      <td>one girl that I went to high school with liter...</td>\n",
       "      <td>not sexist</td>\n",
       "      <td>not sexist</td>\n",
       "      <td>not sexist</td>\n",
       "      <td>not sexist</td>\n",
       "      <td>not sexist</td>\n",
       "      <td>not sexist</td>\n",
       "      <td>not sexist</td>\n",
       "      <td>one girl that i went to high school with liter...</td>\n",
       "    </tr>\n",
       "    <tr>\n",
       "      <th>3</th>\n",
       "      <td>sexism2022_english-10977</td>\n",
       "      <td>Or change her name to a more fact base one lik...</td>\n",
       "      <td>not sexist</td>\n",
       "      <td>not sexist</td>\n",
       "      <td>not sexist</td>\n",
       "      <td>not sexist</td>\n",
       "      <td>not sexist</td>\n",
       "      <td>not sexist</td>\n",
       "      <td>not sexist</td>\n",
       "      <td>or change her name to a more fact base one lik...</td>\n",
       "    </tr>\n",
       "    <tr>\n",
       "      <th>4</th>\n",
       "      <td>sexism2022_english-8905</td>\n",
       "      <td>flat chested girls are little brothers to guys</td>\n",
       "      <td>sexist</td>\n",
       "      <td>2. derogation</td>\n",
       "      <td>2.1 descriptive attacks</td>\n",
       "      <td>other</td>\n",
       "      <td>2.1 descriptive attacks</td>\n",
       "      <td>other</td>\n",
       "      <td>other</td>\n",
       "      <td>flat chested girls are little brothers to guys</td>\n",
       "    </tr>\n",
       "  </tbody>\n",
       "</table>\n",
       "</div>"
      ],
      "text/plain": [
       "                  rewire_id  \\\n",
       "0  sexism2022_english-10017   \n",
       "1  sexism2022_english-10571   \n",
       "2   sexism2022_english-3800   \n",
       "3  sexism2022_english-10977   \n",
       "4   sexism2022_english-8905   \n",
       "\n",
       "                                                text     label_1  \\\n",
       "0  She'll get a nice divorce settlement. Tiger Wo...  not sexist   \n",
       "1  [URL] Here is another thread on it. I think it...      sexist   \n",
       "2  one girl that I went to high school with liter...  not sexist   \n",
       "3  Or change her name to a more fact base one lik...  not sexist   \n",
       "4     flat chested girls are little brothers to guys      sexist   \n",
       "\n",
       "         label_2                                            label_3  \\\n",
       "0     not sexist                                         not sexist   \n",
       "1   3. animosity  3.2 immutable gender differences and gender st...   \n",
       "2     not sexist                                         not sexist   \n",
       "3     not sexist                                         not sexist   \n",
       "4  2. derogation                            2.1 descriptive attacks   \n",
       "\n",
       "    label_3_1                label_3_2  \\\n",
       "0  not sexist               not sexist   \n",
       "1       other                    other   \n",
       "2  not sexist               not sexist   \n",
       "3  not sexist               not sexist   \n",
       "4       other  2.1 descriptive attacks   \n",
       "\n",
       "                                           label_3_3   label_3_4  \\\n",
       "0                                         not sexist  not sexist   \n",
       "1  3.2 immutable gender differences and gender st...       other   \n",
       "2                                         not sexist  not sexist   \n",
       "3                                         not sexist  not sexist   \n",
       "4                                              other       other   \n",
       "\n",
       "                                              tokens  \n",
       "0  she'll get a nice divorce settlement . tiger w...  \n",
       "1  url here is another thread on it . i think its...  \n",
       "2  one girl that i went to high school with liter...  \n",
       "3  or change her name to a more fact base one lik...  \n",
       "4     flat chested girls are little brothers to guys  "
      ]
     },
     "execution_count": 4,
     "metadata": {},
     "output_type": "execute_result"
    }
   ],
   "source": [
    "# shuffle the dataset\n",
    "train = train.sample(frac=1).reset_index(drop=True)\n",
    "dev = dev.sample(frac=1).reset_index(drop=True)\n",
    "test = test.sample(frac=1).reset_index(drop=True)\n",
    "\n",
    "train.head()"
   ]
  },
  {
   "cell_type": "markdown",
   "id": "43f67686",
   "metadata": {
    "papermill": {
     "duration": 0.023346,
     "end_time": "2024-01-03T15:27:31.688525",
     "exception": false,
     "start_time": "2024-01-03T15:27:31.665179",
     "status": "completed"
    },
    "tags": []
   },
   "source": [
    "### Labels to categories"
   ]
  },
  {
   "cell_type": "code",
   "execution_count": 5,
   "id": "37b32c17",
   "metadata": {
    "execution": {
     "iopub.execute_input": "2024-01-03T15:27:31.736684Z",
     "iopub.status.busy": "2024-01-03T15:27:31.736394Z",
     "iopub.status.idle": "2024-01-03T15:27:31.754633Z",
     "shell.execute_reply": "2024-01-03T15:27:31.753829Z"
    },
    "papermill": {
     "duration": 0.044524,
     "end_time": "2024-01-03T15:27:31.756517",
     "exception": false,
     "start_time": "2024-01-03T15:27:31.711993",
     "status": "completed"
    },
    "tags": []
   },
   "outputs": [
    {
     "data": {
      "text/plain": [
       "array([array(['not sexist', 'sexist'], dtype='<U10'),\n",
       "       array(['1. threats, plans to harm and incitement', '2. derogation',\n",
       "              '3. animosity', '4. prejudiced discussions', 'not sexist'],\n",
       "             dtype='<U40')                                                ,\n",
       "       array(['1.1 threats of harm', '1.2 incitement and encouragement of harm',\n",
       "              '2.1 descriptive attacks', '2.2 aggressive and emotive attacks',\n",
       "              '2.3 dehumanising attacks & overt sexual objectification',\n",
       "              '3.1 casual use of gendered slurs, profanities, and insults',\n",
       "              '3.2 immutable gender differences and gender stereotypes',\n",
       "              '3.3 backhanded gendered compliments',\n",
       "              '3.4 condescending explanations or unwelcome advice',\n",
       "              '4.1 supporting mistreatment of individual women',\n",
       "              '4.2 supporting systemic discrimination against women as a group',\n",
       "              'not sexist'], dtype='<U63')                                      ,\n",
       "       array(['1.1 threats of harm', '1.2 incitement and encouragement of harm',\n",
       "              'not sexist', 'other'], dtype='<U40')                             ,\n",
       "       array(['2.1 descriptive attacks', '2.2 aggressive and emotive attacks',\n",
       "              '2.3 dehumanising attacks & overt sexual objectification',\n",
       "              'not sexist', 'other'], dtype='<U55')                           ,\n",
       "       array(['3.1 casual use of gendered slurs, profanities, and insults',\n",
       "              '3.2 immutable gender differences and gender stereotypes',\n",
       "              '3.3 backhanded gendered compliments',\n",
       "              '3.4 condescending explanations or unwelcome advice', 'not sexist',\n",
       "              'other'], dtype='<U58')                                            ,\n",
       "       array(['4.1 supporting mistreatment of individual women',\n",
       "              '4.2 supporting systemic discrimination against women as a group',\n",
       "              'not sexist', 'other'], dtype='<U63')                             ],\n",
       "      dtype=object)"
      ]
     },
     "execution_count": 5,
     "metadata": {},
     "output_type": "execute_result"
    }
   ],
   "source": [
    "ALL_LABELS = []\n",
    "for i in range(len(LEVELS)):\n",
    "    ALL_LABELS.append(np.array(sorted(train[f'label_{LEVELS[i]}'].unique().tolist())))\n",
    "ALL_LABELS = np.array(ALL_LABELS, dtype=object)\n",
    "ALL_LABELS"
   ]
  },
  {
   "cell_type": "code",
   "execution_count": 6,
   "id": "3c8a3728",
   "metadata": {
    "execution": {
     "iopub.execute_input": "2024-01-03T15:27:31.804614Z",
     "iopub.status.busy": "2024-01-03T15:27:31.804341Z",
     "iopub.status.idle": "2024-01-03T15:27:31.810862Z",
     "shell.execute_reply": "2024-01-03T15:27:31.810057Z"
    },
    "papermill": {
     "duration": 0.032665,
     "end_time": "2024-01-03T15:27:31.812650",
     "exception": false,
     "start_time": "2024-01-03T15:27:31.779985",
     "status": "completed"
    },
    "tags": []
   },
   "outputs": [
    {
     "data": {
      "text/plain": [
       "(3, '2.1 descriptive attacks')"
      ]
     },
     "execution_count": 6,
     "metadata": {},
     "output_type": "execute_result"
    }
   ],
   "source": [
    "def label_to_idx(label, level):\n",
    "    return ALL_LABELS[level-1].tolist().index(label)\n",
    "\n",
    "def idx_to_label(idx, level):\n",
    "    return ALL_LABELS[level-1][idx]\n",
    "\n",
    "label_to_idx('not sexist', 5), idx_to_label(2, 3)"
   ]
  },
  {
   "cell_type": "code",
   "execution_count": 7,
   "id": "ec0902d0",
   "metadata": {
    "execution": {
     "iopub.execute_input": "2024-01-03T15:27:31.902651Z",
     "iopub.status.busy": "2024-01-03T15:27:31.902312Z",
     "iopub.status.idle": "2024-01-03T15:27:32.179378Z",
     "shell.execute_reply": "2024-01-03T15:27:32.178457Z"
    },
    "papermill": {
     "duration": 0.345098,
     "end_time": "2024-01-03T15:27:32.181458",
     "exception": false,
     "start_time": "2024-01-03T15:27:31.836360",
     "status": "completed"
    },
    "tags": []
   },
   "outputs": [
    {
     "data": {
      "text/plain": [
       "(torch.Size([14000, 7]), torch.Size([2000, 7]), torch.Size([4000, 7]))"
      ]
     },
     "execution_count": 7,
     "metadata": {},
     "output_type": "execute_result"
    }
   ],
   "source": [
    "y_trains = torch.empty((len(train), len(LEVELS)), dtype=torch.long)\n",
    "y_devs = torch.empty((len(dev), len(LEVELS)), dtype=torch.long)\n",
    "y_tests = torch.empty((len(test), len(LEVELS)), dtype=torch.long)\n",
    "\n",
    "for i in range(len(LEVELS)):\n",
    "    y_trains[:, i] = torch.tensor(train[f'label_{LEVELS[i]}'].apply(lambda x: label_to_idx(x, i+1)).values, dtype=torch.long)\n",
    "    y_devs[:, i] = torch.tensor(dev[f'label_{LEVELS[i]}'].apply(lambda x: label_to_idx(x, i+1)).values, dtype=torch.long)\n",
    "    y_tests[:, i] = torch.tensor(test[f'label_{LEVELS[i]}'].apply(lambda x: label_to_idx(x, i+1)).values, dtype=torch.long)\n",
    "\n",
    "y_trains.shape, y_devs.shape, y_tests.shape"
   ]
  },
  {
   "cell_type": "markdown",
   "id": "bddc7ba8",
   "metadata": {
    "papermill": {
     "duration": 0.027164,
     "end_time": "2024-01-03T15:27:32.233187",
     "exception": false,
     "start_time": "2024-01-03T15:27:32.206023",
     "status": "completed"
    },
    "tags": []
   },
   "source": [
    "### Class weights"
   ]
  },
  {
   "cell_type": "code",
   "execution_count": 8,
   "id": "d7c71ecc",
   "metadata": {
    "execution": {
     "iopub.execute_input": "2024-01-03T15:27:32.283952Z",
     "iopub.status.busy": "2024-01-03T15:27:32.283623Z",
     "iopub.status.idle": "2024-01-03T15:27:35.716187Z",
     "shell.execute_reply": "2024-01-03T15:27:35.715266Z"
    },
    "papermill": {
     "duration": 3.459498,
     "end_time": "2024-01-03T15:27:35.718228",
     "exception": false,
     "start_time": "2024-01-03T15:27:32.258730",
     "status": "completed"
    },
    "tags": []
   },
   "outputs": [
    {
     "data": {
      "text/plain": [
       "[tensor([0.2427, 0.7573], device='cuda:0'),\n",
       " tensor([0.4130, 0.0805, 0.1099, 0.3845, 0.0121], device='cuda:0'),\n",
       " tensor([0.2033, 0.0448, 0.0159, 0.0169, 0.0569, 0.0179, 0.0273, 0.1779, 0.2422,\n",
       "         0.1518, 0.0441, 0.0011], device='cuda:0'),\n",
       " tensor([0.8039, 0.1772, 0.0042, 0.0146], device='cuda:0'),\n",
       " tensor([0.1635, 0.1742, 0.5863, 0.0111, 0.0649], device='cuda:0'),\n",
       " tensor([0.0379, 0.0579, 0.3773, 0.5138, 0.0023, 0.0108], device='cuda:0'),\n",
       " tensor([0.7563, 0.2199, 0.0054, 0.0185], device='cuda:0')]"
      ]
     },
     "execution_count": 8,
     "metadata": {},
     "output_type": "execute_result"
    }
   ],
   "source": [
    "classes_weights = []\n",
    "for i in range(len(LEVELS)):\n",
    "    w = 1 / torch.bincount(y_trains[:, i]).float()\n",
    "    w = w / w.sum()\n",
    "    classes_weights.append(w.to(device))\n",
    "classes_weights"
   ]
  },
  {
   "cell_type": "markdown",
   "id": "fb2a9215",
   "metadata": {
    "papermill": {
     "duration": 0.023965,
     "end_time": "2024-01-03T15:27:35.767057",
     "exception": false,
     "start_time": "2024-01-03T15:27:35.743092",
     "status": "completed"
    },
    "tags": []
   },
   "source": [
    "## **BERT Embeddings**"
   ]
  },
  {
   "cell_type": "code",
   "execution_count": 9,
   "id": "9da66fb6",
   "metadata": {
    "execution": {
     "iopub.execute_input": "2024-01-03T15:27:35.816514Z",
     "iopub.status.busy": "2024-01-03T15:27:35.816201Z",
     "iopub.status.idle": "2024-01-03T15:27:40.247694Z",
     "shell.execute_reply": "2024-01-03T15:27:40.246682Z"
    },
    "papermill": {
     "duration": 4.458582,
     "end_time": "2024-01-03T15:27:40.249756",
     "exception": false,
     "start_time": "2024-01-03T15:27:35.791174",
     "status": "completed"
    },
    "tags": []
   },
   "outputs": [
    {
     "data": {
      "application/vnd.jupyter.widget-view+json": {
       "model_id": "6fdefbdc39b04aa1afe5f372b3f3c607",
       "version_major": 2,
       "version_minor": 0
      },
      "text/plain": [
       "config.json:   0%|          | 0.00/481 [00:00<?, ?B/s]"
      ]
     },
     "metadata": {},
     "output_type": "display_data"
    },
    {
     "data": {
      "application/vnd.jupyter.widget-view+json": {
       "model_id": "bce55c116ff24cd788836e82d22a1c8f",
       "version_major": 2,
       "version_minor": 0
      },
      "text/plain": [
       "vocab.json:   0%|          | 0.00/899k [00:00<?, ?B/s]"
      ]
     },
     "metadata": {},
     "output_type": "display_data"
    },
    {
     "data": {
      "application/vnd.jupyter.widget-view+json": {
       "model_id": "199b81fa51404062880f43c8ef6d0677",
       "version_major": 2,
       "version_minor": 0
      },
      "text/plain": [
       "merges.txt:   0%|          | 0.00/456k [00:00<?, ?B/s]"
      ]
     },
     "metadata": {},
     "output_type": "display_data"
    },
    {
     "data": {
      "application/vnd.jupyter.widget-view+json": {
       "model_id": "c112220f0b7546b8a9587242b828b7bb",
       "version_major": 2,
       "version_minor": 0
      },
      "text/plain": [
       "tokenizer.json:   0%|          | 0.00/1.36M [00:00<?, ?B/s]"
      ]
     },
     "metadata": {},
     "output_type": "display_data"
    },
    {
     "data": {
      "application/vnd.jupyter.widget-view+json": {
       "model_id": "e52549a48b7344ed92616b2547620ed5",
       "version_major": 2,
       "version_minor": 0
      },
      "text/plain": [
       "model.safetensors:   0%|          | 0.00/499M [00:00<?, ?B/s]"
      ]
     },
     "metadata": {},
     "output_type": "display_data"
    },
    {
     "name": "stderr",
     "output_type": "stream",
     "text": [
      "Some weights of RobertaModel were not initialized from the model checkpoint at roberta-base and are newly initialized: ['roberta.pooler.dense.bias', 'roberta.pooler.dense.weight']\n",
      "You should probably TRAIN this model on a down-stream task to be able to use it for predictions and inference.\n"
     ]
    },
    {
     "data": {
      "text/plain": [
       "'roberta-base'"
      ]
     },
     "execution_count": 9,
     "metadata": {},
     "output_type": "execute_result"
    }
   ],
   "source": [
    "# model_path = 'distilbert-base-uncased' # cpu\n",
    "model_path = 'roberta-base' # gpu\n",
    "\n",
    "tokenizer = AutoTokenizer.from_pretrained(model_path)\n",
    "bert_model = AutoModel.from_pretrained(model_path)\n",
    "\n",
    "model_name = model_path.split('/')[-1]\n",
    "assert len(model_name.split('/')) == 1\n",
    "\n",
    "model_name"
   ]
  },
  {
   "cell_type": "markdown",
   "id": "99765c21",
   "metadata": {
    "papermill": {
     "duration": 0.024853,
     "end_time": "2024-01-03T15:27:40.300268",
     "exception": false,
     "start_time": "2024-01-03T15:27:40.275415",
     "status": "completed"
    },
    "tags": []
   },
   "source": [
    "### Padding by batch Dataset"
   ]
  },
  {
   "cell_type": "code",
   "execution_count": 10,
   "id": "9b0f27d3",
   "metadata": {
    "execution": {
     "iopub.execute_input": "2024-01-03T15:27:40.352062Z",
     "iopub.status.busy": "2024-01-03T15:27:40.351581Z",
     "iopub.status.idle": "2024-01-03T15:27:40.360731Z",
     "shell.execute_reply": "2024-01-03T15:27:40.359906Z"
    },
    "papermill": {
     "duration": 0.037245,
     "end_time": "2024-01-03T15:27:40.362583",
     "exception": false,
     "start_time": "2024-01-03T15:27:40.325338",
     "status": "completed"
    },
    "tags": []
   },
   "outputs": [],
   "source": [
    "class MiniBatchPaddingDataset(Dataset):\n",
    "    def __init__(self, x, y, batch_size=BATCH_SIZE):\n",
    "        self.y = y\n",
    "        self.batch_size = batch_size\n",
    "\n",
    "        # padding by max length in each batch\n",
    "        self.num_batches = math.ceil(len(x) / self.batch_size)\n",
    "\n",
    "        self.input_ids = []\n",
    "        self.attention_masks = []\n",
    "        \n",
    "        for batch in range(self.num_batches):\n",
    "            batch_start = batch * self.batch_size\n",
    "            batch_end = min((batch + 1) * self.batch_size, len(x))\n",
    "\n",
    "            batch_encodings = tokenizer(x[batch_start:batch_end], \n",
    "                                        padding=True, \n",
    "                                        max_length=120,\n",
    "                                        truncation=True)\n",
    "            batch_input_ids = batch_encodings['input_ids']\n",
    "            batch_attention_mask = batch_encodings['attention_mask']\n",
    "\n",
    "            self.input_ids += batch_input_ids\n",
    "            self.attention_masks += batch_attention_mask\n",
    "            \n",
    "\n",
    "    def __getitem__(self, index):\n",
    "        input_ids = torch.tensor(self.input_ids[index])\n",
    "        attention_mask = torch.tensor(self.attention_masks[index])\n",
    "        labels = torch.tensor(self.y[index])\n",
    "        inputs = torch.stack((input_ids, attention_mask))\n",
    "\n",
    "        return inputs, labels\n",
    "    \n",
    "    def __len__(self):\n",
    "        return len(self.input_ids)"
   ]
  },
  {
   "cell_type": "code",
   "execution_count": 11,
   "id": "e206abb6",
   "metadata": {
    "execution": {
     "iopub.execute_input": "2024-01-03T15:27:40.414803Z",
     "iopub.status.busy": "2024-01-03T15:27:40.414543Z",
     "iopub.status.idle": "2024-01-03T15:27:41.931935Z",
     "shell.execute_reply": "2024-01-03T15:27:41.930926Z"
    },
    "papermill": {
     "duration": 1.546802,
     "end_time": "2024-01-03T15:27:41.934300",
     "exception": false,
     "start_time": "2024-01-03T15:27:40.387498",
     "status": "completed"
    },
    "tags": []
   },
   "outputs": [],
   "source": [
    "x_trains = train['text'].tolist()\n",
    "x_devs = dev['text'].tolist()\n",
    "x_tests = test['text'].tolist()\n",
    "\n",
    "train_dataset = MiniBatchPaddingDataset(x_trains, y_trains)\n",
    "dev_dataset = MiniBatchPaddingDataset(x_devs, y_devs)\n",
    "test_dataset = MiniBatchPaddingDataset(x_tests, y_tests)"
   ]
  },
  {
   "cell_type": "markdown",
   "id": "f2fc482a",
   "metadata": {
    "papermill": {
     "duration": 0.02503,
     "end_time": "2024-01-03T15:27:41.984991",
     "exception": false,
     "start_time": "2024-01-03T15:27:41.959961",
     "status": "completed"
    },
    "tags": []
   },
   "source": [
    "### Dataloader"
   ]
  },
  {
   "cell_type": "code",
   "execution_count": 12,
   "id": "c9a10fd0",
   "metadata": {
    "execution": {
     "iopub.execute_input": "2024-01-03T15:27:42.036578Z",
     "iopub.status.busy": "2024-01-03T15:27:42.036261Z",
     "iopub.status.idle": "2024-01-03T15:27:42.041559Z",
     "shell.execute_reply": "2024-01-03T15:27:42.040641Z"
    },
    "papermill": {
     "duration": 0.03353,
     "end_time": "2024-01-03T15:27:42.043579",
     "exception": false,
     "start_time": "2024-01-03T15:27:42.010049",
     "status": "completed"
    },
    "tags": []
   },
   "outputs": [],
   "source": [
    "train_loader = DataLoader(train_dataset, batch_size=BATCH_SIZE, shuffle=False)\n",
    "dev_loader = DataLoader(dev_dataset, batch_size=BATCH_SIZE, shuffle=False)\n",
    "test_loader = DataLoader(test_dataset, batch_size=BATCH_SIZE, shuffle=False)"
   ]
  },
  {
   "cell_type": "code",
   "execution_count": 13,
   "id": "2513288e",
   "metadata": {
    "execution": {
     "iopub.execute_input": "2024-01-03T15:27:42.094971Z",
     "iopub.status.busy": "2024-01-03T15:27:42.094660Z",
     "iopub.status.idle": "2024-01-03T15:27:42.107688Z",
     "shell.execute_reply": "2024-01-03T15:27:42.106686Z"
    },
    "papermill": {
     "duration": 0.040688,
     "end_time": "2024-01-03T15:27:42.109558",
     "exception": false,
     "start_time": "2024-01-03T15:27:42.068870",
     "status": "completed"
    },
    "tags": []
   },
   "outputs": [
    {
     "name": "stdout",
     "output_type": "stream",
     "text": [
      "torch.Size([24, 2, 61])\n",
      "torch.Size([24, 7])\n"
     ]
    }
   ],
   "source": [
    "for inputs, labels in train_loader:\n",
    "    print(inputs.shape)\n",
    "    print(labels.shape)\n",
    "\n",
    "    break"
   ]
  },
  {
   "cell_type": "code",
   "execution_count": 14,
   "id": "75029c98",
   "metadata": {
    "execution": {
     "iopub.execute_input": "2024-01-03T15:27:42.161205Z",
     "iopub.status.busy": "2024-01-03T15:27:42.160947Z",
     "iopub.status.idle": "2024-01-03T15:27:44.194209Z",
     "shell.execute_reply": "2024-01-03T15:27:44.193084Z"
    },
    "papermill": {
     "duration": 2.061784,
     "end_time": "2024-01-03T15:27:44.196548",
     "exception": false,
     "start_time": "2024-01-03T15:27:42.134764",
     "status": "completed"
    },
    "tags": []
   },
   "outputs": [
    {
     "data": {
      "text/plain": [
       "torch.Size([24, 61, 768])"
      ]
     },
     "execution_count": 14,
     "metadata": {},
     "output_type": "execute_result"
    }
   ],
   "source": [
    "bert_model(inputs[:, 0, :], inputs[:, 1, :])['last_hidden_state'].shape"
   ]
  },
  {
   "cell_type": "markdown",
   "id": "0e545285",
   "metadata": {
    "papermill": {
     "duration": 0.030797,
     "end_time": "2024-01-03T15:27:44.258224",
     "exception": false,
     "start_time": "2024-01-03T15:27:44.227427",
     "status": "completed"
    },
    "tags": []
   },
   "source": [
    "### Embedding Layer"
   ]
  },
  {
   "cell_type": "code",
   "execution_count": 15,
   "id": "05d60766",
   "metadata": {
    "execution": {
     "iopub.execute_input": "2024-01-03T15:27:44.321703Z",
     "iopub.status.busy": "2024-01-03T15:27:44.321338Z",
     "iopub.status.idle": "2024-01-03T15:27:44.328449Z",
     "shell.execute_reply": "2024-01-03T15:27:44.327360Z"
    },
    "papermill": {
     "duration": 0.040815,
     "end_time": "2024-01-03T15:27:44.330371",
     "exception": false,
     "start_time": "2024-01-03T15:27:44.289556",
     "status": "completed"
    },
    "tags": []
   },
   "outputs": [],
   "source": [
    "class BERT_Embedding(torch.nn.Module):\n",
    "    def __init__(self, model):\n",
    "        super(BERT_Embedding, self).__init__()\n",
    "        self.bert_model = model\n",
    "\n",
    "    def forward(self, input_ids, attention_mask):\n",
    "        input_ids = input_ids\n",
    "        attention_mask = attention_mask\n",
    "\n",
    "        # inputs shape: (batch_size, max_seq_len)\n",
    "        # outputs shape: (batch_size, max_seq_len, embedding_size)\n",
    "        outputs = self.bert_model(input_ids, attention_mask)\n",
    "        outputs = outputs['last_hidden_state']\n",
    "        # print('bert embedding outputs:', outputs.shape)\n",
    "        return outputs\n",
    "    \n",
    "    def __getitem__(self):\n",
    "        return self.bert_model\n",
    "        \n",
    "    def get_embedding_size(self):\n",
    "        return self.bert_model.config.hidden_size\n",
    "    \n",
    "    def get_embedding_dim(self):\n",
    "        return self.bert_model.config.hidden_size\n"
   ]
  },
  {
   "cell_type": "markdown",
   "id": "816fce64",
   "metadata": {
    "papermill": {
     "duration": 0.025034,
     "end_time": "2024-01-03T15:27:44.382811",
     "exception": false,
     "start_time": "2024-01-03T15:27:44.357777",
     "status": "completed"
    },
    "tags": []
   },
   "source": [
    "## **Model**"
   ]
  },
  {
   "cell_type": "markdown",
   "id": "f60c9b2e",
   "metadata": {
    "papermill": {
     "duration": 0.025269,
     "end_time": "2024-01-03T15:27:44.433231",
     "exception": false,
     "start_time": "2024-01-03T15:27:44.407962",
     "status": "completed"
    },
    "tags": []
   },
   "source": [
    "### **MultiConvos**"
   ]
  },
  {
   "cell_type": "code",
   "execution_count": 16,
   "id": "2e31b7d5",
   "metadata": {
    "execution": {
     "iopub.execute_input": "2024-01-03T15:27:44.486313Z",
     "iopub.status.busy": "2024-01-03T15:27:44.486010Z",
     "iopub.status.idle": "2024-01-03T15:27:44.502389Z",
     "shell.execute_reply": "2024-01-03T15:27:44.501573Z"
    },
    "papermill": {
     "duration": 0.044799,
     "end_time": "2024-01-03T15:27:44.504264",
     "exception": false,
     "start_time": "2024-01-03T15:27:44.459465",
     "status": "completed"
    },
    "tags": []
   },
   "outputs": [],
   "source": [
    "# multi convos layer\n",
    "class MultiConvos(nn.Module):\n",
    "\n",
    "    class GlobalMaxPool1d(nn.Module):\n",
    "        def __init__(self):\n",
    "            super(MultiConvos.GlobalMaxPool1d, self).__init__()\n",
    "\n",
    "        def forward(self, inputs):\n",
    "            return torch.max(inputs, dim=-1)[0]\n",
    "       \n",
    "    class ConcatTensor(nn.Module):\n",
    "        def __init__(self):\n",
    "            super(MultiConvos.ConcatTensor, self).__init__()\n",
    "\n",
    "        def forward(self, inputs):\n",
    "            return torch.cat(inputs, dim=1)\n",
    "\n",
    "    \n",
    "    def __init__(self, configs=None, dropout_concat=0, input_dim=None, **kwargs):\n",
    "        super(MultiConvos, self).__init__(**kwargs)\n",
    "\n",
    "        if input_dim is None:\n",
    "            Exception('Please specify input_dim')\n",
    "\n",
    "        if configs is None:\n",
    "            self.configs = {3: {'filters': 32, 'dropout': 0.25},\n",
    "                            4: {'filters': 32, 'dropout': 0.25},\n",
    "                            5: {'filters': 32, 'dropout': 0.25}}\n",
    "        else:\n",
    "            self.configs = configs\n",
    "            \n",
    "        self.convs = nn.ModuleList()  # Use nn.ModuleList instead of a regular list\n",
    "        for key in self.configs:\n",
    "            # input shape: (batch_size, embedding_size, max_seq_len)\n",
    "            # output shape: (batch_size, filters, max_seq_len)\n",
    "            conv = nn.Conv1d(in_channels=input_dim, \n",
    "                             out_channels=int(self.configs[key]['filters']), \n",
    "                             kernel_size=int(key))\n",
    "            nn.init.kaiming_normal_(conv.weight)\n",
    "            if float(self.configs[key]['dropout']) > 0:\n",
    "                dropout = nn.Dropout(p=float(self.configs[key]['dropout']))\n",
    "            else:\n",
    "                dropout = None\n",
    "\n",
    "            # input shape: (batch_size, filters, max_seq_len)\n",
    "            # output shape: (batch_size, filters)\n",
    "            pool = MultiConvos.GlobalMaxPool1d()\n",
    "            self.convs.append(nn.Sequential(conv, nn.ReLU(), dropout, pool))  # Apply activation function separately\n",
    "#             self.convs.append(nn.Sequential(conv, dropout, pool))  # Apply activation function separately\n",
    "\n",
    "        # self.concat = nn.Concatenate(dim=1)\n",
    "        if dropout_concat > 0:\n",
    "            self.dropout_concat = nn.Dropout(p=dropout_concat)\n",
    "        else:\n",
    "            self.dropout_concat = None\n",
    "\n",
    "    def forward(self, inputs: torch.Tensor):\n",
    "        # transpose to (batch_size, embedding_size, max_seq_len)\n",
    "        # inputs = inputs.transpose(1, 2)\n",
    "        inputs = inputs.permute(0, 2, 1)\n",
    "        # print(inputs.shape)\n",
    "        convs = []\n",
    "        for i, key in enumerate(self.configs):\n",
    "            # convolutional layer\n",
    "            conv = self.convs[i][0](inputs)\n",
    "            # activation function: ReLU\n",
    "            conv = self.convs[i][1](conv)\n",
    "            if self.convs[i][2] is not None:\n",
    "                conv = self.convs[i][2](conv)\n",
    "            # global max pooling\n",
    "            conv = self.convs[i][3](conv)\n",
    "#             print(conv.shape)\n",
    "            convs.append(conv)\n",
    "        # concat all convs\n",
    "        concat = MultiConvos.ConcatTensor()(convs)\n",
    "        if self.dropout_concat is not None:\n",
    "            concat = self.dropout_concat(concat)\n",
    "        return concat\n",
    "    \n",
    "    def __output_dim__(self):\n",
    "        return sum([self.configs[key]['filters'] for key in self.configs])"
   ]
  },
  {
   "cell_type": "markdown",
   "id": "46588b5a",
   "metadata": {
    "papermill": {
     "duration": 0.025341,
     "end_time": "2024-01-03T15:27:44.555388",
     "exception": false,
     "start_time": "2024-01-03T15:27:44.530047",
     "status": "completed"
    },
    "tags": []
   },
   "source": [
    "### **Model**"
   ]
  },
  {
   "cell_type": "code",
   "execution_count": 17,
   "id": "e9ae52c4",
   "metadata": {
    "execution": {
     "iopub.execute_input": "2024-01-03T15:27:44.607647Z",
     "iopub.status.busy": "2024-01-03T15:27:44.607377Z",
     "iopub.status.idle": "2024-01-03T15:27:44.617266Z",
     "shell.execute_reply": "2024-01-03T15:27:44.616401Z"
    },
    "papermill": {
     "duration": 0.038312,
     "end_time": "2024-01-03T15:27:44.619104",
     "exception": false,
     "start_time": "2024-01-03T15:27:44.580792",
     "status": "completed"
    },
    "tags": []
   },
   "outputs": [],
   "source": [
    "class MultiTask_CNN_Model(nn.Module):\n",
    "    def __init__(self, \n",
    "                 convo_configs=None, \n",
    "                 dropout_concat=0.1, \n",
    "                 dense_dim=128,\n",
    "                 dropout_embedding=0.1,\n",
    "                **kwargs):\n",
    "        super(MultiTask_CNN_Model, self).__init__(**kwargs)\n",
    "        \n",
    "        self.bert_embedding = BERT_Embedding(bert_model)\n",
    "        self.embedding_dropout = nn.Dropout(dropout_embedding)\n",
    "        self.multi_convos = MultiConvos(convo_configs, \n",
    "                                        dropout_concat=dropout_concat,\n",
    "                                        input_dim=self.bert_embedding.get_embedding_dim())\n",
    "        self.denses = nn.ModuleList()\n",
    "        self.FCs = nn.ModuleList()\n",
    "        dense_input_size = self.multi_convos.__output_dim__()\n",
    "\n",
    "        for i in range(0, len(LEVELS)):\n",
    "            self.denses.append(nn.Sequential(nn.Linear(dense_input_size, dense_dim), \n",
    "                                             nn.ReLU(), nn.Dropout(0.2)))\n",
    "#             self.FCs.append(nn.Sequential(nn.Linear(dense_dim, ALL_LABELS[i].shape[0]), \n",
    "#                                           nn.Softmax(dim=1)))\n",
    "            self.FCs.append(nn.Linear(dense_dim, ALL_LABELS[i].shape[0]))\n",
    "#             self.FCs.append(nn.Linear(dense_input_size, ALL_LABELS[i].shape[0]))\n",
    "\n",
    "    def forward(self, inputs):\n",
    "        bert_embedding = self.bert_embedding(inputs[:, 0, :], inputs[:, 1, :])\n",
    "        bert_embedding = self.embedding_dropout(bert_embedding)\n",
    "        multi_convos = self.multi_convos(bert_embedding)\n",
    "#         print(multi_convos[:, 0])\n",
    "        # print(multi_convos.shape)\n",
    "        denses = []\n",
    "        for i in range(0, len(LEVELS)):\n",
    "            denses.append(self.denses[i](multi_convos))\n",
    "        logits = []\n",
    "        for i in range(0, len(LEVELS)):\n",
    "            logits.append(self.FCs[i](denses[i]))\n",
    "#             logits.append(self.FCs[i](multi_convos))\n",
    "#         print(logits[0])\n",
    "        return logits"
   ]
  },
  {
   "cell_type": "markdown",
   "id": "01e5cb0c",
   "metadata": {
    "papermill": {
     "duration": 0.026432,
     "end_time": "2024-01-03T15:27:44.670744",
     "exception": false,
     "start_time": "2024-01-03T15:27:44.644312",
     "status": "completed"
    },
    "tags": []
   },
   "source": [
    "## **Training**"
   ]
  },
  {
   "cell_type": "markdown",
   "id": "a7cdac1c",
   "metadata": {
    "papermill": {
     "duration": 0.031357,
     "end_time": "2024-01-03T15:27:44.732307",
     "exception": false,
     "start_time": "2024-01-03T15:27:44.700950",
     "status": "completed"
    },
    "tags": []
   },
   "source": [
    "### Losses and Metrics"
   ]
  },
  {
   "cell_type": "code",
   "execution_count": 18,
   "id": "f817face",
   "metadata": {
    "execution": {
     "iopub.execute_input": "2024-01-03T15:27:44.784595Z",
     "iopub.status.busy": "2024-01-03T15:27:44.784299Z",
     "iopub.status.idle": "2024-01-03T15:27:44.790307Z",
     "shell.execute_reply": "2024-01-03T15:27:44.789469Z"
    },
    "papermill": {
     "duration": 0.034239,
     "end_time": "2024-01-03T15:27:44.792252",
     "exception": false,
     "start_time": "2024-01-03T15:27:44.758013",
     "status": "completed"
    },
    "tags": []
   },
   "outputs": [],
   "source": [
    "def loss_fn(logits, labels, classes_weights, task_weights=None):\n",
    "    # print(labels.shape)\n",
    "    # losses = multi_task_loss(logits, labels).to(device)\n",
    "    losses = torch.zeros(len(LEVELS)).to(device)\n",
    "    for i in range(len(LEVELS)):\n",
    "        # print(logits[i].shape, labels[:, i].shape, classes_weights[i].shape)\n",
    "        losses[i] = nn.functional.cross_entropy(logits[i], labels[:, i], \n",
    "                                                weight=classes_weights[i])\n",
    "#         print(losses[i])\n",
    "    if task_weights is None:\n",
    "        loss = losses.sum()\n",
    "    else:\n",
    "        loss = (losses * task_weights).sum()\n",
    "#     print(loss)\n",
    "\n",
    "    return loss, losses"
   ]
  },
  {
   "cell_type": "code",
   "execution_count": 19,
   "id": "72c77046",
   "metadata": {
    "execution": {
     "iopub.execute_input": "2024-01-03T15:27:44.845374Z",
     "iopub.status.busy": "2024-01-03T15:27:44.844684Z",
     "iopub.status.idle": "2024-01-03T15:27:44.850690Z",
     "shell.execute_reply": "2024-01-03T15:27:44.849852Z"
    },
    "papermill": {
     "duration": 0.034831,
     "end_time": "2024-01-03T15:27:44.852473",
     "exception": false,
     "start_time": "2024-01-03T15:27:44.817642",
     "status": "completed"
    },
    "tags": []
   },
   "outputs": [],
   "source": [
    "def multi_task_metrics_batch(logits_batch, labels_batch):\n",
    "    batch_f1s = []\n",
    "    metrics = [MulticlassF1Score(num_classes=ALL_LABELS[i].shape[0], average='macro', device=device) for i in range(len(LEVELS))]\n",
    "    # calculate f1 score for each level by batch\n",
    "    for i in range(len(LEVELS)):\n",
    "        metrics[i].update(logits_batch[i], labels_batch[:, i])\n",
    "        batch_f1s.append(metrics[i].compute())\n",
    "    return batch_f1s"
   ]
  },
  {
   "cell_type": "markdown",
   "id": "f5c6ae08",
   "metadata": {
    "papermill": {
     "duration": 0.029636,
     "end_time": "2024-01-03T15:27:44.908220",
     "exception": false,
     "start_time": "2024-01-03T15:27:44.878584",
     "status": "completed"
    },
    "tags": []
   },
   "source": [
    "### Training and Evaluation"
   ]
  },
  {
   "cell_type": "code",
   "execution_count": 20,
   "id": "75ae0c71",
   "metadata": {
    "execution": {
     "iopub.execute_input": "2024-01-03T15:27:44.970142Z",
     "iopub.status.busy": "2024-01-03T15:27:44.969731Z",
     "iopub.status.idle": "2024-01-03T15:27:44.980119Z",
     "shell.execute_reply": "2024-01-03T15:27:44.979113Z"
    },
    "papermill": {
     "duration": 0.044219,
     "end_time": "2024-01-03T15:27:44.982324",
     "exception": false,
     "start_time": "2024-01-03T15:27:44.938105",
     "status": "completed"
    },
    "tags": []
   },
   "outputs": [],
   "source": [
    "def train_epoch(model, loader, optimizer, device, classes_weights, task_weights):\n",
    "    model.train()\n",
    "    joint_losses = []\n",
    "    multi_losses = []\n",
    "    multi_f1s = []\n",
    "\n",
    "    for batch in tqdm(loader):        \n",
    "        logits = model(batch[0].to(device))\n",
    "        labels = batch[1].to(device)\n",
    "        joint_loss, multitask_losses = loss_fn(logits, labels, classes_weights, task_weights)\n",
    "        \n",
    "        joint_losses.append(joint_loss.item())\n",
    "        multi_losses.append(multitask_losses)\n",
    "\n",
    "        joint_loss.backward()\n",
    "        optimizer.step()\n",
    "        optimizer.zero_grad()\n",
    "        \n",
    "        f1s = multi_task_metrics_batch(logits, labels)\n",
    "        multi_f1s.append(f1s)\n",
    "\n",
    "    epoch_joint_loss = torch.mean(torch.tensor(joint_losses))\n",
    "\n",
    "    epoch_multi_losses = []\n",
    "    epoch_multi_f1s = []\n",
    "    for i in range(len(LEVELS)):\n",
    "        epoch_multi_losses.append(torch.mean(torch.tensor([loss[i].item() for loss in multi_losses])))\n",
    "        epoch_multi_f1s.append(torch.mean(torch.tensor([f1[i] for f1 in multi_f1s])))\n",
    "\n",
    "    return epoch_joint_loss, epoch_multi_losses, epoch_multi_f1s"
   ]
  },
  {
   "cell_type": "code",
   "execution_count": 21,
   "id": "de69315a",
   "metadata": {
    "execution": {
     "iopub.execute_input": "2024-01-03T15:27:45.043844Z",
     "iopub.status.busy": "2024-01-03T15:27:45.043417Z",
     "iopub.status.idle": "2024-01-03T15:27:45.053323Z",
     "shell.execute_reply": "2024-01-03T15:27:45.052336Z"
    },
    "papermill": {
     "duration": 0.042865,
     "end_time": "2024-01-03T15:27:45.055570",
     "exception": false,
     "start_time": "2024-01-03T15:27:45.012705",
     "status": "completed"
    },
    "tags": []
   },
   "outputs": [],
   "source": [
    "def eval_epoch(model, loader, device, classes_weights, task_weights):\n",
    "    model.eval()\n",
    "    joint_losses = []\n",
    "    multi_losses = []\n",
    "    multi_f1s = []\n",
    "    \n",
    "    with torch.no_grad():\n",
    "        for batch in tqdm(loader):\n",
    "            logits = model(batch[0].to(device))\n",
    "            labels = batch[1].to(device)\n",
    "            joint_loss, multitask_losses = loss_fn(logits, labels, classes_weights, task_weights)\n",
    "            \n",
    "            joint_losses.append(joint_loss.item())\n",
    "            multi_losses.append(multitask_losses)\n",
    "\n",
    "            f1s = multi_task_metrics_batch(logits, labels)\n",
    "            multi_f1s.append(f1s)\n",
    "                        \n",
    "    epoch_loss = torch.mean(torch.tensor(joint_losses), dim=0)\n",
    "    epoch_multi_losses = []\n",
    "    epoch_multi_f1s = []\n",
    "    for i in range(len(LEVELS)):\n",
    "        epoch_multi_losses.append(torch.mean(torch.tensor([loss[i].item() for loss in multi_losses])))\n",
    "        epoch_multi_f1s.append(torch.mean(torch.tensor([f1[i] for f1 in multi_f1s])))\n",
    "\n",
    "    return epoch_loss, epoch_multi_losses, epoch_multi_f1s"
   ]
  },
  {
   "cell_type": "code",
   "execution_count": 22,
   "id": "c79d6da5",
   "metadata": {
    "execution": {
     "iopub.execute_input": "2024-01-03T15:27:45.109149Z",
     "iopub.status.busy": "2024-01-03T15:27:45.108828Z",
     "iopub.status.idle": "2024-01-03T15:27:45.117508Z",
     "shell.execute_reply": "2024-01-03T15:27:45.116626Z"
    },
    "papermill": {
     "duration": 0.037476,
     "end_time": "2024-01-03T15:27:45.119503",
     "exception": false,
     "start_time": "2024-01-03T15:27:45.082027",
     "status": "completed"
    },
    "tags": []
   },
   "outputs": [],
   "source": [
    "def train_and_validate(model, train_loader, dev_loader, optimizer, device, classes_weights, epochs=3, task_weights=None):\n",
    "    train_losses = []\n",
    "    train_multi_losses = []\n",
    "    train_f1s = []\n",
    "    dev_losses = []\n",
    "    dev_multi_losses = []\n",
    "    dev_f1s = []\n",
    "    optimizer.zero_grad()\n",
    "    \n",
    "    for epoch in range(epochs):\n",
    "        print(f'Epoch {epoch+1}')\n",
    "        train_loss, train_multi_loss, train_f1 = train_epoch(model, train_loader, optimizer, device, classes_weights, task_weights)\n",
    "        train_losses.append(train_loss)\n",
    "        print(f'Train loss: {train_losses[-1]:.6f}')\n",
    "\n",
    "        train_multi_losses.append(train_multi_loss)\n",
    "        train_f1s.append(train_f1)\n",
    "        for i in range(len(LEVELS)):\n",
    "            print(f'> Level {LEVELS[i]}: loss {train_multi_losses[-1][i]:.5f}')\n",
    "        \n",
    "        dev_loss, dev_multi_loss, dev_f1 = eval_epoch(model, dev_loader, device, classes_weights, task_weights)\n",
    "        dev_losses.append(dev_loss)\n",
    "        print(f'Dev loss: {dev_losses[-1]:.5f}')\n",
    "\n",
    "        dev_multi_losses.append(dev_multi_loss)\n",
    "        dev_f1s.append(dev_f1)\n",
    "        for i in range(len(LEVELS)):\n",
    "            print(f'> Level {LEVELS[i]}: loss {dev_multi_losses[-1][i]:.5f}')\n",
    "            \n",
    "        print('=================== \\n')\n",
    "    \n",
    "    return train_losses, train_multi_losses, train_f1s, dev_losses, dev_multi_losses, dev_f1s"
   ]
  },
  {
   "cell_type": "markdown",
   "id": "351476c8",
   "metadata": {
    "papermill": {
     "duration": 0.025188,
     "end_time": "2024-01-03T15:27:45.170424",
     "exception": false,
     "start_time": "2024-01-03T15:27:45.145236",
     "status": "completed"
    },
    "tags": []
   },
   "source": [
    "### Config"
   ]
  },
  {
   "cell_type": "code",
   "execution_count": 23,
   "id": "2bd73f36",
   "metadata": {
    "execution": {
     "iopub.execute_input": "2024-01-03T15:27:45.222180Z",
     "iopub.status.busy": "2024-01-03T15:27:45.221883Z",
     "iopub.status.idle": "2024-01-03T15:27:45.490574Z",
     "shell.execute_reply": "2024-01-03T15:27:45.489810Z"
    },
    "papermill": {
     "duration": 0.297135,
     "end_time": "2024-01-03T15:27:45.492756",
     "exception": false,
     "start_time": "2024-01-03T15:27:45.195621",
     "status": "completed"
    },
    "tags": []
   },
   "outputs": [
    {
     "name": "stdout",
     "output_type": "stream",
     "text": [
      "device: cuda\n"
     ]
    }
   ],
   "source": [
    "print('device:', device)\n",
    "\n",
    "multi_convos_config = {\n",
    "    1: {'filters': 256, 'dropout': 0.5},\n",
    "    2: {'filters': 512, 'dropout': 0.5},\n",
    "    3: {'filters': 512, 'dropout': 0.5},\n",
    "    4: {'filters': 256, 'dropout': 0.5},\n",
    "    5: {'filters': 128, 'dropout': 0.5},\n",
    "    6: {'filters': 64, 'dropout': 0.5}\n",
    "}\n",
    "    \n",
    "model = MultiTask_CNN_Model(multi_convos_config, \n",
    "                            dense_dim=768, \n",
    "                            dropout_concat=0.5,\n",
    "                            dropout_embedding=0.5)\n",
    "model.to(device)\n",
    "# print(model)\n",
    "\n",
    "optimizer = Adam(model.parameters(), lr=2.5e-6, weight_decay=1e-8)\n",
    "\n",
    "task_weights = torch.tensor([1.0, 1.5, 2.0, 2.0, 2.0, 2.0, 2.0]).to(device)"
   ]
  },
  {
   "cell_type": "markdown",
   "id": "d32af179",
   "metadata": {
    "papermill": {
     "duration": 0.027502,
     "end_time": "2024-01-03T15:27:45.546166",
     "exception": false,
     "start_time": "2024-01-03T15:27:45.518664",
     "status": "completed"
    },
    "tags": []
   },
   "source": [
    "### **Visualize Model**"
   ]
  },
  {
   "cell_type": "code",
   "execution_count": 24,
   "id": "ca7a4e91",
   "metadata": {
    "execution": {
     "iopub.execute_input": "2024-01-03T15:27:45.598516Z",
     "iopub.status.busy": "2024-01-03T15:27:45.598215Z",
     "iopub.status.idle": "2024-01-03T15:27:51.132126Z",
     "shell.execute_reply": "2024-01-03T15:27:51.131217Z"
    },
    "papermill": {
     "duration": 5.564258,
     "end_time": "2024-01-03T15:27:51.135851",
     "exception": false,
     "start_time": "2024-01-03T15:27:45.571593",
     "status": "completed"
    },
    "tags": []
   },
   "outputs": [
    {
     "data": {
      "image/svg+xml": [
       "<?xml version=\"1.0\" encoding=\"UTF-8\" standalone=\"no\"?>\n",
       "<!DOCTYPE svg PUBLIC \"-//W3C//DTD SVG 1.1//EN\"\n",
       " \"http://www.w3.org/Graphics/SVG/1.1/DTD/svg11.dtd\">\n",
       "<!-- Generated by graphviz version 9.0.0 (20231125.0833)\n",
       " -->\n",
       "<!-- Title: MultiTask_CNN_Model Pages: 1 -->\n",
       "<svg width=\"1441pt\" height=\"1250pt\"\n",
       " viewBox=\"0.00 0.00 1441.00 1249.75\" xmlns=\"http://www.w3.org/2000/svg\" xmlns:xlink=\"http://www.w3.org/1999/xlink\">\n",
       "<g id=\"graph0\" class=\"graph\" transform=\"scale(1 1) rotate(0) translate(4 1245.75)\">\n",
       "<title>MultiTask_CNN_Model</title>\n",
       "<polygon fill=\"white\" stroke=\"none\" points=\"-4,4 -4,-1245.75 1437,-1245.75 1437,4 -4,4\"/>\n",
       "<g id=\"clust1\" class=\"cluster\">\n",
       "<title>cluster_2</title>\n",
       "<polygon fill=\"none\" stroke=\"black\" stroke-dasharray=\"5,2\" points=\"597,-1036 597,-1118.25 863,-1118.25 863,-1036 597,-1036\"/>\n",
       "<text text-anchor=\"middle\" x=\"659.75\" y=\"-1102.85\" font-family=\"Times,serif\" font-size=\"12.00\">BERT_Embedding</text>\n",
       "</g>\n",
       "<g id=\"clust2\" class=\"cluster\">\n",
       "<title>cluster_3</title>\n",
       "<polygon fill=\"none\" stroke=\"black\" stroke-dasharray=\"5,2\" points=\"29,-393.75 29,-956 1425,-956 1425,-393.75 29,-393.75\"/>\n",
       "<text text-anchor=\"middle\" x=\"74.88\" y=\"-940.6\" font-family=\"Times,serif\" font-size=\"12.00\">MultiConvos</text>\n",
       "</g>\n",
       "<g id=\"clust3\" class=\"cluster\">\n",
       "<title>cluster_4</title>\n",
       "<polygon fill=\"none\" stroke=\"black\" stroke-dasharray=\"5,2\" points=\"8,-143.5 8,-385.75 180,-385.75 180,-143.5 8,-143.5\"/>\n",
       "<text text-anchor=\"middle\" x=\"47.88\" y=\"-370.35\" font-family=\"Times,serif\" font-size=\"12.00\">Sequential</text>\n",
       "</g>\n",
       "<g id=\"clust4\" class=\"cluster\">\n",
       "<title>cluster_5</title>\n",
       "<polygon fill=\"none\" stroke=\"black\" stroke-dasharray=\"5,2\" points=\"188,-143.5 188,-385.75 360,-385.75 360,-143.5 188,-143.5\"/>\n",
       "<text text-anchor=\"middle\" x=\"227.88\" y=\"-370.35\" font-family=\"Times,serif\" font-size=\"12.00\">Sequential</text>\n",
       "</g>\n",
       "<g id=\"clust5\" class=\"cluster\">\n",
       "<title>cluster_6</title>\n",
       "<polygon fill=\"none\" stroke=\"black\" stroke-dasharray=\"5,2\" points=\"368,-143.5 368,-385.75 540,-385.75 540,-143.5 368,-143.5\"/>\n",
       "<text text-anchor=\"middle\" x=\"407.88\" y=\"-370.35\" font-family=\"Times,serif\" font-size=\"12.00\">Sequential</text>\n",
       "</g>\n",
       "<g id=\"clust6\" class=\"cluster\">\n",
       "<title>cluster_7</title>\n",
       "<polygon fill=\"none\" stroke=\"black\" stroke-dasharray=\"5,2\" points=\"548,-143.5 548,-385.75 720,-385.75 720,-143.5 548,-143.5\"/>\n",
       "<text text-anchor=\"middle\" x=\"587.88\" y=\"-370.35\" font-family=\"Times,serif\" font-size=\"12.00\">Sequential</text>\n",
       "</g>\n",
       "<g id=\"clust7\" class=\"cluster\">\n",
       "<title>cluster_8</title>\n",
       "<polygon fill=\"none\" stroke=\"black\" stroke-dasharray=\"5,2\" points=\"728,-143.5 728,-385.75 900,-385.75 900,-143.5 728,-143.5\"/>\n",
       "<text text-anchor=\"middle\" x=\"767.88\" y=\"-370.35\" font-family=\"Times,serif\" font-size=\"12.00\">Sequential</text>\n",
       "</g>\n",
       "<g id=\"clust8\" class=\"cluster\">\n",
       "<title>cluster_9</title>\n",
       "<polygon fill=\"none\" stroke=\"black\" stroke-dasharray=\"5,2\" points=\"908,-143.5 908,-385.75 1080,-385.75 1080,-143.5 908,-143.5\"/>\n",
       "<text text-anchor=\"middle\" x=\"947.88\" y=\"-370.35\" font-family=\"Times,serif\" font-size=\"12.00\">Sequential</text>\n",
       "</g>\n",
       "<g id=\"clust9\" class=\"cluster\">\n",
       "<title>cluster_10</title>\n",
       "<polygon fill=\"none\" stroke=\"black\" stroke-dasharray=\"5,2\" points=\"1088,-143.5 1088,-385.75 1260,-385.75 1260,-143.5 1088,-143.5\"/>\n",
       "<text text-anchor=\"middle\" x=\"1127.88\" y=\"-370.35\" font-family=\"Times,serif\" font-size=\"12.00\">Sequential</text>\n",
       "</g>\n",
       "<!-- 0 -->\n",
       "<g id=\"node1\" class=\"node\">\n",
       "<title>0</title>\n",
       "<polygon fill=\"lightyellow\" stroke=\"none\" points=\"794.38,-1241.75 665.62,-1241.75 665.62,-1206.25 794.38,-1206.25 794.38,-1241.75\"/>\n",
       "<polygon fill=\"none\" stroke=\"black\" points=\"665.62,-1206.25 665.62,-1241.75 734.88,-1241.75 734.88,-1206.25 665.62,-1206.25\"/>\n",
       "<text text-anchor=\"start\" x=\"670.62\" y=\"-1227.25\" font-family=\"Linux libertine\" font-size=\"10.00\">input&#45;tensor</text>\n",
       "<text text-anchor=\"start\" x=\"681.88\" y=\"-1214.5\" font-family=\"Linux libertine\" font-size=\"10.00\">depth:0</text>\n",
       "<polygon fill=\"none\" stroke=\"black\" points=\"734.88,-1206.25 734.88,-1241.75 794.38,-1241.75 794.38,-1206.25 734.88,-1206.25\"/>\n",
       "<text text-anchor=\"start\" x=\"739.88\" y=\"-1220.88\" font-family=\"Linux libertine\" font-size=\"10.00\">(24, 2, 61)</text>\n",
       "</g>\n",
       "<!-- 1 -->\n",
       "<g id=\"node2\" class=\"node\">\n",
       "<title>1</title>\n",
       "<polygon fill=\"aliceblue\" stroke=\"none\" points=\"721,-1170.25 543,-1170.25 543,-1126.25 721,-1126.25 721,-1170.25\"/>\n",
       "<polygon fill=\"none\" stroke=\"black\" points=\"543,-1126.25 543,-1170.25 612,-1170.25 612,-1126.25 543,-1126.25\"/>\n",
       "<text text-anchor=\"start\" x=\"547.88\" y=\"-1151.5\" font-family=\"Linux libertine\" font-size=\"10.00\">__getitem__</text>\n",
       "<text text-anchor=\"start\" x=\"559.12\" y=\"-1138.75\" font-family=\"Linux libertine\" font-size=\"10.00\">depth:1</text>\n",
       "<polygon fill=\"none\" stroke=\"black\" points=\"612,-1148.25 612,-1170.25 659,-1170.25 659,-1148.25 612,-1148.25\"/>\n",
       "<text text-anchor=\"start\" x=\"621.62\" y=\"-1155.75\" font-family=\"Linux libertine\" font-size=\"10.00\">input:</text>\n",
       "<polygon fill=\"none\" stroke=\"black\" points=\"659,-1148.25 659,-1170.25 721,-1170.25 721,-1148.25 659,-1148.25\"/>\n",
       "<text text-anchor=\"start\" x=\"663.75\" y=\"-1155.75\" font-family=\"Linux libertine\" font-size=\"10.00\">(24, 2, 61) </text>\n",
       "<polygon fill=\"none\" stroke=\"black\" points=\"612,-1126.25 612,-1148.25 659,-1148.25 659,-1126.25 612,-1126.25\"/>\n",
       "<text text-anchor=\"start\" x=\"616.75\" y=\"-1133.75\" font-family=\"Linux libertine\" font-size=\"10.00\">output: </text>\n",
       "<polygon fill=\"none\" stroke=\"black\" points=\"659,-1126.25 659,-1148.25 721,-1148.25 721,-1126.25 659,-1126.25\"/>\n",
       "<text text-anchor=\"start\" x=\"669.75\" y=\"-1133.75\" font-family=\"Linux libertine\" font-size=\"10.00\">(24, 61) </text>\n",
       "</g>\n",
       "<!-- 0&#45;&gt;1 -->\n",
       "<g id=\"edge1\" class=\"edge\">\n",
       "<title>0&#45;&gt;1</title>\n",
       "<path fill=\"none\" stroke=\"black\" d=\"M707.76,-1206.26C696.2,-1197.56 681.77,-1186.7 668.61,-1176.8\"/>\n",
       "<polygon fill=\"black\" stroke=\"black\" points=\"671.06,-1174.27 660.97,-1171.05 666.85,-1179.86 671.06,-1174.27\"/>\n",
       "</g>\n",
       "<!-- 2 -->\n",
       "<g id=\"node3\" class=\"node\">\n",
       "<title>2</title>\n",
       "<polygon fill=\"aliceblue\" stroke=\"none\" points=\"917,-1170.25 739,-1170.25 739,-1126.25 917,-1126.25 917,-1170.25\"/>\n",
       "<polygon fill=\"none\" stroke=\"black\" points=\"739,-1126.25 739,-1170.25 808,-1170.25 808,-1126.25 739,-1126.25\"/>\n",
       "<text text-anchor=\"start\" x=\"743.88\" y=\"-1151.5\" font-family=\"Linux libertine\" font-size=\"10.00\">__getitem__</text>\n",
       "<text text-anchor=\"start\" x=\"755.12\" y=\"-1138.75\" font-family=\"Linux libertine\" font-size=\"10.00\">depth:1</text>\n",
       "<polygon fill=\"none\" stroke=\"black\" points=\"808,-1148.25 808,-1170.25 855,-1170.25 855,-1148.25 808,-1148.25\"/>\n",
       "<text text-anchor=\"start\" x=\"817.62\" y=\"-1155.75\" font-family=\"Linux libertine\" font-size=\"10.00\">input:</text>\n",
       "<polygon fill=\"none\" stroke=\"black\" points=\"855,-1148.25 855,-1170.25 917,-1170.25 917,-1148.25 855,-1148.25\"/>\n",
       "<text text-anchor=\"start\" x=\"859.75\" y=\"-1155.75\" font-family=\"Linux libertine\" font-size=\"10.00\">(24, 2, 61) </text>\n",
       "<polygon fill=\"none\" stroke=\"black\" points=\"808,-1126.25 808,-1148.25 855,-1148.25 855,-1126.25 808,-1126.25\"/>\n",
       "<text text-anchor=\"start\" x=\"812.75\" y=\"-1133.75\" font-family=\"Linux libertine\" font-size=\"10.00\">output: </text>\n",
       "<polygon fill=\"none\" stroke=\"black\" points=\"855,-1126.25 855,-1148.25 917,-1148.25 917,-1126.25 855,-1126.25\"/>\n",
       "<text text-anchor=\"start\" x=\"865.75\" y=\"-1133.75\" font-family=\"Linux libertine\" font-size=\"10.00\">(24, 61) </text>\n",
       "</g>\n",
       "<!-- 0&#45;&gt;2 -->\n",
       "<g id=\"edge2\" class=\"edge\">\n",
       "<title>0&#45;&gt;2</title>\n",
       "<path fill=\"none\" stroke=\"black\" d=\"M752.24,-1206.26C763.8,-1197.56 778.23,-1186.7 791.39,-1176.8\"/>\n",
       "<polygon fill=\"black\" stroke=\"black\" points=\"793.15,-1179.86 799.03,-1171.05 788.94,-1174.27 793.15,-1179.86\"/>\n",
       "</g>\n",
       "<!-- 3 -->\n",
       "<g id=\"node4\" class=\"node\">\n",
       "<title>3</title>\n",
       "<polygon fill=\"#c1ffc1\" stroke=\"none\" points=\"854.5,-1088 605.5,-1088 605.5,-1044 854.5,-1044 854.5,-1088\"/>\n",
       "<polygon fill=\"none\" stroke=\"black\" points=\"605.5,-1044 605.5,-1088 683.5,-1088 683.5,-1044 605.5,-1044\"/>\n",
       "<text text-anchor=\"start\" x=\"610.38\" y=\"-1069.25\" font-family=\"Linux libertine\" font-size=\"10.00\">RobertaModel</text>\n",
       "<text text-anchor=\"start\" x=\"626.12\" y=\"-1056.5\" font-family=\"Linux libertine\" font-size=\"10.00\">depth:2</text>\n",
       "<polygon fill=\"none\" stroke=\"black\" points=\"683.5,-1066 683.5,-1088 730.5,-1088 730.5,-1066 683.5,-1066\"/>\n",
       "<text text-anchor=\"start\" x=\"693.12\" y=\"-1073.5\" font-family=\"Linux libertine\" font-size=\"10.00\">input:</text>\n",
       "<polygon fill=\"none\" stroke=\"black\" points=\"730.5,-1066 730.5,-1088 854.5,-1088 854.5,-1066 730.5,-1066\"/>\n",
       "<text text-anchor=\"start\" x=\"763.25\" y=\"-1073.5\" font-family=\"Linux libertine\" font-size=\"10.00\">2 x (24, 61) </text>\n",
       "<polygon fill=\"none\" stroke=\"black\" points=\"683.5,-1044 683.5,-1066 730.5,-1066 730.5,-1044 683.5,-1044\"/>\n",
       "<text text-anchor=\"start\" x=\"688.25\" y=\"-1051.5\" font-family=\"Linux libertine\" font-size=\"10.00\">output: </text>\n",
       "<polygon fill=\"none\" stroke=\"black\" points=\"730.5,-1044 730.5,-1066 854.5,-1066 854.5,-1044 730.5,-1044\"/>\n",
       "<text text-anchor=\"start\" x=\"735.5\" y=\"-1051.5\" font-family=\"Linux libertine\" font-size=\"10.00\">(24, 61, 768), (24, 768) </text>\n",
       "</g>\n",
       "<!-- 1&#45;&gt;3 -->\n",
       "<g id=\"edge3\" class=\"edge\">\n",
       "<title>1&#45;&gt;3</title>\n",
       "<path fill=\"none\" stroke=\"black\" d=\"M657.49,-1126.37C669.18,-1116.81 683.19,-1105.33 695.78,-1095.02\"/>\n",
       "<polygon fill=\"black\" stroke=\"black\" points=\"697.94,-1097.77 703.46,-1088.73 693.51,-1092.36 697.94,-1097.77\"/>\n",
       "</g>\n",
       "<!-- 2&#45;&gt;3 -->\n",
       "<g id=\"edge4\" class=\"edge\">\n",
       "<title>2&#45;&gt;3</title>\n",
       "<path fill=\"none\" stroke=\"black\" d=\"M802.51,-1126.37C790.82,-1116.81 776.81,-1105.33 764.22,-1095.02\"/>\n",
       "<polygon fill=\"black\" stroke=\"black\" points=\"766.49,-1092.36 756.54,-1088.73 762.06,-1097.77 766.49,-1092.36\"/>\n",
       "</g>\n",
       "<!-- 4 -->\n",
       "<g id=\"node5\" class=\"node\">\n",
       "<title>4</title>\n",
       "<polygon fill=\"#c1ffc1\" stroke=\"none\" points=\"815,-1008 645,-1008 645,-964 815,-964 815,-1008\"/>\n",
       "<polygon fill=\"none\" stroke=\"black\" points=\"645,-964 645,-1008 694,-1008 694,-964 645,-964\"/>\n",
       "<text text-anchor=\"start\" x=\"650\" y=\"-989.25\" font-family=\"Linux libertine\" font-size=\"10.00\">Dropout</text>\n",
       "<text text-anchor=\"start\" x=\"651.12\" y=\"-976.5\" font-family=\"Linux libertine\" font-size=\"10.00\">depth:1</text>\n",
       "<polygon fill=\"none\" stroke=\"black\" points=\"694,-986 694,-1008 741,-1008 741,-986 694,-986\"/>\n",
       "<text text-anchor=\"start\" x=\"703.62\" y=\"-993.5\" font-family=\"Linux libertine\" font-size=\"10.00\">input:</text>\n",
       "<polygon fill=\"none\" stroke=\"black\" points=\"741,-986 741,-1008 815,-1008 815,-986 741,-986\"/>\n",
       "<text text-anchor=\"start\" x=\"745.75\" y=\"-993.5\" font-family=\"Linux libertine\" font-size=\"10.00\">(24, 61, 768) </text>\n",
       "<polygon fill=\"none\" stroke=\"black\" points=\"694,-964 694,-986 741,-986 741,-964 694,-964\"/>\n",
       "<text text-anchor=\"start\" x=\"698.75\" y=\"-971.5\" font-family=\"Linux libertine\" font-size=\"10.00\">output: </text>\n",
       "<polygon fill=\"none\" stroke=\"black\" points=\"741,-964 741,-986 815,-986 815,-964 741,-964\"/>\n",
       "<text text-anchor=\"start\" x=\"745.75\" y=\"-971.5\" font-family=\"Linux libertine\" font-size=\"10.00\">(24, 61, 768) </text>\n",
       "</g>\n",
       "<!-- 3&#45;&gt;4 -->\n",
       "<g id=\"edge5\" class=\"edge\">\n",
       "<title>3&#45;&gt;4</title>\n",
       "<path fill=\"none\" stroke=\"black\" d=\"M730,-1044.1C730,-1036.49 730,-1027.7 730,-1019.34\"/>\n",
       "<polygon fill=\"black\" stroke=\"black\" points=\"733.5,-1019.47 730,-1009.47 726.5,-1019.47 733.5,-1019.47\"/>\n",
       "</g>\n",
       "<!-- 5 -->\n",
       "<g id=\"node6\" class=\"node\">\n",
       "<title>5</title>\n",
       "<polygon fill=\"aliceblue\" stroke=\"none\" points=\"816,-925.75 644,-925.75 644,-881.75 816,-881.75 816,-925.75\"/>\n",
       "<polygon fill=\"none\" stroke=\"black\" points=\"644,-881.75 644,-925.75 695,-925.75 695,-881.75 644,-881.75\"/>\n",
       "<text text-anchor=\"start\" x=\"648.88\" y=\"-907\" font-family=\"Linux libertine\" font-size=\"10.00\">permute</text>\n",
       "<text text-anchor=\"start\" x=\"651.12\" y=\"-894.25\" font-family=\"Linux libertine\" font-size=\"10.00\">depth:2</text>\n",
       "<polygon fill=\"none\" stroke=\"black\" points=\"695,-903.75 695,-925.75 742,-925.75 742,-903.75 695,-903.75\"/>\n",
       "<text text-anchor=\"start\" x=\"704.62\" y=\"-911.25\" font-family=\"Linux libertine\" font-size=\"10.00\">input:</text>\n",
       "<polygon fill=\"none\" stroke=\"black\" points=\"742,-903.75 742,-925.75 816,-925.75 816,-903.75 742,-903.75\"/>\n",
       "<text text-anchor=\"start\" x=\"746.75\" y=\"-911.25\" font-family=\"Linux libertine\" font-size=\"10.00\">(24, 61, 768) </text>\n",
       "<polygon fill=\"none\" stroke=\"black\" points=\"695,-881.75 695,-903.75 742,-903.75 742,-881.75 695,-881.75\"/>\n",
       "<text text-anchor=\"start\" x=\"699.75\" y=\"-889.25\" font-family=\"Linux libertine\" font-size=\"10.00\">output: </text>\n",
       "<polygon fill=\"none\" stroke=\"black\" points=\"742,-881.75 742,-903.75 816,-903.75 816,-881.75 742,-881.75\"/>\n",
       "<text text-anchor=\"start\" x=\"746.75\" y=\"-889.25\" font-family=\"Linux libertine\" font-size=\"10.00\">(24, 768, 61) </text>\n",
       "</g>\n",
       "<!-- 4&#45;&gt;5 -->\n",
       "<g id=\"edge6\" class=\"edge\">\n",
       "<title>4&#45;&gt;5</title>\n",
       "<path fill=\"none\" stroke=\"black\" d=\"M730,-964.33C730,-955.97 730,-946.13 730,-936.87\"/>\n",
       "<polygon fill=\"black\" stroke=\"black\" points=\"733.5,-937.14 730,-927.14 726.5,-937.14 733.5,-937.14\"/>\n",
       "</g>\n",
       "<!-- 6 -->\n",
       "<g id=\"node7\" class=\"node\">\n",
       "<title>6</title>\n",
       "<polygon fill=\"#c1ffc1\" stroke=\"none\" points=\"330.5,-845.75 163.5,-845.75 163.5,-801.75 330.5,-801.75 330.5,-845.75\"/>\n",
       "<polygon fill=\"none\" stroke=\"black\" points=\"163.5,-801.75 163.5,-845.75 209.5,-845.75 209.5,-801.75 163.5,-801.75\"/>\n",
       "<text text-anchor=\"start\" x=\"168.12\" y=\"-827\" font-family=\"Linux libertine\" font-size=\"10.00\">Conv1d</text>\n",
       "<text text-anchor=\"start\" x=\"168.12\" y=\"-814.25\" font-family=\"Linux libertine\" font-size=\"10.00\">depth:2</text>\n",
       "<polygon fill=\"none\" stroke=\"black\" points=\"209.5,-823.75 209.5,-845.75 256.5,-845.75 256.5,-823.75 209.5,-823.75\"/>\n",
       "<text text-anchor=\"start\" x=\"219.12\" y=\"-831.25\" font-family=\"Linux libertine\" font-size=\"10.00\">input:</text>\n",
       "<polygon fill=\"none\" stroke=\"black\" points=\"256.5,-823.75 256.5,-845.75 330.5,-845.75 330.5,-823.75 256.5,-823.75\"/>\n",
       "<text text-anchor=\"start\" x=\"261.25\" y=\"-831.25\" font-family=\"Linux libertine\" font-size=\"10.00\">(24, 768, 61) </text>\n",
       "<polygon fill=\"none\" stroke=\"black\" points=\"209.5,-801.75 209.5,-823.75 256.5,-823.75 256.5,-801.75 209.5,-801.75\"/>\n",
       "<text text-anchor=\"start\" x=\"214.25\" y=\"-809.25\" font-family=\"Linux libertine\" font-size=\"10.00\">output: </text>\n",
       "<polygon fill=\"none\" stroke=\"black\" points=\"256.5,-801.75 256.5,-823.75 330.5,-823.75 330.5,-801.75 256.5,-801.75\"/>\n",
       "<text text-anchor=\"start\" x=\"261.25\" y=\"-809.25\" font-family=\"Linux libertine\" font-size=\"10.00\">(24, 256, 61) </text>\n",
       "</g>\n",
       "<!-- 5&#45;&gt;6 -->\n",
       "<g id=\"edge7\" class=\"edge\">\n",
       "<title>5&#45;&gt;6</title>\n",
       "<path fill=\"none\" stroke=\"black\" d=\"M644.27,-890.31C569.2,-879.23 457.23,-862.27 360,-845.75 353.98,-844.73 347.78,-843.65 341.53,-842.54\"/>\n",
       "<polygon fill=\"black\" stroke=\"black\" points=\"342.21,-839.11 331.75,-840.79 340.98,-846 342.21,-839.11\"/>\n",
       "</g>\n",
       "<!-- 10 -->\n",
       "<g id=\"node11\" class=\"node\">\n",
       "<title>10</title>\n",
       "<polygon fill=\"#c1ffc1\" stroke=\"none\" points=\"535.5,-845.75 368.5,-845.75 368.5,-801.75 535.5,-801.75 535.5,-845.75\"/>\n",
       "<polygon fill=\"none\" stroke=\"black\" points=\"368.5,-801.75 368.5,-845.75 414.5,-845.75 414.5,-801.75 368.5,-801.75\"/>\n",
       "<text text-anchor=\"start\" x=\"373.12\" y=\"-827\" font-family=\"Linux libertine\" font-size=\"10.00\">Conv1d</text>\n",
       "<text text-anchor=\"start\" x=\"373.12\" y=\"-814.25\" font-family=\"Linux libertine\" font-size=\"10.00\">depth:2</text>\n",
       "<polygon fill=\"none\" stroke=\"black\" points=\"414.5,-823.75 414.5,-845.75 461.5,-845.75 461.5,-823.75 414.5,-823.75\"/>\n",
       "<text text-anchor=\"start\" x=\"424.12\" y=\"-831.25\" font-family=\"Linux libertine\" font-size=\"10.00\">input:</text>\n",
       "<polygon fill=\"none\" stroke=\"black\" points=\"461.5,-823.75 461.5,-845.75 535.5,-845.75 535.5,-823.75 461.5,-823.75\"/>\n",
       "<text text-anchor=\"start\" x=\"466.25\" y=\"-831.25\" font-family=\"Linux libertine\" font-size=\"10.00\">(24, 768, 61) </text>\n",
       "<polygon fill=\"none\" stroke=\"black\" points=\"414.5,-801.75 414.5,-823.75 461.5,-823.75 461.5,-801.75 414.5,-801.75\"/>\n",
       "<text text-anchor=\"start\" x=\"419.25\" y=\"-809.25\" font-family=\"Linux libertine\" font-size=\"10.00\">output: </text>\n",
       "<polygon fill=\"none\" stroke=\"black\" points=\"461.5,-801.75 461.5,-823.75 535.5,-823.75 535.5,-801.75 461.5,-801.75\"/>\n",
       "<text text-anchor=\"start\" x=\"466.25\" y=\"-809.25\" font-family=\"Linux libertine\" font-size=\"10.00\">(24, 512, 60) </text>\n",
       "</g>\n",
       "<!-- 5&#45;&gt;10 -->\n",
       "<g id=\"edge8\" class=\"edge\">\n",
       "<title>5&#45;&gt;10</title>\n",
       "<path fill=\"none\" stroke=\"black\" d=\"M655.5,-881.85C619.2,-871.66 575.35,-859.36 537.67,-848.79\"/>\n",
       "<polygon fill=\"black\" stroke=\"black\" points=\"538.74,-845.45 528.16,-846.12 536.84,-852.19 538.74,-845.45\"/>\n",
       "</g>\n",
       "<!-- 14 -->\n",
       "<g id=\"node15\" class=\"node\">\n",
       "<title>14</title>\n",
       "<polygon fill=\"#c1ffc1\" stroke=\"none\" points=\"720.5,-845.75 553.5,-845.75 553.5,-801.75 720.5,-801.75 720.5,-845.75\"/>\n",
       "<polygon fill=\"none\" stroke=\"black\" points=\"553.5,-801.75 553.5,-845.75 599.5,-845.75 599.5,-801.75 553.5,-801.75\"/>\n",
       "<text text-anchor=\"start\" x=\"558.12\" y=\"-827\" font-family=\"Linux libertine\" font-size=\"10.00\">Conv1d</text>\n",
       "<text text-anchor=\"start\" x=\"558.12\" y=\"-814.25\" font-family=\"Linux libertine\" font-size=\"10.00\">depth:2</text>\n",
       "<polygon fill=\"none\" stroke=\"black\" points=\"599.5,-823.75 599.5,-845.75 646.5,-845.75 646.5,-823.75 599.5,-823.75\"/>\n",
       "<text text-anchor=\"start\" x=\"609.12\" y=\"-831.25\" font-family=\"Linux libertine\" font-size=\"10.00\">input:</text>\n",
       "<polygon fill=\"none\" stroke=\"black\" points=\"646.5,-823.75 646.5,-845.75 720.5,-845.75 720.5,-823.75 646.5,-823.75\"/>\n",
       "<text text-anchor=\"start\" x=\"651.25\" y=\"-831.25\" font-family=\"Linux libertine\" font-size=\"10.00\">(24, 768, 61) </text>\n",
       "<polygon fill=\"none\" stroke=\"black\" points=\"599.5,-801.75 599.5,-823.75 646.5,-823.75 646.5,-801.75 599.5,-801.75\"/>\n",
       "<text text-anchor=\"start\" x=\"604.25\" y=\"-809.25\" font-family=\"Linux libertine\" font-size=\"10.00\">output: </text>\n",
       "<polygon fill=\"none\" stroke=\"black\" points=\"646.5,-801.75 646.5,-823.75 720.5,-823.75 720.5,-801.75 646.5,-801.75\"/>\n",
       "<text text-anchor=\"start\" x=\"651.25\" y=\"-809.25\" font-family=\"Linux libertine\" font-size=\"10.00\">(24, 512, 59) </text>\n",
       "</g>\n",
       "<!-- 5&#45;&gt;14 -->\n",
       "<g id=\"edge9\" class=\"edge\">\n",
       "<title>5&#45;&gt;14</title>\n",
       "<path fill=\"none\" stroke=\"black\" d=\"M705.08,-881.85C694.55,-873.02 682.12,-862.6 670.79,-853.09\"/>\n",
       "<polygon fill=\"black\" stroke=\"black\" points=\"673.06,-850.43 663.15,-846.68 668.56,-855.79 673.06,-850.43\"/>\n",
       "</g>\n",
       "<!-- 18 -->\n",
       "<g id=\"node19\" class=\"node\">\n",
       "<title>18</title>\n",
       "<polygon fill=\"#c1ffc1\" stroke=\"none\" points=\"906.5,-845.75 739.5,-845.75 739.5,-801.75 906.5,-801.75 906.5,-845.75\"/>\n",
       "<polygon fill=\"none\" stroke=\"black\" points=\"739.5,-801.75 739.5,-845.75 785.5,-845.75 785.5,-801.75 739.5,-801.75\"/>\n",
       "<text text-anchor=\"start\" x=\"744.12\" y=\"-827\" font-family=\"Linux libertine\" font-size=\"10.00\">Conv1d</text>\n",
       "<text text-anchor=\"start\" x=\"744.12\" y=\"-814.25\" font-family=\"Linux libertine\" font-size=\"10.00\">depth:2</text>\n",
       "<polygon fill=\"none\" stroke=\"black\" points=\"785.5,-823.75 785.5,-845.75 832.5,-845.75 832.5,-823.75 785.5,-823.75\"/>\n",
       "<text text-anchor=\"start\" x=\"795.12\" y=\"-831.25\" font-family=\"Linux libertine\" font-size=\"10.00\">input:</text>\n",
       "<polygon fill=\"none\" stroke=\"black\" points=\"832.5,-823.75 832.5,-845.75 906.5,-845.75 906.5,-823.75 832.5,-823.75\"/>\n",
       "<text text-anchor=\"start\" x=\"837.25\" y=\"-831.25\" font-family=\"Linux libertine\" font-size=\"10.00\">(24, 768, 61) </text>\n",
       "<polygon fill=\"none\" stroke=\"black\" points=\"785.5,-801.75 785.5,-823.75 832.5,-823.75 832.5,-801.75 785.5,-801.75\"/>\n",
       "<text text-anchor=\"start\" x=\"790.25\" y=\"-809.25\" font-family=\"Linux libertine\" font-size=\"10.00\">output: </text>\n",
       "<polygon fill=\"none\" stroke=\"black\" points=\"832.5,-801.75 832.5,-823.75 906.5,-823.75 906.5,-801.75 832.5,-801.75\"/>\n",
       "<text text-anchor=\"start\" x=\"837.25\" y=\"-809.25\" font-family=\"Linux libertine\" font-size=\"10.00\">(24, 256, 58) </text>\n",
       "</g>\n",
       "<!-- 5&#45;&gt;18 -->\n",
       "<g id=\"edge10\" class=\"edge\">\n",
       "<title>5&#45;&gt;18</title>\n",
       "<path fill=\"none\" stroke=\"black\" d=\"M754.92,-881.85C765.45,-873.02 777.88,-862.6 789.21,-853.09\"/>\n",
       "<polygon fill=\"black\" stroke=\"black\" points=\"791.44,-855.79 796.85,-846.68 786.94,-850.43 791.44,-855.79\"/>\n",
       "</g>\n",
       "<!-- 22 -->\n",
       "<g id=\"node23\" class=\"node\">\n",
       "<title>22</title>\n",
       "<polygon fill=\"#c1ffc1\" stroke=\"none\" points=\"1092.5,-845.75 925.5,-845.75 925.5,-801.75 1092.5,-801.75 1092.5,-845.75\"/>\n",
       "<polygon fill=\"none\" stroke=\"black\" points=\"925.5,-801.75 925.5,-845.75 971.5,-845.75 971.5,-801.75 925.5,-801.75\"/>\n",
       "<text text-anchor=\"start\" x=\"930.12\" y=\"-827\" font-family=\"Linux libertine\" font-size=\"10.00\">Conv1d</text>\n",
       "<text text-anchor=\"start\" x=\"930.12\" y=\"-814.25\" font-family=\"Linux libertine\" font-size=\"10.00\">depth:2</text>\n",
       "<polygon fill=\"none\" stroke=\"black\" points=\"971.5,-823.75 971.5,-845.75 1018.5,-845.75 1018.5,-823.75 971.5,-823.75\"/>\n",
       "<text text-anchor=\"start\" x=\"981.12\" y=\"-831.25\" font-family=\"Linux libertine\" font-size=\"10.00\">input:</text>\n",
       "<polygon fill=\"none\" stroke=\"black\" points=\"1018.5,-823.75 1018.5,-845.75 1092.5,-845.75 1092.5,-823.75 1018.5,-823.75\"/>\n",
       "<text text-anchor=\"start\" x=\"1023.25\" y=\"-831.25\" font-family=\"Linux libertine\" font-size=\"10.00\">(24, 768, 61) </text>\n",
       "<polygon fill=\"none\" stroke=\"black\" points=\"971.5,-801.75 971.5,-823.75 1018.5,-823.75 1018.5,-801.75 971.5,-801.75\"/>\n",
       "<text text-anchor=\"start\" x=\"976.25\" y=\"-809.25\" font-family=\"Linux libertine\" font-size=\"10.00\">output: </text>\n",
       "<polygon fill=\"none\" stroke=\"black\" points=\"1018.5,-801.75 1018.5,-823.75 1092.5,-823.75 1092.5,-801.75 1018.5,-801.75\"/>\n",
       "<text text-anchor=\"start\" x=\"1023.25\" y=\"-809.25\" font-family=\"Linux libertine\" font-size=\"10.00\">(24, 128, 57) </text>\n",
       "</g>\n",
       "<!-- 5&#45;&gt;22 -->\n",
       "<g id=\"edge11\" class=\"edge\">\n",
       "<title>5&#45;&gt;22</title>\n",
       "<path fill=\"none\" stroke=\"black\" d=\"M804.77,-881.85C841.2,-871.66 885.2,-859.36 923.02,-848.79\"/>\n",
       "<polygon fill=\"black\" stroke=\"black\" points=\"923.88,-852.18 932.57,-846.12 922,-845.44 923.88,-852.18\"/>\n",
       "</g>\n",
       "<!-- 26 -->\n",
       "<g id=\"node27\" class=\"node\">\n",
       "<title>26</title>\n",
       "<polygon fill=\"#c1ffc1\" stroke=\"none\" points=\"1277.5,-845.75 1110.5,-845.75 1110.5,-801.75 1277.5,-801.75 1277.5,-845.75\"/>\n",
       "<polygon fill=\"none\" stroke=\"black\" points=\"1110.5,-801.75 1110.5,-845.75 1156.5,-845.75 1156.5,-801.75 1110.5,-801.75\"/>\n",
       "<text text-anchor=\"start\" x=\"1115.12\" y=\"-827\" font-family=\"Linux libertine\" font-size=\"10.00\">Conv1d</text>\n",
       "<text text-anchor=\"start\" x=\"1115.12\" y=\"-814.25\" font-family=\"Linux libertine\" font-size=\"10.00\">depth:2</text>\n",
       "<polygon fill=\"none\" stroke=\"black\" points=\"1156.5,-823.75 1156.5,-845.75 1203.5,-845.75 1203.5,-823.75 1156.5,-823.75\"/>\n",
       "<text text-anchor=\"start\" x=\"1166.12\" y=\"-831.25\" font-family=\"Linux libertine\" font-size=\"10.00\">input:</text>\n",
       "<polygon fill=\"none\" stroke=\"black\" points=\"1203.5,-823.75 1203.5,-845.75 1277.5,-845.75 1277.5,-823.75 1203.5,-823.75\"/>\n",
       "<text text-anchor=\"start\" x=\"1208.25\" y=\"-831.25\" font-family=\"Linux libertine\" font-size=\"10.00\">(24, 768, 61) </text>\n",
       "<polygon fill=\"none\" stroke=\"black\" points=\"1156.5,-801.75 1156.5,-823.75 1203.5,-823.75 1203.5,-801.75 1156.5,-801.75\"/>\n",
       "<text text-anchor=\"start\" x=\"1161.25\" y=\"-809.25\" font-family=\"Linux libertine\" font-size=\"10.00\">output: </text>\n",
       "<polygon fill=\"none\" stroke=\"black\" points=\"1203.5,-801.75 1203.5,-823.75 1277.5,-823.75 1277.5,-801.75 1203.5,-801.75\"/>\n",
       "<text text-anchor=\"start\" x=\"1211.25\" y=\"-809.25\" font-family=\"Linux libertine\" font-size=\"10.00\">(24, 64, 56) </text>\n",
       "</g>\n",
       "<!-- 5&#45;&gt;26 -->\n",
       "<g id=\"edge12\" class=\"edge\">\n",
       "<title>5&#45;&gt;26</title>\n",
       "<path fill=\"none\" stroke=\"black\" d=\"M816,-891.37C888.93,-881.31 996.55,-865.49 1099.57,-846.15\"/>\n",
       "<polygon fill=\"black\" stroke=\"black\" points=\"1100.15,-849.6 1109.32,-844.3 1098.85,-842.73 1100.15,-849.6\"/>\n",
       "</g>\n",
       "<!-- 7 -->\n",
       "<g id=\"node8\" class=\"node\">\n",
       "<title>7</title>\n",
       "<polygon fill=\"#c1ffc1\" stroke=\"none\" points=\"311.5,-765.75 144.5,-765.75 144.5,-721.75 311.5,-721.75 311.5,-765.75\"/>\n",
       "<polygon fill=\"none\" stroke=\"black\" points=\"144.5,-721.75 144.5,-765.75 190.5,-765.75 190.5,-721.75 144.5,-721.75\"/>\n",
       "<text text-anchor=\"start\" x=\"154.75\" y=\"-747\" font-family=\"Linux libertine\" font-size=\"10.00\">ReLU</text>\n",
       "<text text-anchor=\"start\" x=\"149.12\" y=\"-734.25\" font-family=\"Linux libertine\" font-size=\"10.00\">depth:2</text>\n",
       "<polygon fill=\"none\" stroke=\"black\" points=\"190.5,-743.75 190.5,-765.75 237.5,-765.75 237.5,-743.75 190.5,-743.75\"/>\n",
       "<text text-anchor=\"start\" x=\"200.12\" y=\"-751.25\" font-family=\"Linux libertine\" font-size=\"10.00\">input:</text>\n",
       "<polygon fill=\"none\" stroke=\"black\" points=\"237.5,-743.75 237.5,-765.75 311.5,-765.75 311.5,-743.75 237.5,-743.75\"/>\n",
       "<text text-anchor=\"start\" x=\"242.25\" y=\"-751.25\" font-family=\"Linux libertine\" font-size=\"10.00\">(24, 256, 61) </text>\n",
       "<polygon fill=\"none\" stroke=\"black\" points=\"190.5,-721.75 190.5,-743.75 237.5,-743.75 237.5,-721.75 190.5,-721.75\"/>\n",
       "<text text-anchor=\"start\" x=\"195.25\" y=\"-729.25\" font-family=\"Linux libertine\" font-size=\"10.00\">output: </text>\n",
       "<polygon fill=\"none\" stroke=\"black\" points=\"237.5,-721.75 237.5,-743.75 311.5,-743.75 311.5,-721.75 237.5,-721.75\"/>\n",
       "<text text-anchor=\"start\" x=\"242.25\" y=\"-729.25\" font-family=\"Linux libertine\" font-size=\"10.00\">(24, 256, 61) </text>\n",
       "</g>\n",
       "<!-- 6&#45;&gt;7 -->\n",
       "<g id=\"edge13\" class=\"edge\">\n",
       "<title>6&#45;&gt;7</title>\n",
       "<path fill=\"none\" stroke=\"black\" d=\"M241.91,-801.85C240.03,-794.15 237.87,-785.25 235.81,-776.8\"/>\n",
       "<polygon fill=\"black\" stroke=\"black\" points=\"239.23,-776.07 233.46,-767.18 232.43,-777.73 239.23,-776.07\"/>\n",
       "</g>\n",
       "<!-- 8 -->\n",
       "<g id=\"node9\" class=\"node\">\n",
       "<title>8</title>\n",
       "<polygon fill=\"#c1ffc1\" stroke=\"none\" points=\"276,-685.75 106,-685.75 106,-641.75 276,-641.75 276,-685.75\"/>\n",
       "<polygon fill=\"none\" stroke=\"black\" points=\"106,-641.75 106,-685.75 155,-685.75 155,-641.75 106,-641.75\"/>\n",
       "<text text-anchor=\"start\" x=\"111\" y=\"-667\" font-family=\"Linux libertine\" font-size=\"10.00\">Dropout</text>\n",
       "<text text-anchor=\"start\" x=\"112.12\" y=\"-654.25\" font-family=\"Linux libertine\" font-size=\"10.00\">depth:2</text>\n",
       "<polygon fill=\"none\" stroke=\"black\" points=\"155,-663.75 155,-685.75 202,-685.75 202,-663.75 155,-663.75\"/>\n",
       "<text text-anchor=\"start\" x=\"164.62\" y=\"-671.25\" font-family=\"Linux libertine\" font-size=\"10.00\">input:</text>\n",
       "<polygon fill=\"none\" stroke=\"black\" points=\"202,-663.75 202,-685.75 276,-685.75 276,-663.75 202,-663.75\"/>\n",
       "<text text-anchor=\"start\" x=\"206.75\" y=\"-671.25\" font-family=\"Linux libertine\" font-size=\"10.00\">(24, 256, 61) </text>\n",
       "<polygon fill=\"none\" stroke=\"black\" points=\"155,-641.75 155,-663.75 202,-663.75 202,-641.75 155,-641.75\"/>\n",
       "<text text-anchor=\"start\" x=\"159.75\" y=\"-649.25\" font-family=\"Linux libertine\" font-size=\"10.00\">output: </text>\n",
       "<polygon fill=\"none\" stroke=\"black\" points=\"202,-641.75 202,-663.75 276,-663.75 276,-641.75 202,-641.75\"/>\n",
       "<text text-anchor=\"start\" x=\"206.75\" y=\"-649.25\" font-family=\"Linux libertine\" font-size=\"10.00\">(24, 256, 61) </text>\n",
       "</g>\n",
       "<!-- 7&#45;&gt;8 -->\n",
       "<g id=\"edge14\" class=\"edge\">\n",
       "<title>7&#45;&gt;8</title>\n",
       "<path fill=\"none\" stroke=\"black\" d=\"M218.08,-721.85C214.31,-713.89 209.92,-704.64 205.79,-695.94\"/>\n",
       "<polygon fill=\"black\" stroke=\"black\" points=\"209.04,-694.61 201.59,-687.08 202.72,-697.61 209.04,-694.61\"/>\n",
       "</g>\n",
       "<!-- 9 -->\n",
       "<g id=\"node10\" class=\"node\">\n",
       "<title>9</title>\n",
       "<polygon fill=\"#c1ffc1\" stroke=\"none\" points=\"253,-605.75 37,-605.75 37,-561.75 253,-561.75 253,-605.75\"/>\n",
       "<polygon fill=\"none\" stroke=\"black\" points=\"37,-561.75 37,-605.75 132,-605.75 132,-561.75 37,-561.75\"/>\n",
       "<text text-anchor=\"start\" x=\"41.75\" y=\"-587\" font-family=\"Linux libertine\" font-size=\"10.00\">GlobalMaxPool1d</text>\n",
       "<text text-anchor=\"start\" x=\"66.12\" y=\"-574.25\" font-family=\"Linux libertine\" font-size=\"10.00\">depth:2</text>\n",
       "<polygon fill=\"none\" stroke=\"black\" points=\"132,-583.75 132,-605.75 179,-605.75 179,-583.75 132,-583.75\"/>\n",
       "<text text-anchor=\"start\" x=\"141.62\" y=\"-591.25\" font-family=\"Linux libertine\" font-size=\"10.00\">input:</text>\n",
       "<polygon fill=\"none\" stroke=\"black\" points=\"179,-583.75 179,-605.75 253,-605.75 253,-583.75 179,-583.75\"/>\n",
       "<text text-anchor=\"start\" x=\"183.75\" y=\"-591.25\" font-family=\"Linux libertine\" font-size=\"10.00\">(24, 256, 61) </text>\n",
       "<polygon fill=\"none\" stroke=\"black\" points=\"132,-561.75 132,-583.75 179,-583.75 179,-561.75 132,-561.75\"/>\n",
       "<text text-anchor=\"start\" x=\"136.75\" y=\"-569.25\" font-family=\"Linux libertine\" font-size=\"10.00\">output: </text>\n",
       "<polygon fill=\"none\" stroke=\"black\" points=\"179,-561.75 179,-583.75 253,-583.75 253,-561.75 179,-561.75\"/>\n",
       "<text text-anchor=\"start\" x=\"192.75\" y=\"-569.25\" font-family=\"Linux libertine\" font-size=\"10.00\">(24, 256) </text>\n",
       "</g>\n",
       "<!-- 8&#45;&gt;9 -->\n",
       "<g id=\"edge15\" class=\"edge\">\n",
       "<title>8&#45;&gt;9</title>\n",
       "<path fill=\"none\" stroke=\"black\" d=\"M178.67,-641.85C173.88,-633.72 168.29,-624.24 163.05,-615.36\"/>\n",
       "<polygon fill=\"black\" stroke=\"black\" points=\"166.22,-613.85 158.13,-607.01 160.2,-617.41 166.22,-613.85\"/>\n",
       "</g>\n",
       "<!-- 30 -->\n",
       "<g id=\"node31\" class=\"node\">\n",
       "<title>30</title>\n",
       "<polygon fill=\"#c1ffc1\" stroke=\"none\" points=\"812.5,-525.75 455.5,-525.75 455.5,-481.75 812.5,-481.75 812.5,-525.75\"/>\n",
       "<polygon fill=\"none\" stroke=\"black\" points=\"455.5,-481.75 455.5,-525.75 530.5,-525.75 530.5,-481.75 455.5,-481.75\"/>\n",
       "<text text-anchor=\"start\" x=\"460.38\" y=\"-507\" font-family=\"Linux libertine\" font-size=\"10.00\">ConcatTensor</text>\n",
       "<text text-anchor=\"start\" x=\"474.62\" y=\"-494.25\" font-family=\"Linux libertine\" font-size=\"10.00\">depth:2</text>\n",
       "<polygon fill=\"none\" stroke=\"black\" points=\"530.5,-503.75 530.5,-525.75 577.5,-525.75 577.5,-503.75 530.5,-503.75\"/>\n",
       "<text text-anchor=\"start\" x=\"540.12\" y=\"-511.25\" font-family=\"Linux libertine\" font-size=\"10.00\">input:</text>\n",
       "<polygon fill=\"none\" stroke=\"black\" points=\"577.5,-503.75 577.5,-525.75 812.5,-525.75 812.5,-503.75 577.5,-503.75\"/>\n",
       "<text text-anchor=\"start\" x=\"582.5\" y=\"-511.25\" font-family=\"Linux libertine\" font-size=\"10.00\">2 x (24, 256), 2 x (24, 512), (24, 128), (24, 64) </text>\n",
       "<polygon fill=\"none\" stroke=\"black\" points=\"530.5,-481.75 530.5,-503.75 577.5,-503.75 577.5,-481.75 530.5,-481.75\"/>\n",
       "<text text-anchor=\"start\" x=\"535.25\" y=\"-489.25\" font-family=\"Linux libertine\" font-size=\"10.00\">output: </text>\n",
       "<polygon fill=\"none\" stroke=\"black\" points=\"577.5,-481.75 577.5,-503.75 812.5,-503.75 812.5,-481.75 577.5,-481.75\"/>\n",
       "<text text-anchor=\"start\" x=\"668.75\" y=\"-489.25\" font-family=\"Linux libertine\" font-size=\"10.00\">(24, 1728) </text>\n",
       "</g>\n",
       "<!-- 9&#45;&gt;30 -->\n",
       "<g id=\"edge16\" class=\"edge\">\n",
       "<title>9&#45;&gt;30</title>\n",
       "<path fill=\"none\" stroke=\"black\" d=\"M252.72,-563.31C255.85,-562.78 258.95,-562.26 262,-561.75 333.74,-549.82 413.41,-537.49 480.57,-527.36\"/>\n",
       "<polygon fill=\"black\" stroke=\"black\" points=\"480.8,-530.86 490.17,-525.91 479.76,-523.94 480.8,-530.86\"/>\n",
       "</g>\n",
       "<!-- 11 -->\n",
       "<g id=\"node12\" class=\"node\">\n",
       "<title>11</title>\n",
       "<polygon fill=\"#c1ffc1\" stroke=\"none\" points=\"534.5,-765.75 367.5,-765.75 367.5,-721.75 534.5,-721.75 534.5,-765.75\"/>\n",
       "<polygon fill=\"none\" stroke=\"black\" points=\"367.5,-721.75 367.5,-765.75 413.5,-765.75 413.5,-721.75 367.5,-721.75\"/>\n",
       "<text text-anchor=\"start\" x=\"377.75\" y=\"-747\" font-family=\"Linux libertine\" font-size=\"10.00\">ReLU</text>\n",
       "<text text-anchor=\"start\" x=\"372.12\" y=\"-734.25\" font-family=\"Linux libertine\" font-size=\"10.00\">depth:2</text>\n",
       "<polygon fill=\"none\" stroke=\"black\" points=\"413.5,-743.75 413.5,-765.75 460.5,-765.75 460.5,-743.75 413.5,-743.75\"/>\n",
       "<text text-anchor=\"start\" x=\"423.12\" y=\"-751.25\" font-family=\"Linux libertine\" font-size=\"10.00\">input:</text>\n",
       "<polygon fill=\"none\" stroke=\"black\" points=\"460.5,-743.75 460.5,-765.75 534.5,-765.75 534.5,-743.75 460.5,-743.75\"/>\n",
       "<text text-anchor=\"start\" x=\"465.25\" y=\"-751.25\" font-family=\"Linux libertine\" font-size=\"10.00\">(24, 512, 60) </text>\n",
       "<polygon fill=\"none\" stroke=\"black\" points=\"413.5,-721.75 413.5,-743.75 460.5,-743.75 460.5,-721.75 413.5,-721.75\"/>\n",
       "<text text-anchor=\"start\" x=\"418.25\" y=\"-729.25\" font-family=\"Linux libertine\" font-size=\"10.00\">output: </text>\n",
       "<polygon fill=\"none\" stroke=\"black\" points=\"460.5,-721.75 460.5,-743.75 534.5,-743.75 534.5,-721.75 460.5,-721.75\"/>\n",
       "<text text-anchor=\"start\" x=\"465.25\" y=\"-729.25\" font-family=\"Linux libertine\" font-size=\"10.00\">(24, 512, 60) </text>\n",
       "</g>\n",
       "<!-- 10&#45;&gt;11 -->\n",
       "<g id=\"edge17\" class=\"edge\">\n",
       "<title>10&#45;&gt;11</title>\n",
       "<path fill=\"none\" stroke=\"black\" d=\"M451.73,-801.85C451.63,-794.24 451.52,-785.45 451.41,-777.09\"/>\n",
       "<polygon fill=\"black\" stroke=\"black\" points=\"454.92,-777.18 451.29,-767.22 447.92,-777.27 454.92,-777.18\"/>\n",
       "</g>\n",
       "<!-- 12 -->\n",
       "<g id=\"node13\" class=\"node\">\n",
       "<title>12</title>\n",
       "<polygon fill=\"#c1ffc1\" stroke=\"none\" points=\"510,-685.75 340,-685.75 340,-641.75 510,-641.75 510,-685.75\"/>\n",
       "<polygon fill=\"none\" stroke=\"black\" points=\"340,-641.75 340,-685.75 389,-685.75 389,-641.75 340,-641.75\"/>\n",
       "<text text-anchor=\"start\" x=\"345\" y=\"-667\" font-family=\"Linux libertine\" font-size=\"10.00\">Dropout</text>\n",
       "<text text-anchor=\"start\" x=\"346.12\" y=\"-654.25\" font-family=\"Linux libertine\" font-size=\"10.00\">depth:2</text>\n",
       "<polygon fill=\"none\" stroke=\"black\" points=\"389,-663.75 389,-685.75 436,-685.75 436,-663.75 389,-663.75\"/>\n",
       "<text text-anchor=\"start\" x=\"398.62\" y=\"-671.25\" font-family=\"Linux libertine\" font-size=\"10.00\">input:</text>\n",
       "<polygon fill=\"none\" stroke=\"black\" points=\"436,-663.75 436,-685.75 510,-685.75 510,-663.75 436,-663.75\"/>\n",
       "<text text-anchor=\"start\" x=\"440.75\" y=\"-671.25\" font-family=\"Linux libertine\" font-size=\"10.00\">(24, 512, 60) </text>\n",
       "<polygon fill=\"none\" stroke=\"black\" points=\"389,-641.75 389,-663.75 436,-663.75 436,-641.75 389,-641.75\"/>\n",
       "<text text-anchor=\"start\" x=\"393.75\" y=\"-649.25\" font-family=\"Linux libertine\" font-size=\"10.00\">output: </text>\n",
       "<polygon fill=\"none\" stroke=\"black\" points=\"436,-641.75 436,-663.75 510,-663.75 510,-641.75 436,-641.75\"/>\n",
       "<text text-anchor=\"start\" x=\"440.75\" y=\"-649.25\" font-family=\"Linux libertine\" font-size=\"10.00\">(24, 512, 60) </text>\n",
       "</g>\n",
       "<!-- 11&#45;&gt;12 -->\n",
       "<g id=\"edge18\" class=\"edge\">\n",
       "<title>11&#45;&gt;12</title>\n",
       "<path fill=\"none\" stroke=\"black\" d=\"M444.03,-721.85C441.44,-714.07 438.43,-705.05 435.59,-696.51\"/>\n",
       "<polygon fill=\"black\" stroke=\"black\" points=\"438.95,-695.53 432.47,-687.15 432.31,-697.74 438.95,-695.53\"/>\n",
       "</g>\n",
       "<!-- 13 -->\n",
       "<g id=\"node14\" class=\"node\">\n",
       "<title>13</title>\n",
       "<polygon fill=\"#c1ffc1\" stroke=\"none\" points=\"487,-605.75 271,-605.75 271,-561.75 487,-561.75 487,-605.75\"/>\n",
       "<polygon fill=\"none\" stroke=\"black\" points=\"271,-561.75 271,-605.75 366,-605.75 366,-561.75 271,-561.75\"/>\n",
       "<text text-anchor=\"start\" x=\"275.75\" y=\"-587\" font-family=\"Linux libertine\" font-size=\"10.00\">GlobalMaxPool1d</text>\n",
       "<text text-anchor=\"start\" x=\"300.12\" y=\"-574.25\" font-family=\"Linux libertine\" font-size=\"10.00\">depth:2</text>\n",
       "<polygon fill=\"none\" stroke=\"black\" points=\"366,-583.75 366,-605.75 413,-605.75 413,-583.75 366,-583.75\"/>\n",
       "<text text-anchor=\"start\" x=\"375.62\" y=\"-591.25\" font-family=\"Linux libertine\" font-size=\"10.00\">input:</text>\n",
       "<polygon fill=\"none\" stroke=\"black\" points=\"413,-583.75 413,-605.75 487,-605.75 487,-583.75 413,-583.75\"/>\n",
       "<text text-anchor=\"start\" x=\"417.75\" y=\"-591.25\" font-family=\"Linux libertine\" font-size=\"10.00\">(24, 512, 60) </text>\n",
       "<polygon fill=\"none\" stroke=\"black\" points=\"366,-561.75 366,-583.75 413,-583.75 413,-561.75 366,-561.75\"/>\n",
       "<text text-anchor=\"start\" x=\"370.75\" y=\"-569.25\" font-family=\"Linux libertine\" font-size=\"10.00\">output: </text>\n",
       "<polygon fill=\"none\" stroke=\"black\" points=\"413,-561.75 413,-583.75 487,-583.75 487,-561.75 413,-561.75\"/>\n",
       "<text text-anchor=\"start\" x=\"426.75\" y=\"-569.25\" font-family=\"Linux libertine\" font-size=\"10.00\">(24, 512) </text>\n",
       "</g>\n",
       "<!-- 12&#45;&gt;13 -->\n",
       "<g id=\"edge19\" class=\"edge\">\n",
       "<title>12&#45;&gt;13</title>\n",
       "<path fill=\"none\" stroke=\"black\" d=\"M412.67,-641.85C407.88,-633.72 402.29,-624.24 397.05,-615.36\"/>\n",
       "<polygon fill=\"black\" stroke=\"black\" points=\"400.22,-613.85 392.13,-607.01 394.2,-617.41 400.22,-613.85\"/>\n",
       "</g>\n",
       "<!-- 13&#45;&gt;30 -->\n",
       "<g id=\"edge20\" class=\"edge\">\n",
       "<title>13&#45;&gt;30</title>\n",
       "<path fill=\"none\" stroke=\"black\" d=\"M447.34,-561.85C480.35,-551.75 520.16,-539.57 554.53,-529.06\"/>\n",
       "<polygon fill=\"black\" stroke=\"black\" points=\"555.49,-532.43 564.03,-526.15 553.44,-525.73 555.49,-532.43\"/>\n",
       "</g>\n",
       "<!-- 15 -->\n",
       "<g id=\"node16\" class=\"node\">\n",
       "<title>15</title>\n",
       "<polygon fill=\"#c1ffc1\" stroke=\"none\" points=\"720.5,-765.75 553.5,-765.75 553.5,-721.75 720.5,-721.75 720.5,-765.75\"/>\n",
       "<polygon fill=\"none\" stroke=\"black\" points=\"553.5,-721.75 553.5,-765.75 599.5,-765.75 599.5,-721.75 553.5,-721.75\"/>\n",
       "<text text-anchor=\"start\" x=\"563.75\" y=\"-747\" font-family=\"Linux libertine\" font-size=\"10.00\">ReLU</text>\n",
       "<text text-anchor=\"start\" x=\"558.12\" y=\"-734.25\" font-family=\"Linux libertine\" font-size=\"10.00\">depth:2</text>\n",
       "<polygon fill=\"none\" stroke=\"black\" points=\"599.5,-743.75 599.5,-765.75 646.5,-765.75 646.5,-743.75 599.5,-743.75\"/>\n",
       "<text text-anchor=\"start\" x=\"609.12\" y=\"-751.25\" font-family=\"Linux libertine\" font-size=\"10.00\">input:</text>\n",
       "<polygon fill=\"none\" stroke=\"black\" points=\"646.5,-743.75 646.5,-765.75 720.5,-765.75 720.5,-743.75 646.5,-743.75\"/>\n",
       "<text text-anchor=\"start\" x=\"651.25\" y=\"-751.25\" font-family=\"Linux libertine\" font-size=\"10.00\">(24, 512, 59) </text>\n",
       "<polygon fill=\"none\" stroke=\"black\" points=\"599.5,-721.75 599.5,-743.75 646.5,-743.75 646.5,-721.75 599.5,-721.75\"/>\n",
       "<text text-anchor=\"start\" x=\"604.25\" y=\"-729.25\" font-family=\"Linux libertine\" font-size=\"10.00\">output: </text>\n",
       "<polygon fill=\"none\" stroke=\"black\" points=\"646.5,-721.75 646.5,-743.75 720.5,-743.75 720.5,-721.75 646.5,-721.75\"/>\n",
       "<text text-anchor=\"start\" x=\"651.25\" y=\"-729.25\" font-family=\"Linux libertine\" font-size=\"10.00\">(24, 512, 59) </text>\n",
       "</g>\n",
       "<!-- 14&#45;&gt;15 -->\n",
       "<g id=\"edge21\" class=\"edge\">\n",
       "<title>14&#45;&gt;15</title>\n",
       "<path fill=\"none\" stroke=\"black\" d=\"M637,-801.85C637,-794.24 637,-785.45 637,-777.09\"/>\n",
       "<polygon fill=\"black\" stroke=\"black\" points=\"640.5,-777.22 637,-767.22 633.5,-777.22 640.5,-777.22\"/>\n",
       "</g>\n",
       "<!-- 16 -->\n",
       "<g id=\"node17\" class=\"node\">\n",
       "<title>16</title>\n",
       "<polygon fill=\"#c1ffc1\" stroke=\"none\" points=\"721,-685.75 551,-685.75 551,-641.75 721,-641.75 721,-685.75\"/>\n",
       "<polygon fill=\"none\" stroke=\"black\" points=\"551,-641.75 551,-685.75 600,-685.75 600,-641.75 551,-641.75\"/>\n",
       "<text text-anchor=\"start\" x=\"556\" y=\"-667\" font-family=\"Linux libertine\" font-size=\"10.00\">Dropout</text>\n",
       "<text text-anchor=\"start\" x=\"557.12\" y=\"-654.25\" font-family=\"Linux libertine\" font-size=\"10.00\">depth:2</text>\n",
       "<polygon fill=\"none\" stroke=\"black\" points=\"600,-663.75 600,-685.75 647,-685.75 647,-663.75 600,-663.75\"/>\n",
       "<text text-anchor=\"start\" x=\"609.62\" y=\"-671.25\" font-family=\"Linux libertine\" font-size=\"10.00\">input:</text>\n",
       "<polygon fill=\"none\" stroke=\"black\" points=\"647,-663.75 647,-685.75 721,-685.75 721,-663.75 647,-663.75\"/>\n",
       "<text text-anchor=\"start\" x=\"651.75\" y=\"-671.25\" font-family=\"Linux libertine\" font-size=\"10.00\">(24, 512, 59) </text>\n",
       "<polygon fill=\"none\" stroke=\"black\" points=\"600,-641.75 600,-663.75 647,-663.75 647,-641.75 600,-641.75\"/>\n",
       "<text text-anchor=\"start\" x=\"604.75\" y=\"-649.25\" font-family=\"Linux libertine\" font-size=\"10.00\">output: </text>\n",
       "<polygon fill=\"none\" stroke=\"black\" points=\"647,-641.75 647,-663.75 721,-663.75 721,-641.75 647,-641.75\"/>\n",
       "<text text-anchor=\"start\" x=\"651.75\" y=\"-649.25\" font-family=\"Linux libertine\" font-size=\"10.00\">(24, 512, 59) </text>\n",
       "</g>\n",
       "<!-- 15&#45;&gt;16 -->\n",
       "<g id=\"edge22\" class=\"edge\">\n",
       "<title>15&#45;&gt;16</title>\n",
       "<path fill=\"none\" stroke=\"black\" d=\"M636.73,-721.85C636.63,-714.24 636.52,-705.45 636.41,-697.09\"/>\n",
       "<polygon fill=\"black\" stroke=\"black\" points=\"639.92,-697.18 636.29,-687.22 632.92,-697.27 639.92,-697.18\"/>\n",
       "</g>\n",
       "<!-- 17 -->\n",
       "<g id=\"node18\" class=\"node\">\n",
       "<title>17</title>\n",
       "<polygon fill=\"#c1ffc1\" stroke=\"none\" points=\"721,-605.75 505,-605.75 505,-561.75 721,-561.75 721,-605.75\"/>\n",
       "<polygon fill=\"none\" stroke=\"black\" points=\"505,-561.75 505,-605.75 600,-605.75 600,-561.75 505,-561.75\"/>\n",
       "<text text-anchor=\"start\" x=\"509.75\" y=\"-587\" font-family=\"Linux libertine\" font-size=\"10.00\">GlobalMaxPool1d</text>\n",
       "<text text-anchor=\"start\" x=\"534.12\" y=\"-574.25\" font-family=\"Linux libertine\" font-size=\"10.00\">depth:2</text>\n",
       "<polygon fill=\"none\" stroke=\"black\" points=\"600,-583.75 600,-605.75 647,-605.75 647,-583.75 600,-583.75\"/>\n",
       "<text text-anchor=\"start\" x=\"609.62\" y=\"-591.25\" font-family=\"Linux libertine\" font-size=\"10.00\">input:</text>\n",
       "<polygon fill=\"none\" stroke=\"black\" points=\"647,-583.75 647,-605.75 721,-605.75 721,-583.75 647,-583.75\"/>\n",
       "<text text-anchor=\"start\" x=\"651.75\" y=\"-591.25\" font-family=\"Linux libertine\" font-size=\"10.00\">(24, 512, 59) </text>\n",
       "<polygon fill=\"none\" stroke=\"black\" points=\"600,-561.75 600,-583.75 647,-583.75 647,-561.75 600,-561.75\"/>\n",
       "<text text-anchor=\"start\" x=\"604.75\" y=\"-569.25\" font-family=\"Linux libertine\" font-size=\"10.00\">output: </text>\n",
       "<polygon fill=\"none\" stroke=\"black\" points=\"647,-561.75 647,-583.75 721,-583.75 721,-561.75 647,-561.75\"/>\n",
       "<text text-anchor=\"start\" x=\"660.75\" y=\"-569.25\" font-family=\"Linux libertine\" font-size=\"10.00\">(24, 512) </text>\n",
       "</g>\n",
       "<!-- 16&#45;&gt;17 -->\n",
       "<g id=\"edge23\" class=\"edge\">\n",
       "<title>16&#45;&gt;17</title>\n",
       "<path fill=\"none\" stroke=\"black\" d=\"M629.84,-641.85C627.54,-634.07 624.88,-625.05 622.37,-616.51\"/>\n",
       "<polygon fill=\"black\" stroke=\"black\" points=\"625.79,-615.76 619.61,-607.16 619.08,-617.74 625.79,-615.76\"/>\n",
       "</g>\n",
       "<!-- 17&#45;&gt;30 -->\n",
       "<g id=\"edge24\" class=\"edge\">\n",
       "<title>17&#45;&gt;30</title>\n",
       "<path fill=\"none\" stroke=\"black\" d=\"M618.63,-561.85C620.7,-554.15 623.1,-545.25 625.37,-536.8\"/>\n",
       "<polygon fill=\"black\" stroke=\"black\" points=\"628.74,-537.74 627.96,-527.17 621.98,-535.92 628.74,-537.74\"/>\n",
       "</g>\n",
       "<!-- 19 -->\n",
       "<g id=\"node20\" class=\"node\">\n",
       "<title>19</title>\n",
       "<polygon fill=\"#c1ffc1\" stroke=\"none\" points=\"907.5,-765.75 740.5,-765.75 740.5,-721.75 907.5,-721.75 907.5,-765.75\"/>\n",
       "<polygon fill=\"none\" stroke=\"black\" points=\"740.5,-721.75 740.5,-765.75 786.5,-765.75 786.5,-721.75 740.5,-721.75\"/>\n",
       "<text text-anchor=\"start\" x=\"750.75\" y=\"-747\" font-family=\"Linux libertine\" font-size=\"10.00\">ReLU</text>\n",
       "<text text-anchor=\"start\" x=\"745.12\" y=\"-734.25\" font-family=\"Linux libertine\" font-size=\"10.00\">depth:2</text>\n",
       "<polygon fill=\"none\" stroke=\"black\" points=\"786.5,-743.75 786.5,-765.75 833.5,-765.75 833.5,-743.75 786.5,-743.75\"/>\n",
       "<text text-anchor=\"start\" x=\"796.12\" y=\"-751.25\" font-family=\"Linux libertine\" font-size=\"10.00\">input:</text>\n",
       "<polygon fill=\"none\" stroke=\"black\" points=\"833.5,-743.75 833.5,-765.75 907.5,-765.75 907.5,-743.75 833.5,-743.75\"/>\n",
       "<text text-anchor=\"start\" x=\"838.25\" y=\"-751.25\" font-family=\"Linux libertine\" font-size=\"10.00\">(24, 256, 58) </text>\n",
       "<polygon fill=\"none\" stroke=\"black\" points=\"786.5,-721.75 786.5,-743.75 833.5,-743.75 833.5,-721.75 786.5,-721.75\"/>\n",
       "<text text-anchor=\"start\" x=\"791.25\" y=\"-729.25\" font-family=\"Linux libertine\" font-size=\"10.00\">output: </text>\n",
       "<polygon fill=\"none\" stroke=\"black\" points=\"833.5,-721.75 833.5,-743.75 907.5,-743.75 907.5,-721.75 833.5,-721.75\"/>\n",
       "<text text-anchor=\"start\" x=\"838.25\" y=\"-729.25\" font-family=\"Linux libertine\" font-size=\"10.00\">(24, 256, 58) </text>\n",
       "</g>\n",
       "<!-- 18&#45;&gt;19 -->\n",
       "<g id=\"edge25\" class=\"edge\">\n",
       "<title>18&#45;&gt;19</title>\n",
       "<path fill=\"none\" stroke=\"black\" d=\"M823.27,-801.85C823.37,-794.24 823.48,-785.45 823.59,-777.09\"/>\n",
       "<polygon fill=\"black\" stroke=\"black\" points=\"827.08,-777.27 823.71,-767.22 820.08,-777.18 827.08,-777.27\"/>\n",
       "</g>\n",
       "<!-- 20 -->\n",
       "<g id=\"node21\" class=\"node\">\n",
       "<title>20</title>\n",
       "<polygon fill=\"#c1ffc1\" stroke=\"none\" points=\"909,-685.75 739,-685.75 739,-641.75 909,-641.75 909,-685.75\"/>\n",
       "<polygon fill=\"none\" stroke=\"black\" points=\"739,-641.75 739,-685.75 788,-685.75 788,-641.75 739,-641.75\"/>\n",
       "<text text-anchor=\"start\" x=\"744\" y=\"-667\" font-family=\"Linux libertine\" font-size=\"10.00\">Dropout</text>\n",
       "<text text-anchor=\"start\" x=\"745.12\" y=\"-654.25\" font-family=\"Linux libertine\" font-size=\"10.00\">depth:2</text>\n",
       "<polygon fill=\"none\" stroke=\"black\" points=\"788,-663.75 788,-685.75 835,-685.75 835,-663.75 788,-663.75\"/>\n",
       "<text text-anchor=\"start\" x=\"797.62\" y=\"-671.25\" font-family=\"Linux libertine\" font-size=\"10.00\">input:</text>\n",
       "<polygon fill=\"none\" stroke=\"black\" points=\"835,-663.75 835,-685.75 909,-685.75 909,-663.75 835,-663.75\"/>\n",
       "<text text-anchor=\"start\" x=\"839.75\" y=\"-671.25\" font-family=\"Linux libertine\" font-size=\"10.00\">(24, 256, 58) </text>\n",
       "<polygon fill=\"none\" stroke=\"black\" points=\"788,-641.75 788,-663.75 835,-663.75 835,-641.75 788,-641.75\"/>\n",
       "<text text-anchor=\"start\" x=\"792.75\" y=\"-649.25\" font-family=\"Linux libertine\" font-size=\"10.00\">output: </text>\n",
       "<polygon fill=\"none\" stroke=\"black\" points=\"835,-641.75 835,-663.75 909,-663.75 909,-641.75 835,-641.75\"/>\n",
       "<text text-anchor=\"start\" x=\"839.75\" y=\"-649.25\" font-family=\"Linux libertine\" font-size=\"10.00\">(24, 256, 58) </text>\n",
       "</g>\n",
       "<!-- 19&#45;&gt;20 -->\n",
       "<g id=\"edge26\" class=\"edge\">\n",
       "<title>19&#45;&gt;20</title>\n",
       "<path fill=\"none\" stroke=\"black\" d=\"M824,-721.85C824,-714.24 824,-705.45 824,-697.09\"/>\n",
       "<polygon fill=\"black\" stroke=\"black\" points=\"827.5,-697.22 824,-687.22 820.5,-697.22 827.5,-697.22\"/>\n",
       "</g>\n",
       "<!-- 21 -->\n",
       "<g id=\"node22\" class=\"node\">\n",
       "<title>21</title>\n",
       "<polygon fill=\"#c1ffc1\" stroke=\"none\" points=\"955,-605.75 739,-605.75 739,-561.75 955,-561.75 955,-605.75\"/>\n",
       "<polygon fill=\"none\" stroke=\"black\" points=\"739,-561.75 739,-605.75 834,-605.75 834,-561.75 739,-561.75\"/>\n",
       "<text text-anchor=\"start\" x=\"743.75\" y=\"-587\" font-family=\"Linux libertine\" font-size=\"10.00\">GlobalMaxPool1d</text>\n",
       "<text text-anchor=\"start\" x=\"768.12\" y=\"-574.25\" font-family=\"Linux libertine\" font-size=\"10.00\">depth:2</text>\n",
       "<polygon fill=\"none\" stroke=\"black\" points=\"834,-583.75 834,-605.75 881,-605.75 881,-583.75 834,-583.75\"/>\n",
       "<text text-anchor=\"start\" x=\"843.62\" y=\"-591.25\" font-family=\"Linux libertine\" font-size=\"10.00\">input:</text>\n",
       "<polygon fill=\"none\" stroke=\"black\" points=\"881,-583.75 881,-605.75 955,-605.75 955,-583.75 881,-583.75\"/>\n",
       "<text text-anchor=\"start\" x=\"885.75\" y=\"-591.25\" font-family=\"Linux libertine\" font-size=\"10.00\">(24, 256, 58) </text>\n",
       "<polygon fill=\"none\" stroke=\"black\" points=\"834,-561.75 834,-583.75 881,-583.75 881,-561.75 834,-561.75\"/>\n",
       "<text text-anchor=\"start\" x=\"838.75\" y=\"-569.25\" font-family=\"Linux libertine\" font-size=\"10.00\">output: </text>\n",
       "<polygon fill=\"none\" stroke=\"black\" points=\"881,-561.75 881,-583.75 955,-583.75 955,-561.75 881,-561.75\"/>\n",
       "<text text-anchor=\"start\" x=\"894.75\" y=\"-569.25\" font-family=\"Linux libertine\" font-size=\"10.00\">(24, 256) </text>\n",
       "</g>\n",
       "<!-- 20&#45;&gt;21 -->\n",
       "<g id=\"edge27\" class=\"edge\">\n",
       "<title>20&#45;&gt;21</title>\n",
       "<path fill=\"none\" stroke=\"black\" d=\"M830.16,-641.85C832.46,-634.07 835.12,-625.05 837.63,-616.51\"/>\n",
       "<polygon fill=\"black\" stroke=\"black\" points=\"840.92,-617.74 840.39,-607.16 834.21,-615.76 840.92,-617.74\"/>\n",
       "</g>\n",
       "<!-- 21&#45;&gt;30 -->\n",
       "<g id=\"edge28\" class=\"edge\">\n",
       "<title>21&#45;&gt;30</title>\n",
       "<path fill=\"none\" stroke=\"black\" d=\"M789.92,-561.85C762.82,-551.92 730.24,-539.99 701.88,-529.61\"/>\n",
       "<polygon fill=\"black\" stroke=\"black\" points=\"703.25,-526.38 692.66,-526.23 700.85,-532.96 703.25,-526.38\"/>\n",
       "</g>\n",
       "<!-- 23 -->\n",
       "<g id=\"node24\" class=\"node\">\n",
       "<title>23</title>\n",
       "<polygon fill=\"#c1ffc1\" stroke=\"none\" points=\"1117.5,-765.75 950.5,-765.75 950.5,-721.75 1117.5,-721.75 1117.5,-765.75\"/>\n",
       "<polygon fill=\"none\" stroke=\"black\" points=\"950.5,-721.75 950.5,-765.75 996.5,-765.75 996.5,-721.75 950.5,-721.75\"/>\n",
       "<text text-anchor=\"start\" x=\"960.75\" y=\"-747\" font-family=\"Linux libertine\" font-size=\"10.00\">ReLU</text>\n",
       "<text text-anchor=\"start\" x=\"955.12\" y=\"-734.25\" font-family=\"Linux libertine\" font-size=\"10.00\">depth:2</text>\n",
       "<polygon fill=\"none\" stroke=\"black\" points=\"996.5,-743.75 996.5,-765.75 1043.5,-765.75 1043.5,-743.75 996.5,-743.75\"/>\n",
       "<text text-anchor=\"start\" x=\"1006.12\" y=\"-751.25\" font-family=\"Linux libertine\" font-size=\"10.00\">input:</text>\n",
       "<polygon fill=\"none\" stroke=\"black\" points=\"1043.5,-743.75 1043.5,-765.75 1117.5,-765.75 1117.5,-743.75 1043.5,-743.75\"/>\n",
       "<text text-anchor=\"start\" x=\"1048.25\" y=\"-751.25\" font-family=\"Linux libertine\" font-size=\"10.00\">(24, 128, 57) </text>\n",
       "<polygon fill=\"none\" stroke=\"black\" points=\"996.5,-721.75 996.5,-743.75 1043.5,-743.75 1043.5,-721.75 996.5,-721.75\"/>\n",
       "<text text-anchor=\"start\" x=\"1001.25\" y=\"-729.25\" font-family=\"Linux libertine\" font-size=\"10.00\">output: </text>\n",
       "<polygon fill=\"none\" stroke=\"black\" points=\"1043.5,-721.75 1043.5,-743.75 1117.5,-743.75 1117.5,-721.75 1043.5,-721.75\"/>\n",
       "<text text-anchor=\"start\" x=\"1048.25\" y=\"-729.25\" font-family=\"Linux libertine\" font-size=\"10.00\">(24, 128, 57) </text>\n",
       "</g>\n",
       "<!-- 22&#45;&gt;23 -->\n",
       "<g id=\"edge29\" class=\"edge\">\n",
       "<title>22&#45;&gt;23</title>\n",
       "<path fill=\"none\" stroke=\"black\" d=\"M1015.7,-801.85C1018.19,-794.07 1021.08,-785.05 1023.82,-776.51\"/>\n",
       "<polygon fill=\"black\" stroke=\"black\" points=\"1027.1,-777.74 1026.82,-767.15 1020.43,-775.61 1027.1,-777.74\"/>\n",
       "</g>\n",
       "<!-- 24 -->\n",
       "<g id=\"node25\" class=\"node\">\n",
       "<title>24</title>\n",
       "<polygon fill=\"#c1ffc1\" stroke=\"none\" points=\"1143,-685.75 973,-685.75 973,-641.75 1143,-641.75 1143,-685.75\"/>\n",
       "<polygon fill=\"none\" stroke=\"black\" points=\"973,-641.75 973,-685.75 1022,-685.75 1022,-641.75 973,-641.75\"/>\n",
       "<text text-anchor=\"start\" x=\"978\" y=\"-667\" font-family=\"Linux libertine\" font-size=\"10.00\">Dropout</text>\n",
       "<text text-anchor=\"start\" x=\"979.12\" y=\"-654.25\" font-family=\"Linux libertine\" font-size=\"10.00\">depth:2</text>\n",
       "<polygon fill=\"none\" stroke=\"black\" points=\"1022,-663.75 1022,-685.75 1069,-685.75 1069,-663.75 1022,-663.75\"/>\n",
       "<text text-anchor=\"start\" x=\"1031.62\" y=\"-671.25\" font-family=\"Linux libertine\" font-size=\"10.00\">input:</text>\n",
       "<polygon fill=\"none\" stroke=\"black\" points=\"1069,-663.75 1069,-685.75 1143,-685.75 1143,-663.75 1069,-663.75\"/>\n",
       "<text text-anchor=\"start\" x=\"1073.75\" y=\"-671.25\" font-family=\"Linux libertine\" font-size=\"10.00\">(24, 128, 57) </text>\n",
       "<polygon fill=\"none\" stroke=\"black\" points=\"1022,-641.75 1022,-663.75 1069,-663.75 1069,-641.75 1022,-641.75\"/>\n",
       "<text text-anchor=\"start\" x=\"1026.75\" y=\"-649.25\" font-family=\"Linux libertine\" font-size=\"10.00\">output: </text>\n",
       "<polygon fill=\"none\" stroke=\"black\" points=\"1069,-641.75 1069,-663.75 1143,-663.75 1143,-641.75 1069,-641.75\"/>\n",
       "<text text-anchor=\"start\" x=\"1073.75\" y=\"-649.25\" font-family=\"Linux libertine\" font-size=\"10.00\">(24, 128, 57) </text>\n",
       "</g>\n",
       "<!-- 23&#45;&gt;24 -->\n",
       "<g id=\"edge30\" class=\"edge\">\n",
       "<title>23&#45;&gt;24</title>\n",
       "<path fill=\"none\" stroke=\"black\" d=\"M1040.43,-721.85C1042.83,-714.07 1045.6,-705.05 1048.23,-696.51\"/>\n",
       "<polygon fill=\"black\" stroke=\"black\" points=\"1051.51,-697.74 1051.11,-687.16 1044.82,-695.69 1051.51,-697.74\"/>\n",
       "</g>\n",
       "<!-- 25 -->\n",
       "<g id=\"node26\" class=\"node\">\n",
       "<title>25</title>\n",
       "<polygon fill=\"#c1ffc1\" stroke=\"none\" points=\"1189,-605.75 973,-605.75 973,-561.75 1189,-561.75 1189,-605.75\"/>\n",
       "<polygon fill=\"none\" stroke=\"black\" points=\"973,-561.75 973,-605.75 1068,-605.75 1068,-561.75 973,-561.75\"/>\n",
       "<text text-anchor=\"start\" x=\"977.75\" y=\"-587\" font-family=\"Linux libertine\" font-size=\"10.00\">GlobalMaxPool1d</text>\n",
       "<text text-anchor=\"start\" x=\"1002.12\" y=\"-574.25\" font-family=\"Linux libertine\" font-size=\"10.00\">depth:2</text>\n",
       "<polygon fill=\"none\" stroke=\"black\" points=\"1068,-583.75 1068,-605.75 1115,-605.75 1115,-583.75 1068,-583.75\"/>\n",
       "<text text-anchor=\"start\" x=\"1077.62\" y=\"-591.25\" font-family=\"Linux libertine\" font-size=\"10.00\">input:</text>\n",
       "<polygon fill=\"none\" stroke=\"black\" points=\"1115,-583.75 1115,-605.75 1189,-605.75 1189,-583.75 1115,-583.75\"/>\n",
       "<text text-anchor=\"start\" x=\"1119.75\" y=\"-591.25\" font-family=\"Linux libertine\" font-size=\"10.00\">(24, 128, 57) </text>\n",
       "<polygon fill=\"none\" stroke=\"black\" points=\"1068,-561.75 1068,-583.75 1115,-583.75 1115,-561.75 1068,-561.75\"/>\n",
       "<text text-anchor=\"start\" x=\"1072.75\" y=\"-569.25\" font-family=\"Linux libertine\" font-size=\"10.00\">output: </text>\n",
       "<polygon fill=\"none\" stroke=\"black\" points=\"1115,-561.75 1115,-583.75 1189,-583.75 1189,-561.75 1115,-561.75\"/>\n",
       "<text text-anchor=\"start\" x=\"1128.75\" y=\"-569.25\" font-family=\"Linux libertine\" font-size=\"10.00\">(24, 128) </text>\n",
       "</g>\n",
       "<!-- 24&#45;&gt;25 -->\n",
       "<g id=\"edge31\" class=\"edge\">\n",
       "<title>24&#45;&gt;25</title>\n",
       "<path fill=\"none\" stroke=\"black\" d=\"M1064.16,-641.85C1066.46,-634.07 1069.12,-625.05 1071.63,-616.51\"/>\n",
       "<polygon fill=\"black\" stroke=\"black\" points=\"1074.92,-617.74 1074.39,-607.16 1068.21,-615.76 1074.92,-617.74\"/>\n",
       "</g>\n",
       "<!-- 25&#45;&gt;30 -->\n",
       "<g id=\"edge32\" class=\"edge\">\n",
       "<title>25&#45;&gt;30</title>\n",
       "<path fill=\"none\" stroke=\"black\" d=\"M973.26,-563.39C970.14,-562.83 967.05,-562.29 964,-561.75 899.45,-550.38 827.76,-537.97 767.73,-527.64\"/>\n",
       "<polygon fill=\"black\" stroke=\"black\" points=\"768.6,-524.24 758.15,-526 767.42,-531.14 768.6,-524.24\"/>\n",
       "</g>\n",
       "<!-- 27 -->\n",
       "<g id=\"node28\" class=\"node\">\n",
       "<title>27</title>\n",
       "<polygon fill=\"#c1ffc1\" stroke=\"none\" points=\"1297.5,-765.75 1136.5,-765.75 1136.5,-721.75 1297.5,-721.75 1297.5,-765.75\"/>\n",
       "<polygon fill=\"none\" stroke=\"black\" points=\"1136.5,-721.75 1136.5,-765.75 1182.5,-765.75 1182.5,-721.75 1136.5,-721.75\"/>\n",
       "<text text-anchor=\"start\" x=\"1146.75\" y=\"-747\" font-family=\"Linux libertine\" font-size=\"10.00\">ReLU</text>\n",
       "<text text-anchor=\"start\" x=\"1141.12\" y=\"-734.25\" font-family=\"Linux libertine\" font-size=\"10.00\">depth:2</text>\n",
       "<polygon fill=\"none\" stroke=\"black\" points=\"1182.5,-743.75 1182.5,-765.75 1229.5,-765.75 1229.5,-743.75 1182.5,-743.75\"/>\n",
       "<text text-anchor=\"start\" x=\"1192.12\" y=\"-751.25\" font-family=\"Linux libertine\" font-size=\"10.00\">input:</text>\n",
       "<polygon fill=\"none\" stroke=\"black\" points=\"1229.5,-743.75 1229.5,-765.75 1297.5,-765.75 1297.5,-743.75 1229.5,-743.75\"/>\n",
       "<text text-anchor=\"start\" x=\"1234.25\" y=\"-751.25\" font-family=\"Linux libertine\" font-size=\"10.00\">(24, 64, 56) </text>\n",
       "<polygon fill=\"none\" stroke=\"black\" points=\"1182.5,-721.75 1182.5,-743.75 1229.5,-743.75 1229.5,-721.75 1182.5,-721.75\"/>\n",
       "<text text-anchor=\"start\" x=\"1187.25\" y=\"-729.25\" font-family=\"Linux libertine\" font-size=\"10.00\">output: </text>\n",
       "<polygon fill=\"none\" stroke=\"black\" points=\"1229.5,-721.75 1229.5,-743.75 1297.5,-743.75 1297.5,-721.75 1229.5,-721.75\"/>\n",
       "<text text-anchor=\"start\" x=\"1234.25\" y=\"-729.25\" font-family=\"Linux libertine\" font-size=\"10.00\">(24, 64, 56) </text>\n",
       "</g>\n",
       "<!-- 26&#45;&gt;27 -->\n",
       "<g id=\"edge33\" class=\"edge\">\n",
       "<title>26&#45;&gt;27</title>\n",
       "<path fill=\"none\" stroke=\"black\" d=\"M1200.16,-801.85C1202.46,-794.07 1205.12,-785.05 1207.63,-776.51\"/>\n",
       "<polygon fill=\"black\" stroke=\"black\" points=\"1210.92,-777.74 1210.39,-767.16 1204.21,-775.76 1210.92,-777.74\"/>\n",
       "</g>\n",
       "<!-- 28 -->\n",
       "<g id=\"node29\" class=\"node\">\n",
       "<title>28</title>\n",
       "<polygon fill=\"#c1ffc1\" stroke=\"none\" points=\"1371,-685.75 1207,-685.75 1207,-641.75 1371,-641.75 1371,-685.75\"/>\n",
       "<polygon fill=\"none\" stroke=\"black\" points=\"1207,-641.75 1207,-685.75 1256,-685.75 1256,-641.75 1207,-641.75\"/>\n",
       "<text text-anchor=\"start\" x=\"1212\" y=\"-667\" font-family=\"Linux libertine\" font-size=\"10.00\">Dropout</text>\n",
       "<text text-anchor=\"start\" x=\"1213.12\" y=\"-654.25\" font-family=\"Linux libertine\" font-size=\"10.00\">depth:2</text>\n",
       "<polygon fill=\"none\" stroke=\"black\" points=\"1256,-663.75 1256,-685.75 1303,-685.75 1303,-663.75 1256,-663.75\"/>\n",
       "<text text-anchor=\"start\" x=\"1265.62\" y=\"-671.25\" font-family=\"Linux libertine\" font-size=\"10.00\">input:</text>\n",
       "<polygon fill=\"none\" stroke=\"black\" points=\"1303,-663.75 1303,-685.75 1371,-685.75 1371,-663.75 1303,-663.75\"/>\n",
       "<text text-anchor=\"start\" x=\"1307.75\" y=\"-671.25\" font-family=\"Linux libertine\" font-size=\"10.00\">(24, 64, 56) </text>\n",
       "<polygon fill=\"none\" stroke=\"black\" points=\"1256,-641.75 1256,-663.75 1303,-663.75 1303,-641.75 1256,-641.75\"/>\n",
       "<text text-anchor=\"start\" x=\"1260.75\" y=\"-649.25\" font-family=\"Linux libertine\" font-size=\"10.00\">output: </text>\n",
       "<polygon fill=\"none\" stroke=\"black\" points=\"1303,-641.75 1303,-663.75 1371,-663.75 1371,-641.75 1303,-641.75\"/>\n",
       "<text text-anchor=\"start\" x=\"1307.75\" y=\"-649.25\" font-family=\"Linux libertine\" font-size=\"10.00\">(24, 64, 56) </text>\n",
       "</g>\n",
       "<!-- 27&#45;&gt;28 -->\n",
       "<g id=\"edge34\" class=\"edge\">\n",
       "<title>27&#45;&gt;28</title>\n",
       "<path fill=\"none\" stroke=\"black\" d=\"M1236.29,-721.85C1244.2,-713.28 1253.5,-703.21 1262.06,-693.94\"/>\n",
       "<polygon fill=\"black\" stroke=\"black\" points=\"1264.41,-696.54 1268.63,-686.82 1259.27,-691.8 1264.41,-696.54\"/>\n",
       "</g>\n",
       "<!-- 29 -->\n",
       "<g id=\"node30\" class=\"node\">\n",
       "<title>29</title>\n",
       "<polygon fill=\"#c1ffc1\" stroke=\"none\" points=\"1417,-605.75 1207,-605.75 1207,-561.75 1417,-561.75 1417,-605.75\"/>\n",
       "<polygon fill=\"none\" stroke=\"black\" points=\"1207,-561.75 1207,-605.75 1302,-605.75 1302,-561.75 1207,-561.75\"/>\n",
       "<text text-anchor=\"start\" x=\"1211.75\" y=\"-587\" font-family=\"Linux libertine\" font-size=\"10.00\">GlobalMaxPool1d</text>\n",
       "<text text-anchor=\"start\" x=\"1236.12\" y=\"-574.25\" font-family=\"Linux libertine\" font-size=\"10.00\">depth:2</text>\n",
       "<polygon fill=\"none\" stroke=\"black\" points=\"1302,-583.75 1302,-605.75 1349,-605.75 1349,-583.75 1302,-583.75\"/>\n",
       "<text text-anchor=\"start\" x=\"1311.62\" y=\"-591.25\" font-family=\"Linux libertine\" font-size=\"10.00\">input:</text>\n",
       "<polygon fill=\"none\" stroke=\"black\" points=\"1349,-583.75 1349,-605.75 1417,-605.75 1417,-583.75 1349,-583.75\"/>\n",
       "<text text-anchor=\"start\" x=\"1353.75\" y=\"-591.25\" font-family=\"Linux libertine\" font-size=\"10.00\">(24, 64, 56) </text>\n",
       "<polygon fill=\"none\" stroke=\"black\" points=\"1302,-561.75 1302,-583.75 1349,-583.75 1349,-561.75 1302,-561.75\"/>\n",
       "<text text-anchor=\"start\" x=\"1306.75\" y=\"-569.25\" font-family=\"Linux libertine\" font-size=\"10.00\">output: </text>\n",
       "<polygon fill=\"none\" stroke=\"black\" points=\"1349,-561.75 1349,-583.75 1417,-583.75 1417,-561.75 1349,-561.75\"/>\n",
       "<text text-anchor=\"start\" x=\"1362.75\" y=\"-569.25\" font-family=\"Linux libertine\" font-size=\"10.00\">(24, 64) </text>\n",
       "</g>\n",
       "<!-- 28&#45;&gt;29 -->\n",
       "<g id=\"edge35\" class=\"edge\">\n",
       "<title>28&#45;&gt;29</title>\n",
       "<path fill=\"none\" stroke=\"black\" d=\"M1295.16,-641.85C1297.46,-634.07 1300.12,-625.05 1302.63,-616.51\"/>\n",
       "<polygon fill=\"black\" stroke=\"black\" points=\"1305.92,-617.74 1305.39,-607.16 1299.21,-615.76 1305.92,-617.74\"/>\n",
       "</g>\n",
       "<!-- 29&#45;&gt;30 -->\n",
       "<g id=\"edge36\" class=\"edge\">\n",
       "<title>29&#45;&gt;30</title>\n",
       "<path fill=\"none\" stroke=\"black\" d=\"M1207.07,-563.09C1204.02,-562.62 1200.99,-562.18 1198,-561.75 1073.66,-544.04 933.13,-529.83 823.45,-520.02\"/>\n",
       "<polygon fill=\"black\" stroke=\"black\" points=\"824.04,-516.56 813.77,-519.16 823.42,-523.53 824.04,-516.56\"/>\n",
       "</g>\n",
       "<!-- 31 -->\n",
       "<g id=\"node32\" class=\"node\">\n",
       "<title>31</title>\n",
       "<polygon fill=\"#c1ffc1\" stroke=\"none\" points=\"713,-445.75 555,-445.75 555,-401.75 713,-401.75 713,-445.75\"/>\n",
       "<polygon fill=\"none\" stroke=\"black\" points=\"555,-401.75 555,-445.75 604,-445.75 604,-401.75 555,-401.75\"/>\n",
       "<text text-anchor=\"start\" x=\"560\" y=\"-427\" font-family=\"Linux libertine\" font-size=\"10.00\">Dropout</text>\n",
       "<text text-anchor=\"start\" x=\"561.12\" y=\"-414.25\" font-family=\"Linux libertine\" font-size=\"10.00\">depth:2</text>\n",
       "<polygon fill=\"none\" stroke=\"black\" points=\"604,-423.75 604,-445.75 651,-445.75 651,-423.75 604,-423.75\"/>\n",
       "<text text-anchor=\"start\" x=\"613.62\" y=\"-431.25\" font-family=\"Linux libertine\" font-size=\"10.00\">input:</text>\n",
       "<polygon fill=\"none\" stroke=\"black\" points=\"651,-423.75 651,-445.75 713,-445.75 713,-423.75 651,-423.75\"/>\n",
       "<text text-anchor=\"start\" x=\"655.75\" y=\"-431.25\" font-family=\"Linux libertine\" font-size=\"10.00\">(24, 1728) </text>\n",
       "<polygon fill=\"none\" stroke=\"black\" points=\"604,-401.75 604,-423.75 651,-423.75 651,-401.75 604,-401.75\"/>\n",
       "<text text-anchor=\"start\" x=\"608.75\" y=\"-409.25\" font-family=\"Linux libertine\" font-size=\"10.00\">output: </text>\n",
       "<polygon fill=\"none\" stroke=\"black\" points=\"651,-401.75 651,-423.75 713,-423.75 713,-401.75 651,-401.75\"/>\n",
       "<text text-anchor=\"start\" x=\"655.75\" y=\"-409.25\" font-family=\"Linux libertine\" font-size=\"10.00\">(24, 1728) </text>\n",
       "</g>\n",
       "<!-- 30&#45;&gt;31 -->\n",
       "<g id=\"edge37\" class=\"edge\">\n",
       "<title>30&#45;&gt;31</title>\n",
       "<path fill=\"none\" stroke=\"black\" d=\"M634,-481.85C634,-474.24 634,-465.45 634,-457.09\"/>\n",
       "<polygon fill=\"black\" stroke=\"black\" points=\"637.5,-457.22 634,-447.22 630.5,-457.22 637.5,-457.22\"/>\n",
       "</g>\n",
       "<!-- 32 -->\n",
       "<g id=\"node33\" class=\"node\">\n",
       "<title>32</title>\n",
       "<polygon fill=\"#c1ffc1\" stroke=\"none\" points=\"171.5,-355.5 16.5,-355.5 16.5,-311.5 171.5,-311.5 171.5,-355.5\"/>\n",
       "<polygon fill=\"none\" stroke=\"black\" points=\"16.5,-311.5 16.5,-355.5 62.5,-355.5 62.5,-311.5 16.5,-311.5\"/>\n",
       "<text text-anchor=\"start\" x=\"24.5\" y=\"-336.75\" font-family=\"Linux libertine\" font-size=\"10.00\">Linear</text>\n",
       "<text text-anchor=\"start\" x=\"21.12\" y=\"-324\" font-family=\"Linux libertine\" font-size=\"10.00\">depth:2</text>\n",
       "<polygon fill=\"none\" stroke=\"black\" points=\"62.5,-333.5 62.5,-355.5 109.5,-355.5 109.5,-333.5 62.5,-333.5\"/>\n",
       "<text text-anchor=\"start\" x=\"72.12\" y=\"-341\" font-family=\"Linux libertine\" font-size=\"10.00\">input:</text>\n",
       "<polygon fill=\"none\" stroke=\"black\" points=\"109.5,-333.5 109.5,-355.5 171.5,-355.5 171.5,-333.5 109.5,-333.5\"/>\n",
       "<text text-anchor=\"start\" x=\"114.25\" y=\"-341\" font-family=\"Linux libertine\" font-size=\"10.00\">(24, 1728) </text>\n",
       "<polygon fill=\"none\" stroke=\"black\" points=\"62.5,-311.5 62.5,-333.5 109.5,-333.5 109.5,-311.5 62.5,-311.5\"/>\n",
       "<text text-anchor=\"start\" x=\"67.25\" y=\"-319\" font-family=\"Linux libertine\" font-size=\"10.00\">output: </text>\n",
       "<polygon fill=\"none\" stroke=\"black\" points=\"109.5,-311.5 109.5,-333.5 171.5,-333.5 171.5,-311.5 109.5,-311.5\"/>\n",
       "<text text-anchor=\"start\" x=\"117.25\" y=\"-319\" font-family=\"Linux libertine\" font-size=\"10.00\">(24, 768) </text>\n",
       "</g>\n",
       "<!-- 31&#45;&gt;32 -->\n",
       "<g id=\"edge38\" class=\"edge\">\n",
       "<title>31&#45;&gt;32</title>\n",
       "<path fill=\"none\" stroke=\"black\" d=\"M555.01,-420.36C444.87,-416.33 251.12,-406.5 184,-385.75 166.1,-380.22 147.87,-370.7 132.53,-361.36\"/>\n",
       "<polygon fill=\"black\" stroke=\"black\" points=\"134.51,-358.47 124.19,-356.09 130.78,-364.39 134.51,-358.47\"/>\n",
       "</g>\n",
       "<!-- 35 -->\n",
       "<g id=\"node36\" class=\"node\">\n",
       "<title>35</title>\n",
       "<polygon fill=\"#c1ffc1\" stroke=\"none\" points=\"351.5,-355.5 196.5,-355.5 196.5,-311.5 351.5,-311.5 351.5,-355.5\"/>\n",
       "<polygon fill=\"none\" stroke=\"black\" points=\"196.5,-311.5 196.5,-355.5 242.5,-355.5 242.5,-311.5 196.5,-311.5\"/>\n",
       "<text text-anchor=\"start\" x=\"204.5\" y=\"-336.75\" font-family=\"Linux libertine\" font-size=\"10.00\">Linear</text>\n",
       "<text text-anchor=\"start\" x=\"201.12\" y=\"-324\" font-family=\"Linux libertine\" font-size=\"10.00\">depth:2</text>\n",
       "<polygon fill=\"none\" stroke=\"black\" points=\"242.5,-333.5 242.5,-355.5 289.5,-355.5 289.5,-333.5 242.5,-333.5\"/>\n",
       "<text text-anchor=\"start\" x=\"252.12\" y=\"-341\" font-family=\"Linux libertine\" font-size=\"10.00\">input:</text>\n",
       "<polygon fill=\"none\" stroke=\"black\" points=\"289.5,-333.5 289.5,-355.5 351.5,-355.5 351.5,-333.5 289.5,-333.5\"/>\n",
       "<text text-anchor=\"start\" x=\"294.25\" y=\"-341\" font-family=\"Linux libertine\" font-size=\"10.00\">(24, 1728) </text>\n",
       "<polygon fill=\"none\" stroke=\"black\" points=\"242.5,-311.5 242.5,-333.5 289.5,-333.5 289.5,-311.5 242.5,-311.5\"/>\n",
       "<text text-anchor=\"start\" x=\"247.25\" y=\"-319\" font-family=\"Linux libertine\" font-size=\"10.00\">output: </text>\n",
       "<polygon fill=\"none\" stroke=\"black\" points=\"289.5,-311.5 289.5,-333.5 351.5,-333.5 351.5,-311.5 289.5,-311.5\"/>\n",
       "<text text-anchor=\"start\" x=\"297.25\" y=\"-319\" font-family=\"Linux libertine\" font-size=\"10.00\">(24, 768) </text>\n",
       "</g>\n",
       "<!-- 31&#45;&gt;35 -->\n",
       "<g id=\"edge42\" class=\"edge\">\n",
       "<title>31&#45;&gt;35</title>\n",
       "<path fill=\"none\" stroke=\"black\" d=\"M555.09,-419.84C500.26,-415.93 426.17,-406.83 364,-385.75 346.54,-379.83 328.63,-370.43 313.43,-361.29\"/>\n",
       "<polygon fill=\"black\" stroke=\"black\" points=\"315.49,-358.45 305.15,-356.15 311.8,-364.4 315.49,-358.45\"/>\n",
       "</g>\n",
       "<!-- 38 -->\n",
       "<g id=\"node39\" class=\"node\">\n",
       "<title>38</title>\n",
       "<polygon fill=\"#c1ffc1\" stroke=\"none\" points=\"531.5,-355.5 376.5,-355.5 376.5,-311.5 531.5,-311.5 531.5,-355.5\"/>\n",
       "<polygon fill=\"none\" stroke=\"black\" points=\"376.5,-311.5 376.5,-355.5 422.5,-355.5 422.5,-311.5 376.5,-311.5\"/>\n",
       "<text text-anchor=\"start\" x=\"384.5\" y=\"-336.75\" font-family=\"Linux libertine\" font-size=\"10.00\">Linear</text>\n",
       "<text text-anchor=\"start\" x=\"381.12\" y=\"-324\" font-family=\"Linux libertine\" font-size=\"10.00\">depth:2</text>\n",
       "<polygon fill=\"none\" stroke=\"black\" points=\"422.5,-333.5 422.5,-355.5 469.5,-355.5 469.5,-333.5 422.5,-333.5\"/>\n",
       "<text text-anchor=\"start\" x=\"432.12\" y=\"-341\" font-family=\"Linux libertine\" font-size=\"10.00\">input:</text>\n",
       "<polygon fill=\"none\" stroke=\"black\" points=\"469.5,-333.5 469.5,-355.5 531.5,-355.5 531.5,-333.5 469.5,-333.5\"/>\n",
       "<text text-anchor=\"start\" x=\"474.25\" y=\"-341\" font-family=\"Linux libertine\" font-size=\"10.00\">(24, 1728) </text>\n",
       "<polygon fill=\"none\" stroke=\"black\" points=\"422.5,-311.5 422.5,-333.5 469.5,-333.5 469.5,-311.5 422.5,-311.5\"/>\n",
       "<text text-anchor=\"start\" x=\"427.25\" y=\"-319\" font-family=\"Linux libertine\" font-size=\"10.00\">output: </text>\n",
       "<polygon fill=\"none\" stroke=\"black\" points=\"469.5,-311.5 469.5,-333.5 531.5,-333.5 531.5,-311.5 469.5,-311.5\"/>\n",
       "<text text-anchor=\"start\" x=\"477.25\" y=\"-319\" font-family=\"Linux libertine\" font-size=\"10.00\">(24, 768) </text>\n",
       "</g>\n",
       "<!-- 31&#45;&gt;38 -->\n",
       "<g id=\"edge46\" class=\"edge\">\n",
       "<title>31&#45;&gt;38</title>\n",
       "<path fill=\"none\" stroke=\"black\" d=\"M580.2,-401.95C568.16,-396.93 555.54,-391.38 544,-385.75 528.64,-378.26 512.27,-369.26 497.77,-360.91\"/>\n",
       "<polygon fill=\"black\" stroke=\"black\" points=\"499.78,-358.03 489.37,-356.02 496.25,-364.08 499.78,-358.03\"/>\n",
       "</g>\n",
       "<!-- 41 -->\n",
       "<g id=\"node42\" class=\"node\">\n",
       "<title>41</title>\n",
       "<polygon fill=\"#c1ffc1\" stroke=\"none\" points=\"711.5,-355.5 556.5,-355.5 556.5,-311.5 711.5,-311.5 711.5,-355.5\"/>\n",
       "<polygon fill=\"none\" stroke=\"black\" points=\"556.5,-311.5 556.5,-355.5 602.5,-355.5 602.5,-311.5 556.5,-311.5\"/>\n",
       "<text text-anchor=\"start\" x=\"564.5\" y=\"-336.75\" font-family=\"Linux libertine\" font-size=\"10.00\">Linear</text>\n",
       "<text text-anchor=\"start\" x=\"561.12\" y=\"-324\" font-family=\"Linux libertine\" font-size=\"10.00\">depth:2</text>\n",
       "<polygon fill=\"none\" stroke=\"black\" points=\"602.5,-333.5 602.5,-355.5 649.5,-355.5 649.5,-333.5 602.5,-333.5\"/>\n",
       "<text text-anchor=\"start\" x=\"612.12\" y=\"-341\" font-family=\"Linux libertine\" font-size=\"10.00\">input:</text>\n",
       "<polygon fill=\"none\" stroke=\"black\" points=\"649.5,-333.5 649.5,-355.5 711.5,-355.5 711.5,-333.5 649.5,-333.5\"/>\n",
       "<text text-anchor=\"start\" x=\"654.25\" y=\"-341\" font-family=\"Linux libertine\" font-size=\"10.00\">(24, 1728) </text>\n",
       "<polygon fill=\"none\" stroke=\"black\" points=\"602.5,-311.5 602.5,-333.5 649.5,-333.5 649.5,-311.5 602.5,-311.5\"/>\n",
       "<text text-anchor=\"start\" x=\"607.25\" y=\"-319\" font-family=\"Linux libertine\" font-size=\"10.00\">output: </text>\n",
       "<polygon fill=\"none\" stroke=\"black\" points=\"649.5,-311.5 649.5,-333.5 711.5,-333.5 711.5,-311.5 649.5,-311.5\"/>\n",
       "<text text-anchor=\"start\" x=\"657.25\" y=\"-319\" font-family=\"Linux libertine\" font-size=\"10.00\">(24, 768) </text>\n",
       "</g>\n",
       "<!-- 31&#45;&gt;41 -->\n",
       "<g id=\"edge50\" class=\"edge\">\n",
       "<title>31&#45;&gt;41</title>\n",
       "<path fill=\"none\" stroke=\"black\" d=\"M634,-401.84C634,-391.29 634,-378.26 634,-366.48\"/>\n",
       "<polygon fill=\"black\" stroke=\"black\" points=\"637.5,-366.78 634,-356.78 630.5,-366.78 637.5,-366.78\"/>\n",
       "</g>\n",
       "<!-- 44 -->\n",
       "<g id=\"node45\" class=\"node\">\n",
       "<title>44</title>\n",
       "<polygon fill=\"#c1ffc1\" stroke=\"none\" points=\"891.5,-355.5 736.5,-355.5 736.5,-311.5 891.5,-311.5 891.5,-355.5\"/>\n",
       "<polygon fill=\"none\" stroke=\"black\" points=\"736.5,-311.5 736.5,-355.5 782.5,-355.5 782.5,-311.5 736.5,-311.5\"/>\n",
       "<text text-anchor=\"start\" x=\"744.5\" y=\"-336.75\" font-family=\"Linux libertine\" font-size=\"10.00\">Linear</text>\n",
       "<text text-anchor=\"start\" x=\"741.12\" y=\"-324\" font-family=\"Linux libertine\" font-size=\"10.00\">depth:2</text>\n",
       "<polygon fill=\"none\" stroke=\"black\" points=\"782.5,-333.5 782.5,-355.5 829.5,-355.5 829.5,-333.5 782.5,-333.5\"/>\n",
       "<text text-anchor=\"start\" x=\"792.12\" y=\"-341\" font-family=\"Linux libertine\" font-size=\"10.00\">input:</text>\n",
       "<polygon fill=\"none\" stroke=\"black\" points=\"829.5,-333.5 829.5,-355.5 891.5,-355.5 891.5,-333.5 829.5,-333.5\"/>\n",
       "<text text-anchor=\"start\" x=\"834.25\" y=\"-341\" font-family=\"Linux libertine\" font-size=\"10.00\">(24, 1728) </text>\n",
       "<polygon fill=\"none\" stroke=\"black\" points=\"782.5,-311.5 782.5,-333.5 829.5,-333.5 829.5,-311.5 782.5,-311.5\"/>\n",
       "<text text-anchor=\"start\" x=\"787.25\" y=\"-319\" font-family=\"Linux libertine\" font-size=\"10.00\">output: </text>\n",
       "<polygon fill=\"none\" stroke=\"black\" points=\"829.5,-311.5 829.5,-333.5 891.5,-333.5 891.5,-311.5 829.5,-311.5\"/>\n",
       "<text text-anchor=\"start\" x=\"837.25\" y=\"-319\" font-family=\"Linux libertine\" font-size=\"10.00\">(24, 768) </text>\n",
       "</g>\n",
       "<!-- 31&#45;&gt;44 -->\n",
       "<g id=\"edge54\" class=\"edge\">\n",
       "<title>31&#45;&gt;44</title>\n",
       "<path fill=\"none\" stroke=\"black\" d=\"M687.8,-401.95C699.84,-396.93 712.46,-391.38 724,-385.75 739.36,-378.26 755.73,-369.26 770.23,-360.91\"/>\n",
       "<polygon fill=\"black\" stroke=\"black\" points=\"771.75,-364.08 778.63,-356.02 768.22,-358.03 771.75,-364.08\"/>\n",
       "</g>\n",
       "<!-- 47 -->\n",
       "<g id=\"node48\" class=\"node\">\n",
       "<title>47</title>\n",
       "<polygon fill=\"#c1ffc1\" stroke=\"none\" points=\"1071.5,-355.5 916.5,-355.5 916.5,-311.5 1071.5,-311.5 1071.5,-355.5\"/>\n",
       "<polygon fill=\"none\" stroke=\"black\" points=\"916.5,-311.5 916.5,-355.5 962.5,-355.5 962.5,-311.5 916.5,-311.5\"/>\n",
       "<text text-anchor=\"start\" x=\"924.5\" y=\"-336.75\" font-family=\"Linux libertine\" font-size=\"10.00\">Linear</text>\n",
       "<text text-anchor=\"start\" x=\"921.12\" y=\"-324\" font-family=\"Linux libertine\" font-size=\"10.00\">depth:2</text>\n",
       "<polygon fill=\"none\" stroke=\"black\" points=\"962.5,-333.5 962.5,-355.5 1009.5,-355.5 1009.5,-333.5 962.5,-333.5\"/>\n",
       "<text text-anchor=\"start\" x=\"972.12\" y=\"-341\" font-family=\"Linux libertine\" font-size=\"10.00\">input:</text>\n",
       "<polygon fill=\"none\" stroke=\"black\" points=\"1009.5,-333.5 1009.5,-355.5 1071.5,-355.5 1071.5,-333.5 1009.5,-333.5\"/>\n",
       "<text text-anchor=\"start\" x=\"1014.25\" y=\"-341\" font-family=\"Linux libertine\" font-size=\"10.00\">(24, 1728) </text>\n",
       "<polygon fill=\"none\" stroke=\"black\" points=\"962.5,-311.5 962.5,-333.5 1009.5,-333.5 1009.5,-311.5 962.5,-311.5\"/>\n",
       "<text text-anchor=\"start\" x=\"967.25\" y=\"-319\" font-family=\"Linux libertine\" font-size=\"10.00\">output: </text>\n",
       "<polygon fill=\"none\" stroke=\"black\" points=\"1009.5,-311.5 1009.5,-333.5 1071.5,-333.5 1071.5,-311.5 1009.5,-311.5\"/>\n",
       "<text text-anchor=\"start\" x=\"1017.25\" y=\"-319\" font-family=\"Linux libertine\" font-size=\"10.00\">(24, 768) </text>\n",
       "</g>\n",
       "<!-- 31&#45;&gt;47 -->\n",
       "<g id=\"edge58\" class=\"edge\">\n",
       "<title>31&#45;&gt;47</title>\n",
       "<path fill=\"none\" stroke=\"black\" d=\"M712.91,-419.84C767.74,-415.93 841.83,-406.83 904,-385.75 921.46,-379.83 939.37,-370.43 954.57,-361.29\"/>\n",
       "<polygon fill=\"black\" stroke=\"black\" points=\"956.2,-364.4 962.85,-356.15 952.51,-358.45 956.2,-364.4\"/>\n",
       "</g>\n",
       "<!-- 50 -->\n",
       "<g id=\"node51\" class=\"node\">\n",
       "<title>50</title>\n",
       "<polygon fill=\"#c1ffc1\" stroke=\"none\" points=\"1251.5,-355.5 1096.5,-355.5 1096.5,-311.5 1251.5,-311.5 1251.5,-355.5\"/>\n",
       "<polygon fill=\"none\" stroke=\"black\" points=\"1096.5,-311.5 1096.5,-355.5 1142.5,-355.5 1142.5,-311.5 1096.5,-311.5\"/>\n",
       "<text text-anchor=\"start\" x=\"1104.5\" y=\"-336.75\" font-family=\"Linux libertine\" font-size=\"10.00\">Linear</text>\n",
       "<text text-anchor=\"start\" x=\"1101.12\" y=\"-324\" font-family=\"Linux libertine\" font-size=\"10.00\">depth:2</text>\n",
       "<polygon fill=\"none\" stroke=\"black\" points=\"1142.5,-333.5 1142.5,-355.5 1189.5,-355.5 1189.5,-333.5 1142.5,-333.5\"/>\n",
       "<text text-anchor=\"start\" x=\"1152.12\" y=\"-341\" font-family=\"Linux libertine\" font-size=\"10.00\">input:</text>\n",
       "<polygon fill=\"none\" stroke=\"black\" points=\"1189.5,-333.5 1189.5,-355.5 1251.5,-355.5 1251.5,-333.5 1189.5,-333.5\"/>\n",
       "<text text-anchor=\"start\" x=\"1194.25\" y=\"-341\" font-family=\"Linux libertine\" font-size=\"10.00\">(24, 1728) </text>\n",
       "<polygon fill=\"none\" stroke=\"black\" points=\"1142.5,-311.5 1142.5,-333.5 1189.5,-333.5 1189.5,-311.5 1142.5,-311.5\"/>\n",
       "<text text-anchor=\"start\" x=\"1147.25\" y=\"-319\" font-family=\"Linux libertine\" font-size=\"10.00\">output: </text>\n",
       "<polygon fill=\"none\" stroke=\"black\" points=\"1189.5,-311.5 1189.5,-333.5 1251.5,-333.5 1251.5,-311.5 1189.5,-311.5\"/>\n",
       "<text text-anchor=\"start\" x=\"1197.25\" y=\"-319\" font-family=\"Linux libertine\" font-size=\"10.00\">(24, 768) </text>\n",
       "</g>\n",
       "<!-- 31&#45;&gt;50 -->\n",
       "<g id=\"edge62\" class=\"edge\">\n",
       "<title>31&#45;&gt;50</title>\n",
       "<path fill=\"none\" stroke=\"black\" d=\"M712.99,-420.36C823.13,-416.33 1016.88,-406.5 1084,-385.75 1101.9,-380.22 1120.13,-370.7 1135.47,-361.36\"/>\n",
       "<polygon fill=\"black\" stroke=\"black\" points=\"1137.22,-364.39 1143.81,-356.09 1133.49,-358.47 1137.22,-364.39\"/>\n",
       "</g>\n",
       "<!-- 33 -->\n",
       "<g id=\"node34\" class=\"node\">\n",
       "<title>33</title>\n",
       "<polygon fill=\"#c1ffc1\" stroke=\"none\" points=\"168.5,-275.5 19.5,-275.5 19.5,-231.5 168.5,-231.5 168.5,-275.5\"/>\n",
       "<polygon fill=\"none\" stroke=\"black\" points=\"19.5,-231.5 19.5,-275.5 65.5,-275.5 65.5,-231.5 19.5,-231.5\"/>\n",
       "<text text-anchor=\"start\" x=\"29.75\" y=\"-256.75\" font-family=\"Linux libertine\" font-size=\"10.00\">ReLU</text>\n",
       "<text text-anchor=\"start\" x=\"24.12\" y=\"-244\" font-family=\"Linux libertine\" font-size=\"10.00\">depth:2</text>\n",
       "<polygon fill=\"none\" stroke=\"black\" points=\"65.5,-253.5 65.5,-275.5 112.5,-275.5 112.5,-253.5 65.5,-253.5\"/>\n",
       "<text text-anchor=\"start\" x=\"75.12\" y=\"-261\" font-family=\"Linux libertine\" font-size=\"10.00\">input:</text>\n",
       "<polygon fill=\"none\" stroke=\"black\" points=\"112.5,-253.5 112.5,-275.5 168.5,-275.5 168.5,-253.5 112.5,-253.5\"/>\n",
       "<text text-anchor=\"start\" x=\"117.25\" y=\"-261\" font-family=\"Linux libertine\" font-size=\"10.00\">(24, 768) </text>\n",
       "<polygon fill=\"none\" stroke=\"black\" points=\"65.5,-231.5 65.5,-253.5 112.5,-253.5 112.5,-231.5 65.5,-231.5\"/>\n",
       "<text text-anchor=\"start\" x=\"70.25\" y=\"-239\" font-family=\"Linux libertine\" font-size=\"10.00\">output: </text>\n",
       "<polygon fill=\"none\" stroke=\"black\" points=\"112.5,-231.5 112.5,-253.5 168.5,-253.5 168.5,-231.5 112.5,-231.5\"/>\n",
       "<text text-anchor=\"start\" x=\"117.25\" y=\"-239\" font-family=\"Linux libertine\" font-size=\"10.00\">(24, 768) </text>\n",
       "</g>\n",
       "<!-- 32&#45;&gt;33 -->\n",
       "<g id=\"edge39\" class=\"edge\">\n",
       "<title>32&#45;&gt;33</title>\n",
       "<path fill=\"none\" stroke=\"black\" d=\"M94,-311.6C94,-303.99 94,-295.2 94,-286.84\"/>\n",
       "<polygon fill=\"black\" stroke=\"black\" points=\"97.5,-286.97 94,-276.97 90.5,-286.97 97.5,-286.97\"/>\n",
       "</g>\n",
       "<!-- 34 -->\n",
       "<g id=\"node35\" class=\"node\">\n",
       "<title>34</title>\n",
       "<polygon fill=\"#c1ffc1\" stroke=\"none\" points=\"170,-195.5 18,-195.5 18,-151.5 170,-151.5 170,-195.5\"/>\n",
       "<polygon fill=\"none\" stroke=\"black\" points=\"18,-151.5 18,-195.5 67,-195.5 67,-151.5 18,-151.5\"/>\n",
       "<text text-anchor=\"start\" x=\"23\" y=\"-176.75\" font-family=\"Linux libertine\" font-size=\"10.00\">Dropout</text>\n",
       "<text text-anchor=\"start\" x=\"24.12\" y=\"-164\" font-family=\"Linux libertine\" font-size=\"10.00\">depth:2</text>\n",
       "<polygon fill=\"none\" stroke=\"black\" points=\"67,-173.5 67,-195.5 114,-195.5 114,-173.5 67,-173.5\"/>\n",
       "<text text-anchor=\"start\" x=\"76.62\" y=\"-181\" font-family=\"Linux libertine\" font-size=\"10.00\">input:</text>\n",
       "<polygon fill=\"none\" stroke=\"black\" points=\"114,-173.5 114,-195.5 170,-195.5 170,-173.5 114,-173.5\"/>\n",
       "<text text-anchor=\"start\" x=\"118.75\" y=\"-181\" font-family=\"Linux libertine\" font-size=\"10.00\">(24, 768) </text>\n",
       "<polygon fill=\"none\" stroke=\"black\" points=\"67,-151.5 67,-173.5 114,-173.5 114,-151.5 67,-151.5\"/>\n",
       "<text text-anchor=\"start\" x=\"71.75\" y=\"-159\" font-family=\"Linux libertine\" font-size=\"10.00\">output: </text>\n",
       "<polygon fill=\"none\" stroke=\"black\" points=\"114,-151.5 114,-173.5 170,-173.5 170,-151.5 114,-151.5\"/>\n",
       "<text text-anchor=\"start\" x=\"118.75\" y=\"-159\" font-family=\"Linux libertine\" font-size=\"10.00\">(24, 768) </text>\n",
       "</g>\n",
       "<!-- 33&#45;&gt;34 -->\n",
       "<g id=\"edge40\" class=\"edge\">\n",
       "<title>33&#45;&gt;34</title>\n",
       "<path fill=\"none\" stroke=\"black\" d=\"M94,-231.6C94,-223.99 94,-215.2 94,-206.84\"/>\n",
       "<polygon fill=\"black\" stroke=\"black\" points=\"97.5,-206.97 94,-196.97 90.5,-206.97 97.5,-206.97\"/>\n",
       "</g>\n",
       "<!-- 53 -->\n",
       "<g id=\"node54\" class=\"node\">\n",
       "<title>53</title>\n",
       "<polygon fill=\"#c1ffc1\" stroke=\"none\" points=\"168.5,-115.5 19.5,-115.5 19.5,-71.5 168.5,-71.5 168.5,-115.5\"/>\n",
       "<polygon fill=\"none\" stroke=\"black\" points=\"19.5,-71.5 19.5,-115.5 65.5,-115.5 65.5,-71.5 19.5,-71.5\"/>\n",
       "<text text-anchor=\"start\" x=\"27.5\" y=\"-96.75\" font-family=\"Linux libertine\" font-size=\"10.00\">Linear</text>\n",
       "<text text-anchor=\"start\" x=\"24.12\" y=\"-84\" font-family=\"Linux libertine\" font-size=\"10.00\">depth:1</text>\n",
       "<polygon fill=\"none\" stroke=\"black\" points=\"65.5,-93.5 65.5,-115.5 112.5,-115.5 112.5,-93.5 65.5,-93.5\"/>\n",
       "<text text-anchor=\"start\" x=\"75.12\" y=\"-101\" font-family=\"Linux libertine\" font-size=\"10.00\">input:</text>\n",
       "<polygon fill=\"none\" stroke=\"black\" points=\"112.5,-93.5 112.5,-115.5 168.5,-115.5 168.5,-93.5 112.5,-93.5\"/>\n",
       "<text text-anchor=\"start\" x=\"117.25\" y=\"-101\" font-family=\"Linux libertine\" font-size=\"10.00\">(24, 768) </text>\n",
       "<polygon fill=\"none\" stroke=\"black\" points=\"65.5,-71.5 65.5,-93.5 112.5,-93.5 112.5,-71.5 65.5,-71.5\"/>\n",
       "<text text-anchor=\"start\" x=\"70.25\" y=\"-79\" font-family=\"Linux libertine\" font-size=\"10.00\">output: </text>\n",
       "<polygon fill=\"none\" stroke=\"black\" points=\"112.5,-71.5 112.5,-93.5 168.5,-93.5 168.5,-71.5 112.5,-71.5\"/>\n",
       "<text text-anchor=\"start\" x=\"123.25\" y=\"-79\" font-family=\"Linux libertine\" font-size=\"10.00\">(24, 2) </text>\n",
       "</g>\n",
       "<!-- 34&#45;&gt;53 -->\n",
       "<g id=\"edge41\" class=\"edge\">\n",
       "<title>34&#45;&gt;53</title>\n",
       "<path fill=\"none\" stroke=\"black\" d=\"M94,-151.6C94,-143.99 94,-135.2 94,-126.84\"/>\n",
       "<polygon fill=\"black\" stroke=\"black\" points=\"97.5,-126.97 94,-116.97 90.5,-126.97 97.5,-126.97\"/>\n",
       "</g>\n",
       "<!-- 36 -->\n",
       "<g id=\"node37\" class=\"node\">\n",
       "<title>36</title>\n",
       "<polygon fill=\"#c1ffc1\" stroke=\"none\" points=\"348.5,-275.5 199.5,-275.5 199.5,-231.5 348.5,-231.5 348.5,-275.5\"/>\n",
       "<polygon fill=\"none\" stroke=\"black\" points=\"199.5,-231.5 199.5,-275.5 245.5,-275.5 245.5,-231.5 199.5,-231.5\"/>\n",
       "<text text-anchor=\"start\" x=\"209.75\" y=\"-256.75\" font-family=\"Linux libertine\" font-size=\"10.00\">ReLU</text>\n",
       "<text text-anchor=\"start\" x=\"204.12\" y=\"-244\" font-family=\"Linux libertine\" font-size=\"10.00\">depth:2</text>\n",
       "<polygon fill=\"none\" stroke=\"black\" points=\"245.5,-253.5 245.5,-275.5 292.5,-275.5 292.5,-253.5 245.5,-253.5\"/>\n",
       "<text text-anchor=\"start\" x=\"255.12\" y=\"-261\" font-family=\"Linux libertine\" font-size=\"10.00\">input:</text>\n",
       "<polygon fill=\"none\" stroke=\"black\" points=\"292.5,-253.5 292.5,-275.5 348.5,-275.5 348.5,-253.5 292.5,-253.5\"/>\n",
       "<text text-anchor=\"start\" x=\"297.25\" y=\"-261\" font-family=\"Linux libertine\" font-size=\"10.00\">(24, 768) </text>\n",
       "<polygon fill=\"none\" stroke=\"black\" points=\"245.5,-231.5 245.5,-253.5 292.5,-253.5 292.5,-231.5 245.5,-231.5\"/>\n",
       "<text text-anchor=\"start\" x=\"250.25\" y=\"-239\" font-family=\"Linux libertine\" font-size=\"10.00\">output: </text>\n",
       "<polygon fill=\"none\" stroke=\"black\" points=\"292.5,-231.5 292.5,-253.5 348.5,-253.5 348.5,-231.5 292.5,-231.5\"/>\n",
       "<text text-anchor=\"start\" x=\"297.25\" y=\"-239\" font-family=\"Linux libertine\" font-size=\"10.00\">(24, 768) </text>\n",
       "</g>\n",
       "<!-- 35&#45;&gt;36 -->\n",
       "<g id=\"edge43\" class=\"edge\">\n",
       "<title>35&#45;&gt;36</title>\n",
       "<path fill=\"none\" stroke=\"black\" d=\"M274,-311.6C274,-303.99 274,-295.2 274,-286.84\"/>\n",
       "<polygon fill=\"black\" stroke=\"black\" points=\"277.5,-286.97 274,-276.97 270.5,-286.97 277.5,-286.97\"/>\n",
       "</g>\n",
       "<!-- 37 -->\n",
       "<g id=\"node38\" class=\"node\">\n",
       "<title>37</title>\n",
       "<polygon fill=\"#c1ffc1\" stroke=\"none\" points=\"350,-195.5 198,-195.5 198,-151.5 350,-151.5 350,-195.5\"/>\n",
       "<polygon fill=\"none\" stroke=\"black\" points=\"198,-151.5 198,-195.5 247,-195.5 247,-151.5 198,-151.5\"/>\n",
       "<text text-anchor=\"start\" x=\"203\" y=\"-176.75\" font-family=\"Linux libertine\" font-size=\"10.00\">Dropout</text>\n",
       "<text text-anchor=\"start\" x=\"204.12\" y=\"-164\" font-family=\"Linux libertine\" font-size=\"10.00\">depth:2</text>\n",
       "<polygon fill=\"none\" stroke=\"black\" points=\"247,-173.5 247,-195.5 294,-195.5 294,-173.5 247,-173.5\"/>\n",
       "<text text-anchor=\"start\" x=\"256.62\" y=\"-181\" font-family=\"Linux libertine\" font-size=\"10.00\">input:</text>\n",
       "<polygon fill=\"none\" stroke=\"black\" points=\"294,-173.5 294,-195.5 350,-195.5 350,-173.5 294,-173.5\"/>\n",
       "<text text-anchor=\"start\" x=\"298.75\" y=\"-181\" font-family=\"Linux libertine\" font-size=\"10.00\">(24, 768) </text>\n",
       "<polygon fill=\"none\" stroke=\"black\" points=\"247,-151.5 247,-173.5 294,-173.5 294,-151.5 247,-151.5\"/>\n",
       "<text text-anchor=\"start\" x=\"251.75\" y=\"-159\" font-family=\"Linux libertine\" font-size=\"10.00\">output: </text>\n",
       "<polygon fill=\"none\" stroke=\"black\" points=\"294,-151.5 294,-173.5 350,-173.5 350,-151.5 294,-151.5\"/>\n",
       "<text text-anchor=\"start\" x=\"298.75\" y=\"-159\" font-family=\"Linux libertine\" font-size=\"10.00\">(24, 768) </text>\n",
       "</g>\n",
       "<!-- 36&#45;&gt;37 -->\n",
       "<g id=\"edge44\" class=\"edge\">\n",
       "<title>36&#45;&gt;37</title>\n",
       "<path fill=\"none\" stroke=\"black\" d=\"M274,-231.6C274,-223.99 274,-215.2 274,-206.84\"/>\n",
       "<polygon fill=\"black\" stroke=\"black\" points=\"277.5,-206.97 274,-196.97 270.5,-206.97 277.5,-206.97\"/>\n",
       "</g>\n",
       "<!-- 55 -->\n",
       "<g id=\"node56\" class=\"node\">\n",
       "<title>55</title>\n",
       "<polygon fill=\"#c1ffc1\" stroke=\"none\" points=\"348.5,-115.5 199.5,-115.5 199.5,-71.5 348.5,-71.5 348.5,-115.5\"/>\n",
       "<polygon fill=\"none\" stroke=\"black\" points=\"199.5,-71.5 199.5,-115.5 245.5,-115.5 245.5,-71.5 199.5,-71.5\"/>\n",
       "<text text-anchor=\"start\" x=\"207.5\" y=\"-96.75\" font-family=\"Linux libertine\" font-size=\"10.00\">Linear</text>\n",
       "<text text-anchor=\"start\" x=\"204.12\" y=\"-84\" font-family=\"Linux libertine\" font-size=\"10.00\">depth:1</text>\n",
       "<polygon fill=\"none\" stroke=\"black\" points=\"245.5,-93.5 245.5,-115.5 292.5,-115.5 292.5,-93.5 245.5,-93.5\"/>\n",
       "<text text-anchor=\"start\" x=\"255.12\" y=\"-101\" font-family=\"Linux libertine\" font-size=\"10.00\">input:</text>\n",
       "<polygon fill=\"none\" stroke=\"black\" points=\"292.5,-93.5 292.5,-115.5 348.5,-115.5 348.5,-93.5 292.5,-93.5\"/>\n",
       "<text text-anchor=\"start\" x=\"297.25\" y=\"-101\" font-family=\"Linux libertine\" font-size=\"10.00\">(24, 768) </text>\n",
       "<polygon fill=\"none\" stroke=\"black\" points=\"245.5,-71.5 245.5,-93.5 292.5,-93.5 292.5,-71.5 245.5,-71.5\"/>\n",
       "<text text-anchor=\"start\" x=\"250.25\" y=\"-79\" font-family=\"Linux libertine\" font-size=\"10.00\">output: </text>\n",
       "<polygon fill=\"none\" stroke=\"black\" points=\"292.5,-71.5 292.5,-93.5 348.5,-93.5 348.5,-71.5 292.5,-71.5\"/>\n",
       "<text text-anchor=\"start\" x=\"303.25\" y=\"-79\" font-family=\"Linux libertine\" font-size=\"10.00\">(24, 5) </text>\n",
       "</g>\n",
       "<!-- 37&#45;&gt;55 -->\n",
       "<g id=\"edge45\" class=\"edge\">\n",
       "<title>37&#45;&gt;55</title>\n",
       "<path fill=\"none\" stroke=\"black\" d=\"M274,-151.6C274,-143.99 274,-135.2 274,-126.84\"/>\n",
       "<polygon fill=\"black\" stroke=\"black\" points=\"277.5,-126.97 274,-116.97 270.5,-126.97 277.5,-126.97\"/>\n",
       "</g>\n",
       "<!-- 39 -->\n",
       "<g id=\"node40\" class=\"node\">\n",
       "<title>39</title>\n",
       "<polygon fill=\"#c1ffc1\" stroke=\"none\" points=\"528.5,-275.5 379.5,-275.5 379.5,-231.5 528.5,-231.5 528.5,-275.5\"/>\n",
       "<polygon fill=\"none\" stroke=\"black\" points=\"379.5,-231.5 379.5,-275.5 425.5,-275.5 425.5,-231.5 379.5,-231.5\"/>\n",
       "<text text-anchor=\"start\" x=\"389.75\" y=\"-256.75\" font-family=\"Linux libertine\" font-size=\"10.00\">ReLU</text>\n",
       "<text text-anchor=\"start\" x=\"384.12\" y=\"-244\" font-family=\"Linux libertine\" font-size=\"10.00\">depth:2</text>\n",
       "<polygon fill=\"none\" stroke=\"black\" points=\"425.5,-253.5 425.5,-275.5 472.5,-275.5 472.5,-253.5 425.5,-253.5\"/>\n",
       "<text text-anchor=\"start\" x=\"435.12\" y=\"-261\" font-family=\"Linux libertine\" font-size=\"10.00\">input:</text>\n",
       "<polygon fill=\"none\" stroke=\"black\" points=\"472.5,-253.5 472.5,-275.5 528.5,-275.5 528.5,-253.5 472.5,-253.5\"/>\n",
       "<text text-anchor=\"start\" x=\"477.25\" y=\"-261\" font-family=\"Linux libertine\" font-size=\"10.00\">(24, 768) </text>\n",
       "<polygon fill=\"none\" stroke=\"black\" points=\"425.5,-231.5 425.5,-253.5 472.5,-253.5 472.5,-231.5 425.5,-231.5\"/>\n",
       "<text text-anchor=\"start\" x=\"430.25\" y=\"-239\" font-family=\"Linux libertine\" font-size=\"10.00\">output: </text>\n",
       "<polygon fill=\"none\" stroke=\"black\" points=\"472.5,-231.5 472.5,-253.5 528.5,-253.5 528.5,-231.5 472.5,-231.5\"/>\n",
       "<text text-anchor=\"start\" x=\"477.25\" y=\"-239\" font-family=\"Linux libertine\" font-size=\"10.00\">(24, 768) </text>\n",
       "</g>\n",
       "<!-- 38&#45;&gt;39 -->\n",
       "<g id=\"edge47\" class=\"edge\">\n",
       "<title>38&#45;&gt;39</title>\n",
       "<path fill=\"none\" stroke=\"black\" d=\"M454,-311.6C454,-303.99 454,-295.2 454,-286.84\"/>\n",
       "<polygon fill=\"black\" stroke=\"black\" points=\"457.5,-286.97 454,-276.97 450.5,-286.97 457.5,-286.97\"/>\n",
       "</g>\n",
       "<!-- 40 -->\n",
       "<g id=\"node41\" class=\"node\">\n",
       "<title>40</title>\n",
       "<polygon fill=\"#c1ffc1\" stroke=\"none\" points=\"530,-195.5 378,-195.5 378,-151.5 530,-151.5 530,-195.5\"/>\n",
       "<polygon fill=\"none\" stroke=\"black\" points=\"378,-151.5 378,-195.5 427,-195.5 427,-151.5 378,-151.5\"/>\n",
       "<text text-anchor=\"start\" x=\"383\" y=\"-176.75\" font-family=\"Linux libertine\" font-size=\"10.00\">Dropout</text>\n",
       "<text text-anchor=\"start\" x=\"384.12\" y=\"-164\" font-family=\"Linux libertine\" font-size=\"10.00\">depth:2</text>\n",
       "<polygon fill=\"none\" stroke=\"black\" points=\"427,-173.5 427,-195.5 474,-195.5 474,-173.5 427,-173.5\"/>\n",
       "<text text-anchor=\"start\" x=\"436.62\" y=\"-181\" font-family=\"Linux libertine\" font-size=\"10.00\">input:</text>\n",
       "<polygon fill=\"none\" stroke=\"black\" points=\"474,-173.5 474,-195.5 530,-195.5 530,-173.5 474,-173.5\"/>\n",
       "<text text-anchor=\"start\" x=\"478.75\" y=\"-181\" font-family=\"Linux libertine\" font-size=\"10.00\">(24, 768) </text>\n",
       "<polygon fill=\"none\" stroke=\"black\" points=\"427,-151.5 427,-173.5 474,-173.5 474,-151.5 427,-151.5\"/>\n",
       "<text text-anchor=\"start\" x=\"431.75\" y=\"-159\" font-family=\"Linux libertine\" font-size=\"10.00\">output: </text>\n",
       "<polygon fill=\"none\" stroke=\"black\" points=\"474,-151.5 474,-173.5 530,-173.5 530,-151.5 474,-151.5\"/>\n",
       "<text text-anchor=\"start\" x=\"478.75\" y=\"-159\" font-family=\"Linux libertine\" font-size=\"10.00\">(24, 768) </text>\n",
       "</g>\n",
       "<!-- 39&#45;&gt;40 -->\n",
       "<g id=\"edge48\" class=\"edge\">\n",
       "<title>39&#45;&gt;40</title>\n",
       "<path fill=\"none\" stroke=\"black\" d=\"M454,-231.6C454,-223.99 454,-215.2 454,-206.84\"/>\n",
       "<polygon fill=\"black\" stroke=\"black\" points=\"457.5,-206.97 454,-196.97 450.5,-206.97 457.5,-206.97\"/>\n",
       "</g>\n",
       "<!-- 57 -->\n",
       "<g id=\"node58\" class=\"node\">\n",
       "<title>57</title>\n",
       "<polygon fill=\"#c1ffc1\" stroke=\"none\" points=\"528.5,-115.5 379.5,-115.5 379.5,-71.5 528.5,-71.5 528.5,-115.5\"/>\n",
       "<polygon fill=\"none\" stroke=\"black\" points=\"379.5,-71.5 379.5,-115.5 425.5,-115.5 425.5,-71.5 379.5,-71.5\"/>\n",
       "<text text-anchor=\"start\" x=\"387.5\" y=\"-96.75\" font-family=\"Linux libertine\" font-size=\"10.00\">Linear</text>\n",
       "<text text-anchor=\"start\" x=\"384.12\" y=\"-84\" font-family=\"Linux libertine\" font-size=\"10.00\">depth:1</text>\n",
       "<polygon fill=\"none\" stroke=\"black\" points=\"425.5,-93.5 425.5,-115.5 472.5,-115.5 472.5,-93.5 425.5,-93.5\"/>\n",
       "<text text-anchor=\"start\" x=\"435.12\" y=\"-101\" font-family=\"Linux libertine\" font-size=\"10.00\">input:</text>\n",
       "<polygon fill=\"none\" stroke=\"black\" points=\"472.5,-93.5 472.5,-115.5 528.5,-115.5 528.5,-93.5 472.5,-93.5\"/>\n",
       "<text text-anchor=\"start\" x=\"477.25\" y=\"-101\" font-family=\"Linux libertine\" font-size=\"10.00\">(24, 768) </text>\n",
       "<polygon fill=\"none\" stroke=\"black\" points=\"425.5,-71.5 425.5,-93.5 472.5,-93.5 472.5,-71.5 425.5,-71.5\"/>\n",
       "<text text-anchor=\"start\" x=\"430.25\" y=\"-79\" font-family=\"Linux libertine\" font-size=\"10.00\">output: </text>\n",
       "<polygon fill=\"none\" stroke=\"black\" points=\"472.5,-71.5 472.5,-93.5 528.5,-93.5 528.5,-71.5 472.5,-71.5\"/>\n",
       "<text text-anchor=\"start\" x=\"480.25\" y=\"-79\" font-family=\"Linux libertine\" font-size=\"10.00\">(24, 12) </text>\n",
       "</g>\n",
       "<!-- 40&#45;&gt;57 -->\n",
       "<g id=\"edge49\" class=\"edge\">\n",
       "<title>40&#45;&gt;57</title>\n",
       "<path fill=\"none\" stroke=\"black\" d=\"M454,-151.6C454,-143.99 454,-135.2 454,-126.84\"/>\n",
       "<polygon fill=\"black\" stroke=\"black\" points=\"457.5,-126.97 454,-116.97 450.5,-126.97 457.5,-126.97\"/>\n",
       "</g>\n",
       "<!-- 42 -->\n",
       "<g id=\"node43\" class=\"node\">\n",
       "<title>42</title>\n",
       "<polygon fill=\"#c1ffc1\" stroke=\"none\" points=\"708.5,-275.5 559.5,-275.5 559.5,-231.5 708.5,-231.5 708.5,-275.5\"/>\n",
       "<polygon fill=\"none\" stroke=\"black\" points=\"559.5,-231.5 559.5,-275.5 605.5,-275.5 605.5,-231.5 559.5,-231.5\"/>\n",
       "<text text-anchor=\"start\" x=\"569.75\" y=\"-256.75\" font-family=\"Linux libertine\" font-size=\"10.00\">ReLU</text>\n",
       "<text text-anchor=\"start\" x=\"564.12\" y=\"-244\" font-family=\"Linux libertine\" font-size=\"10.00\">depth:2</text>\n",
       "<polygon fill=\"none\" stroke=\"black\" points=\"605.5,-253.5 605.5,-275.5 652.5,-275.5 652.5,-253.5 605.5,-253.5\"/>\n",
       "<text text-anchor=\"start\" x=\"615.12\" y=\"-261\" font-family=\"Linux libertine\" font-size=\"10.00\">input:</text>\n",
       "<polygon fill=\"none\" stroke=\"black\" points=\"652.5,-253.5 652.5,-275.5 708.5,-275.5 708.5,-253.5 652.5,-253.5\"/>\n",
       "<text text-anchor=\"start\" x=\"657.25\" y=\"-261\" font-family=\"Linux libertine\" font-size=\"10.00\">(24, 768) </text>\n",
       "<polygon fill=\"none\" stroke=\"black\" points=\"605.5,-231.5 605.5,-253.5 652.5,-253.5 652.5,-231.5 605.5,-231.5\"/>\n",
       "<text text-anchor=\"start\" x=\"610.25\" y=\"-239\" font-family=\"Linux libertine\" font-size=\"10.00\">output: </text>\n",
       "<polygon fill=\"none\" stroke=\"black\" points=\"652.5,-231.5 652.5,-253.5 708.5,-253.5 708.5,-231.5 652.5,-231.5\"/>\n",
       "<text text-anchor=\"start\" x=\"657.25\" y=\"-239\" font-family=\"Linux libertine\" font-size=\"10.00\">(24, 768) </text>\n",
       "</g>\n",
       "<!-- 41&#45;&gt;42 -->\n",
       "<g id=\"edge51\" class=\"edge\">\n",
       "<title>41&#45;&gt;42</title>\n",
       "<path fill=\"none\" stroke=\"black\" d=\"M634,-311.6C634,-303.99 634,-295.2 634,-286.84\"/>\n",
       "<polygon fill=\"black\" stroke=\"black\" points=\"637.5,-286.97 634,-276.97 630.5,-286.97 637.5,-286.97\"/>\n",
       "</g>\n",
       "<!-- 43 -->\n",
       "<g id=\"node44\" class=\"node\">\n",
       "<title>43</title>\n",
       "<polygon fill=\"#c1ffc1\" stroke=\"none\" points=\"710,-195.5 558,-195.5 558,-151.5 710,-151.5 710,-195.5\"/>\n",
       "<polygon fill=\"none\" stroke=\"black\" points=\"558,-151.5 558,-195.5 607,-195.5 607,-151.5 558,-151.5\"/>\n",
       "<text text-anchor=\"start\" x=\"563\" y=\"-176.75\" font-family=\"Linux libertine\" font-size=\"10.00\">Dropout</text>\n",
       "<text text-anchor=\"start\" x=\"564.12\" y=\"-164\" font-family=\"Linux libertine\" font-size=\"10.00\">depth:2</text>\n",
       "<polygon fill=\"none\" stroke=\"black\" points=\"607,-173.5 607,-195.5 654,-195.5 654,-173.5 607,-173.5\"/>\n",
       "<text text-anchor=\"start\" x=\"616.62\" y=\"-181\" font-family=\"Linux libertine\" font-size=\"10.00\">input:</text>\n",
       "<polygon fill=\"none\" stroke=\"black\" points=\"654,-173.5 654,-195.5 710,-195.5 710,-173.5 654,-173.5\"/>\n",
       "<text text-anchor=\"start\" x=\"658.75\" y=\"-181\" font-family=\"Linux libertine\" font-size=\"10.00\">(24, 768) </text>\n",
       "<polygon fill=\"none\" stroke=\"black\" points=\"607,-151.5 607,-173.5 654,-173.5 654,-151.5 607,-151.5\"/>\n",
       "<text text-anchor=\"start\" x=\"611.75\" y=\"-159\" font-family=\"Linux libertine\" font-size=\"10.00\">output: </text>\n",
       "<polygon fill=\"none\" stroke=\"black\" points=\"654,-151.5 654,-173.5 710,-173.5 710,-151.5 654,-151.5\"/>\n",
       "<text text-anchor=\"start\" x=\"658.75\" y=\"-159\" font-family=\"Linux libertine\" font-size=\"10.00\">(24, 768) </text>\n",
       "</g>\n",
       "<!-- 42&#45;&gt;43 -->\n",
       "<g id=\"edge52\" class=\"edge\">\n",
       "<title>42&#45;&gt;43</title>\n",
       "<path fill=\"none\" stroke=\"black\" d=\"M634,-231.6C634,-223.99 634,-215.2 634,-206.84\"/>\n",
       "<polygon fill=\"black\" stroke=\"black\" points=\"637.5,-206.97 634,-196.97 630.5,-206.97 637.5,-206.97\"/>\n",
       "</g>\n",
       "<!-- 59 -->\n",
       "<g id=\"node60\" class=\"node\">\n",
       "<title>59</title>\n",
       "<polygon fill=\"#c1ffc1\" stroke=\"none\" points=\"708.5,-115.5 559.5,-115.5 559.5,-71.5 708.5,-71.5 708.5,-115.5\"/>\n",
       "<polygon fill=\"none\" stroke=\"black\" points=\"559.5,-71.5 559.5,-115.5 605.5,-115.5 605.5,-71.5 559.5,-71.5\"/>\n",
       "<text text-anchor=\"start\" x=\"567.5\" y=\"-96.75\" font-family=\"Linux libertine\" font-size=\"10.00\">Linear</text>\n",
       "<text text-anchor=\"start\" x=\"564.12\" y=\"-84\" font-family=\"Linux libertine\" font-size=\"10.00\">depth:1</text>\n",
       "<polygon fill=\"none\" stroke=\"black\" points=\"605.5,-93.5 605.5,-115.5 652.5,-115.5 652.5,-93.5 605.5,-93.5\"/>\n",
       "<text text-anchor=\"start\" x=\"615.12\" y=\"-101\" font-family=\"Linux libertine\" font-size=\"10.00\">input:</text>\n",
       "<polygon fill=\"none\" stroke=\"black\" points=\"652.5,-93.5 652.5,-115.5 708.5,-115.5 708.5,-93.5 652.5,-93.5\"/>\n",
       "<text text-anchor=\"start\" x=\"657.25\" y=\"-101\" font-family=\"Linux libertine\" font-size=\"10.00\">(24, 768) </text>\n",
       "<polygon fill=\"none\" stroke=\"black\" points=\"605.5,-71.5 605.5,-93.5 652.5,-93.5 652.5,-71.5 605.5,-71.5\"/>\n",
       "<text text-anchor=\"start\" x=\"610.25\" y=\"-79\" font-family=\"Linux libertine\" font-size=\"10.00\">output: </text>\n",
       "<polygon fill=\"none\" stroke=\"black\" points=\"652.5,-71.5 652.5,-93.5 708.5,-93.5 708.5,-71.5 652.5,-71.5\"/>\n",
       "<text text-anchor=\"start\" x=\"663.25\" y=\"-79\" font-family=\"Linux libertine\" font-size=\"10.00\">(24, 4) </text>\n",
       "</g>\n",
       "<!-- 43&#45;&gt;59 -->\n",
       "<g id=\"edge53\" class=\"edge\">\n",
       "<title>43&#45;&gt;59</title>\n",
       "<path fill=\"none\" stroke=\"black\" d=\"M634,-151.6C634,-143.99 634,-135.2 634,-126.84\"/>\n",
       "<polygon fill=\"black\" stroke=\"black\" points=\"637.5,-126.97 634,-116.97 630.5,-126.97 637.5,-126.97\"/>\n",
       "</g>\n",
       "<!-- 45 -->\n",
       "<g id=\"node46\" class=\"node\">\n",
       "<title>45</title>\n",
       "<polygon fill=\"#c1ffc1\" stroke=\"none\" points=\"888.5,-275.5 739.5,-275.5 739.5,-231.5 888.5,-231.5 888.5,-275.5\"/>\n",
       "<polygon fill=\"none\" stroke=\"black\" points=\"739.5,-231.5 739.5,-275.5 785.5,-275.5 785.5,-231.5 739.5,-231.5\"/>\n",
       "<text text-anchor=\"start\" x=\"749.75\" y=\"-256.75\" font-family=\"Linux libertine\" font-size=\"10.00\">ReLU</text>\n",
       "<text text-anchor=\"start\" x=\"744.12\" y=\"-244\" font-family=\"Linux libertine\" font-size=\"10.00\">depth:2</text>\n",
       "<polygon fill=\"none\" stroke=\"black\" points=\"785.5,-253.5 785.5,-275.5 832.5,-275.5 832.5,-253.5 785.5,-253.5\"/>\n",
       "<text text-anchor=\"start\" x=\"795.12\" y=\"-261\" font-family=\"Linux libertine\" font-size=\"10.00\">input:</text>\n",
       "<polygon fill=\"none\" stroke=\"black\" points=\"832.5,-253.5 832.5,-275.5 888.5,-275.5 888.5,-253.5 832.5,-253.5\"/>\n",
       "<text text-anchor=\"start\" x=\"837.25\" y=\"-261\" font-family=\"Linux libertine\" font-size=\"10.00\">(24, 768) </text>\n",
       "<polygon fill=\"none\" stroke=\"black\" points=\"785.5,-231.5 785.5,-253.5 832.5,-253.5 832.5,-231.5 785.5,-231.5\"/>\n",
       "<text text-anchor=\"start\" x=\"790.25\" y=\"-239\" font-family=\"Linux libertine\" font-size=\"10.00\">output: </text>\n",
       "<polygon fill=\"none\" stroke=\"black\" points=\"832.5,-231.5 832.5,-253.5 888.5,-253.5 888.5,-231.5 832.5,-231.5\"/>\n",
       "<text text-anchor=\"start\" x=\"837.25\" y=\"-239\" font-family=\"Linux libertine\" font-size=\"10.00\">(24, 768) </text>\n",
       "</g>\n",
       "<!-- 44&#45;&gt;45 -->\n",
       "<g id=\"edge55\" class=\"edge\">\n",
       "<title>44&#45;&gt;45</title>\n",
       "<path fill=\"none\" stroke=\"black\" d=\"M814,-311.6C814,-303.99 814,-295.2 814,-286.84\"/>\n",
       "<polygon fill=\"black\" stroke=\"black\" points=\"817.5,-286.97 814,-276.97 810.5,-286.97 817.5,-286.97\"/>\n",
       "</g>\n",
       "<!-- 46 -->\n",
       "<g id=\"node47\" class=\"node\">\n",
       "<title>46</title>\n",
       "<polygon fill=\"#c1ffc1\" stroke=\"none\" points=\"890,-195.5 738,-195.5 738,-151.5 890,-151.5 890,-195.5\"/>\n",
       "<polygon fill=\"none\" stroke=\"black\" points=\"738,-151.5 738,-195.5 787,-195.5 787,-151.5 738,-151.5\"/>\n",
       "<text text-anchor=\"start\" x=\"743\" y=\"-176.75\" font-family=\"Linux libertine\" font-size=\"10.00\">Dropout</text>\n",
       "<text text-anchor=\"start\" x=\"744.12\" y=\"-164\" font-family=\"Linux libertine\" font-size=\"10.00\">depth:2</text>\n",
       "<polygon fill=\"none\" stroke=\"black\" points=\"787,-173.5 787,-195.5 834,-195.5 834,-173.5 787,-173.5\"/>\n",
       "<text text-anchor=\"start\" x=\"796.62\" y=\"-181\" font-family=\"Linux libertine\" font-size=\"10.00\">input:</text>\n",
       "<polygon fill=\"none\" stroke=\"black\" points=\"834,-173.5 834,-195.5 890,-195.5 890,-173.5 834,-173.5\"/>\n",
       "<text text-anchor=\"start\" x=\"838.75\" y=\"-181\" font-family=\"Linux libertine\" font-size=\"10.00\">(24, 768) </text>\n",
       "<polygon fill=\"none\" stroke=\"black\" points=\"787,-151.5 787,-173.5 834,-173.5 834,-151.5 787,-151.5\"/>\n",
       "<text text-anchor=\"start\" x=\"791.75\" y=\"-159\" font-family=\"Linux libertine\" font-size=\"10.00\">output: </text>\n",
       "<polygon fill=\"none\" stroke=\"black\" points=\"834,-151.5 834,-173.5 890,-173.5 890,-151.5 834,-151.5\"/>\n",
       "<text text-anchor=\"start\" x=\"838.75\" y=\"-159\" font-family=\"Linux libertine\" font-size=\"10.00\">(24, 768) </text>\n",
       "</g>\n",
       "<!-- 45&#45;&gt;46 -->\n",
       "<g id=\"edge56\" class=\"edge\">\n",
       "<title>45&#45;&gt;46</title>\n",
       "<path fill=\"none\" stroke=\"black\" d=\"M814,-231.6C814,-223.99 814,-215.2 814,-206.84\"/>\n",
       "<polygon fill=\"black\" stroke=\"black\" points=\"817.5,-206.97 814,-196.97 810.5,-206.97 817.5,-206.97\"/>\n",
       "</g>\n",
       "<!-- 61 -->\n",
       "<g id=\"node62\" class=\"node\">\n",
       "<title>61</title>\n",
       "<polygon fill=\"#c1ffc1\" stroke=\"none\" points=\"888.5,-115.5 739.5,-115.5 739.5,-71.5 888.5,-71.5 888.5,-115.5\"/>\n",
       "<polygon fill=\"none\" stroke=\"black\" points=\"739.5,-71.5 739.5,-115.5 785.5,-115.5 785.5,-71.5 739.5,-71.5\"/>\n",
       "<text text-anchor=\"start\" x=\"747.5\" y=\"-96.75\" font-family=\"Linux libertine\" font-size=\"10.00\">Linear</text>\n",
       "<text text-anchor=\"start\" x=\"744.12\" y=\"-84\" font-family=\"Linux libertine\" font-size=\"10.00\">depth:1</text>\n",
       "<polygon fill=\"none\" stroke=\"black\" points=\"785.5,-93.5 785.5,-115.5 832.5,-115.5 832.5,-93.5 785.5,-93.5\"/>\n",
       "<text text-anchor=\"start\" x=\"795.12\" y=\"-101\" font-family=\"Linux libertine\" font-size=\"10.00\">input:</text>\n",
       "<polygon fill=\"none\" stroke=\"black\" points=\"832.5,-93.5 832.5,-115.5 888.5,-115.5 888.5,-93.5 832.5,-93.5\"/>\n",
       "<text text-anchor=\"start\" x=\"837.25\" y=\"-101\" font-family=\"Linux libertine\" font-size=\"10.00\">(24, 768) </text>\n",
       "<polygon fill=\"none\" stroke=\"black\" points=\"785.5,-71.5 785.5,-93.5 832.5,-93.5 832.5,-71.5 785.5,-71.5\"/>\n",
       "<text text-anchor=\"start\" x=\"790.25\" y=\"-79\" font-family=\"Linux libertine\" font-size=\"10.00\">output: </text>\n",
       "<polygon fill=\"none\" stroke=\"black\" points=\"832.5,-71.5 832.5,-93.5 888.5,-93.5 888.5,-71.5 832.5,-71.5\"/>\n",
       "<text text-anchor=\"start\" x=\"843.25\" y=\"-79\" font-family=\"Linux libertine\" font-size=\"10.00\">(24, 5) </text>\n",
       "</g>\n",
       "<!-- 46&#45;&gt;61 -->\n",
       "<g id=\"edge57\" class=\"edge\">\n",
       "<title>46&#45;&gt;61</title>\n",
       "<path fill=\"none\" stroke=\"black\" d=\"M814,-151.6C814,-143.99 814,-135.2 814,-126.84\"/>\n",
       "<polygon fill=\"black\" stroke=\"black\" points=\"817.5,-126.97 814,-116.97 810.5,-126.97 817.5,-126.97\"/>\n",
       "</g>\n",
       "<!-- 48 -->\n",
       "<g id=\"node49\" class=\"node\">\n",
       "<title>48</title>\n",
       "<polygon fill=\"#c1ffc1\" stroke=\"none\" points=\"1068.5,-275.5 919.5,-275.5 919.5,-231.5 1068.5,-231.5 1068.5,-275.5\"/>\n",
       "<polygon fill=\"none\" stroke=\"black\" points=\"919.5,-231.5 919.5,-275.5 965.5,-275.5 965.5,-231.5 919.5,-231.5\"/>\n",
       "<text text-anchor=\"start\" x=\"929.75\" y=\"-256.75\" font-family=\"Linux libertine\" font-size=\"10.00\">ReLU</text>\n",
       "<text text-anchor=\"start\" x=\"924.12\" y=\"-244\" font-family=\"Linux libertine\" font-size=\"10.00\">depth:2</text>\n",
       "<polygon fill=\"none\" stroke=\"black\" points=\"965.5,-253.5 965.5,-275.5 1012.5,-275.5 1012.5,-253.5 965.5,-253.5\"/>\n",
       "<text text-anchor=\"start\" x=\"975.12\" y=\"-261\" font-family=\"Linux libertine\" font-size=\"10.00\">input:</text>\n",
       "<polygon fill=\"none\" stroke=\"black\" points=\"1012.5,-253.5 1012.5,-275.5 1068.5,-275.5 1068.5,-253.5 1012.5,-253.5\"/>\n",
       "<text text-anchor=\"start\" x=\"1017.25\" y=\"-261\" font-family=\"Linux libertine\" font-size=\"10.00\">(24, 768) </text>\n",
       "<polygon fill=\"none\" stroke=\"black\" points=\"965.5,-231.5 965.5,-253.5 1012.5,-253.5 1012.5,-231.5 965.5,-231.5\"/>\n",
       "<text text-anchor=\"start\" x=\"970.25\" y=\"-239\" font-family=\"Linux libertine\" font-size=\"10.00\">output: </text>\n",
       "<polygon fill=\"none\" stroke=\"black\" points=\"1012.5,-231.5 1012.5,-253.5 1068.5,-253.5 1068.5,-231.5 1012.5,-231.5\"/>\n",
       "<text text-anchor=\"start\" x=\"1017.25\" y=\"-239\" font-family=\"Linux libertine\" font-size=\"10.00\">(24, 768) </text>\n",
       "</g>\n",
       "<!-- 47&#45;&gt;48 -->\n",
       "<g id=\"edge59\" class=\"edge\">\n",
       "<title>47&#45;&gt;48</title>\n",
       "<path fill=\"none\" stroke=\"black\" d=\"M994,-311.6C994,-303.99 994,-295.2 994,-286.84\"/>\n",
       "<polygon fill=\"black\" stroke=\"black\" points=\"997.5,-286.97 994,-276.97 990.5,-286.97 997.5,-286.97\"/>\n",
       "</g>\n",
       "<!-- 49 -->\n",
       "<g id=\"node50\" class=\"node\">\n",
       "<title>49</title>\n",
       "<polygon fill=\"#c1ffc1\" stroke=\"none\" points=\"1070,-195.5 918,-195.5 918,-151.5 1070,-151.5 1070,-195.5\"/>\n",
       "<polygon fill=\"none\" stroke=\"black\" points=\"918,-151.5 918,-195.5 967,-195.5 967,-151.5 918,-151.5\"/>\n",
       "<text text-anchor=\"start\" x=\"923\" y=\"-176.75\" font-family=\"Linux libertine\" font-size=\"10.00\">Dropout</text>\n",
       "<text text-anchor=\"start\" x=\"924.12\" y=\"-164\" font-family=\"Linux libertine\" font-size=\"10.00\">depth:2</text>\n",
       "<polygon fill=\"none\" stroke=\"black\" points=\"967,-173.5 967,-195.5 1014,-195.5 1014,-173.5 967,-173.5\"/>\n",
       "<text text-anchor=\"start\" x=\"976.62\" y=\"-181\" font-family=\"Linux libertine\" font-size=\"10.00\">input:</text>\n",
       "<polygon fill=\"none\" stroke=\"black\" points=\"1014,-173.5 1014,-195.5 1070,-195.5 1070,-173.5 1014,-173.5\"/>\n",
       "<text text-anchor=\"start\" x=\"1018.75\" y=\"-181\" font-family=\"Linux libertine\" font-size=\"10.00\">(24, 768) </text>\n",
       "<polygon fill=\"none\" stroke=\"black\" points=\"967,-151.5 967,-173.5 1014,-173.5 1014,-151.5 967,-151.5\"/>\n",
       "<text text-anchor=\"start\" x=\"971.75\" y=\"-159\" font-family=\"Linux libertine\" font-size=\"10.00\">output: </text>\n",
       "<polygon fill=\"none\" stroke=\"black\" points=\"1014,-151.5 1014,-173.5 1070,-173.5 1070,-151.5 1014,-151.5\"/>\n",
       "<text text-anchor=\"start\" x=\"1018.75\" y=\"-159\" font-family=\"Linux libertine\" font-size=\"10.00\">(24, 768) </text>\n",
       "</g>\n",
       "<!-- 48&#45;&gt;49 -->\n",
       "<g id=\"edge60\" class=\"edge\">\n",
       "<title>48&#45;&gt;49</title>\n",
       "<path fill=\"none\" stroke=\"black\" d=\"M994,-231.6C994,-223.99 994,-215.2 994,-206.84\"/>\n",
       "<polygon fill=\"black\" stroke=\"black\" points=\"997.5,-206.97 994,-196.97 990.5,-206.97 997.5,-206.97\"/>\n",
       "</g>\n",
       "<!-- 63 -->\n",
       "<g id=\"node64\" class=\"node\">\n",
       "<title>63</title>\n",
       "<polygon fill=\"#c1ffc1\" stroke=\"none\" points=\"1068.5,-115.5 919.5,-115.5 919.5,-71.5 1068.5,-71.5 1068.5,-115.5\"/>\n",
       "<polygon fill=\"none\" stroke=\"black\" points=\"919.5,-71.5 919.5,-115.5 965.5,-115.5 965.5,-71.5 919.5,-71.5\"/>\n",
       "<text text-anchor=\"start\" x=\"927.5\" y=\"-96.75\" font-family=\"Linux libertine\" font-size=\"10.00\">Linear</text>\n",
       "<text text-anchor=\"start\" x=\"924.12\" y=\"-84\" font-family=\"Linux libertine\" font-size=\"10.00\">depth:1</text>\n",
       "<polygon fill=\"none\" stroke=\"black\" points=\"965.5,-93.5 965.5,-115.5 1012.5,-115.5 1012.5,-93.5 965.5,-93.5\"/>\n",
       "<text text-anchor=\"start\" x=\"975.12\" y=\"-101\" font-family=\"Linux libertine\" font-size=\"10.00\">input:</text>\n",
       "<polygon fill=\"none\" stroke=\"black\" points=\"1012.5,-93.5 1012.5,-115.5 1068.5,-115.5 1068.5,-93.5 1012.5,-93.5\"/>\n",
       "<text text-anchor=\"start\" x=\"1017.25\" y=\"-101\" font-family=\"Linux libertine\" font-size=\"10.00\">(24, 768) </text>\n",
       "<polygon fill=\"none\" stroke=\"black\" points=\"965.5,-71.5 965.5,-93.5 1012.5,-93.5 1012.5,-71.5 965.5,-71.5\"/>\n",
       "<text text-anchor=\"start\" x=\"970.25\" y=\"-79\" font-family=\"Linux libertine\" font-size=\"10.00\">output: </text>\n",
       "<polygon fill=\"none\" stroke=\"black\" points=\"1012.5,-71.5 1012.5,-93.5 1068.5,-93.5 1068.5,-71.5 1012.5,-71.5\"/>\n",
       "<text text-anchor=\"start\" x=\"1023.25\" y=\"-79\" font-family=\"Linux libertine\" font-size=\"10.00\">(24, 6) </text>\n",
       "</g>\n",
       "<!-- 49&#45;&gt;63 -->\n",
       "<g id=\"edge61\" class=\"edge\">\n",
       "<title>49&#45;&gt;63</title>\n",
       "<path fill=\"none\" stroke=\"black\" d=\"M994,-151.6C994,-143.99 994,-135.2 994,-126.84\"/>\n",
       "<polygon fill=\"black\" stroke=\"black\" points=\"997.5,-126.97 994,-116.97 990.5,-126.97 997.5,-126.97\"/>\n",
       "</g>\n",
       "<!-- 51 -->\n",
       "<g id=\"node52\" class=\"node\">\n",
       "<title>51</title>\n",
       "<polygon fill=\"#c1ffc1\" stroke=\"none\" points=\"1248.5,-275.5 1099.5,-275.5 1099.5,-231.5 1248.5,-231.5 1248.5,-275.5\"/>\n",
       "<polygon fill=\"none\" stroke=\"black\" points=\"1099.5,-231.5 1099.5,-275.5 1145.5,-275.5 1145.5,-231.5 1099.5,-231.5\"/>\n",
       "<text text-anchor=\"start\" x=\"1109.75\" y=\"-256.75\" font-family=\"Linux libertine\" font-size=\"10.00\">ReLU</text>\n",
       "<text text-anchor=\"start\" x=\"1104.12\" y=\"-244\" font-family=\"Linux libertine\" font-size=\"10.00\">depth:2</text>\n",
       "<polygon fill=\"none\" stroke=\"black\" points=\"1145.5,-253.5 1145.5,-275.5 1192.5,-275.5 1192.5,-253.5 1145.5,-253.5\"/>\n",
       "<text text-anchor=\"start\" x=\"1155.12\" y=\"-261\" font-family=\"Linux libertine\" font-size=\"10.00\">input:</text>\n",
       "<polygon fill=\"none\" stroke=\"black\" points=\"1192.5,-253.5 1192.5,-275.5 1248.5,-275.5 1248.5,-253.5 1192.5,-253.5\"/>\n",
       "<text text-anchor=\"start\" x=\"1197.25\" y=\"-261\" font-family=\"Linux libertine\" font-size=\"10.00\">(24, 768) </text>\n",
       "<polygon fill=\"none\" stroke=\"black\" points=\"1145.5,-231.5 1145.5,-253.5 1192.5,-253.5 1192.5,-231.5 1145.5,-231.5\"/>\n",
       "<text text-anchor=\"start\" x=\"1150.25\" y=\"-239\" font-family=\"Linux libertine\" font-size=\"10.00\">output: </text>\n",
       "<polygon fill=\"none\" stroke=\"black\" points=\"1192.5,-231.5 1192.5,-253.5 1248.5,-253.5 1248.5,-231.5 1192.5,-231.5\"/>\n",
       "<text text-anchor=\"start\" x=\"1197.25\" y=\"-239\" font-family=\"Linux libertine\" font-size=\"10.00\">(24, 768) </text>\n",
       "</g>\n",
       "<!-- 50&#45;&gt;51 -->\n",
       "<g id=\"edge63\" class=\"edge\">\n",
       "<title>50&#45;&gt;51</title>\n",
       "<path fill=\"none\" stroke=\"black\" d=\"M1174,-311.6C1174,-303.99 1174,-295.2 1174,-286.84\"/>\n",
       "<polygon fill=\"black\" stroke=\"black\" points=\"1177.5,-286.97 1174,-276.97 1170.5,-286.97 1177.5,-286.97\"/>\n",
       "</g>\n",
       "<!-- 52 -->\n",
       "<g id=\"node53\" class=\"node\">\n",
       "<title>52</title>\n",
       "<polygon fill=\"#c1ffc1\" stroke=\"none\" points=\"1250,-195.5 1098,-195.5 1098,-151.5 1250,-151.5 1250,-195.5\"/>\n",
       "<polygon fill=\"none\" stroke=\"black\" points=\"1098,-151.5 1098,-195.5 1147,-195.5 1147,-151.5 1098,-151.5\"/>\n",
       "<text text-anchor=\"start\" x=\"1103\" y=\"-176.75\" font-family=\"Linux libertine\" font-size=\"10.00\">Dropout</text>\n",
       "<text text-anchor=\"start\" x=\"1104.12\" y=\"-164\" font-family=\"Linux libertine\" font-size=\"10.00\">depth:2</text>\n",
       "<polygon fill=\"none\" stroke=\"black\" points=\"1147,-173.5 1147,-195.5 1194,-195.5 1194,-173.5 1147,-173.5\"/>\n",
       "<text text-anchor=\"start\" x=\"1156.62\" y=\"-181\" font-family=\"Linux libertine\" font-size=\"10.00\">input:</text>\n",
       "<polygon fill=\"none\" stroke=\"black\" points=\"1194,-173.5 1194,-195.5 1250,-195.5 1250,-173.5 1194,-173.5\"/>\n",
       "<text text-anchor=\"start\" x=\"1198.75\" y=\"-181\" font-family=\"Linux libertine\" font-size=\"10.00\">(24, 768) </text>\n",
       "<polygon fill=\"none\" stroke=\"black\" points=\"1147,-151.5 1147,-173.5 1194,-173.5 1194,-151.5 1147,-151.5\"/>\n",
       "<text text-anchor=\"start\" x=\"1151.75\" y=\"-159\" font-family=\"Linux libertine\" font-size=\"10.00\">output: </text>\n",
       "<polygon fill=\"none\" stroke=\"black\" points=\"1194,-151.5 1194,-173.5 1250,-173.5 1250,-151.5 1194,-151.5\"/>\n",
       "<text text-anchor=\"start\" x=\"1198.75\" y=\"-159\" font-family=\"Linux libertine\" font-size=\"10.00\">(24, 768) </text>\n",
       "</g>\n",
       "<!-- 51&#45;&gt;52 -->\n",
       "<g id=\"edge64\" class=\"edge\">\n",
       "<title>51&#45;&gt;52</title>\n",
       "<path fill=\"none\" stroke=\"black\" d=\"M1174,-231.6C1174,-223.99 1174,-215.2 1174,-206.84\"/>\n",
       "<polygon fill=\"black\" stroke=\"black\" points=\"1177.5,-206.97 1174,-196.97 1170.5,-206.97 1177.5,-206.97\"/>\n",
       "</g>\n",
       "<!-- 65 -->\n",
       "<g id=\"node66\" class=\"node\">\n",
       "<title>65</title>\n",
       "<polygon fill=\"#c1ffc1\" stroke=\"none\" points=\"1248.5,-115.5 1099.5,-115.5 1099.5,-71.5 1248.5,-71.5 1248.5,-115.5\"/>\n",
       "<polygon fill=\"none\" stroke=\"black\" points=\"1099.5,-71.5 1099.5,-115.5 1145.5,-115.5 1145.5,-71.5 1099.5,-71.5\"/>\n",
       "<text text-anchor=\"start\" x=\"1107.5\" y=\"-96.75\" font-family=\"Linux libertine\" font-size=\"10.00\">Linear</text>\n",
       "<text text-anchor=\"start\" x=\"1104.12\" y=\"-84\" font-family=\"Linux libertine\" font-size=\"10.00\">depth:1</text>\n",
       "<polygon fill=\"none\" stroke=\"black\" points=\"1145.5,-93.5 1145.5,-115.5 1192.5,-115.5 1192.5,-93.5 1145.5,-93.5\"/>\n",
       "<text text-anchor=\"start\" x=\"1155.12\" y=\"-101\" font-family=\"Linux libertine\" font-size=\"10.00\">input:</text>\n",
       "<polygon fill=\"none\" stroke=\"black\" points=\"1192.5,-93.5 1192.5,-115.5 1248.5,-115.5 1248.5,-93.5 1192.5,-93.5\"/>\n",
       "<text text-anchor=\"start\" x=\"1197.25\" y=\"-101\" font-family=\"Linux libertine\" font-size=\"10.00\">(24, 768) </text>\n",
       "<polygon fill=\"none\" stroke=\"black\" points=\"1145.5,-71.5 1145.5,-93.5 1192.5,-93.5 1192.5,-71.5 1145.5,-71.5\"/>\n",
       "<text text-anchor=\"start\" x=\"1150.25\" y=\"-79\" font-family=\"Linux libertine\" font-size=\"10.00\">output: </text>\n",
       "<polygon fill=\"none\" stroke=\"black\" points=\"1192.5,-71.5 1192.5,-93.5 1248.5,-93.5 1248.5,-71.5 1192.5,-71.5\"/>\n",
       "<text text-anchor=\"start\" x=\"1203.25\" y=\"-79\" font-family=\"Linux libertine\" font-size=\"10.00\">(24, 4) </text>\n",
       "</g>\n",
       "<!-- 52&#45;&gt;65 -->\n",
       "<g id=\"edge65\" class=\"edge\">\n",
       "<title>52&#45;&gt;65</title>\n",
       "<path fill=\"none\" stroke=\"black\" d=\"M1174,-151.6C1174,-143.99 1174,-135.2 1174,-126.84\"/>\n",
       "<polygon fill=\"black\" stroke=\"black\" points=\"1177.5,-126.97 1174,-116.97 1170.5,-126.97 1177.5,-126.97\"/>\n",
       "</g>\n",
       "<!-- 54 -->\n",
       "<g id=\"node55\" class=\"node\">\n",
       "<title>54</title>\n",
       "<polygon fill=\"lightyellow\" stroke=\"none\" points=\"152.75,-35.5 35.25,-35.5 35.25,0 152.75,0 152.75,-35.5\"/>\n",
       "<polygon fill=\"none\" stroke=\"black\" points=\"35.25,0 35.25,-35.5 111.25,-35.5 111.25,0 35.25,0\"/>\n",
       "<text text-anchor=\"start\" x=\"40.25\" y=\"-21\" font-family=\"Linux libertine\" font-size=\"10.00\">output&#45;tensor</text>\n",
       "<text text-anchor=\"start\" x=\"54.88\" y=\"-8.25\" font-family=\"Linux libertine\" font-size=\"10.00\">depth:0</text>\n",
       "<polygon fill=\"none\" stroke=\"black\" points=\"111.25,0 111.25,-35.5 152.75,-35.5 152.75,0 111.25,0\"/>\n",
       "<text text-anchor=\"start\" x=\"116.25\" y=\"-14.62\" font-family=\"Linux libertine\" font-size=\"10.00\">(24, 2)</text>\n",
       "</g>\n",
       "<!-- 53&#45;&gt;54 -->\n",
       "<g id=\"edge66\" class=\"edge\">\n",
       "<title>53&#45;&gt;54</title>\n",
       "<path fill=\"none\" stroke=\"black\" d=\"M94,-71.56C94,-63.78 94,-54.83 94,-46.53\"/>\n",
       "<polygon fill=\"black\" stroke=\"black\" points=\"97.5,-46.56 94,-36.56 90.5,-46.56 97.5,-46.56\"/>\n",
       "</g>\n",
       "<!-- 56 -->\n",
       "<g id=\"node57\" class=\"node\">\n",
       "<title>56</title>\n",
       "<polygon fill=\"lightyellow\" stroke=\"none\" points=\"332.75,-35.5 215.25,-35.5 215.25,0 332.75,0 332.75,-35.5\"/>\n",
       "<polygon fill=\"none\" stroke=\"black\" points=\"215.25,0 215.25,-35.5 291.25,-35.5 291.25,0 215.25,0\"/>\n",
       "<text text-anchor=\"start\" x=\"220.25\" y=\"-21\" font-family=\"Linux libertine\" font-size=\"10.00\">output&#45;tensor</text>\n",
       "<text text-anchor=\"start\" x=\"234.88\" y=\"-8.25\" font-family=\"Linux libertine\" font-size=\"10.00\">depth:0</text>\n",
       "<polygon fill=\"none\" stroke=\"black\" points=\"291.25,0 291.25,-35.5 332.75,-35.5 332.75,0 291.25,0\"/>\n",
       "<text text-anchor=\"start\" x=\"296.25\" y=\"-14.62\" font-family=\"Linux libertine\" font-size=\"10.00\">(24, 5)</text>\n",
       "</g>\n",
       "<!-- 55&#45;&gt;56 -->\n",
       "<g id=\"edge67\" class=\"edge\">\n",
       "<title>55&#45;&gt;56</title>\n",
       "<path fill=\"none\" stroke=\"black\" d=\"M274,-71.56C274,-63.78 274,-54.83 274,-46.53\"/>\n",
       "<polygon fill=\"black\" stroke=\"black\" points=\"277.5,-46.56 274,-36.56 270.5,-46.56 277.5,-46.56\"/>\n",
       "</g>\n",
       "<!-- 58 -->\n",
       "<g id=\"node59\" class=\"node\">\n",
       "<title>58</title>\n",
       "<polygon fill=\"lightyellow\" stroke=\"none\" points=\"515.75,-35.5 392.25,-35.5 392.25,0 515.75,0 515.75,-35.5\"/>\n",
       "<polygon fill=\"none\" stroke=\"black\" points=\"392.25,0 392.25,-35.5 468.25,-35.5 468.25,0 392.25,0\"/>\n",
       "<text text-anchor=\"start\" x=\"397.25\" y=\"-21\" font-family=\"Linux libertine\" font-size=\"10.00\">output&#45;tensor</text>\n",
       "<text text-anchor=\"start\" x=\"411.88\" y=\"-8.25\" font-family=\"Linux libertine\" font-size=\"10.00\">depth:0</text>\n",
       "<polygon fill=\"none\" stroke=\"black\" points=\"468.25,0 468.25,-35.5 515.75,-35.5 515.75,0 468.25,0\"/>\n",
       "<text text-anchor=\"start\" x=\"473.25\" y=\"-14.62\" font-family=\"Linux libertine\" font-size=\"10.00\">(24, 12)</text>\n",
       "</g>\n",
       "<!-- 57&#45;&gt;58 -->\n",
       "<g id=\"edge68\" class=\"edge\">\n",
       "<title>57&#45;&gt;58</title>\n",
       "<path fill=\"none\" stroke=\"black\" d=\"M454,-71.56C454,-63.78 454,-54.83 454,-46.53\"/>\n",
       "<polygon fill=\"black\" stroke=\"black\" points=\"457.5,-46.56 454,-36.56 450.5,-46.56 457.5,-46.56\"/>\n",
       "</g>\n",
       "<!-- 60 -->\n",
       "<g id=\"node61\" class=\"node\">\n",
       "<title>60</title>\n",
       "<polygon fill=\"lightyellow\" stroke=\"none\" points=\"692.75,-35.5 575.25,-35.5 575.25,0 692.75,0 692.75,-35.5\"/>\n",
       "<polygon fill=\"none\" stroke=\"black\" points=\"575.25,0 575.25,-35.5 651.25,-35.5 651.25,0 575.25,0\"/>\n",
       "<text text-anchor=\"start\" x=\"580.25\" y=\"-21\" font-family=\"Linux libertine\" font-size=\"10.00\">output&#45;tensor</text>\n",
       "<text text-anchor=\"start\" x=\"594.88\" y=\"-8.25\" font-family=\"Linux libertine\" font-size=\"10.00\">depth:0</text>\n",
       "<polygon fill=\"none\" stroke=\"black\" points=\"651.25,0 651.25,-35.5 692.75,-35.5 692.75,0 651.25,0\"/>\n",
       "<text text-anchor=\"start\" x=\"656.25\" y=\"-14.62\" font-family=\"Linux libertine\" font-size=\"10.00\">(24, 4)</text>\n",
       "</g>\n",
       "<!-- 59&#45;&gt;60 -->\n",
       "<g id=\"edge69\" class=\"edge\">\n",
       "<title>59&#45;&gt;60</title>\n",
       "<path fill=\"none\" stroke=\"black\" d=\"M634,-71.56C634,-63.78 634,-54.83 634,-46.53\"/>\n",
       "<polygon fill=\"black\" stroke=\"black\" points=\"637.5,-46.56 634,-36.56 630.5,-46.56 637.5,-46.56\"/>\n",
       "</g>\n",
       "<!-- 62 -->\n",
       "<g id=\"node63\" class=\"node\">\n",
       "<title>62</title>\n",
       "<polygon fill=\"lightyellow\" stroke=\"none\" points=\"872.75,-35.5 755.25,-35.5 755.25,0 872.75,0 872.75,-35.5\"/>\n",
       "<polygon fill=\"none\" stroke=\"black\" points=\"755.25,0 755.25,-35.5 831.25,-35.5 831.25,0 755.25,0\"/>\n",
       "<text text-anchor=\"start\" x=\"760.25\" y=\"-21\" font-family=\"Linux libertine\" font-size=\"10.00\">output&#45;tensor</text>\n",
       "<text text-anchor=\"start\" x=\"774.88\" y=\"-8.25\" font-family=\"Linux libertine\" font-size=\"10.00\">depth:0</text>\n",
       "<polygon fill=\"none\" stroke=\"black\" points=\"831.25,0 831.25,-35.5 872.75,-35.5 872.75,0 831.25,0\"/>\n",
       "<text text-anchor=\"start\" x=\"836.25\" y=\"-14.62\" font-family=\"Linux libertine\" font-size=\"10.00\">(24, 5)</text>\n",
       "</g>\n",
       "<!-- 61&#45;&gt;62 -->\n",
       "<g id=\"edge70\" class=\"edge\">\n",
       "<title>61&#45;&gt;62</title>\n",
       "<path fill=\"none\" stroke=\"black\" d=\"M814,-71.56C814,-63.78 814,-54.83 814,-46.53\"/>\n",
       "<polygon fill=\"black\" stroke=\"black\" points=\"817.5,-46.56 814,-36.56 810.5,-46.56 817.5,-46.56\"/>\n",
       "</g>\n",
       "<!-- 64 -->\n",
       "<g id=\"node65\" class=\"node\">\n",
       "<title>64</title>\n",
       "<polygon fill=\"lightyellow\" stroke=\"none\" points=\"1052.75,-35.5 935.25,-35.5 935.25,0 1052.75,0 1052.75,-35.5\"/>\n",
       "<polygon fill=\"none\" stroke=\"black\" points=\"935.25,0 935.25,-35.5 1011.25,-35.5 1011.25,0 935.25,0\"/>\n",
       "<text text-anchor=\"start\" x=\"940.25\" y=\"-21\" font-family=\"Linux libertine\" font-size=\"10.00\">output&#45;tensor</text>\n",
       "<text text-anchor=\"start\" x=\"954.88\" y=\"-8.25\" font-family=\"Linux libertine\" font-size=\"10.00\">depth:0</text>\n",
       "<polygon fill=\"none\" stroke=\"black\" points=\"1011.25,0 1011.25,-35.5 1052.75,-35.5 1052.75,0 1011.25,0\"/>\n",
       "<text text-anchor=\"start\" x=\"1016.25\" y=\"-14.62\" font-family=\"Linux libertine\" font-size=\"10.00\">(24, 6)</text>\n",
       "</g>\n",
       "<!-- 63&#45;&gt;64 -->\n",
       "<g id=\"edge71\" class=\"edge\">\n",
       "<title>63&#45;&gt;64</title>\n",
       "<path fill=\"none\" stroke=\"black\" d=\"M994,-71.56C994,-63.78 994,-54.83 994,-46.53\"/>\n",
       "<polygon fill=\"black\" stroke=\"black\" points=\"997.5,-46.56 994,-36.56 990.5,-46.56 997.5,-46.56\"/>\n",
       "</g>\n",
       "<!-- 66 -->\n",
       "<g id=\"node67\" class=\"node\">\n",
       "<title>66</title>\n",
       "<polygon fill=\"lightyellow\" stroke=\"none\" points=\"1232.75,-35.5 1115.25,-35.5 1115.25,0 1232.75,0 1232.75,-35.5\"/>\n",
       "<polygon fill=\"none\" stroke=\"black\" points=\"1115.25,0 1115.25,-35.5 1191.25,-35.5 1191.25,0 1115.25,0\"/>\n",
       "<text text-anchor=\"start\" x=\"1120.25\" y=\"-21\" font-family=\"Linux libertine\" font-size=\"10.00\">output&#45;tensor</text>\n",
       "<text text-anchor=\"start\" x=\"1134.88\" y=\"-8.25\" font-family=\"Linux libertine\" font-size=\"10.00\">depth:0</text>\n",
       "<polygon fill=\"none\" stroke=\"black\" points=\"1191.25,0 1191.25,-35.5 1232.75,-35.5 1232.75,0 1191.25,0\"/>\n",
       "<text text-anchor=\"start\" x=\"1196.25\" y=\"-14.62\" font-family=\"Linux libertine\" font-size=\"10.00\">(24, 4)</text>\n",
       "</g>\n",
       "<!-- 65&#45;&gt;66 -->\n",
       "<g id=\"edge72\" class=\"edge\">\n",
       "<title>65&#45;&gt;66</title>\n",
       "<path fill=\"none\" stroke=\"black\" d=\"M1174,-71.56C1174,-63.78 1174,-54.83 1174,-46.53\"/>\n",
       "<polygon fill=\"black\" stroke=\"black\" points=\"1177.5,-46.56 1174,-36.56 1170.5,-46.56 1177.5,-46.56\"/>\n",
       "</g>\n",
       "</g>\n",
       "</svg>\n"
      ],
      "text/plain": [
       "<graphviz.graphs.Digraph at 0x7fabe518c580>"
      ]
     },
     "execution_count": 24,
     "metadata": {},
     "output_type": "execute_result"
    }
   ],
   "source": [
    "model_graph = draw_graph(model, \n",
    "                         input_data=(inputs),\n",
    "                         expand_nested=True,\n",
    "                         depth=2,\n",
    "                         graph_name='MultiTask_CNN_Model',\n",
    "                         save_graph=True)\n",
    "model_graph.visual_graph"
   ]
  },
  {
   "cell_type": "markdown",
   "id": "85ab5801",
   "metadata": {
    "papermill": {
     "duration": 0.027807,
     "end_time": "2024-01-03T15:27:51.192116",
     "exception": false,
     "start_time": "2024-01-03T15:27:51.164309",
     "status": "completed"
    },
    "tags": []
   },
   "source": [
    "### Start training"
   ]
  },
  {
   "cell_type": "code",
   "execution_count": 25,
   "id": "b5965d24",
   "metadata": {
    "execution": {
     "iopub.execute_input": "2024-01-03T15:27:51.249291Z",
     "iopub.status.busy": "2024-01-03T15:27:51.248953Z",
     "iopub.status.idle": "2024-01-03T16:31:14.606992Z",
     "shell.execute_reply": "2024-01-03T16:31:14.606010Z"
    },
    "papermill": {
     "duration": 3803.389528,
     "end_time": "2024-01-03T16:31:14.609620",
     "exception": false,
     "start_time": "2024-01-03T15:27:51.220092",
     "status": "completed"
    },
    "tags": []
   },
   "outputs": [
    {
     "name": "stdout",
     "output_type": "stream",
     "text": [
      "Epoch 1\n"
     ]
    },
    {
     "name": "stderr",
     "output_type": "stream",
     "text": [
      "100%|██████████| 584/584 [01:43<00:00,  5.63it/s]\n"
     ]
    },
    {
     "name": "stdout",
     "output_type": "stream",
     "text": [
      "Train loss: 24.012878\n",
      "> Level 1: loss 0.86918\n",
      "> Level 2: loss 1.97558\n",
      "> Level 3: loss 2.89813\n",
      "> Level 3_1: loss 1.54370\n",
      "> Level 3_2: loss 1.95430\n",
      "> Level 3_3: loss 2.11533\n",
      "> Level 3_4: loss 1.57871\n"
     ]
    },
    {
     "name": "stderr",
     "output_type": "stream",
     "text": [
      "100%|██████████| 84/84 [00:04<00:00, 17.20it/s]\n"
     ]
    },
    {
     "name": "stdout",
     "output_type": "stream",
     "text": [
      "Dev loss: 20.17848\n",
      "> Level 1: loss 0.69291\n",
      "> Level 2: loss 1.60757\n",
      "> Level 3: loss 2.47617\n",
      "> Level 3_1: loss 1.35125\n",
      "> Level 3_2: loss 1.60072\n",
      "> Level 3_3: loss 1.75518\n",
      "> Level 3_4: loss 1.35379\n",
      "=================== \n",
      "\n",
      "Epoch 2\n"
     ]
    },
    {
     "name": "stderr",
     "output_type": "stream",
     "text": [
      "100%|██████████| 584/584 [01:42<00:00,  5.68it/s]\n"
     ]
    },
    {
     "name": "stdout",
     "output_type": "stream",
     "text": [
      "Train loss: 22.395962\n",
      "> Level 1: loss 0.81415\n",
      "> Level 2: loss 1.82152\n",
      "> Level 3: loss 2.72532\n",
      "> Level 3_1: loss 1.46389\n",
      "> Level 3_2: loss 1.87585\n",
      "> Level 3_3: loss 1.89116\n",
      "> Level 3_4: loss 1.46854\n"
     ]
    },
    {
     "name": "stderr",
     "output_type": "stream",
     "text": [
      "100%|██████████| 84/84 [00:04<00:00, 17.45it/s]\n"
     ]
    },
    {
     "name": "stdout",
     "output_type": "stream",
     "text": [
      "Dev loss: 20.17698\n",
      "> Level 1: loss 0.69192\n",
      "> Level 2: loss 1.60383\n",
      "> Level 3: loss 2.47515\n",
      "> Level 3_1: loss 1.36163\n",
      "> Level 3_2: loss 1.60187\n",
      "> Level 3_3: loss 1.75366\n",
      "> Level 3_4: loss 1.34734\n",
      "=================== \n",
      "\n",
      "Epoch 3\n"
     ]
    },
    {
     "name": "stderr",
     "output_type": "stream",
     "text": [
      "100%|██████████| 584/584 [01:42<00:00,  5.68it/s]\n"
     ]
    },
    {
     "name": "stdout",
     "output_type": "stream",
     "text": [
      "Train loss: 20.899746\n",
      "> Level 1: loss 0.74901\n",
      "> Level 2: loss 1.72532\n",
      "> Level 3: loss 2.58761\n",
      "> Level 3_1: loss 1.33753\n",
      "> Level 3_2: loss 1.72476\n",
      "> Level 3_3: loss 1.77475\n",
      "> Level 3_4: loss 1.35673\n"
     ]
    },
    {
     "name": "stderr",
     "output_type": "stream",
     "text": [
      "100%|██████████| 84/84 [00:04<00:00, 17.39it/s]\n"
     ]
    },
    {
     "name": "stdout",
     "output_type": "stream",
     "text": [
      "Dev loss: 20.00466\n",
      "> Level 1: loss 0.67356\n",
      "> Level 2: loss 1.58947\n",
      "> Level 3: loss 2.44883\n",
      "> Level 3_1: loss 1.34913\n",
      "> Level 3_2: loss 1.58537\n",
      "> Level 3_3: loss 1.74049\n",
      "> Level 3_4: loss 1.34963\n",
      "=================== \n",
      "\n",
      "Epoch 4\n"
     ]
    },
    {
     "name": "stderr",
     "output_type": "stream",
     "text": [
      "100%|██████████| 584/584 [01:42<00:00,  5.69it/s]\n"
     ]
    },
    {
     "name": "stdout",
     "output_type": "stream",
     "text": [
      "Train loss: 18.823767\n",
      "> Level 1: loss 0.61277\n",
      "> Level 2: loss 1.56813\n",
      "> Level 3: loss 2.42137\n",
      "> Level 3_1: loss 1.16376\n",
      "> Level 3_2: loss 1.55238\n",
      "> Level 3_3: loss 1.58948\n",
      "> Level 3_4: loss 1.20241\n"
     ]
    },
    {
     "name": "stderr",
     "output_type": "stream",
     "text": [
      "100%|██████████| 84/84 [00:04<00:00, 17.34it/s]\n"
     ]
    },
    {
     "name": "stdout",
     "output_type": "stream",
     "text": [
      "Dev loss: 19.02275\n",
      "> Level 1: loss 0.59740\n",
      "> Level 2: loss 1.52532\n",
      "> Level 3: loss 2.38646\n",
      "> Level 3_1: loss 1.26102\n",
      "> Level 3_2: loss 1.50784\n",
      "> Level 3_3: loss 1.65113\n",
      "> Level 3_4: loss 1.26222\n",
      "=================== \n",
      "\n",
      "Epoch 5\n"
     ]
    },
    {
     "name": "stderr",
     "output_type": "stream",
     "text": [
      "100%|██████████| 584/584 [01:42<00:00,  5.69it/s]\n"
     ]
    },
    {
     "name": "stdout",
     "output_type": "stream",
     "text": [
      "Train loss: 16.563353\n",
      "> Level 1: loss 0.48671\n",
      "> Level 2: loss 1.37220\n",
      "> Level 3: loss 2.22329\n",
      "> Level 3_1: loss 0.98928\n",
      "> Level 3_2: loss 1.41251\n",
      "> Level 3_3: loss 1.36846\n",
      "> Level 3_4: loss 1.01564\n"
     ]
    },
    {
     "name": "stderr",
     "output_type": "stream",
     "text": [
      "100%|██████████| 84/84 [00:04<00:00, 17.33it/s]\n"
     ]
    },
    {
     "name": "stdout",
     "output_type": "stream",
     "text": [
      "Dev loss: 18.04388\n",
      "> Level 1: loss 0.53812\n",
      "> Level 2: loss 1.44583\n",
      "> Level 3: loss 2.30785\n",
      "> Level 3_1: loss 1.17786\n",
      "> Level 3_2: loss 1.44470\n",
      "> Level 3_3: loss 1.55603\n",
      "> Level 3_4: loss 1.18206\n",
      "=================== \n",
      "\n",
      "Epoch 6\n"
     ]
    },
    {
     "name": "stderr",
     "output_type": "stream",
     "text": [
      "100%|██████████| 584/584 [01:42<00:00,  5.68it/s]\n"
     ]
    },
    {
     "name": "stdout",
     "output_type": "stream",
     "text": [
      "Train loss: 15.065052\n",
      "> Level 1: loss 0.43899\n",
      "> Level 2: loss 1.21389\n",
      "> Level 3: loss 2.04896\n",
      "> Level 3_1: loss 0.87501\n",
      "> Level 3_2: loss 1.32661\n",
      "> Level 3_3: loss 1.27674\n",
      "> Level 3_4: loss 0.87529\n"
     ]
    },
    {
     "name": "stderr",
     "output_type": "stream",
     "text": [
      "100%|██████████| 84/84 [00:04<00:00, 17.31it/s]\n"
     ]
    },
    {
     "name": "stdout",
     "output_type": "stream",
     "text": [
      "Dev loss: 17.34056\n",
      "> Level 1: loss 0.50992\n",
      "> Level 2: loss 1.37439\n",
      "> Level 3: loss 2.23960\n",
      "> Level 3_1: loss 1.10919\n",
      "> Level 3_2: loss 1.40527\n",
      "> Level 3_3: loss 1.50916\n",
      "> Level 3_4: loss 1.12130\n",
      "=================== \n",
      "\n",
      "Epoch 7\n"
     ]
    },
    {
     "name": "stderr",
     "output_type": "stream",
     "text": [
      "100%|██████████| 584/584 [01:42<00:00,  5.69it/s]\n"
     ]
    },
    {
     "name": "stdout",
     "output_type": "stream",
     "text": [
      "Train loss: 13.888177\n",
      "> Level 1: loss 0.38972\n",
      "> Level 2: loss 1.09276\n",
      "> Level 3: loss 1.88664\n",
      "> Level 3_1: loss 0.78697\n",
      "> Level 3_2: loss 1.26523\n",
      "> Level 3_3: loss 1.20432\n",
      "> Level 3_4: loss 0.78650\n"
     ]
    },
    {
     "name": "stderr",
     "output_type": "stream",
     "text": [
      "100%|██████████| 84/84 [00:04<00:00, 17.33it/s]\n"
     ]
    },
    {
     "name": "stdout",
     "output_type": "stream",
     "text": [
      "Dev loss: 16.61335\n",
      "> Level 1: loss 0.47410\n",
      "> Level 2: loss 1.30346\n",
      "> Level 3: loss 2.17629\n",
      "> Level 3_1: loss 1.04695\n",
      "> Level 3_2: loss 1.36640\n",
      "> Level 3_3: loss 1.44899\n",
      "> Level 3_4: loss 1.05339\n",
      "=================== \n",
      "\n",
      "Epoch 8\n"
     ]
    },
    {
     "name": "stderr",
     "output_type": "stream",
     "text": [
      "100%|██████████| 584/584 [01:42<00:00,  5.68it/s]\n"
     ]
    },
    {
     "name": "stdout",
     "output_type": "stream",
     "text": [
      "Train loss: 13.181843\n",
      "> Level 1: loss 0.37045\n",
      "> Level 2: loss 1.02302\n",
      "> Level 3: loss 1.78998\n",
      "> Level 3_1: loss 0.72051\n",
      "> Level 3_2: loss 1.22648\n",
      "> Level 3_3: loss 1.17064\n",
      "> Level 3_4: loss 0.73082\n"
     ]
    },
    {
     "name": "stderr",
     "output_type": "stream",
     "text": [
      "100%|██████████| 84/84 [00:04<00:00, 17.17it/s]\n"
     ]
    },
    {
     "name": "stdout",
     "output_type": "stream",
     "text": [
      "Dev loss: 16.36800\n",
      "> Level 1: loss 0.47194\n",
      "> Level 2: loss 1.28038\n",
      "> Level 3: loss 2.14844\n",
      "> Level 3_1: loss 1.02093\n",
      "> Level 3_2: loss 1.35124\n",
      "> Level 3_3: loss 1.43397\n",
      "> Level 3_4: loss 1.03316\n",
      "=================== \n",
      "\n",
      "Epoch 9\n"
     ]
    },
    {
     "name": "stderr",
     "output_type": "stream",
     "text": [
      "100%|██████████| 584/584 [01:42<00:00,  5.68it/s]\n"
     ]
    },
    {
     "name": "stdout",
     "output_type": "stream",
     "text": [
      "Train loss: 12.172159\n",
      "> Level 1: loss 0.33800\n",
      "> Level 2: loss 0.91328\n",
      "> Level 3: loss 1.66611\n",
      "> Level 3_1: loss 0.65332\n",
      "> Level 3_2: loss 1.17665\n",
      "> Level 3_3: loss 1.09377\n",
      "> Level 3_4: loss 0.64227\n"
     ]
    },
    {
     "name": "stderr",
     "output_type": "stream",
     "text": [
      "100%|██████████| 84/84 [00:04<00:00, 17.40it/s]\n"
     ]
    },
    {
     "name": "stdout",
     "output_type": "stream",
     "text": [
      "Dev loss: 16.08410\n",
      "> Level 1: loss 0.46258\n",
      "> Level 2: loss 1.25322\n",
      "> Level 3: loss 2.11136\n",
      "> Level 3_1: loss 1.01358\n",
      "> Level 3_2: loss 1.33404\n",
      "> Level 3_3: loss 1.40905\n",
      "> Level 3_4: loss 1.00281\n",
      "=================== \n",
      "\n",
      "Epoch 10\n"
     ]
    },
    {
     "name": "stderr",
     "output_type": "stream",
     "text": [
      "100%|██████████| 584/584 [01:42<00:00,  5.70it/s]\n"
     ]
    },
    {
     "name": "stdout",
     "output_type": "stream",
     "text": [
      "Train loss: 11.452870\n",
      "> Level 1: loss 0.31407\n",
      "> Level 2: loss 0.85251\n",
      "> Level 3: loss 1.57193\n",
      "> Level 3_1: loss 0.58937\n",
      "> Level 3_2: loss 1.11485\n",
      "> Level 3_3: loss 1.05607\n",
      "> Level 3_4: loss 0.59779\n"
     ]
    },
    {
     "name": "stderr",
     "output_type": "stream",
     "text": [
      "100%|██████████| 84/84 [00:04<00:00, 17.37it/s]\n"
     ]
    },
    {
     "name": "stdout",
     "output_type": "stream",
     "text": [
      "Dev loss: 15.68148\n",
      "> Level 1: loss 0.45549\n",
      "> Level 2: loss 1.22106\n",
      "> Level 3: loss 2.07257\n",
      "> Level 3_1: loss 0.95622\n",
      "> Level 3_2: loss 1.31446\n",
      "> Level 3_3: loss 1.38208\n",
      "> Level 3_4: loss 0.97187\n",
      "=================== \n",
      "\n",
      "Epoch 11\n"
     ]
    },
    {
     "name": "stderr",
     "output_type": "stream",
     "text": [
      "100%|██████████| 584/584 [01:42<00:00,  5.69it/s]\n"
     ]
    },
    {
     "name": "stdout",
     "output_type": "stream",
     "text": [
      "Train loss: 10.701733\n",
      "> Level 1: loss 0.29380\n",
      "> Level 2: loss 0.80821\n",
      "> Level 3: loss 1.49458\n",
      "> Level 3_1: loss 0.53303\n",
      "> Level 3_2: loss 1.05720\n",
      "> Level 3_3: loss 0.98453\n",
      "> Level 3_4: loss 0.52847\n"
     ]
    },
    {
     "name": "stderr",
     "output_type": "stream",
     "text": [
      "100%|██████████| 84/84 [00:04<00:00, 17.08it/s]\n"
     ]
    },
    {
     "name": "stdout",
     "output_type": "stream",
     "text": [
      "Dev loss: 15.45426\n",
      "> Level 1: loss 0.45288\n",
      "> Level 2: loss 1.20357\n",
      "> Level 3: loss 2.04113\n",
      "> Level 3_1: loss 0.92910\n",
      "> Level 3_2: loss 1.30313\n",
      "> Level 3_3: loss 1.36673\n",
      "> Level 3_4: loss 0.95791\n",
      "=================== \n",
      "\n",
      "Epoch 12\n"
     ]
    },
    {
     "name": "stderr",
     "output_type": "stream",
     "text": [
      "100%|██████████| 584/584 [01:42<00:00,  5.67it/s]\n"
     ]
    },
    {
     "name": "stdout",
     "output_type": "stream",
     "text": [
      "Train loss: 10.160687\n",
      "> Level 1: loss 0.28137\n",
      "> Level 2: loss 0.76384\n",
      "> Level 3: loss 1.38632\n",
      "> Level 3_1: loss 0.49779\n",
      "> Level 3_2: loss 1.02629\n",
      "> Level 3_3: loss 0.95811\n",
      "> Level 3_4: loss 0.49827\n"
     ]
    },
    {
     "name": "stderr",
     "output_type": "stream",
     "text": [
      "100%|██████████| 84/84 [00:04<00:00, 17.35it/s]\n"
     ]
    },
    {
     "name": "stdout",
     "output_type": "stream",
     "text": [
      "Dev loss: 15.20651\n",
      "> Level 1: loss 0.44295\n",
      "> Level 2: loss 1.17968\n",
      "> Level 3: loss 2.00624\n",
      "> Level 3_1: loss 0.92134\n",
      "> Level 3_2: loss 1.28667\n",
      "> Level 3_3: loss 1.35329\n",
      "> Level 3_4: loss 0.92948\n",
      "=================== \n",
      "\n",
      "Epoch 13\n"
     ]
    },
    {
     "name": "stderr",
     "output_type": "stream",
     "text": [
      "100%|██████████| 584/584 [01:42<00:00,  5.69it/s]\n"
     ]
    },
    {
     "name": "stdout",
     "output_type": "stream",
     "text": [
      "Train loss: 9.643948\n",
      "> Level 1: loss 0.26185\n",
      "> Level 2: loss 0.70469\n",
      "> Level 3: loss 1.33002\n",
      "> Level 3_1: loss 0.46425\n",
      "> Level 3_2: loss 0.98761\n",
      "> Level 3_3: loss 0.91878\n",
      "> Level 3_4: loss 0.46186\n"
     ]
    },
    {
     "name": "stderr",
     "output_type": "stream",
     "text": [
      "100%|██████████| 84/84 [00:04<00:00, 17.32it/s]\n"
     ]
    },
    {
     "name": "stdout",
     "output_type": "stream",
     "text": [
      "Dev loss: 14.93547\n",
      "> Level 1: loss 0.43906\n",
      "> Level 2: loss 1.15307\n",
      "> Level 3: loss 1.97492\n",
      "> Level 3_1: loss 0.88840\n",
      "> Level 3_2: loss 1.27393\n",
      "> Level 3_3: loss 1.33847\n",
      "> Level 3_4: loss 0.90770\n",
      "=================== \n",
      "\n",
      "Epoch 14\n"
     ]
    },
    {
     "name": "stderr",
     "output_type": "stream",
     "text": [
      "100%|██████████| 584/584 [01:42<00:00,  5.69it/s]\n"
     ]
    },
    {
     "name": "stdout",
     "output_type": "stream",
     "text": [
      "Train loss: 8.874464\n",
      "> Level 1: loss 0.24893\n",
      "> Level 2: loss 0.63768\n",
      "> Level 3: loss 1.21710\n",
      "> Level 3_1: loss 0.39301\n",
      "> Level 3_2: loss 0.94121\n",
      "> Level 3_3: loss 0.87660\n",
      "> Level 3_4: loss 0.40659\n"
     ]
    },
    {
     "name": "stderr",
     "output_type": "stream",
     "text": [
      "100%|██████████| 84/84 [00:04<00:00, 17.31it/s]\n"
     ]
    },
    {
     "name": "stdout",
     "output_type": "stream",
     "text": [
      "Dev loss: 14.86657\n",
      "> Level 1: loss 0.43825\n",
      "> Level 2: loss 1.14680\n",
      "> Level 3: loss 1.96079\n",
      "> Level 3_1: loss 0.88372\n",
      "> Level 3_2: loss 1.26828\n",
      "> Level 3_3: loss 1.33770\n",
      "> Level 3_4: loss 0.90358\n",
      "=================== \n",
      "\n",
      "Epoch 15\n"
     ]
    },
    {
     "name": "stderr",
     "output_type": "stream",
     "text": [
      "100%|██████████| 584/584 [01:42<00:00,  5.69it/s]\n"
     ]
    },
    {
     "name": "stdout",
     "output_type": "stream",
     "text": [
      "Train loss: 8.396514\n",
      "> Level 1: loss 0.23170\n",
      "> Level 2: loss 0.60999\n",
      "> Level 3: loss 1.15232\n",
      "> Level 3_1: loss 0.38137\n",
      "> Level 3_2: loss 0.89925\n",
      "> Level 3_3: loss 0.83802\n",
      "> Level 3_4: loss 0.35395\n"
     ]
    },
    {
     "name": "stderr",
     "output_type": "stream",
     "text": [
      "100%|██████████| 84/84 [00:04<00:00, 17.32it/s]\n"
     ]
    },
    {
     "name": "stdout",
     "output_type": "stream",
     "text": [
      "Dev loss: 14.72264\n",
      "> Level 1: loss 0.44110\n",
      "> Level 2: loss 1.13668\n",
      "> Level 3: loss 1.94423\n",
      "> Level 3_1: loss 0.85985\n",
      "> Level 3_2: loss 1.26029\n",
      "> Level 3_3: loss 1.32706\n",
      "> Level 3_4: loss 0.89683\n",
      "=================== \n",
      "\n",
      "Epoch 16\n"
     ]
    },
    {
     "name": "stderr",
     "output_type": "stream",
     "text": [
      "100%|██████████| 584/584 [01:42<00:00,  5.67it/s]\n"
     ]
    },
    {
     "name": "stdout",
     "output_type": "stream",
     "text": [
      "Train loss: 7.764771\n",
      "> Level 1: loss 0.21262\n",
      "> Level 2: loss 0.55585\n",
      "> Level 3: loss 1.06620\n",
      "> Level 3_1: loss 0.34326\n",
      "> Level 3_2: loss 0.83719\n",
      "> Level 3_3: loss 0.77973\n",
      "> Level 3_4: loss 0.33281\n"
     ]
    },
    {
     "name": "stderr",
     "output_type": "stream",
     "text": [
      "100%|██████████| 84/84 [00:04<00:00, 17.27it/s]\n"
     ]
    },
    {
     "name": "stdout",
     "output_type": "stream",
     "text": [
      "Dev loss: 14.60932\n",
      "> Level 1: loss 0.43035\n",
      "> Level 2: loss 1.13782\n",
      "> Level 3: loss 1.93987\n",
      "> Level 3_1: loss 0.85277\n",
      "> Level 3_2: loss 1.24521\n",
      "> Level 3_3: loss 1.31039\n",
      "> Level 3_4: loss 0.88787\n",
      "=================== \n",
      "\n",
      "Epoch 17\n"
     ]
    },
    {
     "name": "stderr",
     "output_type": "stream",
     "text": [
      "100%|██████████| 584/584 [01:43<00:00,  5.67it/s]\n"
     ]
    },
    {
     "name": "stdout",
     "output_type": "stream",
     "text": [
      "Train loss: 7.318650\n",
      "> Level 1: loss 0.21694\n",
      "> Level 2: loss 0.51956\n",
      "> Level 3: loss 0.99225\n",
      "> Level 3_1: loss 0.31161\n",
      "> Level 3_2: loss 0.82244\n",
      "> Level 3_3: loss 0.74000\n",
      "> Level 3_4: loss 0.29488\n"
     ]
    },
    {
     "name": "stderr",
     "output_type": "stream",
     "text": [
      "100%|██████████| 84/84 [00:04<00:00, 17.29it/s]\n"
     ]
    },
    {
     "name": "stdout",
     "output_type": "stream",
     "text": [
      "Dev loss: 14.47556\n",
      "> Level 1: loss 0.43025\n",
      "> Level 2: loss 1.11732\n",
      "> Level 3: loss 1.91801\n",
      "> Level 3_1: loss 0.84260\n",
      "> Level 3_2: loss 1.24200\n",
      "> Level 3_3: loss 1.30735\n",
      "> Level 3_4: loss 0.87470\n",
      "=================== \n",
      "\n",
      "Epoch 18\n"
     ]
    },
    {
     "name": "stderr",
     "output_type": "stream",
     "text": [
      "100%|██████████| 584/584 [01:43<00:00,  5.67it/s]\n"
     ]
    },
    {
     "name": "stdout",
     "output_type": "stream",
     "text": [
      "Train loss: 6.849500\n",
      "> Level 1: loss 0.20014\n",
      "> Level 2: loss 0.48819\n",
      "> Level 3: loss 0.92107\n",
      "> Level 3_1: loss 0.27965\n",
      "> Level 3_2: loss 0.78374\n",
      "> Level 3_3: loss 0.70953\n",
      "> Level 3_4: loss 0.26455\n"
     ]
    },
    {
     "name": "stderr",
     "output_type": "stream",
     "text": [
      "100%|██████████| 84/84 [00:04<00:00, 17.19it/s]\n"
     ]
    },
    {
     "name": "stdout",
     "output_type": "stream",
     "text": [
      "Dev loss: 14.28586\n",
      "> Level 1: loss 0.43907\n",
      "> Level 2: loss 1.09805\n",
      "> Level 3: loss 1.88269\n",
      "> Level 3_1: loss 0.80929\n",
      "> Level 3_2: loss 1.23806\n",
      "> Level 3_3: loss 1.30121\n",
      "> Level 3_4: loss 0.86860\n",
      "=================== \n",
      "\n",
      "Epoch 19\n"
     ]
    },
    {
     "name": "stderr",
     "output_type": "stream",
     "text": [
      "100%|██████████| 584/584 [01:43<00:00,  5.65it/s]\n"
     ]
    },
    {
     "name": "stdout",
     "output_type": "stream",
     "text": [
      "Train loss: 6.418045\n",
      "> Level 1: loss 0.18857\n",
      "> Level 2: loss 0.46109\n",
      "> Level 3: loss 0.86726\n",
      "> Level 3_1: loss 0.25347\n",
      "> Level 3_2: loss 0.73051\n",
      "> Level 3_3: loss 0.66241\n",
      "> Level 3_4: loss 0.25528\n"
     ]
    },
    {
     "name": "stderr",
     "output_type": "stream",
     "text": [
      "100%|██████████| 84/84 [00:04<00:00, 16.91it/s]\n"
     ]
    },
    {
     "name": "stdout",
     "output_type": "stream",
     "text": [
      "Dev loss: 14.05283\n",
      "> Level 1: loss 0.42841\n",
      "> Level 2: loss 1.08257\n",
      "> Level 3: loss 1.85780\n",
      "> Level 3_1: loss 0.78958\n",
      "> Level 3_2: loss 1.21968\n",
      "> Level 3_3: loss 1.28502\n",
      "> Level 3_4: loss 0.84822\n",
      "=================== \n",
      "\n",
      "Epoch 20\n"
     ]
    },
    {
     "name": "stderr",
     "output_type": "stream",
     "text": [
      "100%|██████████| 584/584 [01:43<00:00,  5.63it/s]\n"
     ]
    },
    {
     "name": "stdout",
     "output_type": "stream",
     "text": [
      "Train loss: 6.085167\n",
      "> Level 1: loss 0.18050\n",
      "> Level 2: loss 0.43765\n",
      "> Level 3: loss 0.80080\n",
      "> Level 3_1: loss 0.22627\n",
      "> Level 3_2: loss 0.70537\n",
      "> Level 3_3: loss 0.64827\n",
      "> Level 3_4: loss 0.24339\n"
     ]
    },
    {
     "name": "stderr",
     "output_type": "stream",
     "text": [
      "100%|██████████| 84/84 [00:04<00:00, 16.99it/s]\n"
     ]
    },
    {
     "name": "stdout",
     "output_type": "stream",
     "text": [
      "Dev loss: 14.23750\n",
      "> Level 1: loss 0.45186\n",
      "> Level 2: loss 1.09892\n",
      "> Level 3: loss 1.86303\n",
      "> Level 3_1: loss 0.80469\n",
      "> Level 3_2: loss 1.23457\n",
      "> Level 3_3: loss 1.28904\n",
      "> Level 3_4: loss 0.87729\n",
      "=================== \n",
      "\n",
      "Epoch 21\n"
     ]
    },
    {
     "name": "stderr",
     "output_type": "stream",
     "text": [
      "100%|██████████| 584/584 [01:43<00:00,  5.62it/s]\n"
     ]
    },
    {
     "name": "stdout",
     "output_type": "stream",
     "text": [
      "Train loss: 5.615570\n",
      "> Level 1: loss 0.17376\n",
      "> Level 2: loss 0.41103\n",
      "> Level 3: loss 0.74844\n",
      "> Level 3_1: loss 0.19875\n",
      "> Level 3_2: loss 0.67221\n",
      "> Level 3_3: loss 0.59015\n",
      "> Level 3_4: loss 0.20307\n"
     ]
    },
    {
     "name": "stderr",
     "output_type": "stream",
     "text": [
      "100%|██████████| 84/84 [00:04<00:00, 16.85it/s]\n"
     ]
    },
    {
     "name": "stdout",
     "output_type": "stream",
     "text": [
      "Dev loss: 14.14360\n",
      "> Level 1: loss 0.44899\n",
      "> Level 2: loss 1.09090\n",
      "> Level 3: loss 1.84784\n",
      "> Level 3_1: loss 0.79484\n",
      "> Level 3_2: loss 1.22443\n",
      "> Level 3_3: loss 1.28369\n",
      "> Level 3_4: loss 0.87833\n",
      "=================== \n",
      "\n",
      "Epoch 22\n"
     ]
    },
    {
     "name": "stderr",
     "output_type": "stream",
     "text": [
      "100%|██████████| 584/584 [01:44<00:00,  5.61it/s]\n"
     ]
    },
    {
     "name": "stdout",
     "output_type": "stream",
     "text": [
      "Train loss: 5.344065\n",
      "> Level 1: loss 0.16707\n",
      "> Level 2: loss 0.39483\n",
      "> Level 3: loss 0.70115\n",
      "> Level 3_1: loss 0.18697\n",
      "> Level 3_2: loss 0.63355\n",
      "> Level 3_3: loss 0.56251\n",
      "> Level 3_4: loss 0.20819\n"
     ]
    },
    {
     "name": "stderr",
     "output_type": "stream",
     "text": [
      "100%|██████████| 84/84 [00:04<00:00, 17.02it/s]\n"
     ]
    },
    {
     "name": "stdout",
     "output_type": "stream",
     "text": [
      "Dev loss: 14.02935\n",
      "> Level 1: loss 0.44107\n",
      "> Level 2: loss 1.08081\n",
      "> Level 3: loss 1.83062\n",
      "> Level 3_1: loss 0.79611\n",
      "> Level 3_2: loss 1.22470\n",
      "> Level 3_3: loss 1.28150\n",
      "> Level 3_4: loss 0.85060\n",
      "=================== \n",
      "\n",
      "Epoch 23\n"
     ]
    },
    {
     "name": "stderr",
     "output_type": "stream",
     "text": [
      "100%|██████████| 584/584 [01:43<00:00,  5.62it/s]\n"
     ]
    },
    {
     "name": "stdout",
     "output_type": "stream",
     "text": [
      "Train loss: 4.893818\n",
      "> Level 1: loss 0.16332\n",
      "> Level 2: loss 0.36020\n",
      "> Level 3: loss 0.63254\n",
      "> Level 3_1: loss 0.17321\n",
      "> Level 3_2: loss 0.59149\n",
      "> Level 3_3: loss 0.51878\n",
      "> Level 3_4: loss 0.17907\n"
     ]
    },
    {
     "name": "stderr",
     "output_type": "stream",
     "text": [
      "100%|██████████| 84/84 [00:04<00:00, 16.93it/s]\n"
     ]
    },
    {
     "name": "stdout",
     "output_type": "stream",
     "text": [
      "Dev loss: 14.08189\n",
      "> Level 1: loss 0.44670\n",
      "> Level 2: loss 1.09052\n",
      "> Level 3: loss 1.83747\n",
      "> Level 3_1: loss 0.79046\n",
      "> Level 3_2: loss 1.21609\n",
      "> Level 3_3: loss 1.27090\n",
      "> Level 3_4: loss 0.88479\n",
      "=================== \n",
      "\n",
      "Epoch 24\n"
     ]
    },
    {
     "name": "stderr",
     "output_type": "stream",
     "text": [
      "100%|██████████| 584/584 [01:43<00:00,  5.62it/s]\n"
     ]
    },
    {
     "name": "stdout",
     "output_type": "stream",
     "text": [
      "Train loss: 4.504985\n",
      "> Level 1: loss 0.14891\n",
      "> Level 2: loss 0.33191\n",
      "> Level 3: loss 0.57094\n",
      "> Level 3_1: loss 0.17081\n",
      "> Level 3_2: loss 0.55967\n",
      "> Level 3_3: loss 0.45963\n",
      "> Level 3_4: loss 0.16806\n"
     ]
    },
    {
     "name": "stderr",
     "output_type": "stream",
     "text": [
      "100%|██████████| 84/84 [00:04<00:00, 16.92it/s]\n"
     ]
    },
    {
     "name": "stdout",
     "output_type": "stream",
     "text": [
      "Dev loss: 13.76505\n",
      "> Level 1: loss 0.43062\n",
      "> Level 2: loss 1.06191\n",
      "> Level 3: loss 1.80093\n",
      "> Level 3_1: loss 0.76684\n",
      "> Level 3_2: loss 1.20123\n",
      "> Level 3_3: loss 1.25895\n",
      "> Level 3_4: loss 0.84284\n",
      "=================== \n",
      "\n",
      "Epoch 25\n"
     ]
    },
    {
     "name": "stderr",
     "output_type": "stream",
     "text": [
      "100%|██████████| 584/584 [01:43<00:00,  5.62it/s]\n"
     ]
    },
    {
     "name": "stdout",
     "output_type": "stream",
     "text": [
      "Train loss: 4.241967\n",
      "> Level 1: loss 0.14754\n",
      "> Level 2: loss 0.31279\n",
      "> Level 3: loss 0.52595\n",
      "> Level 3_1: loss 0.14782\n",
      "> Level 3_2: loss 0.52339\n",
      "> Level 3_3: loss 0.45495\n",
      "> Level 3_4: loss 0.16052\n"
     ]
    },
    {
     "name": "stderr",
     "output_type": "stream",
     "text": [
      "100%|██████████| 84/84 [00:04<00:00, 16.84it/s]\n"
     ]
    },
    {
     "name": "stdout",
     "output_type": "stream",
     "text": [
      "Dev loss: 13.86191\n",
      "> Level 1: loss 0.43628\n",
      "> Level 2: loss 1.06249\n",
      "> Level 3: loss 1.80499\n",
      "> Level 3_1: loss 0.78103\n",
      "> Level 3_2: loss 1.21905\n",
      "> Level 3_3: loss 1.25966\n",
      "> Level 3_4: loss 0.85122\n",
      "=================== \n",
      "\n",
      "Epoch 26\n"
     ]
    },
    {
     "name": "stderr",
     "output_type": "stream",
     "text": [
      "100%|██████████| 584/584 [01:43<00:00,  5.62it/s]\n"
     ]
    },
    {
     "name": "stdout",
     "output_type": "stream",
     "text": [
      "Train loss: 3.878777\n",
      "> Level 1: loss 0.13542\n",
      "> Level 2: loss 0.29407\n",
      "> Level 3: loss 0.47569\n",
      "> Level 3_1: loss 0.13960\n",
      "> Level 3_2: loss 0.49035\n",
      "> Level 3_3: loss 0.40018\n",
      "> Level 3_4: loss 0.14530\n"
     ]
    },
    {
     "name": "stderr",
     "output_type": "stream",
     "text": [
      "100%|██████████| 84/84 [00:04<00:00, 16.82it/s]\n"
     ]
    },
    {
     "name": "stdout",
     "output_type": "stream",
     "text": [
      "Dev loss: 13.80162\n",
      "> Level 1: loss 0.43820\n",
      "> Level 2: loss 1.06558\n",
      "> Level 3: loss 1.78980\n",
      "> Level 3_1: loss 0.77936\n",
      "> Level 3_2: loss 1.20881\n",
      "> Level 3_3: loss 1.25587\n",
      "> Level 3_4: loss 0.84870\n",
      "=================== \n",
      "\n",
      "Epoch 27\n"
     ]
    },
    {
     "name": "stderr",
     "output_type": "stream",
     "text": [
      "100%|██████████| 584/584 [01:43<00:00,  5.63it/s]\n"
     ]
    },
    {
     "name": "stdout",
     "output_type": "stream",
     "text": [
      "Train loss: 3.671244\n",
      "> Level 1: loss 0.13186\n",
      "> Level 2: loss 0.26554\n",
      "> Level 3: loss 0.45110\n",
      "> Level 3_1: loss 0.13399\n",
      "> Level 3_2: loss 0.47229\n",
      "> Level 3_3: loss 0.36584\n",
      "> Level 3_4: loss 0.14732\n"
     ]
    },
    {
     "name": "stderr",
     "output_type": "stream",
     "text": [
      "100%|██████████| 84/84 [00:04<00:00, 16.84it/s]\n"
     ]
    },
    {
     "name": "stdout",
     "output_type": "stream",
     "text": [
      "Dev loss: 14.12169\n",
      "> Level 1: loss 0.44660\n",
      "> Level 2: loss 1.10449\n",
      "> Level 3: loss 1.83101\n",
      "> Level 3_1: loss 0.82646\n",
      "> Level 3_2: loss 1.21653\n",
      "> Level 3_3: loss 1.25342\n",
      "> Level 3_4: loss 0.88177\n",
      "=================== \n",
      "\n",
      "Epoch 28\n"
     ]
    },
    {
     "name": "stderr",
     "output_type": "stream",
     "text": [
      "100%|██████████| 584/584 [01:43<00:00,  5.62it/s]\n"
     ]
    },
    {
     "name": "stdout",
     "output_type": "stream",
     "text": [
      "Train loss: 3.312068\n",
      "> Level 1: loss 0.11799\n",
      "> Level 2: loss 0.24439\n",
      "> Level 3: loss 0.41215\n",
      "> Level 3_1: loss 0.11742\n",
      "> Level 3_2: loss 0.42254\n",
      "> Level 3_3: loss 0.33931\n",
      "> Level 3_4: loss 0.12233\n"
     ]
    },
    {
     "name": "stderr",
     "output_type": "stream",
     "text": [
      "100%|██████████| 84/84 [00:04<00:00, 16.97it/s]\n"
     ]
    },
    {
     "name": "stdout",
     "output_type": "stream",
     "text": [
      "Dev loss: 14.05395\n",
      "> Level 1: loss 0.45320\n",
      "> Level 2: loss 1.09754\n",
      "> Level 3: loss 1.81946\n",
      "> Level 3_1: loss 0.80298\n",
      "> Level 3_2: loss 1.21788\n",
      "> Level 3_3: loss 1.26166\n",
      "> Level 3_4: loss 0.87523\n",
      "=================== \n",
      "\n",
      "Epoch 29\n"
     ]
    },
    {
     "name": "stderr",
     "output_type": "stream",
     "text": [
      "100%|██████████| 584/584 [01:43<00:00,  5.62it/s]\n"
     ]
    },
    {
     "name": "stdout",
     "output_type": "stream",
     "text": [
      "Train loss: 3.151120\n",
      "> Level 1: loss 0.11673\n",
      "> Level 2: loss 0.23345\n",
      "> Level 3: loss 0.38261\n",
      "> Level 3_1: loss 0.11934\n",
      "> Level 3_2: loss 0.40966\n",
      "> Level 3_3: loss 0.31233\n",
      "> Level 3_4: loss 0.11816\n"
     ]
    },
    {
     "name": "stderr",
     "output_type": "stream",
     "text": [
      "100%|██████████| 84/84 [00:04<00:00, 17.04it/s]\n"
     ]
    },
    {
     "name": "stdout",
     "output_type": "stream",
     "text": [
      "Dev loss: 14.08294\n",
      "> Level 1: loss 0.45362\n",
      "> Level 2: loss 1.08466\n",
      "> Level 3: loss 1.82440\n",
      "> Level 3_1: loss 0.81816\n",
      "> Level 3_2: loss 1.21869\n",
      "> Level 3_3: loss 1.27959\n",
      "> Level 3_4: loss 0.86033\n",
      "=================== \n",
      "\n",
      "Epoch 30\n"
     ]
    },
    {
     "name": "stderr",
     "output_type": "stream",
     "text": [
      "100%|██████████| 584/584 [01:43<00:00,  5.64it/s]\n"
     ]
    },
    {
     "name": "stdout",
     "output_type": "stream",
     "text": [
      "Train loss: 2.922291\n",
      "> Level 1: loss 0.11144\n",
      "> Level 2: loss 0.20861\n",
      "> Level 3: loss 0.34921\n",
      "> Level 3_1: loss 0.10597\n",
      "> Level 3_2: loss 0.38107\n",
      "> Level 3_3: loss 0.30836\n",
      "> Level 3_4: loss 0.10437\n"
     ]
    },
    {
     "name": "stderr",
     "output_type": "stream",
     "text": [
      "100%|██████████| 84/84 [00:04<00:00, 17.10it/s]\n"
     ]
    },
    {
     "name": "stdout",
     "output_type": "stream",
     "text": [
      "Dev loss: 14.00511\n",
      "> Level 1: loss 0.45379\n",
      "> Level 2: loss 1.09710\n",
      "> Level 3: loss 1.80953\n",
      "> Level 3_1: loss 0.80566\n",
      "> Level 3_2: loss 1.20706\n",
      "> Level 3_3: loss 1.25805\n",
      "> Level 3_4: loss 0.87252\n",
      "=================== \n",
      "\n",
      "Epoch 31\n"
     ]
    },
    {
     "name": "stderr",
     "output_type": "stream",
     "text": [
      "100%|██████████| 584/584 [01:43<00:00,  5.64it/s]\n"
     ]
    },
    {
     "name": "stdout",
     "output_type": "stream",
     "text": [
      "Train loss: 2.724478\n",
      "> Level 1: loss 0.10595\n",
      "> Level 2: loss 0.20093\n",
      "> Level 3: loss 0.32536\n",
      "> Level 3_1: loss 0.10855\n",
      "> Level 3_2: loss 0.35763\n",
      "> Level 3_3: loss 0.26135\n",
      "> Level 3_4: loss 0.10569\n"
     ]
    },
    {
     "name": "stderr",
     "output_type": "stream",
     "text": [
      "100%|██████████| 84/84 [00:04<00:00, 17.06it/s]\n"
     ]
    },
    {
     "name": "stdout",
     "output_type": "stream",
     "text": [
      "Dev loss: 13.88073\n",
      "> Level 1: loss 0.44577\n",
      "> Level 2: loss 1.07544\n",
      "> Level 3: loss 1.79687\n",
      "> Level 3_1: loss 0.79609\n",
      "> Level 3_2: loss 1.20580\n",
      "> Level 3_3: loss 1.25571\n",
      "> Level 3_4: loss 0.85643\n",
      "=================== \n",
      "\n",
      "Epoch 32\n"
     ]
    },
    {
     "name": "stderr",
     "output_type": "stream",
     "text": [
      "100%|██████████| 584/584 [01:43<00:00,  5.64it/s]\n"
     ]
    },
    {
     "name": "stdout",
     "output_type": "stream",
     "text": [
      "Train loss: 2.505434\n",
      "> Level 1: loss 0.10285\n",
      "> Level 2: loss 0.18566\n",
      "> Level 3: loss 0.29197\n",
      "> Level 3_1: loss 0.10669\n",
      "> Level 3_2: loss 0.32675\n",
      "> Level 3_3: loss 0.23895\n",
      "> Level 3_4: loss 0.09769\n"
     ]
    },
    {
     "name": "stderr",
     "output_type": "stream",
     "text": [
      "100%|██████████| 84/84 [00:04<00:00, 17.07it/s]\n"
     ]
    },
    {
     "name": "stdout",
     "output_type": "stream",
     "text": [
      "Dev loss: 14.01968\n",
      "> Level 1: loss 0.45322\n",
      "> Level 2: loss 1.10889\n",
      "> Level 3: loss 1.81053\n",
      "> Level 3_1: loss 0.78621\n",
      "> Level 3_2: loss 1.20790\n",
      "> Level 3_3: loss 1.24397\n",
      "> Level 3_4: loss 0.90295\n",
      "=================== \n",
      "\n",
      "Epoch 33\n"
     ]
    },
    {
     "name": "stderr",
     "output_type": "stream",
     "text": [
      "100%|██████████| 584/584 [01:43<00:00,  5.63it/s]\n"
     ]
    },
    {
     "name": "stdout",
     "output_type": "stream",
     "text": [
      "Train loss: 2.401239\n",
      "> Level 1: loss 0.09697\n",
      "> Level 2: loss 0.17887\n",
      "> Level 3: loss 0.28538\n",
      "> Level 3_1: loss 0.08872\n",
      "> Level 3_2: loss 0.30859\n",
      "> Level 3_3: loss 0.23502\n",
      "> Level 3_4: loss 0.10026\n"
     ]
    },
    {
     "name": "stderr",
     "output_type": "stream",
     "text": [
      "100%|██████████| 84/84 [00:04<00:00, 17.08it/s]\n"
     ]
    },
    {
     "name": "stdout",
     "output_type": "stream",
     "text": [
      "Dev loss: 14.08284\n",
      "> Level 1: loss 0.47077\n",
      "> Level 2: loss 1.10346\n",
      "> Level 3: loss 1.79825\n",
      "> Level 3_1: loss 0.80787\n",
      "> Level 3_2: loss 1.22597\n",
      "> Level 3_3: loss 1.25620\n",
      "> Level 3_4: loss 0.89015\n",
      "=================== \n",
      "\n",
      "Epoch 34\n"
     ]
    },
    {
     "name": "stderr",
     "output_type": "stream",
     "text": [
      "100%|██████████| 584/584 [01:43<00:00,  5.64it/s]\n"
     ]
    },
    {
     "name": "stdout",
     "output_type": "stream",
     "text": [
      "Train loss: 2.174454\n",
      "> Level 1: loss 0.09492\n",
      "> Level 2: loss 0.16843\n",
      "> Level 3: loss 0.24727\n",
      "> Level 3_1: loss 0.10124\n",
      "> Level 3_2: loss 0.27260\n",
      "> Level 3_3: loss 0.19714\n",
      "> Level 3_4: loss 0.09520\n"
     ]
    },
    {
     "name": "stderr",
     "output_type": "stream",
     "text": [
      "100%|██████████| 84/84 [00:04<00:00, 17.05it/s]\n"
     ]
    },
    {
     "name": "stdout",
     "output_type": "stream",
     "text": [
      "Dev loss: 14.36626\n",
      "> Level 1: loss 0.48096\n",
      "> Level 2: loss 1.12281\n",
      "> Level 3: loss 1.83935\n",
      "> Level 3_1: loss 0.82652\n",
      "> Level 3_2: loss 1.24155\n",
      "> Level 3_3: loss 1.27805\n",
      "> Level 3_4: loss 0.91508\n",
      "=================== \n",
      "\n",
      "Epoch 35\n"
     ]
    },
    {
     "name": "stderr",
     "output_type": "stream",
     "text": [
      "100%|██████████| 584/584 [01:43<00:00,  5.64it/s]\n"
     ]
    },
    {
     "name": "stdout",
     "output_type": "stream",
     "text": [
      "Train loss: 2.019122\n",
      "> Level 1: loss 0.08688\n",
      "> Level 2: loss 0.15223\n",
      "> Level 3: loss 0.22511\n",
      "> Level 3_1: loss 0.08903\n",
      "> Level 3_2: loss 0.27707\n",
      "> Level 3_3: loss 0.18480\n",
      "> Level 3_4: loss 0.07594\n"
     ]
    },
    {
     "name": "stderr",
     "output_type": "stream",
     "text": [
      "100%|██████████| 84/84 [00:04<00:00, 17.02it/s]\n"
     ]
    },
    {
     "name": "stdout",
     "output_type": "stream",
     "text": [
      "Dev loss: 13.86632\n",
      "> Level 1: loss 0.44988\n",
      "> Level 2: loss 1.07572\n",
      "> Level 3: loss 1.78611\n",
      "> Level 3_1: loss 0.81483\n",
      "> Level 3_2: loss 1.20406\n",
      "> Level 3_3: loss 1.24624\n",
      "> Level 3_4: loss 0.85020\n",
      "=================== \n",
      "\n"
     ]
    }
   ],
   "source": [
    "EPOCHS = 35\n",
    "\n",
    "train_losses, train_multi_losses, train_f1s, dev_losses, dev_multi_losses, dev_f1s = train_and_validate(model, \n",
    "                                                                                                        train_loader, dev_loader,\n",
    "                                                                                                        optimizer, device, \n",
    "                                                                                                        classes_weights=classes_weights,\n",
    "                                                                                                        epochs=EPOCHS,\n",
    "                                                                                                        task_weights=task_weights)"
   ]
  },
  {
   "cell_type": "markdown",
   "id": "8f2aa582",
   "metadata": {
    "papermill": {
     "duration": 1.88998,
     "end_time": "2024-01-03T16:31:18.266487",
     "exception": false,
     "start_time": "2024-01-03T16:31:16.376507",
     "status": "completed"
    },
    "tags": []
   },
   "source": [
    "### Plotting"
   ]
  },
  {
   "cell_type": "code",
   "execution_count": 26,
   "id": "717a131f",
   "metadata": {
    "execution": {
     "iopub.execute_input": "2024-01-03T16:31:22.049360Z",
     "iopub.status.busy": "2024-01-03T16:31:22.048950Z",
     "iopub.status.idle": "2024-01-03T16:31:22.544776Z",
     "shell.execute_reply": "2024-01-03T16:31:22.543880Z"
    },
    "papermill": {
     "duration": 2.383242,
     "end_time": "2024-01-03T16:31:22.547156",
     "exception": false,
     "start_time": "2024-01-03T16:31:20.163914",
     "status": "completed"
    },
    "tags": []
   },
   "outputs": [
    {
     "data": {
      "image/png": "[encoded data removed]",
      "text/plain": [
       "<Figure size 750x750 with 1 Axes>"
      ]
     },
     "metadata": {},
     "output_type": "display_data"
    }
   ],
   "source": [
    "import matplotlib.pyplot as plt\n",
    "\n",
    "plt.figure(figsize=(5, 5), dpi=150)\n",
    "\n",
    "# losses\n",
    "plt.plot(train_losses, label='train loss')\n",
    "plt.plot(dev_losses, label='val loss')\n",
    "plt.title('Model Joint Loss')\n",
    "plt.ylabel('Loss')\n",
    "plt.xlabel('Epoch')\n",
    "plt.legend()\n",
    "plt.savefig(f'CNN_multi_torch_{model_name}_joint_loss.png')\n",
    "\n",
    "plt.show()"
   ]
  },
  {
   "cell_type": "code",
   "execution_count": 27,
   "id": "e716b082",
   "metadata": {
    "execution": {
     "iopub.execute_input": "2024-01-03T16:31:26.154395Z",
     "iopub.status.busy": "2024-01-03T16:31:26.154001Z",
     "iopub.status.idle": "2024-01-03T16:31:28.751486Z",
     "shell.execute_reply": "2024-01-03T16:31:28.750537Z"
    },
    "papermill": {
     "duration": 4.441072,
     "end_time": "2024-01-03T16:31:28.756286",
     "exception": false,
     "start_time": "2024-01-03T16:31:24.315214",
     "status": "completed"
    },
    "tags": []
   },
   "outputs": [
    {
     "data": {
      "image/png": "[encoded data removed]",
      "text/plain": [
       "<Figure size 1500x3000 with 7 Axes>"
      ]
     },
     "metadata": {},
     "output_type": "display_data"
    }
   ],
   "source": [
    "plt.figure(figsize=(10, 20), dpi=150)\n",
    "\n",
    "# multi losses\n",
    "for i in range(len(LEVELS)):\n",
    "    plt.subplot(4, 2, i+1)\n",
    "    plt.plot([loss[i] for loss in train_multi_losses], label=f'train level {LEVELS[i]} loss')\n",
    "    plt.plot([loss[i] for loss in dev_multi_losses], label='val loss')\n",
    "    plt.title(f'Model Level {LEVELS[i]} Loss')\n",
    "    plt.ylabel('Loss')\n",
    "    plt.xlabel('Epoch')\n",
    "    plt.legend()\n",
    "\n",
    "plt.savefig(f'CNN_multi_torch_{model_name}_multi_loss.png')\n",
    "\n",
    "plt.show()"
   ]
  },
  {
   "cell_type": "markdown",
   "id": "e6904a8e",
   "metadata": {
    "papermill": {
     "duration": 1.88673,
     "end_time": "2024-01-03T16:31:32.521444",
     "exception": false,
     "start_time": "2024-01-03T16:31:30.634714",
     "status": "completed"
    },
    "tags": []
   },
   "source": [
    "## **Predict**"
   ]
  },
  {
   "cell_type": "code",
   "execution_count": 28,
   "id": "b41432d2",
   "metadata": {
    "execution": {
     "iopub.execute_input": "2024-01-03T16:31:36.216072Z",
     "iopub.status.busy": "2024-01-03T16:31:36.215637Z",
     "iopub.status.idle": "2024-01-03T16:31:36.341701Z",
     "shell.execute_reply": "2024-01-03T16:31:36.340593Z"
    },
    "papermill": {
     "duration": 2.046857,
     "end_time": "2024-01-03T16:31:36.345322",
     "exception": false,
     "start_time": "2024-01-03T16:31:34.298465",
     "status": "completed"
    },
    "tags": []
   },
   "outputs": [],
   "source": [
    "if torch.cuda.is_available():\n",
    "    torch.cuda.empty_cache()"
   ]
  },
  {
   "cell_type": "code",
   "execution_count": 29,
   "id": "fdca518e",
   "metadata": {
    "execution": {
     "iopub.execute_input": "2024-01-03T16:31:40.032613Z",
     "iopub.status.busy": "2024-01-03T16:31:40.032239Z",
     "iopub.status.idle": "2024-01-03T16:31:48.795264Z",
     "shell.execute_reply": "2024-01-03T16:31:48.794122Z"
    },
    "papermill": {
     "duration": 10.547111,
     "end_time": "2024-01-03T16:31:48.797290",
     "exception": false,
     "start_time": "2024-01-03T16:31:38.250179",
     "status": "completed"
    },
    "tags": []
   },
   "outputs": [
    {
     "name": "stderr",
     "output_type": "stream",
     "text": [
      "100%|██████████| 167/167 [00:08<00:00, 19.11it/s]\n"
     ]
    },
    {
     "data": {
      "text/plain": [
       "torch.Size([7, 4000])"
      ]
     },
     "execution_count": 29,
     "metadata": {},
     "output_type": "execute_result"
    }
   ],
   "source": [
    "test_preds = [[], [], [], [], [], [], []]\n",
    "\n",
    "model.eval()\n",
    "with torch.no_grad():\n",
    "    for batch in tqdm(test_loader):\n",
    "        logits = model(batch[0].to(device))\n",
    "        \n",
    "        for i in range(len(LEVELS)):\n",
    "            test_preds[i] += torch.argmax(logits[i], dim=1).tolist()\n",
    "#         print('============ \\n')\n",
    "            \n",
    "test_preds = torch.tensor(test_preds)\n",
    "test_preds.shape"
   ]
  },
  {
   "cell_type": "code",
   "execution_count": 30,
   "id": "e2bddf0f",
   "metadata": {
    "execution": {
     "iopub.execute_input": "2024-01-03T16:31:52.634022Z",
     "iopub.status.busy": "2024-01-03T16:31:52.633621Z",
     "iopub.status.idle": "2024-01-03T16:31:52.861516Z",
     "shell.execute_reply": "2024-01-03T16:31:52.860564Z"
    },
    "papermill": {
     "duration": 2.153308,
     "end_time": "2024-01-03T16:31:52.863562",
     "exception": false,
     "start_time": "2024-01-03T16:31:50.710254",
     "status": "completed"
    },
    "tags": []
   },
   "outputs": [
    {
     "data": {
      "text/html": [
       "<div>\n",
       "<style scoped>\n",
       "    .dataframe tbody tr th:only-of-type {\n",
       "        vertical-align: middle;\n",
       "    }\n",
       "\n",
       "    .dataframe tbody tr th {\n",
       "        vertical-align: top;\n",
       "    }\n",
       "\n",
       "    .dataframe thead th {\n",
       "        text-align: right;\n",
       "    }\n",
       "</style>\n",
       "<table border=\"1\" class=\"dataframe\">\n",
       "  <thead>\n",
       "    <tr style=\"text-align: right;\">\n",
       "      <th></th>\n",
       "      <th>rewire_id</th>\n",
       "      <th>text</th>\n",
       "      <th>label_1</th>\n",
       "      <th>label_2</th>\n",
       "      <th>label_3</th>\n",
       "      <th>label_3_1</th>\n",
       "      <th>label_3_2</th>\n",
       "      <th>label_3_3</th>\n",
       "      <th>label_3_4</th>\n",
       "      <th>tokens</th>\n",
       "      <th>pred_1</th>\n",
       "      <th>pred_2</th>\n",
       "      <th>pred_3</th>\n",
       "      <th>pred_3_1</th>\n",
       "      <th>pred_3_2</th>\n",
       "      <th>pred_3_3</th>\n",
       "      <th>pred_3_4</th>\n",
       "    </tr>\n",
       "  </thead>\n",
       "  <tbody>\n",
       "    <tr>\n",
       "      <th>0</th>\n",
       "      <td>sexism2022_english-9019</td>\n",
       "      <td>This year, Justin Timberlake should perform in...</td>\n",
       "      <td>not sexist</td>\n",
       "      <td>not sexist</td>\n",
       "      <td>not sexist</td>\n",
       "      <td>not sexist</td>\n",
       "      <td>not sexist</td>\n",
       "      <td>not sexist</td>\n",
       "      <td>not sexist</td>\n",
       "      <td>this year , justin timberlake should perform i...</td>\n",
       "      <td>not sexist</td>\n",
       "      <td>not sexist</td>\n",
       "      <td>not sexist</td>\n",
       "      <td>not sexist</td>\n",
       "      <td>not sexist</td>\n",
       "      <td>not sexist</td>\n",
       "      <td>not sexist</td>\n",
       "    </tr>\n",
       "    <tr>\n",
       "      <th>1</th>\n",
       "      <td>sexism2022_english-8150</td>\n",
       "      <td>Osaka won youth beat old age, 20 vs 37. Serena...</td>\n",
       "      <td>sexist</td>\n",
       "      <td>3. animosity</td>\n",
       "      <td>3.1 casual use of gendered slurs, profanities,...</td>\n",
       "      <td>other</td>\n",
       "      <td>other</td>\n",
       "      <td>3.1 casual use of gendered slurs, profanities,...</td>\n",
       "      <td>other</td>\n",
       "      <td>osaka won youth beat old age , 20 vs 37 . sere...</td>\n",
       "      <td>sexist</td>\n",
       "      <td>3. animosity</td>\n",
       "      <td>3.1 casual use of gendered slurs, profanities,...</td>\n",
       "      <td>other</td>\n",
       "      <td>other</td>\n",
       "      <td>3.1 casual use of gendered slurs, profanities,...</td>\n",
       "      <td>other</td>\n",
       "    </tr>\n",
       "    <tr>\n",
       "      <th>2</th>\n",
       "      <td>sexism2022_english-18136</td>\n",
       "      <td>Yeah the only way a man can satisfy those wome...</td>\n",
       "      <td>sexist</td>\n",
       "      <td>1. threats, plans to harm and incitement</td>\n",
       "      <td>1.2 incitement and encouragement of harm</td>\n",
       "      <td>1.2 incitement and encouragement of harm</td>\n",
       "      <td>other</td>\n",
       "      <td>other</td>\n",
       "      <td>other</td>\n",
       "      <td>yeah the only way a man can satisfy those wome...</td>\n",
       "      <td>sexist</td>\n",
       "      <td>1. threats, plans to harm and incitement</td>\n",
       "      <td>1.1 threats of harm</td>\n",
       "      <td>1.1 threats of harm</td>\n",
       "      <td>other</td>\n",
       "      <td>other</td>\n",
       "      <td>other</td>\n",
       "    </tr>\n",
       "    <tr>\n",
       "      <th>3</th>\n",
       "      <td>sexism2022_english-2602</td>\n",
       "      <td>Young girl 'passed around' to sleep with 100 m...</td>\n",
       "      <td>not sexist</td>\n",
       "      <td>not sexist</td>\n",
       "      <td>not sexist</td>\n",
       "      <td>not sexist</td>\n",
       "      <td>not sexist</td>\n",
       "      <td>not sexist</td>\n",
       "      <td>not sexist</td>\n",
       "      <td>young girl ' passed around ' to sleep with 100...</td>\n",
       "      <td>not sexist</td>\n",
       "      <td>4. prejudiced discussions</td>\n",
       "      <td>4.1 supporting mistreatment of individual women</td>\n",
       "      <td>not sexist</td>\n",
       "      <td>not sexist</td>\n",
       "      <td>not sexist</td>\n",
       "      <td>4.1 supporting mistreatment of individual women</td>\n",
       "    </tr>\n",
       "    <tr>\n",
       "      <th>4</th>\n",
       "      <td>sexism2022_english-1479</td>\n",
       "      <td>You are an inspiration brother. I follow you o...</td>\n",
       "      <td>not sexist</td>\n",
       "      <td>not sexist</td>\n",
       "      <td>not sexist</td>\n",
       "      <td>not sexist</td>\n",
       "      <td>not sexist</td>\n",
       "      <td>not sexist</td>\n",
       "      <td>not sexist</td>\n",
       "      <td>you are an inspiration brother . i follow you ...</td>\n",
       "      <td>not sexist</td>\n",
       "      <td>not sexist</td>\n",
       "      <td>not sexist</td>\n",
       "      <td>not sexist</td>\n",
       "      <td>not sexist</td>\n",
       "      <td>not sexist</td>\n",
       "      <td>not sexist</td>\n",
       "    </tr>\n",
       "  </tbody>\n",
       "</table>\n",
       "</div>"
      ],
      "text/plain": [
       "                  rewire_id  \\\n",
       "0   sexism2022_english-9019   \n",
       "1   sexism2022_english-8150   \n",
       "2  sexism2022_english-18136   \n",
       "3   sexism2022_english-2602   \n",
       "4   sexism2022_english-1479   \n",
       "\n",
       "                                                text     label_1  \\\n",
       "0  This year, Justin Timberlake should perform in...  not sexist   \n",
       "1  Osaka won youth beat old age, 20 vs 37. Serena...      sexist   \n",
       "2  Yeah the only way a man can satisfy those wome...      sexist   \n",
       "3  Young girl 'passed around' to sleep with 100 m...  not sexist   \n",
       "4  You are an inspiration brother. I follow you o...  not sexist   \n",
       "\n",
       "                                    label_2  \\\n",
       "0                                not sexist   \n",
       "1                              3. animosity   \n",
       "2  1. threats, plans to harm and incitement   \n",
       "3                                not sexist   \n",
       "4                                not sexist   \n",
       "\n",
       "                                             label_3  \\\n",
       "0                                         not sexist   \n",
       "1  3.1 casual use of gendered slurs, profanities,...   \n",
       "2           1.2 incitement and encouragement of harm   \n",
       "3                                         not sexist   \n",
       "4                                         not sexist   \n",
       "\n",
       "                                  label_3_1   label_3_2  \\\n",
       "0                                not sexist  not sexist   \n",
       "1                                     other       other   \n",
       "2  1.2 incitement and encouragement of harm       other   \n",
       "3                                not sexist  not sexist   \n",
       "4                                not sexist  not sexist   \n",
       "\n",
       "                                           label_3_3   label_3_4  \\\n",
       "0                                         not sexist  not sexist   \n",
       "1  3.1 casual use of gendered slurs, profanities,...       other   \n",
       "2                                              other       other   \n",
       "3                                         not sexist  not sexist   \n",
       "4                                         not sexist  not sexist   \n",
       "\n",
       "                                              tokens      pred_1  \\\n",
       "0  this year , justin timberlake should perform i...  not sexist   \n",
       "1  osaka won youth beat old age , 20 vs 37 . sere...      sexist   \n",
       "2  yeah the only way a man can satisfy those wome...      sexist   \n",
       "3  young girl ' passed around ' to sleep with 100...  not sexist   \n",
       "4  you are an inspiration brother . i follow you ...  not sexist   \n",
       "\n",
       "                                     pred_2  \\\n",
       "0                                not sexist   \n",
       "1                              3. animosity   \n",
       "2  1. threats, plans to harm and incitement   \n",
       "3                 4. prejudiced discussions   \n",
       "4                                not sexist   \n",
       "\n",
       "                                              pred_3             pred_3_1  \\\n",
       "0                                         not sexist           not sexist   \n",
       "1  3.1 casual use of gendered slurs, profanities,...                other   \n",
       "2                                1.1 threats of harm  1.1 threats of harm   \n",
       "3    4.1 supporting mistreatment of individual women           not sexist   \n",
       "4                                         not sexist           not sexist   \n",
       "\n",
       "     pred_3_2                                           pred_3_3  \\\n",
       "0  not sexist                                         not sexist   \n",
       "1       other  3.1 casual use of gendered slurs, profanities,...   \n",
       "2       other                                              other   \n",
       "3  not sexist                                         not sexist   \n",
       "4  not sexist                                         not sexist   \n",
       "\n",
       "                                          pred_3_4  \n",
       "0                                       not sexist  \n",
       "1                                            other  \n",
       "2                                            other  \n",
       "3  4.1 supporting mistreatment of individual women  \n",
       "4                                       not sexist  "
      ]
     },
     "execution_count": 30,
     "metadata": {},
     "output_type": "execute_result"
    }
   ],
   "source": [
    "for i in range(len(LEVELS)):\n",
    "    test[f'pred_{LEVELS[i]}'] = [idx_to_label(idx, i+1) for idx in test_preds[i]]\n",
    "\n",
    "test.to_csv(f'./{model_name}_test_preds.csv', index=False)\n",
    "test.head()"
   ]
  },
  {
   "cell_type": "code",
   "execution_count": 31,
   "id": "02dfed7b",
   "metadata": {
    "execution": {
     "iopub.execute_input": "2024-01-03T16:31:56.537220Z",
     "iopub.status.busy": "2024-01-03T16:31:56.536752Z",
     "iopub.status.idle": "2024-01-03T16:31:56.703917Z",
     "shell.execute_reply": "2024-01-03T16:31:56.702936Z"
    },
    "papermill": {
     "duration": 1.961442,
     "end_time": "2024-01-03T16:31:56.706841",
     "exception": false,
     "start_time": "2024-01-03T16:31:54.745399",
     "status": "completed"
    },
    "tags": []
   },
   "outputs": [
    {
     "name": "stdout",
     "output_type": "stream",
     "text": [
      "Level 1\n",
      "              precision    recall  f1-score   support\n",
      "\n",
      "  not sexist     0.9207    0.8894    0.9048      3030\n",
      "      sexist     0.6878    0.7608    0.7225       970\n",
      "\n",
      "    accuracy                         0.8582      4000\n",
      "   macro avg     0.8043    0.8251    0.8136      4000\n",
      "weighted avg     0.8642    0.8582    0.8606      4000\n",
      "\n",
      "Level 2\n",
      "                                          precision    recall  f1-score   support\n",
      "\n",
      "1. threats, plans to harm and incitement     0.3672    0.5281    0.4332        89\n",
      "                           2. derogation     0.4293    0.5352    0.4765       454\n",
      "                            3. animosity     0.3753    0.4835    0.4226       333\n",
      "               4. prejudiced discussions     0.2596    0.2872    0.2727        94\n",
      "                              not sexist     0.9326    0.8535    0.8913      3030\n",
      "\n",
      "                                accuracy                         0.7660      4000\n",
      "                               macro avg     0.4728    0.5375    0.4992      4000\n",
      "                            weighted avg     0.8007    0.7660    0.7804      4000\n",
      "\n",
      "Level 3\n",
      "                                                                 precision    recall  f1-score   support\n",
      "\n",
      "                                            1.1 threats of harm     0.1364    0.3750    0.2000        16\n",
      "                       1.2 incitement and encouragement of harm     0.3659    0.4110    0.3871        73\n",
      "                                        2.1 descriptive attacks     0.3204    0.4439    0.3722       205\n",
      "                             2.2 aggressive and emotive attacks     0.4150    0.4323    0.4235       192\n",
      "        2.3 dehumanising attacks & overt sexual objectification     0.1810    0.3333    0.2346        57\n",
      "     3.1 casual use of gendered slurs, profanities, and insults     0.5088    0.6374    0.5659       182\n",
      "        3.2 immutable gender differences and gender stereotypes     0.1644    0.3109    0.2151       119\n",
      "                            3.3 backhanded gendered compliments     0.0169    0.0556    0.0260        18\n",
      "             3.4 condescending explanations or unwelcome advice     0.0222    0.0714    0.0339        14\n",
      "                4.1 supporting mistreatment of individual women     0.1220    0.2381    0.1613        21\n",
      "4.2 supporting systemic discrimination against women as a group     0.3281    0.2877    0.3066        73\n",
      "                                                     not sexist     0.9413    0.8149    0.8735      3030\n",
      "\n",
      "                                                       accuracy                         0.7198      4000\n",
      "                                                      macro avg     0.2935    0.3676    0.3166      4000\n",
      "                                                   weighted avg     0.7940    0.7198    0.7511      4000\n",
      "\n",
      "Level 3_1\n",
      "                                          precision    recall  f1-score   support\n",
      "\n",
      "                     1.1 threats of harm     0.1296    0.4375    0.2000        16\n",
      "1.2 incitement and encouragement of harm     0.3400    0.4658    0.3931        73\n",
      "                              not sexist     0.9234    0.8838    0.9032      3030\n",
      "                                   other     0.6797    0.7299    0.7039       881\n",
      "\n",
      "                                accuracy                         0.8405      4000\n",
      "                               macro avg     0.5182    0.6292    0.5500      4000\n",
      "                            weighted avg     0.8559    0.8405    0.8472      4000\n",
      "\n",
      "Level 3_2\n",
      "                                                         precision    recall  f1-score   support\n",
      "\n",
      "                                2.1 descriptive attacks     0.2979    0.6293    0.4044       205\n",
      "                     2.2 aggressive and emotive attacks     0.4147    0.5573    0.4756       192\n",
      "2.3 dehumanising attacks & overt sexual objectification     0.1493    0.3509    0.2094        57\n",
      "                                             not sexist     0.9316    0.8538    0.8910      3030\n",
      "                                                  other     0.4975    0.3837    0.4333       516\n",
      "\n",
      "                                               accuracy                         0.7602      4000\n",
      "                                              macro avg     0.4582    0.5550    0.4827      4000\n",
      "                                           weighted avg     0.8072    0.7602    0.7774      4000\n",
      "\n",
      "Level 3_3\n",
      "                                                            precision    recall  f1-score   support\n",
      "\n",
      "3.1 casual use of gendered slurs, profanities, and insults     0.4618    0.7308    0.5660       182\n",
      "   3.2 immutable gender differences and gender stereotypes     0.1931    0.4202    0.2646       119\n",
      "                       3.3 backhanded gendered compliments     0.0290    0.1111    0.0460        18\n",
      "        3.4 condescending explanations or unwelcome advice     0.0130    0.0714    0.0220        14\n",
      "                                                not sexist     0.9302    0.8492    0.8879      3030\n",
      "                                                     other     0.5287    0.4490    0.4856       637\n",
      "\n",
      "                                                  accuracy                         0.7612      4000\n",
      "                                                 macro avg     0.3593    0.4386    0.3786      4000\n",
      "                                              weighted avg     0.8158    0.7612    0.7838      4000\n",
      "\n",
      "Level 3_4\n",
      "                                                                 precision    recall  f1-score   support\n",
      "\n",
      "                4.1 supporting mistreatment of individual women     0.1042    0.2381    0.1449        21\n",
      "4.2 supporting systemic discrimination against women as a group     0.2255    0.3151    0.2629        73\n",
      "                                                     not sexist     0.9254    0.8756    0.8998      3030\n",
      "                                                          other     0.6612    0.7420    0.6993       876\n",
      "\n",
      "                                                       accuracy                         0.8327      4000\n",
      "                                                      macro avg     0.4791    0.5427    0.5017      4000\n",
      "                                                   weighted avg     0.8504    0.8327    0.8403      4000\n",
      "\n"
     ]
    }
   ],
   "source": [
    "def get_report(preds, labels):\n",
    "    reports = []\n",
    "    for i in range(len(LEVELS)):\n",
    "        print(f'Level {LEVELS[i]}')\n",
    "        # print('Labels:', labels[i].shape, 'Preds:', preds[i].shape)\n",
    "        reports.append(classification_report(labels[i], preds[i], target_names=ALL_LABELS[i], digits=4, output_dict=True))\n",
    "        print(classification_report(labels[i], preds[i], target_names=ALL_LABELS[i], digits=4))\n",
    "    return reports\n",
    "\n",
    "test_reports = get_report(test_preds, y_tests.T)\n",
    "# print(test_reports, sep='\\n')"
   ]
  }
 ],
 "metadata": {
  "kaggle": {
   "accelerator": "gpu",
   "dataSources": [
    {
     "datasetId": 3851897,
     "sourceId": 7019895,
     "sourceType": "datasetVersion"
    }
   ],
   "dockerImageVersionId": 30627,
   "isGpuEnabled": true,
   "isInternetEnabled": true,
   "language": "python",
   "sourceType": "notebook"
  },
  "kernelspec": {
   "display_name": "Python 3",
   "language": "python",
   "name": "python3"
  },
  "language_info": {
   "codemirror_mode": {
    "name": "ipython",
    "version": 3
   },
   "file_extension": ".py",
   "mimetype": "text/x-python",
   "name": "python",
   "nbconvert_exporter": "python",
   "pygments_lexer": "ipython3",
   "version": "3.10.12"
  },
  "papermill": {
   "default_parameters": {},
   "duration": 3906.497688,
   "end_time": "2024-01-03T16:32:01.419591",
   "environment_variables": {},
   "exception": null,
   "input_path": "__notebook__.ipynb",
   "output_path": "__notebook__.ipynb",
   "parameters": {},
   "start_time": "2024-01-03T15:26:54.921903",
   "version": "2.4.0"
  },
  "widgets": {
   "application/vnd.jupyter.widget-state+json": {
    "state": {
     "01d3667bfa43487a8eb4858b2547df3b": {
      "model_module": "@jupyter-widgets/base",
      "model_module_version": "1.2.0",
      "model_name": "LayoutModel",
      "state": {
       "_model_module": "@jupyter-widgets/base",
       "_model_module_version": "1.2.0",
       "_model_name": "LayoutModel",
       "_view_count": null,
       "_view_module": "@jupyter-widgets/base",
       "_view_module_version": "1.2.0",
       "_view_name": "LayoutView",
       "align_content": null,
       "align_items": null,
       "align_self": null,
       "border": null,
       "bottom": null,
       "display": null,
       "flex": null,
       "flex_flow": null,
       "grid_area": null,
       "grid_auto_columns": null,
       "grid_auto_flow": null,
       "grid_auto_rows": null,
       "grid_column": null,
       "grid_gap": null,
       "grid_row": null,
       "grid_template_areas": null,
       "grid_template_columns": null,
       "grid_template_rows": null,
       "height": null,
       "justify_content": null,
       "justify_items": null,
       "left": null,
       "margin": null,
       "max_height": null,
       "max_width": null,
       "min_height": null,
       "min_width": null,
       "object_fit": null,
       "object_position": null,
       "order": null,
       "overflow": null,
       "overflow_x": null,
       "overflow_y": null,
       "padding": null,
       "right": null,
       "top": null,
       "visibility": null,
       "width": null
      }
     },
     "0506c5861193498698f84350e0913c74": {
      "model_module": "@jupyter-widgets/base",
      "model_module_version": "1.2.0",
      "model_name": "LayoutModel",
      "state": {
       "_model_module": "@jupyter-widgets/base",
       "_model_module_version": "1.2.0",
       "_model_name": "LayoutModel",
       "_view_count": null,
       "_view_module": "@jupyter-widgets/base",
       "_view_module_version": "1.2.0",
       "_view_name": "LayoutView",
       "align_content": null,
       "align_items": null,
       "align_self": null,
       "border": null,
       "bottom": null,
       "display": null,
       "flex": null,
       "flex_flow": null,
       "grid_area": null,
       "grid_auto_columns": null,
       "grid_auto_flow": null,
       "grid_auto_rows": null,
       "grid_column": null,
       "grid_gap": null,
       "grid_row": null,
       "grid_template_areas": null,
       "grid_template_columns": null,
       "grid_template_rows": null,
       "height": null,
       "justify_content": null,
       "justify_items": null,
       "left": null,
       "margin": null,
       "max_height": null,
       "max_width": null,
       "min_height": null,
       "min_width": null,
       "object_fit": null,
       "object_position": null,
       "order": null,
       "overflow": null,
       "overflow_x": null,
       "overflow_y": null,
       "padding": null,
       "right": null,
       "top": null,
       "visibility": null,
       "width": null
      }
     },
     "111bf0d236ba44d1828daf39546ff5ee": {
      "model_module": "@jupyter-widgets/controls",
      "model_module_version": "1.5.0",
      "model_name": "DescriptionStyleModel",
      "state": {
       "_model_module": "@jupyter-widgets/controls",
       "_model_module_version": "1.5.0",
       "_model_name": "DescriptionStyleModel",
       "_view_count": null,
       "_view_module": "@jupyter-widgets/base",
       "_view_module_version": "1.2.0",
       "_view_name": "StyleView",
       "description_width": ""
      }
     },
     "13ad30da982d4fef856c4896667d76bb": {
      "model_module": "@jupyter-widgets/controls",
      "model_module_version": "1.5.0",
      "model_name": "ProgressStyleModel",
      "state": {
       "_model_module": "@jupyter-widgets/controls",
       "_model_module_version": "1.5.0",
       "_model_name": "ProgressStyleModel",
       "_view_count": null,
       "_view_module": "@jupyter-widgets/base",
       "_view_module_version": "1.2.0",
       "_view_name": "StyleView",
       "bar_color": null,
       "description_width": ""
      }
     },
     "199b81fa51404062880f43c8ef6d0677": {
      "model_module": "@jupyter-widgets/controls",
      "model_module_version": "1.5.0",
      "model_name": "HBoxModel",
      "state": {
       "_dom_classes": [],
       "_model_module": "@jupyter-widgets/controls",
       "_model_module_version": "1.5.0",
       "_model_name": "HBoxModel",
       "_view_count": null,
       "_view_module": "@jupyter-widgets/controls",
       "_view_module_version": "1.5.0",
       "_view_name": "HBoxView",
       "box_style": "",
       "children": [
        "IPY_MODEL_27911d6ccc954a009e4ac83b0e0e0801",
        "IPY_MODEL_7555403f510949e28d3ff941948993b6",
        "IPY_MODEL_1b36c6e2b6c94df0a19493146b319b12"
       ],
       "layout": "IPY_MODEL_d1be0d8008914345ae4fc23bb7fa2187"
      }
     },
     "1b36c6e2b6c94df0a19493146b319b12": {
      "model_module": "@jupyter-widgets/controls",
      "model_module_version": "1.5.0",
      "model_name": "HTMLModel",
      "state": {
       "_dom_classes": [],
       "_model_module": "@jupyter-widgets/controls",
       "_model_module_version": "1.5.0",
       "_model_name": "HTMLModel",
       "_view_count": null,
       "_view_module": "@jupyter-widgets/controls",
       "_view_module_version": "1.5.0",
       "_view_name": "HTMLView",
       "description": "",
       "description_tooltip": null,
       "layout": "IPY_MODEL_c0c717bfdea44c92949a00dd683e6ca0",
       "placeholder": "​",
       "style": "IPY_MODEL_d5369112895d4ab58b0cf91585370b5d",
       "value": " 456k/456k [00:00&lt;00:00, 9.42MB/s]"
      }
     },
     "1cfa40e682134cfa9dd49746c6833c1f": {
      "model_module": "@jupyter-widgets/base",
      "model_module_version": "1.2.0",
      "model_name": "LayoutModel",
      "state": {
       "_model_module": "@jupyter-widgets/base",
       "_model_module_version": "1.2.0",
       "_model_name": "LayoutModel",
       "_view_count": null,
       "_view_module": "@jupyter-widgets/base",
       "_view_module_version": "1.2.0",
       "_view_name": "LayoutView",
       "align_content": null,
       "align_items": null,
       "align_self": null,
       "border": null,
       "bottom": null,
       "display": null,
       "flex": null,
       "flex_flow": null,
       "grid_area": null,
       "grid_auto_columns": null,
       "grid_auto_flow": null,
       "grid_auto_rows": null,
       "grid_column": null,
       "grid_gap": null,
       "grid_row": null,
       "grid_template_areas": null,
       "grid_template_columns": null,
       "grid_template_rows": null,
       "height": null,
       "justify_content": null,
       "justify_items": null,
       "left": null,
       "margin": null,
       "max_height": null,
       "max_width": null,
       "min_height": null,
       "min_width": null,
       "object_fit": null,
       "object_position": null,
       "order": null,
       "overflow": null,
       "overflow_x": null,
       "overflow_y": null,
       "padding": null,
       "right": null,
       "top": null,
       "visibility": null,
       "width": null
      }
     },
     "26247743f7854a22a42f0703efee1db5": {
      "model_module": "@jupyter-widgets/controls",
      "model_module_version": "1.5.0",
      "model_name": "DescriptionStyleModel",
      "state": {
       "_model_module": "@jupyter-widgets/controls",
       "_model_module_version": "1.5.0",
       "_model_name": "DescriptionStyleModel",
       "_view_count": null,
       "_view_module": "@jupyter-widgets/base",
       "_view_module_version": "1.2.0",
       "_view_name": "StyleView",
       "description_width": ""
      }
     },
     "27911d6ccc954a009e4ac83b0e0e0801": {
      "model_module": "@jupyter-widgets/controls",
      "model_module_version": "1.5.0",
      "model_name": "HTMLModel",
      "state": {
       "_dom_classes": [],
       "_model_module": "@jupyter-widgets/controls",
       "_model_module_version": "1.5.0",
       "_model_name": "HTMLModel",
       "_view_count": null,
       "_view_module": "@jupyter-widgets/controls",
       "_view_module_version": "1.5.0",
       "_view_name": "HTMLView",
       "description": "",
       "description_tooltip": null,
       "layout": "IPY_MODEL_2e7964e662304c7ca74b8896d6d355cb",
       "placeholder": "​",
       "style": "IPY_MODEL_c5e2a6e414e342e4befae9d36a3e2e34",
       "value": "merges.txt: 100%"
      }
     },
     "2967b24ca6254c889654cc92942ccbd2": {
      "model_module": "@jupyter-widgets/base",
      "model_module_version": "1.2.0",
      "model_name": "LayoutModel",
      "state": {
       "_model_module": "@jupyter-widgets/base",
       "_model_module_version": "1.2.0",
       "_model_name": "LayoutModel",
       "_view_count": null,
       "_view_module": "@jupyter-widgets/base",
       "_view_module_version": "1.2.0",
       "_view_name": "LayoutView",
       "align_content": null,
       "align_items": null,
       "align_self": null,
       "border": null,
       "bottom": null,
       "display": null,
       "flex": null,
       "flex_flow": null,
       "grid_area": null,
       "grid_auto_columns": null,
       "grid_auto_flow": null,
       "grid_auto_rows": null,
       "grid_column": null,
       "grid_gap": null,
       "grid_row": null,
       "grid_template_areas": null,
       "grid_template_columns": null,
       "grid_template_rows": null,
       "height": null,
       "justify_content": null,
       "justify_items": null,
       "left": null,
       "margin": null,
       "max_height": null,
       "max_width": null,
       "min_height": null,
       "min_width": null,
       "object_fit": null,
       "object_position": null,
       "order": null,
       "overflow": null,
       "overflow_x": null,
       "overflow_y": null,
       "padding": null,
       "right": null,
       "top": null,
       "visibility": null,
       "width": null
      }
     },
     "2e7964e662304c7ca74b8896d6d355cb": {
      "model_module": "@jupyter-widgets/base",
      "model_module_version": "1.2.0",
      "model_name": "LayoutModel",
      "state": {
       "_model_module": "@jupyter-widgets/base",
       "_model_module_version": "1.2.0",
       "_model_name": "LayoutModel",
       "_view_count": null,
       "_view_module": "@jupyter-widgets/base",
       "_view_module_version": "1.2.0",
       "_view_name": "LayoutView",
       "align_content": null,
       "align_items": null,
       "align_self": null,
       "border": null,
       "bottom": null,
       "display": null,
       "flex": null,
       "flex_flow": null,
       "grid_area": null,
       "grid_auto_columns": null,
       "grid_auto_flow": null,
       "grid_auto_rows": null,
       "grid_column": null,
       "grid_gap": null,
       "grid_row": null,
       "grid_template_areas": null,
       "grid_template_columns": null,
       "grid_template_rows": null,
       "height": null,
       "justify_content": null,
       "justify_items": null,
       "left": null,
       "margin": null,
       "max_height": null,
       "max_width": null,
       "min_height": null,
       "min_width": null,
       "object_fit": null,
       "object_position": null,
       "order": null,
       "overflow": null,
       "overflow_x": null,
       "overflow_y": null,
       "padding": null,
       "right": null,
       "top": null,
       "visibility": null,
       "width": null
      }
     },
     "32b562132c6f4edcb4277be27f71917e": {
      "model_module": "@jupyter-widgets/controls",
      "model_module_version": "1.5.0",
      "model_name": "DescriptionStyleModel",
      "state": {
       "_model_module": "@jupyter-widgets/controls",
       "_model_module_version": "1.5.0",
       "_model_name": "DescriptionStyleModel",
       "_view_count": null,
       "_view_module": "@jupyter-widgets/base",
       "_view_module_version": "1.2.0",
       "_view_name": "StyleView",
       "description_width": ""
      }
     },
     "37956603b72c49c487f20cb69708ef0d": {
      "model_module": "@jupyter-widgets/controls",
      "model_module_version": "1.5.0",
      "model_name": "FloatProgressModel",
      "state": {
       "_dom_classes": [],
       "_model_module": "@jupyter-widgets/controls",
       "_model_module_version": "1.5.0",
       "_model_name": "FloatProgressModel",
       "_view_count": null,
       "_view_module": "@jupyter-widgets/controls",
       "_view_module_version": "1.5.0",
       "_view_name": "ProgressView",
       "bar_style": "success",
       "description": "",
       "description_tooltip": null,
       "layout": "IPY_MODEL_2967b24ca6254c889654cc92942ccbd2",
       "max": 498818054.0,
       "min": 0.0,
       "orientation": "horizontal",
       "style": "IPY_MODEL_e3fb338ae55247e69de43e54746f2e1f",
       "value": 498818054.0
      }
     },
     "38651713a85646ca97ee8146ec6a09ca": {
      "model_module": "@jupyter-widgets/controls",
      "model_module_version": "1.5.0",
      "model_name": "FloatProgressModel",
      "state": {
       "_dom_classes": [],
       "_model_module": "@jupyter-widgets/controls",
       "_model_module_version": "1.5.0",
       "_model_name": "FloatProgressModel",
       "_view_count": null,
       "_view_module": "@jupyter-widgets/controls",
       "_view_module_version": "1.5.0",
       "_view_name": "ProgressView",
       "bar_style": "success",
       "description": "",
       "description_tooltip": null,
       "layout": "IPY_MODEL_6051021700a14ae398fc3e5e8dc26bd7",
       "max": 481.0,
       "min": 0.0,
       "orientation": "horizontal",
       "style": "IPY_MODEL_7fae8fb098494f80986a713b575fd702",
       "value": 481.0
      }
     },
     "3eebcd5026984a728ad66c62e804bb47": {
      "model_module": "@jupyter-widgets/controls",
      "model_module_version": "1.5.0",
      "model_name": "ProgressStyleModel",
      "state": {
       "_model_module": "@jupyter-widgets/controls",
       "_model_module_version": "1.5.0",
       "_model_name": "ProgressStyleModel",
       "_view_count": null,
       "_view_module": "@jupyter-widgets/base",
       "_view_module_version": "1.2.0",
       "_view_name": "StyleView",
       "bar_color": null,
       "description_width": ""
      }
     },
     "45d7fd8683f149179fe9c030bbd2610e": {
      "model_module": "@jupyter-widgets/base",
      "model_module_version": "1.2.0",
      "model_name": "LayoutModel",
      "state": {
       "_model_module": "@jupyter-widgets/base",
       "_model_module_version": "1.2.0",
       "_model_name": "LayoutModel",
       "_view_count": null,
       "_view_module": "@jupyter-widgets/base",
       "_view_module_version": "1.2.0",
       "_view_name": "LayoutView",
       "align_content": null,
       "align_items": null,
       "align_self": null,
       "border": null,
       "bottom": null,
       "display": null,
       "flex": null,
       "flex_flow": null,
       "grid_area": null,
       "grid_auto_columns": null,
       "grid_auto_flow": null,
       "grid_auto_rows": null,
       "grid_column": null,
       "grid_gap": null,
       "grid_row": null,
       "grid_template_areas": null,
       "grid_template_columns": null,
       "grid_template_rows": null,
       "height": null,
       "justify_content": null,
       "justify_items": null,
       "left": null,
       "margin": null,
       "max_height": null,
       "max_width": null,
       "min_height": null,
       "min_width": null,
       "object_fit": null,
       "object_position": null,
       "order": null,
       "overflow": null,
       "overflow_x": null,
       "overflow_y": null,
       "padding": null,
       "right": null,
       "top": null,
       "visibility": null,
       "width": null
      }
     },
     "46df19e0f89543b1b6ea6c4ef6571e89": {
      "model_module": "@jupyter-widgets/base",
      "model_module_version": "1.2.0",
      "model_name": "LayoutModel",
      "state": {
       "_model_module": "@jupyter-widgets/base",
       "_model_module_version": "1.2.0",
       "_model_name": "LayoutModel",
       "_view_count": null,
       "_view_module": "@jupyter-widgets/base",
       "_view_module_version": "1.2.0",
       "_view_name": "LayoutView",
       "align_content": null,
       "align_items": null,
       "align_self": null,
       "border": null,
       "bottom": null,
       "display": null,
       "flex": null,
       "flex_flow": null,
       "grid_area": null,
       "grid_auto_columns": null,
       "grid_auto_flow": null,
       "grid_auto_rows": null,
       "grid_column": null,
       "grid_gap": null,
       "grid_row": null,
       "grid_template_areas": null,
       "grid_template_columns": null,
       "grid_template_rows": null,
       "height": null,
       "justify_content": null,
       "justify_items": null,
       "left": null,
       "margin": null,
       "max_height": null,
       "max_width": null,
       "min_height": null,
       "min_width": null,
       "object_fit": null,
       "object_position": null,
       "order": null,
       "overflow": null,
       "overflow_x": null,
       "overflow_y": null,
       "padding": null,
       "right": null,
       "top": null,
       "visibility": null,
       "width": null
      }
     },
     "5fb0e566f4494161a39e105281a2af9e": {
      "model_module": "@jupyter-widgets/controls",
      "model_module_version": "1.5.0",
      "model_name": "DescriptionStyleModel",
      "state": {
       "_model_module": "@jupyter-widgets/controls",
       "_model_module_version": "1.5.0",
       "_model_name": "DescriptionStyleModel",
       "_view_count": null,
       "_view_module": "@jupyter-widgets/base",
       "_view_module_version": "1.2.0",
       "_view_name": "StyleView",
       "description_width": ""
      }
     },
     "6051021700a14ae398fc3e5e8dc26bd7": {
      "model_module": "@jupyter-widgets/base",
      "model_module_version": "1.2.0",
      "model_name": "LayoutModel",
      "state": {
       "_model_module": "@jupyter-widgets/base",
       "_model_module_version": "1.2.0",
       "_model_name": "LayoutModel",
       "_view_count": null,
       "_view_module": "@jupyter-widgets/base",
       "_view_module_version": "1.2.0",
       "_view_name": "LayoutView",
       "align_content": null,
       "align_items": null,
       "align_self": null,
       "border": null,
       "bottom": null,
       "display": null,
       "flex": null,
       "flex_flow": null,
       "grid_area": null,
       "grid_auto_columns": null,
       "grid_auto_flow": null,
       "grid_auto_rows": null,
       "grid_column": null,
       "grid_gap": null,
       "grid_row": null,
       "grid_template_areas": null,
       "grid_template_columns": null,
       "grid_template_rows": null,
       "height": null,
       "justify_content": null,
       "justify_items": null,
       "left": null,
       "margin": null,
       "max_height": null,
       "max_width": null,
       "min_height": null,
       "min_width": null,
       "object_fit": null,
       "object_position": null,
       "order": null,
       "overflow": null,
       "overflow_x": null,
       "overflow_y": null,
       "padding": null,
       "right": null,
       "top": null,
       "visibility": null,
       "width": null
      }
     },
     "637f7b83b516454d9eb461a559730c06": {
      "model_module": "@jupyter-widgets/base",
      "model_module_version": "1.2.0",
      "model_name": "LayoutModel",
      "state": {
       "_model_module": "@jupyter-widgets/base",
       "_model_module_version": "1.2.0",
       "_model_name": "LayoutModel",
       "_view_count": null,
       "_view_module": "@jupyter-widgets/base",
       "_view_module_version": "1.2.0",
       "_view_name": "LayoutView",
       "align_content": null,
       "align_items": null,
       "align_self": null,
       "border": null,
       "bottom": null,
       "display": null,
       "flex": null,
       "flex_flow": null,
       "grid_area": null,
       "grid_auto_columns": null,
       "grid_auto_flow": null,
       "grid_auto_rows": null,
       "grid_column": null,
       "grid_gap": null,
       "grid_row": null,
       "grid_template_areas": null,
       "grid_template_columns": null,
       "grid_template_rows": null,
       "height": null,
       "justify_content": null,
       "justify_items": null,
       "left": null,
       "margin": null,
       "max_height": null,
       "max_width": null,
       "min_height": null,
       "min_width": null,
       "object_fit": null,
       "object_position": null,
       "order": null,
       "overflow": null,
       "overflow_x": null,
       "overflow_y": null,
       "padding": null,
       "right": null,
       "top": null,
       "visibility": null,
       "width": null
      }
     },
     "6b61783d8c7e4064bef70bfa59d3d2cc": {
      "model_module": "@jupyter-widgets/base",
      "model_module_version": "1.2.0",
      "model_name": "LayoutModel",
      "state": {
       "_model_module": "@jupyter-widgets/base",
       "_model_module_version": "1.2.0",
       "_model_name": "LayoutModel",
       "_view_count": null,
       "_view_module": "@jupyter-widgets/base",
       "_view_module_version": "1.2.0",
       "_view_name": "LayoutView",
       "align_content": null,
       "align_items": null,
       "align_self": null,
       "border": null,
       "bottom": null,
       "display": null,
       "flex": null,
       "flex_flow": null,
       "grid_area": null,
       "grid_auto_columns": null,
       "grid_auto_flow": null,
       "grid_auto_rows": null,
       "grid_column": null,
       "grid_gap": null,
       "grid_row": null,
       "grid_template_areas": null,
       "grid_template_columns": null,
       "grid_template_rows": null,
       "height": null,
       "justify_content": null,
       "justify_items": null,
       "left": null,
       "margin": null,
       "max_height": null,
       "max_width": null,
       "min_height": null,
       "min_width": null,
       "object_fit": null,
       "object_position": null,
       "order": null,
       "overflow": null,
       "overflow_x": null,
       "overflow_y": null,
       "padding": null,
       "right": null,
       "top": null,
       "visibility": null,
       "width": null
      }
     },
     "6fdefbdc39b04aa1afe5f372b3f3c607": {
      "model_module": "@jupyter-widgets/controls",
      "model_module_version": "1.5.0",
      "model_name": "HBoxModel",
      "state": {
       "_dom_classes": [],
       "_model_module": "@jupyter-widgets/controls",
       "_model_module_version": "1.5.0",
       "_model_name": "HBoxModel",
       "_view_count": null,
       "_view_module": "@jupyter-widgets/controls",
       "_view_module_version": "1.5.0",
       "_view_name": "HBoxView",
       "box_style": "",
       "children": [
        "IPY_MODEL_fe257912b2054d1384c55f7425bca716",
        "IPY_MODEL_38651713a85646ca97ee8146ec6a09ca",
        "IPY_MODEL_b25556eed18647e28bfa85ed422aca43"
       ],
       "layout": "IPY_MODEL_703f15f4484b4e18997eac9350b6211b"
      }
     },
     "703f15f4484b4e18997eac9350b6211b": {
      "model_module": "@jupyter-widgets/base",
      "model_module_version": "1.2.0",
      "model_name": "LayoutModel",
      "state": {
       "_model_module": "@jupyter-widgets/base",
       "_model_module_version": "1.2.0",
       "_model_name": "LayoutModel",
       "_view_count": null,
       "_view_module": "@jupyter-widgets/base",
       "_view_module_version": "1.2.0",
       "_view_name": "LayoutView",
       "align_content": null,
       "align_items": null,
       "align_self": null,
       "border": null,
       "bottom": null,
       "display": null,
       "flex": null,
       "flex_flow": null,
       "grid_area": null,
       "grid_auto_columns": null,
       "grid_auto_flow": null,
       "grid_auto_rows": null,
       "grid_column": null,
       "grid_gap": null,
       "grid_row": null,
       "grid_template_areas": null,
       "grid_template_columns": null,
       "grid_template_rows": null,
       "height": null,
       "justify_content": null,
       "justify_items": null,
       "left": null,
       "margin": null,
       "max_height": null,
       "max_width": null,
       "min_height": null,
       "min_width": null,
       "object_fit": null,
       "object_position": null,
       "order": null,
       "overflow": null,
       "overflow_x": null,
       "overflow_y": null,
       "padding": null,
       "right": null,
       "top": null,
       "visibility": null,
       "width": null
      }
     },
     "7555403f510949e28d3ff941948993b6": {
      "model_module": "@jupyter-widgets/controls",
      "model_module_version": "1.5.0",
      "model_name": "FloatProgressModel",
      "state": {
       "_dom_classes": [],
       "_model_module": "@jupyter-widgets/controls",
       "_model_module_version": "1.5.0",
       "_model_name": "FloatProgressModel",
       "_view_count": null,
       "_view_module": "@jupyter-widgets/controls",
       "_view_module_version": "1.5.0",
       "_view_name": "ProgressView",
       "bar_style": "success",
       "description": "",
       "description_tooltip": null,
       "layout": "IPY_MODEL_637f7b83b516454d9eb461a559730c06",
       "max": 456318.0,
       "min": 0.0,
       "orientation": "horizontal",
       "style": "IPY_MODEL_13ad30da982d4fef856c4896667d76bb",
       "value": 456318.0
      }
     },
     "7b8275507b03458a995b8d78c37f7dc3": {
      "model_module": "@jupyter-widgets/controls",
      "model_module_version": "1.5.0",
      "model_name": "DescriptionStyleModel",
      "state": {
       "_model_module": "@jupyter-widgets/controls",
       "_model_module_version": "1.5.0",
       "_model_name": "DescriptionStyleModel",
       "_view_count": null,
       "_view_module": "@jupyter-widgets/base",
       "_view_module_version": "1.2.0",
       "_view_name": "StyleView",
       "description_width": ""
      }
     },
     "7fae8fb098494f80986a713b575fd702": {
      "model_module": "@jupyter-widgets/controls",
      "model_module_version": "1.5.0",
      "model_name": "ProgressStyleModel",
      "state": {
       "_model_module": "@jupyter-widgets/controls",
       "_model_module_version": "1.5.0",
       "_model_name": "ProgressStyleModel",
       "_view_count": null,
       "_view_module": "@jupyter-widgets/base",
       "_view_module_version": "1.2.0",
       "_view_name": "StyleView",
       "bar_color": null,
       "description_width": ""
      }
     },
     "80ced6829e6947f887acfac9964145b0": {
      "model_module": "@jupyter-widgets/controls",
      "model_module_version": "1.5.0",
      "model_name": "FloatProgressModel",
      "state": {
       "_dom_classes": [],
       "_model_module": "@jupyter-widgets/controls",
       "_model_module_version": "1.5.0",
       "_model_name": "FloatProgressModel",
       "_view_count": null,
       "_view_module": "@jupyter-widgets/controls",
       "_view_module_version": "1.5.0",
       "_view_name": "ProgressView",
       "bar_style": "success",
       "description": "",
       "description_tooltip": null,
       "layout": "IPY_MODEL_45d7fd8683f149179fe9c030bbd2610e",
       "max": 898823.0,
       "min": 0.0,
       "orientation": "horizontal",
       "style": "IPY_MODEL_dd2f191378dc4fd7902ef99d73fb844b",
       "value": 898823.0
      }
     },
     "8737cef6ddce46e3b2dcba29c0146fe2": {
      "model_module": "@jupyter-widgets/controls",
      "model_module_version": "1.5.0",
      "model_name": "HTMLModel",
      "state": {
       "_dom_classes": [],
       "_model_module": "@jupyter-widgets/controls",
       "_model_module_version": "1.5.0",
       "_model_name": "HTMLModel",
       "_view_count": null,
       "_view_module": "@jupyter-widgets/controls",
       "_view_module_version": "1.5.0",
       "_view_name": "HTMLView",
       "description": "",
       "description_tooltip": null,
       "layout": "IPY_MODEL_6b61783d8c7e4064bef70bfa59d3d2cc",
       "placeholder": "​",
       "style": "IPY_MODEL_111bf0d236ba44d1828daf39546ff5ee",
       "value": "model.safetensors: 100%"
      }
     },
     "8dd3633641b242218303333bc42f7add": {
      "model_module": "@jupyter-widgets/base",
      "model_module_version": "1.2.0",
      "model_name": "LayoutModel",
      "state": {
       "_model_module": "@jupyter-widgets/base",
       "_model_module_version": "1.2.0",
       "_model_name": "LayoutModel",
       "_view_count": null,
       "_view_module": "@jupyter-widgets/base",
       "_view_module_version": "1.2.0",
       "_view_name": "LayoutView",
       "align_content": null,
       "align_items": null,
       "align_self": null,
       "border": null,
       "bottom": null,
       "display": null,
       "flex": null,
       "flex_flow": null,
       "grid_area": null,
       "grid_auto_columns": null,
       "grid_auto_flow": null,
       "grid_auto_rows": null,
       "grid_column": null,
       "grid_gap": null,
       "grid_row": null,
       "grid_template_areas": null,
       "grid_template_columns": null,
       "grid_template_rows": null,
       "height": null,
       "justify_content": null,
       "justify_items": null,
       "left": null,
       "margin": null,
       "max_height": null,
       "max_width": null,
       "min_height": null,
       "min_width": null,
       "object_fit": null,
       "object_position": null,
       "order": null,
       "overflow": null,
       "overflow_x": null,
       "overflow_y": null,
       "padding": null,
       "right": null,
       "top": null,
       "visibility": null,
       "width": null
      }
     },
     "8e2a4c577ff242a4958ba7373b395740": {
      "model_module": "@jupyter-widgets/base",
      "model_module_version": "1.2.0",
      "model_name": "LayoutModel",
      "state": {
       "_model_module": "@jupyter-widgets/base",
       "_model_module_version": "1.2.0",
       "_model_name": "LayoutModel",
       "_view_count": null,
       "_view_module": "@jupyter-widgets/base",
       "_view_module_version": "1.2.0",
       "_view_name": "LayoutView",
       "align_content": null,
       "align_items": null,
       "align_self": null,
       "border": null,
       "bottom": null,
       "display": null,
       "flex": null,
       "flex_flow": null,
       "grid_area": null,
       "grid_auto_columns": null,
       "grid_auto_flow": null,
       "grid_auto_rows": null,
       "grid_column": null,
       "grid_gap": null,
       "grid_row": null,
       "grid_template_areas": null,
       "grid_template_columns": null,
       "grid_template_rows": null,
       "height": null,
       "justify_content": null,
       "justify_items": null,
       "left": null,
       "margin": null,
       "max_height": null,
       "max_width": null,
       "min_height": null,
       "min_width": null,
       "object_fit": null,
       "object_position": null,
       "order": null,
       "overflow": null,
       "overflow_x": null,
       "overflow_y": null,
       "padding": null,
       "right": null,
       "top": null,
       "visibility": null,
       "width": null
      }
     },
     "93619e913307410f88ead30a8e60a496": {
      "model_module": "@jupyter-widgets/base",
      "model_module_version": "1.2.0",
      "model_name": "LayoutModel",
      "state": {
       "_model_module": "@jupyter-widgets/base",
       "_model_module_version": "1.2.0",
       "_model_name": "LayoutModel",
       "_view_count": null,
       "_view_module": "@jupyter-widgets/base",
       "_view_module_version": "1.2.0",
       "_view_name": "LayoutView",
       "align_content": null,
       "align_items": null,
       "align_self": null,
       "border": null,
       "bottom": null,
       "display": null,
       "flex": null,
       "flex_flow": null,
       "grid_area": null,
       "grid_auto_columns": null,
       "grid_auto_flow": null,
       "grid_auto_rows": null,
       "grid_column": null,
       "grid_gap": null,
       "grid_row": null,
       "grid_template_areas": null,
       "grid_template_columns": null,
       "grid_template_rows": null,
       "height": null,
       "justify_content": null,
       "justify_items": null,
       "left": null,
       "margin": null,
       "max_height": null,
       "max_width": null,
       "min_height": null,
       "min_width": null,
       "object_fit": null,
       "object_position": null,
       "order": null,
       "overflow": null,
       "overflow_x": null,
       "overflow_y": null,
       "padding": null,
       "right": null,
       "top": null,
       "visibility": null,
       "width": null
      }
     },
     "b2032aafe7894c87ab8e7fc634459b91": {
      "model_module": "@jupyter-widgets/controls",
      "model_module_version": "1.5.0",
      "model_name": "FloatProgressModel",
      "state": {
       "_dom_classes": [],
       "_model_module": "@jupyter-widgets/controls",
       "_model_module_version": "1.5.0",
       "_model_name": "FloatProgressModel",
       "_view_count": null,
       "_view_module": "@jupyter-widgets/controls",
       "_view_module_version": "1.5.0",
       "_view_name": "ProgressView",
       "bar_style": "success",
       "description": "",
       "description_tooltip": null,
       "layout": "IPY_MODEL_1cfa40e682134cfa9dd49746c6833c1f",
       "max": 1355863.0,
       "min": 0.0,
       "orientation": "horizontal",
       "style": "IPY_MODEL_3eebcd5026984a728ad66c62e804bb47",
       "value": 1355863.0
      }
     },
     "b25556eed18647e28bfa85ed422aca43": {
      "model_module": "@jupyter-widgets/controls",
      "model_module_version": "1.5.0",
      "model_name": "HTMLModel",
      "state": {
       "_dom_classes": [],
       "_model_module": "@jupyter-widgets/controls",
       "_model_module_version": "1.5.0",
       "_model_name": "HTMLModel",
       "_view_count": null,
       "_view_module": "@jupyter-widgets/controls",
       "_view_module_version": "1.5.0",
       "_view_name": "HTMLView",
       "description": "",
       "description_tooltip": null,
       "layout": "IPY_MODEL_e34f6625ee184c57a130bc0f54cc10e1",
       "placeholder": "​",
       "style": "IPY_MODEL_fe4899af18584536821dbf1177501899",
       "value": " 481/481 [00:00&lt;00:00, 41.8kB/s]"
      }
     },
     "b36113ed355b4c83af62cf6d7a521592": {
      "model_module": "@jupyter-widgets/base",
      "model_module_version": "1.2.0",
      "model_name": "LayoutModel",
      "state": {
       "_model_module": "@jupyter-widgets/base",
       "_model_module_version": "1.2.0",
       "_model_name": "LayoutModel",
       "_view_count": null,
       "_view_module": "@jupyter-widgets/base",
       "_view_module_version": "1.2.0",
       "_view_name": "LayoutView",
       "align_content": null,
       "align_items": null,
       "align_self": null,
       "border": null,
       "bottom": null,
       "display": null,
       "flex": null,
       "flex_flow": null,
       "grid_area": null,
       "grid_auto_columns": null,
       "grid_auto_flow": null,
       "grid_auto_rows": null,
       "grid_column": null,
       "grid_gap": null,
       "grid_row": null,
       "grid_template_areas": null,
       "grid_template_columns": null,
       "grid_template_rows": null,
       "height": null,
       "justify_content": null,
       "justify_items": null,
       "left": null,
       "margin": null,
       "max_height": null,
       "max_width": null,
       "min_height": null,
       "min_width": null,
       "object_fit": null,
       "object_position": null,
       "order": null,
       "overflow": null,
       "overflow_x": null,
       "overflow_y": null,
       "padding": null,
       "right": null,
       "top": null,
       "visibility": null,
       "width": null
      }
     },
     "b8556db250a042c3b92a2169b67b5e12": {
      "model_module": "@jupyter-widgets/controls",
      "model_module_version": "1.5.0",
      "model_name": "DescriptionStyleModel",
      "state": {
       "_model_module": "@jupyter-widgets/controls",
       "_model_module_version": "1.5.0",
       "_model_name": "DescriptionStyleModel",
       "_view_count": null,
       "_view_module": "@jupyter-widgets/base",
       "_view_module_version": "1.2.0",
       "_view_name": "StyleView",
       "description_width": ""
      }
     },
     "bce55c116ff24cd788836e82d22a1c8f": {
      "model_module": "@jupyter-widgets/controls",
      "model_module_version": "1.5.0",
      "model_name": "HBoxModel",
      "state": {
       "_dom_classes": [],
       "_model_module": "@jupyter-widgets/controls",
       "_model_module_version": "1.5.0",
       "_model_name": "HBoxModel",
       "_view_count": null,
       "_view_module": "@jupyter-widgets/controls",
       "_view_module_version": "1.5.0",
       "_view_name": "HBoxView",
       "box_style": "",
       "children": [
        "IPY_MODEL_ce9194750ca34547889a501bedc7802f",
        "IPY_MODEL_80ced6829e6947f887acfac9964145b0",
        "IPY_MODEL_d4e023a86c2b4d6f96ae9edd6dbab5e5"
       ],
       "layout": "IPY_MODEL_8e2a4c577ff242a4958ba7373b395740"
      }
     },
     "c0c717bfdea44c92949a00dd683e6ca0": {
      "model_module": "@jupyter-widgets/base",
      "model_module_version": "1.2.0",
      "model_name": "LayoutModel",
      "state": {
       "_model_module": "@jupyter-widgets/base",
       "_model_module_version": "1.2.0",
       "_model_name": "LayoutModel",
       "_view_count": null,
       "_view_module": "@jupyter-widgets/base",
       "_view_module_version": "1.2.0",
       "_view_name": "LayoutView",
       "align_content": null,
       "align_items": null,
       "align_self": null,
       "border": null,
       "bottom": null,
       "display": null,
       "flex": null,
       "flex_flow": null,
       "grid_area": null,
       "grid_auto_columns": null,
       "grid_auto_flow": null,
       "grid_auto_rows": null,
       "grid_column": null,
       "grid_gap": null,
       "grid_row": null,
       "grid_template_areas": null,
       "grid_template_columns": null,
       "grid_template_rows": null,
       "height": null,
       "justify_content": null,
       "justify_items": null,
       "left": null,
       "margin": null,
       "max_height": null,
       "max_width": null,
       "min_height": null,
       "min_width": null,
       "object_fit": null,
       "object_position": null,
       "order": null,
       "overflow": null,
       "overflow_x": null,
       "overflow_y": null,
       "padding": null,
       "right": null,
       "top": null,
       "visibility": null,
       "width": null
      }
     },
     "c112220f0b7546b8a9587242b828b7bb": {
      "model_module": "@jupyter-widgets/controls",
      "model_module_version": "1.5.0",
      "model_name": "HBoxModel",
      "state": {
       "_dom_classes": [],
       "_model_module": "@jupyter-widgets/controls",
       "_model_module_version": "1.5.0",
       "_model_name": "HBoxModel",
       "_view_count": null,
       "_view_module": "@jupyter-widgets/controls",
       "_view_module_version": "1.5.0",
       "_view_name": "HBoxView",
       "box_style": "",
       "children": [
        "IPY_MODEL_c7722c5045f74d629121431e832a4797",
        "IPY_MODEL_b2032aafe7894c87ab8e7fc634459b91",
        "IPY_MODEL_eec570d3e51e4f76974aa4bd6a1dac24"
       ],
       "layout": "IPY_MODEL_01d3667bfa43487a8eb4858b2547df3b"
      }
     },
     "c5e2a6e414e342e4befae9d36a3e2e34": {
      "model_module": "@jupyter-widgets/controls",
      "model_module_version": "1.5.0",
      "model_name": "DescriptionStyleModel",
      "state": {
       "_model_module": "@jupyter-widgets/controls",
       "_model_module_version": "1.5.0",
       "_model_name": "DescriptionStyleModel",
       "_view_count": null,
       "_view_module": "@jupyter-widgets/base",
       "_view_module_version": "1.2.0",
       "_view_name": "StyleView",
       "description_width": ""
      }
     },
     "c7722c5045f74d629121431e832a4797": {
      "model_module": "@jupyter-widgets/controls",
      "model_module_version": "1.5.0",
      "model_name": "HTMLModel",
      "state": {
       "_dom_classes": [],
       "_model_module": "@jupyter-widgets/controls",
       "_model_module_version": "1.5.0",
       "_model_name": "HTMLModel",
       "_view_count": null,
       "_view_module": "@jupyter-widgets/controls",
       "_view_module_version": "1.5.0",
       "_view_name": "HTMLView",
       "description": "",
       "description_tooltip": null,
       "layout": "IPY_MODEL_b36113ed355b4c83af62cf6d7a521592",
       "placeholder": "​",
       "style": "IPY_MODEL_5fb0e566f4494161a39e105281a2af9e",
       "value": "tokenizer.json: 100%"
      }
     },
     "ce149203685049e18592638644068092": {
      "model_module": "@jupyter-widgets/controls",
      "model_module_version": "1.5.0",
      "model_name": "HTMLModel",
      "state": {
       "_dom_classes": [],
       "_model_module": "@jupyter-widgets/controls",
       "_model_module_version": "1.5.0",
       "_model_name": "HTMLModel",
       "_view_count": null,
       "_view_module": "@jupyter-widgets/controls",
       "_view_module_version": "1.5.0",
       "_view_name": "HTMLView",
       "description": "",
       "description_tooltip": null,
       "layout": "IPY_MODEL_8dd3633641b242218303333bc42f7add",
       "placeholder": "​",
       "style": "IPY_MODEL_7b8275507b03458a995b8d78c37f7dc3",
       "value": " 499M/499M [00:02&lt;00:00, 225MB/s]"
      }
     },
     "ce9194750ca34547889a501bedc7802f": {
      "model_module": "@jupyter-widgets/controls",
      "model_module_version": "1.5.0",
      "model_name": "HTMLModel",
      "state": {
       "_dom_classes": [],
       "_model_module": "@jupyter-widgets/controls",
       "_model_module_version": "1.5.0",
       "_model_name": "HTMLModel",
       "_view_count": null,
       "_view_module": "@jupyter-widgets/controls",
       "_view_module_version": "1.5.0",
       "_view_name": "HTMLView",
       "description": "",
       "description_tooltip": null,
       "layout": "IPY_MODEL_93619e913307410f88ead30a8e60a496",
       "placeholder": "​",
       "style": "IPY_MODEL_df8c3a13726f44ffa5df2c45ef12add9",
       "value": "vocab.json: 100%"
      }
     },
     "d1be0d8008914345ae4fc23bb7fa2187": {
      "model_module": "@jupyter-widgets/base",
      "model_module_version": "1.2.0",
      "model_name": "LayoutModel",
      "state": {
       "_model_module": "@jupyter-widgets/base",
       "_model_module_version": "1.2.0",
       "_model_name": "LayoutModel",
       "_view_count": null,
       "_view_module": "@jupyter-widgets/base",
       "_view_module_version": "1.2.0",
       "_view_name": "LayoutView",
       "align_content": null,
       "align_items": null,
       "align_self": null,
       "border": null,
       "bottom": null,
       "display": null,
       "flex": null,
       "flex_flow": null,
       "grid_area": null,
       "grid_auto_columns": null,
       "grid_auto_flow": null,
       "grid_auto_rows": null,
       "grid_column": null,
       "grid_gap": null,
       "grid_row": null,
       "grid_template_areas": null,
       "grid_template_columns": null,
       "grid_template_rows": null,
       "height": null,
       "justify_content": null,
       "justify_items": null,
       "left": null,
       "margin": null,
       "max_height": null,
       "max_width": null,
       "min_height": null,
       "min_width": null,
       "object_fit": null,
       "object_position": null,
       "order": null,
       "overflow": null,
       "overflow_x": null,
       "overflow_y": null,
       "padding": null,
       "right": null,
       "top": null,
       "visibility": null,
       "width": null
      }
     },
     "d4e023a86c2b4d6f96ae9edd6dbab5e5": {
      "model_module": "@jupyter-widgets/controls",
      "model_module_version": "1.5.0",
      "model_name": "HTMLModel",
      "state": {
       "_dom_classes": [],
       "_model_module": "@jupyter-widgets/controls",
       "_model_module_version": "1.5.0",
       "_model_name": "HTMLModel",
       "_view_count": null,
       "_view_module": "@jupyter-widgets/controls",
       "_view_module_version": "1.5.0",
       "_view_name": "HTMLView",
       "description": "",
       "description_tooltip": null,
       "layout": "IPY_MODEL_df79e8740b9e4645b566d4d3f564aef9",
       "placeholder": "​",
       "style": "IPY_MODEL_b8556db250a042c3b92a2169b67b5e12",
       "value": " 899k/899k [00:00&lt;00:00, 12.2MB/s]"
      }
     },
     "d5369112895d4ab58b0cf91585370b5d": {
      "model_module": "@jupyter-widgets/controls",
      "model_module_version": "1.5.0",
      "model_name": "DescriptionStyleModel",
      "state": {
       "_model_module": "@jupyter-widgets/controls",
       "_model_module_version": "1.5.0",
       "_model_name": "DescriptionStyleModel",
       "_view_count": null,
       "_view_module": "@jupyter-widgets/base",
       "_view_module_version": "1.2.0",
       "_view_name": "StyleView",
       "description_width": ""
      }
     },
     "dd2f191378dc4fd7902ef99d73fb844b": {
      "model_module": "@jupyter-widgets/controls",
      "model_module_version": "1.5.0",
      "model_name": "ProgressStyleModel",
      "state": {
       "_model_module": "@jupyter-widgets/controls",
       "_model_module_version": "1.5.0",
       "_model_name": "ProgressStyleModel",
       "_view_count": null,
       "_view_module": "@jupyter-widgets/base",
       "_view_module_version": "1.2.0",
       "_view_name": "StyleView",
       "bar_color": null,
       "description_width": ""
      }
     },
     "df79e8740b9e4645b566d4d3f564aef9": {
      "model_module": "@jupyter-widgets/base",
      "model_module_version": "1.2.0",
      "model_name": "LayoutModel",
      "state": {
       "_model_module": "@jupyter-widgets/base",
       "_model_module_version": "1.2.0",
       "_model_name": "LayoutModel",
       "_view_count": null,
       "_view_module": "@jupyter-widgets/base",
       "_view_module_version": "1.2.0",
       "_view_name": "LayoutView",
       "align_content": null,
       "align_items": null,
       "align_self": null,
       "border": null,
       "bottom": null,
       "display": null,
       "flex": null,
       "flex_flow": null,
       "grid_area": null,
       "grid_auto_columns": null,
       "grid_auto_flow": null,
       "grid_auto_rows": null,
       "grid_column": null,
       "grid_gap": null,
       "grid_row": null,
       "grid_template_areas": null,
       "grid_template_columns": null,
       "grid_template_rows": null,
       "height": null,
       "justify_content": null,
       "justify_items": null,
       "left": null,
       "margin": null,
       "max_height": null,
       "max_width": null,
       "min_height": null,
       "min_width": null,
       "object_fit": null,
       "object_position": null,
       "order": null,
       "overflow": null,
       "overflow_x": null,
       "overflow_y": null,
       "padding": null,
       "right": null,
       "top": null,
       "visibility": null,
       "width": null
      }
     },
     "df8c3a13726f44ffa5df2c45ef12add9": {
      "model_module": "@jupyter-widgets/controls",
      "model_module_version": "1.5.0",
      "model_name": "DescriptionStyleModel",
      "state": {
       "_model_module": "@jupyter-widgets/controls",
       "_model_module_version": "1.5.0",
       "_model_name": "DescriptionStyleModel",
       "_view_count": null,
       "_view_module": "@jupyter-widgets/base",
       "_view_module_version": "1.2.0",
       "_view_name": "StyleView",
       "description_width": ""
      }
     },
     "e34f6625ee184c57a130bc0f54cc10e1": {
      "model_module": "@jupyter-widgets/base",
      "model_module_version": "1.2.0",
      "model_name": "LayoutModel",
      "state": {
       "_model_module": "@jupyter-widgets/base",
       "_model_module_version": "1.2.0",
       "_model_name": "LayoutModel",
       "_view_count": null,
       "_view_module": "@jupyter-widgets/base",
       "_view_module_version": "1.2.0",
       "_view_name": "LayoutView",
       "align_content": null,
       "align_items": null,
       "align_self": null,
       "border": null,
       "bottom": null,
       "display": null,
       "flex": null,
       "flex_flow": null,
       "grid_area": null,
       "grid_auto_columns": null,
       "grid_auto_flow": null,
       "grid_auto_rows": null,
       "grid_column": null,
       "grid_gap": null,
       "grid_row": null,
       "grid_template_areas": null,
       "grid_template_columns": null,
       "grid_template_rows": null,
       "height": null,
       "justify_content": null,
       "justify_items": null,
       "left": null,
       "margin": null,
       "max_height": null,
       "max_width": null,
       "min_height": null,
       "min_width": null,
       "object_fit": null,
       "object_position": null,
       "order": null,
       "overflow": null,
       "overflow_x": null,
       "overflow_y": null,
       "padding": null,
       "right": null,
       "top": null,
       "visibility": null,
       "width": null
      }
     },
     "e3fb338ae55247e69de43e54746f2e1f": {
      "model_module": "@jupyter-widgets/controls",
      "model_module_version": "1.5.0",
      "model_name": "ProgressStyleModel",
      "state": {
       "_model_module": "@jupyter-widgets/controls",
       "_model_module_version": "1.5.0",
       "_model_name": "ProgressStyleModel",
       "_view_count": null,
       "_view_module": "@jupyter-widgets/base",
       "_view_module_version": "1.2.0",
       "_view_name": "StyleView",
       "bar_color": null,
       "description_width": ""
      }
     },
     "e52549a48b7344ed92616b2547620ed5": {
      "model_module": "@jupyter-widgets/controls",
      "model_module_version": "1.5.0",
      "model_name": "HBoxModel",
      "state": {
       "_dom_classes": [],
       "_model_module": "@jupyter-widgets/controls",
       "_model_module_version": "1.5.0",
       "_model_name": "HBoxModel",
       "_view_count": null,
       "_view_module": "@jupyter-widgets/controls",
       "_view_module_version": "1.5.0",
       "_view_name": "HBoxView",
       "box_style": "",
       "children": [
        "IPY_MODEL_8737cef6ddce46e3b2dcba29c0146fe2",
        "IPY_MODEL_37956603b72c49c487f20cb69708ef0d",
        "IPY_MODEL_ce149203685049e18592638644068092"
       ],
       "layout": "IPY_MODEL_ef363b23f52443ec8447e6914b3bd59c"
      }
     },
     "eec570d3e51e4f76974aa4bd6a1dac24": {
      "model_module": "@jupyter-widgets/controls",
      "model_module_version": "1.5.0",
      "model_name": "HTMLModel",
      "state": {
       "_dom_classes": [],
       "_model_module": "@jupyter-widgets/controls",
       "_model_module_version": "1.5.0",
       "_model_name": "HTMLModel",
       "_view_count": null,
       "_view_module": "@jupyter-widgets/controls",
       "_view_module_version": "1.5.0",
       "_view_name": "HTMLView",
       "description": "",
       "description_tooltip": null,
       "layout": "IPY_MODEL_46df19e0f89543b1b6ea6c4ef6571e89",
       "placeholder": "​",
       "style": "IPY_MODEL_26247743f7854a22a42f0703efee1db5",
       "value": " 1.36M/1.36M [00:00&lt;00:00, 25.1MB/s]"
      }
     },
     "ef363b23f52443ec8447e6914b3bd59c": {
      "model_module": "@jupyter-widgets/base",
      "model_module_version": "1.2.0",
      "model_name": "LayoutModel",
      "state": {
       "_model_module": "@jupyter-widgets/base",
       "_model_module_version": "1.2.0",
       "_model_name": "LayoutModel",
       "_view_count": null,
       "_view_module": "@jupyter-widgets/base",
       "_view_module_version": "1.2.0",
       "_view_name": "LayoutView",
       "align_content": null,
       "align_items": null,
       "align_self": null,
       "border": null,
       "bottom": null,
       "display": null,
       "flex": null,
       "flex_flow": null,
       "grid_area": null,
       "grid_auto_columns": null,
       "grid_auto_flow": null,
       "grid_auto_rows": null,
       "grid_column": null,
       "grid_gap": null,
       "grid_row": null,
       "grid_template_areas": null,
       "grid_template_columns": null,
       "grid_template_rows": null,
       "height": null,
       "justify_content": null,
       "justify_items": null,
       "left": null,
       "margin": null,
       "max_height": null,
       "max_width": null,
       "min_height": null,
       "min_width": null,
       "object_fit": null,
       "object_position": null,
       "order": null,
       "overflow": null,
       "overflow_x": null,
       "overflow_y": null,
       "padding": null,
       "right": null,
       "top": null,
       "visibility": null,
       "width": null
      }
     },
     "fe257912b2054d1384c55f7425bca716": {
      "model_module": "@jupyter-widgets/controls",
      "model_module_version": "1.5.0",
      "model_name": "HTMLModel",
      "state": {
       "_dom_classes": [],
       "_model_module": "@jupyter-widgets/controls",
       "_model_module_version": "1.5.0",
       "_model_name": "HTMLModel",
       "_view_count": null,
       "_view_module": "@jupyter-widgets/controls",
       "_view_module_version": "1.5.0",
       "_view_name": "HTMLView",
       "description": "",
       "description_tooltip": null,
       "layout": "IPY_MODEL_0506c5861193498698f84350e0913c74",
       "placeholder": "​",
       "style": "IPY_MODEL_32b562132c6f4edcb4277be27f71917e",
       "value": "config.json: 100%"
      }
     },
     "fe4899af18584536821dbf1177501899": {
      "model_module": "@jupyter-widgets/controls",
      "model_module_version": "1.5.0",
      "model_name": "DescriptionStyleModel",
      "state": {
       "_model_module": "@jupyter-widgets/controls",
       "_model_module_version": "1.5.0",
       "_model_name": "DescriptionStyleModel",
       "_view_count": null,
       "_view_module": "@jupyter-widgets/base",
       "_view_module_version": "1.2.0",
       "_view_name": "StyleView",
       "description_width": ""
      }
     }
    },
    "version_major": 2,
    "version_minor": 0
   }
  }
 },
 "nbformat": 4,
 "nbformat_minor": 5
}
