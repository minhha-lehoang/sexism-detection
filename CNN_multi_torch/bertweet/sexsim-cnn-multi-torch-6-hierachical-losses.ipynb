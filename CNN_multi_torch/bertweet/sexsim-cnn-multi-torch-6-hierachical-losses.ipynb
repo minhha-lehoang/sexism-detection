{
 "cells": [
  {
   "cell_type": "code",
   "execution_count": 1,
   "id": "de728db9",
   "metadata": {
    "execution": {
     "iopub.execute_input": "2024-01-18T02:13:31.741571Z",
     "iopub.status.busy": "2024-01-18T02:13:31.741262Z",
     "iopub.status.idle": "2024-01-18T02:13:56.452159Z",
     "shell.execute_reply": "2024-01-18T02:13:56.451241Z"
    },
    "papermill": {
     "duration": 24.737149,
     "end_time": "2024-01-18T02:13:56.454528",
     "exception": false,
     "start_time": "2024-01-18T02:13:31.717379",
     "status": "completed"
    },
    "tags": []
   },
   "outputs": [
    {
     "name": "stdout",
     "output_type": "stream",
     "text": [
      "Collecting torchview\r\n",
      "  Downloading torchview-0.2.6-py3-none-any.whl (25 kB)\r\n",
      "Installing collected packages: torchview\r\n",
      "Successfully installed torchview-0.2.6\r\n",
      "Collecting torcheval\r\n",
      "  Obtaining dependency information for torcheval from https://files.pythonhosted.org/packages/e4/de/e7abc784b00de9d05999657d29187f1f7a3406ed10ecaf164de06482608f/torcheval-0.0.7-py3-none-any.whl.metadata\r\n",
      "  Downloading torcheval-0.0.7-py3-none-any.whl.metadata (8.6 kB)\r\n",
      "Requirement already satisfied: typing-extensions in /opt/conda/lib/python3.10/site-packages (from torcheval) (4.5.0)\r\n",
      "Downloading torcheval-0.0.7-py3-none-any.whl (179 kB)\r\n",
      "\u001b[2K   \u001b[90m━━━━━━━━━━━━━━━━━━━━━━━━━━━━━━━━━━━━━━━━\u001b[0m \u001b[32m179.2/179.2 kB\u001b[0m \u001b[31m12.3 MB/s\u001b[0m eta \u001b[36m0:00:00\u001b[0m\r\n",
      "\u001b[?25hInstalling collected packages: torcheval\r\n",
      "Successfully installed torcheval-0.0.7\r\n"
     ]
    }
   ],
   "source": [
    "!pip install torchview\n",
    "!pip install torcheval"
   ]
  },
  {
   "cell_type": "markdown",
   "id": "e3578169",
   "metadata": {
    "papermill": {
     "duration": 0.022325,
     "end_time": "2024-01-18T02:13:56.499852",
     "exception": false,
     "start_time": "2024-01-18T02:13:56.477527",
     "status": "completed"
    },
    "tags": []
   },
   "source": [
    "# **Sexist Classification with BERT Embeddings using Multi-task Convolutional Neural Network**"
   ]
  },
  {
   "cell_type": "code",
   "execution_count": 2,
   "id": "abb700c3",
   "metadata": {
    "execution": {
     "iopub.execute_input": "2024-01-18T02:13:56.546087Z",
     "iopub.status.busy": "2024-01-18T02:13:56.545782Z",
     "iopub.status.idle": "2024-01-18T02:14:03.748070Z",
     "shell.execute_reply": "2024-01-18T02:14:03.747249Z"
    },
    "papermill": {
     "duration": 7.228204,
     "end_time": "2024-01-18T02:14:03.750301",
     "exception": false,
     "start_time": "2024-01-18T02:13:56.522097",
     "status": "completed"
    },
    "tags": []
   },
   "outputs": [
    {
     "name": "stderr",
     "output_type": "stream",
     "text": [
      "/opt/conda/lib/python3.10/site-packages/scipy/__init__.py:146: UserWarning: A NumPy version >=1.16.5 and <1.23.0 is required for this version of SciPy (detected version 1.24.3\n",
      "  warnings.warn(f\"A NumPy version >={np_minversion} and <{np_maxversion}\"\n"
     ]
    }
   ],
   "source": [
    "import pandas as pd\n",
    "import numpy as np\n",
    "import torch\n",
    "import torch.nn as nn\n",
    "from torchview import draw_graph\n",
    "from torch.utils.data import Dataset, DataLoader\n",
    "from transformers import AutoTokenizer, AutoModel\n",
    "from torch.optim import Adam\n",
    "from torcheval.metrics import MulticlassF1Score\n",
    "from sklearn.metrics import classification_report\n",
    "import math\n",
    "from tqdm import tqdm\n",
    "import matplotlib.pyplot as plt\n",
    "\n",
    "seed = 42\n",
    "np.random.seed(seed)\n",
    "torch.manual_seed(seed)\n",
    "torch.cuda.manual_seed(seed)\n",
    "\n",
    "import warnings\n",
    "warnings.filterwarnings(\"ignore\")\n",
    "import logging\n",
    "logging.getLogger().setLevel(logging.ERROR)\n",
    "\n",
    "import os\n",
    "datadir = '/kaggle/input/new-edos/data_6'\n",
    "# datadir = '../../data_6'\n",
    "\n",
    "device = torch.device(\"cuda\" if torch.cuda.is_available() else \"cpu\")\n",
    "\n",
    "LEVELS = np.array(['1', '2', '3_1', '3_2', '3_3', '3_4'])\n",
    "BATCH_SIZE = 24"
   ]
  },
  {
   "cell_type": "markdown",
   "id": "80037832",
   "metadata": {
    "papermill": {
     "duration": 0.023018,
     "end_time": "2024-01-18T02:14:03.797099",
     "exception": false,
     "start_time": "2024-01-18T02:14:03.774081",
     "status": "completed"
    },
    "tags": []
   },
   "source": [
    "## **Load Data**"
   ]
  },
  {
   "cell_type": "code",
   "execution_count": 3,
   "id": "b188e333",
   "metadata": {
    "execution": {
     "iopub.execute_input": "2024-01-18T02:14:03.843636Z",
     "iopub.status.busy": "2024-01-18T02:14:03.843170Z",
     "iopub.status.idle": "2024-01-18T02:14:04.080286Z",
     "shell.execute_reply": "2024-01-18T02:14:04.079419Z"
    },
    "papermill": {
     "duration": 0.262768,
     "end_time": "2024-01-18T02:14:04.082532",
     "exception": false,
     "start_time": "2024-01-18T02:14:03.819764",
     "status": "completed"
    },
    "tags": []
   },
   "outputs": [
    {
     "data": {
      "text/html": [
       "<div>\n",
       "<style scoped>\n",
       "    .dataframe tbody tr th:only-of-type {\n",
       "        vertical-align: middle;\n",
       "    }\n",
       "\n",
       "    .dataframe tbody tr th {\n",
       "        vertical-align: top;\n",
       "    }\n",
       "\n",
       "    .dataframe thead th {\n",
       "        text-align: right;\n",
       "    }\n",
       "</style>\n",
       "<table border=\"1\" class=\"dataframe\">\n",
       "  <thead>\n",
       "    <tr style=\"text-align: right;\">\n",
       "      <th></th>\n",
       "      <th>rewire_id</th>\n",
       "      <th>text</th>\n",
       "      <th>label_1</th>\n",
       "      <th>label_2</th>\n",
       "      <th>label_3</th>\n",
       "      <th>label_3_1</th>\n",
       "      <th>label_3_2</th>\n",
       "      <th>label_3_3</th>\n",
       "      <th>label_3_4</th>\n",
       "      <th>tokens</th>\n",
       "    </tr>\n",
       "  </thead>\n",
       "  <tbody>\n",
       "    <tr>\n",
       "      <th>0</th>\n",
       "      <td>sexism2022_english-16993</td>\n",
       "      <td>Then, she's a keeper. 😉</td>\n",
       "      <td>not sexist</td>\n",
       "      <td>not sexist</td>\n",
       "      <td>not sexist</td>\n",
       "      <td>not sexist</td>\n",
       "      <td>not sexist</td>\n",
       "      <td>not sexist</td>\n",
       "      <td>not sexist</td>\n",
       "      <td>then , she's a keeper . :winking_face:</td>\n",
       "    </tr>\n",
       "    <tr>\n",
       "      <th>1</th>\n",
       "      <td>sexism2022_english-13149</td>\n",
       "      <td>This is like the Metallica video where the poo...</td>\n",
       "      <td>not sexist</td>\n",
       "      <td>not sexist</td>\n",
       "      <td>not sexist</td>\n",
       "      <td>not sexist</td>\n",
       "      <td>not sexist</td>\n",
       "      <td>not sexist</td>\n",
       "      <td>not sexist</td>\n",
       "      <td>this is like the metallica video where the poo...</td>\n",
       "    </tr>\n",
       "    <tr>\n",
       "      <th>2</th>\n",
       "      <td>sexism2022_english-13021</td>\n",
       "      <td>woman?</td>\n",
       "      <td>not sexist</td>\n",
       "      <td>not sexist</td>\n",
       "      <td>not sexist</td>\n",
       "      <td>not sexist</td>\n",
       "      <td>not sexist</td>\n",
       "      <td>not sexist</td>\n",
       "      <td>not sexist</td>\n",
       "      <td>woman ?</td>\n",
       "    </tr>\n",
       "    <tr>\n",
       "      <th>3</th>\n",
       "      <td>sexism2022_english-14998</td>\n",
       "      <td>Unlicensed day care worker reportedly tells co...</td>\n",
       "      <td>not sexist</td>\n",
       "      <td>not sexist</td>\n",
       "      <td>not sexist</td>\n",
       "      <td>not sexist</td>\n",
       "      <td>not sexist</td>\n",
       "      <td>not sexist</td>\n",
       "      <td>not sexist</td>\n",
       "      <td>unlicensed day care worker reportedly tells co...</td>\n",
       "    </tr>\n",
       "    <tr>\n",
       "      <th>4</th>\n",
       "      <td>sexism2022_english-7228</td>\n",
       "      <td>[USER] Leg day is easy. Hot girls who wear min...</td>\n",
       "      <td>sexist</td>\n",
       "      <td>3. animosity</td>\n",
       "      <td>3.3 backhanded gendered compliments</td>\n",
       "      <td>other</td>\n",
       "      <td>other</td>\n",
       "      <td>3.3 backhanded gendered compliments</td>\n",
       "      <td>other</td>\n",
       "      <td>user leg day is easy . hot girls who wear mini...</td>\n",
       "    </tr>\n",
       "  </tbody>\n",
       "</table>\n",
       "</div>"
      ],
      "text/plain": [
       "                  rewire_id  \\\n",
       "0  sexism2022_english-16993   \n",
       "1  sexism2022_english-13149   \n",
       "2  sexism2022_english-13021   \n",
       "3  sexism2022_english-14998   \n",
       "4   sexism2022_english-7228   \n",
       "\n",
       "                                                text     label_1  \\\n",
       "0                            Then, she's a keeper. 😉  not sexist   \n",
       "1  This is like the Metallica video where the poo...  not sexist   \n",
       "2                                             woman?  not sexist   \n",
       "3  Unlicensed day care worker reportedly tells co...  not sexist   \n",
       "4  [USER] Leg day is easy. Hot girls who wear min...      sexist   \n",
       "\n",
       "        label_2                              label_3   label_3_1   label_3_2  \\\n",
       "0    not sexist                           not sexist  not sexist  not sexist   \n",
       "1    not sexist                           not sexist  not sexist  not sexist   \n",
       "2    not sexist                           not sexist  not sexist  not sexist   \n",
       "3    not sexist                           not sexist  not sexist  not sexist   \n",
       "4  3. animosity  3.3 backhanded gendered compliments       other       other   \n",
       "\n",
       "                             label_3_3   label_3_4  \\\n",
       "0                           not sexist  not sexist   \n",
       "1                           not sexist  not sexist   \n",
       "2                           not sexist  not sexist   \n",
       "3                           not sexist  not sexist   \n",
       "4  3.3 backhanded gendered compliments       other   \n",
       "\n",
       "                                              tokens  \n",
       "0             then , she's a keeper . :winking_face:  \n",
       "1  this is like the metallica video where the poo...  \n",
       "2                                            woman ?  \n",
       "3  unlicensed day care worker reportedly tells co...  \n",
       "4  user leg day is easy . hot girls who wear mini...  "
      ]
     },
     "execution_count": 3,
     "metadata": {},
     "output_type": "execute_result"
    }
   ],
   "source": [
    "train = pd.read_csv(os.path.join(datadir, 'train.csv'))\n",
    "dev = pd.read_csv(os.path.join(datadir, 'dev.csv'))\n",
    "test = pd.read_csv(os.path.join(datadir, 'test.csv'))\n",
    "\n",
    "train.head()"
   ]
  },
  {
   "cell_type": "code",
   "execution_count": 4,
   "id": "bae6a7d3",
   "metadata": {
    "execution": {
     "iopub.execute_input": "2024-01-18T02:14:04.130420Z",
     "iopub.status.busy": "2024-01-18T02:14:04.130137Z",
     "iopub.status.idle": "2024-01-18T02:14:04.155138Z",
     "shell.execute_reply": "2024-01-18T02:14:04.154280Z"
    },
    "papermill": {
     "duration": 0.0509,
     "end_time": "2024-01-18T02:14:04.157095",
     "exception": false,
     "start_time": "2024-01-18T02:14:04.106195",
     "status": "completed"
    },
    "tags": []
   },
   "outputs": [
    {
     "data": {
      "text/html": [
       "<div>\n",
       "<style scoped>\n",
       "    .dataframe tbody tr th:only-of-type {\n",
       "        vertical-align: middle;\n",
       "    }\n",
       "\n",
       "    .dataframe tbody tr th {\n",
       "        vertical-align: top;\n",
       "    }\n",
       "\n",
       "    .dataframe thead th {\n",
       "        text-align: right;\n",
       "    }\n",
       "</style>\n",
       "<table border=\"1\" class=\"dataframe\">\n",
       "  <thead>\n",
       "    <tr style=\"text-align: right;\">\n",
       "      <th></th>\n",
       "      <th>rewire_id</th>\n",
       "      <th>text</th>\n",
       "      <th>label_1</th>\n",
       "      <th>label_2</th>\n",
       "      <th>label_3</th>\n",
       "      <th>label_3_1</th>\n",
       "      <th>label_3_2</th>\n",
       "      <th>label_3_3</th>\n",
       "      <th>label_3_4</th>\n",
       "      <th>tokens</th>\n",
       "    </tr>\n",
       "  </thead>\n",
       "  <tbody>\n",
       "    <tr>\n",
       "      <th>0</th>\n",
       "      <td>sexism2022_english-10017</td>\n",
       "      <td>She'll get a nice divorce settlement. Tiger Wo...</td>\n",
       "      <td>not sexist</td>\n",
       "      <td>not sexist</td>\n",
       "      <td>not sexist</td>\n",
       "      <td>not sexist</td>\n",
       "      <td>not sexist</td>\n",
       "      <td>not sexist</td>\n",
       "      <td>not sexist</td>\n",
       "      <td>she'll get a nice divorce settlement . tiger w...</td>\n",
       "    </tr>\n",
       "    <tr>\n",
       "      <th>1</th>\n",
       "      <td>sexism2022_english-10571</td>\n",
       "      <td>[URL] Here is another thread on it. I think it...</td>\n",
       "      <td>sexist</td>\n",
       "      <td>3. animosity</td>\n",
       "      <td>3.2 immutable gender differences and gender st...</td>\n",
       "      <td>other</td>\n",
       "      <td>other</td>\n",
       "      <td>3.2 immutable gender differences and gender st...</td>\n",
       "      <td>other</td>\n",
       "      <td>url here is another thread on it . i think its...</td>\n",
       "    </tr>\n",
       "    <tr>\n",
       "      <th>2</th>\n",
       "      <td>sexism2022_english-3800</td>\n",
       "      <td>one girl that I went to high school with liter...</td>\n",
       "      <td>not sexist</td>\n",
       "      <td>not sexist</td>\n",
       "      <td>not sexist</td>\n",
       "      <td>not sexist</td>\n",
       "      <td>not sexist</td>\n",
       "      <td>not sexist</td>\n",
       "      <td>not sexist</td>\n",
       "      <td>one girl that i went to high school with liter...</td>\n",
       "    </tr>\n",
       "    <tr>\n",
       "      <th>3</th>\n",
       "      <td>sexism2022_english-10977</td>\n",
       "      <td>Or change her name to a more fact base one lik...</td>\n",
       "      <td>not sexist</td>\n",
       "      <td>not sexist</td>\n",
       "      <td>not sexist</td>\n",
       "      <td>not sexist</td>\n",
       "      <td>not sexist</td>\n",
       "      <td>not sexist</td>\n",
       "      <td>not sexist</td>\n",
       "      <td>or change her name to a more fact base one lik...</td>\n",
       "    </tr>\n",
       "    <tr>\n",
       "      <th>4</th>\n",
       "      <td>sexism2022_english-8905</td>\n",
       "      <td>flat chested girls are little brothers to guys</td>\n",
       "      <td>sexist</td>\n",
       "      <td>2. derogation</td>\n",
       "      <td>2.1 descriptive attacks</td>\n",
       "      <td>other</td>\n",
       "      <td>2.1 descriptive attacks</td>\n",
       "      <td>other</td>\n",
       "      <td>other</td>\n",
       "      <td>flat chested girls are little brothers to guys</td>\n",
       "    </tr>\n",
       "  </tbody>\n",
       "</table>\n",
       "</div>"
      ],
      "text/plain": [
       "                  rewire_id  \\\n",
       "0  sexism2022_english-10017   \n",
       "1  sexism2022_english-10571   \n",
       "2   sexism2022_english-3800   \n",
       "3  sexism2022_english-10977   \n",
       "4   sexism2022_english-8905   \n",
       "\n",
       "                                                text     label_1  \\\n",
       "0  She'll get a nice divorce settlement. Tiger Wo...  not sexist   \n",
       "1  [URL] Here is another thread on it. I think it...      sexist   \n",
       "2  one girl that I went to high school with liter...  not sexist   \n",
       "3  Or change her name to a more fact base one lik...  not sexist   \n",
       "4     flat chested girls are little brothers to guys      sexist   \n",
       "\n",
       "         label_2                                            label_3  \\\n",
       "0     not sexist                                         not sexist   \n",
       "1   3. animosity  3.2 immutable gender differences and gender st...   \n",
       "2     not sexist                                         not sexist   \n",
       "3     not sexist                                         not sexist   \n",
       "4  2. derogation                            2.1 descriptive attacks   \n",
       "\n",
       "    label_3_1                label_3_2  \\\n",
       "0  not sexist               not sexist   \n",
       "1       other                    other   \n",
       "2  not sexist               not sexist   \n",
       "3  not sexist               not sexist   \n",
       "4       other  2.1 descriptive attacks   \n",
       "\n",
       "                                           label_3_3   label_3_4  \\\n",
       "0                                         not sexist  not sexist   \n",
       "1  3.2 immutable gender differences and gender st...       other   \n",
       "2                                         not sexist  not sexist   \n",
       "3                                         not sexist  not sexist   \n",
       "4                                              other       other   \n",
       "\n",
       "                                              tokens  \n",
       "0  she'll get a nice divorce settlement . tiger w...  \n",
       "1  url here is another thread on it . i think its...  \n",
       "2  one girl that i went to high school with liter...  \n",
       "3  or change her name to a more fact base one lik...  \n",
       "4     flat chested girls are little brothers to guys  "
      ]
     },
     "execution_count": 4,
     "metadata": {},
     "output_type": "execute_result"
    }
   ],
   "source": [
    "# shuffle the dataset\n",
    "train = train.sample(frac=1).reset_index(drop=True)\n",
    "dev = dev.sample(frac=1).reset_index(drop=True)\n",
    "test = test.sample(frac=1).reset_index(drop=True)\n",
    "\n",
    "train.head()"
   ]
  },
  {
   "cell_type": "markdown",
   "id": "75cbfbf2",
   "metadata": {
    "papermill": {
     "duration": 0.02314,
     "end_time": "2024-01-18T02:14:04.203504",
     "exception": false,
     "start_time": "2024-01-18T02:14:04.180364",
     "status": "completed"
    },
    "tags": []
   },
   "source": [
    "### Labels to categories"
   ]
  },
  {
   "cell_type": "code",
   "execution_count": 5,
   "id": "4dbb8bee",
   "metadata": {
    "execution": {
     "iopub.execute_input": "2024-01-18T02:14:04.250889Z",
     "iopub.status.busy": "2024-01-18T02:14:04.250578Z",
     "iopub.status.idle": "2024-01-18T02:14:04.267083Z",
     "shell.execute_reply": "2024-01-18T02:14:04.266270Z"
    },
    "papermill": {
     "duration": 0.042305,
     "end_time": "2024-01-18T02:14:04.269039",
     "exception": false,
     "start_time": "2024-01-18T02:14:04.226734",
     "status": "completed"
    },
    "tags": []
   },
   "outputs": [
    {
     "data": {
      "text/plain": [
       "array([array(['not sexist', 'sexist'], dtype='<U10'),\n",
       "       array(['1. threats, plans to harm and incitement', '2. derogation',\n",
       "              '3. animosity', '4. prejudiced discussions', 'not sexist'],\n",
       "             dtype='<U40')                                                ,\n",
       "       array(['1.1 threats of harm', '1.2 incitement and encouragement of harm',\n",
       "              'not sexist', 'other'], dtype='<U40')                             ,\n",
       "       array(['2.1 descriptive attacks', '2.2 aggressive and emotive attacks',\n",
       "              '2.3 dehumanising attacks & overt sexual objectification',\n",
       "              'not sexist', 'other'], dtype='<U55')                           ,\n",
       "       array(['3.1 casual use of gendered slurs, profanities, and insults',\n",
       "              '3.2 immutable gender differences and gender stereotypes',\n",
       "              '3.3 backhanded gendered compliments',\n",
       "              '3.4 condescending explanations or unwelcome advice', 'not sexist',\n",
       "              'other'], dtype='<U58')                                            ,\n",
       "       array(['4.1 supporting mistreatment of individual women',\n",
       "              '4.2 supporting systemic discrimination against women as a group',\n",
       "              'not sexist', 'other'], dtype='<U63')                             ],\n",
       "      dtype=object)"
      ]
     },
     "execution_count": 5,
     "metadata": {},
     "output_type": "execute_result"
    }
   ],
   "source": [
    "ALL_LABELS = []\n",
    "for i in range(len(LEVELS)):\n",
    "    ALL_LABELS.append(np.array(sorted(train[f'label_{LEVELS[i]}'].unique().tolist())))\n",
    "ALL_LABELS = np.array(ALL_LABELS, dtype=object)\n",
    "ALL_LABELS"
   ]
  },
  {
   "cell_type": "code",
   "execution_count": 6,
   "id": "c0957995",
   "metadata": {
    "execution": {
     "iopub.execute_input": "2024-01-18T02:14:04.317418Z",
     "iopub.status.busy": "2024-01-18T02:14:04.316552Z",
     "iopub.status.idle": "2024-01-18T02:14:04.323453Z",
     "shell.execute_reply": "2024-01-18T02:14:04.322611Z"
    },
    "papermill": {
     "duration": 0.032752,
     "end_time": "2024-01-18T02:14:04.325248",
     "exception": false,
     "start_time": "2024-01-18T02:14:04.292496",
     "status": "completed"
    },
    "tags": []
   },
   "outputs": [
    {
     "data": {
      "text/plain": [
       "(4, 'not sexist')"
      ]
     },
     "execution_count": 6,
     "metadata": {},
     "output_type": "execute_result"
    }
   ],
   "source": [
    "def label_to_idx(label, level):\n",
    "    return ALL_LABELS[level-1].tolist().index(label)\n",
    "\n",
    "def idx_to_label(idx, level):\n",
    "    return ALL_LABELS[level-1][idx]\n",
    "\n",
    "label_to_idx('not sexist', 5), idx_to_label(2, 3)"
   ]
  },
  {
   "cell_type": "code",
   "execution_count": 7,
   "id": "6906e2a7",
   "metadata": {
    "execution": {
     "iopub.execute_input": "2024-01-18T02:14:04.413161Z",
     "iopub.status.busy": "2024-01-18T02:14:04.412473Z",
     "iopub.status.idle": "2024-01-18T02:14:04.638093Z",
     "shell.execute_reply": "2024-01-18T02:14:04.637241Z"
    },
    "papermill": {
     "duration": 0.291365,
     "end_time": "2024-01-18T02:14:04.640136",
     "exception": false,
     "start_time": "2024-01-18T02:14:04.348771",
     "status": "completed"
    },
    "tags": []
   },
   "outputs": [
    {
     "data": {
      "text/plain": [
       "(torch.Size([14000, 6]), torch.Size([2000, 6]), torch.Size([4000, 6]))"
      ]
     },
     "execution_count": 7,
     "metadata": {},
     "output_type": "execute_result"
    }
   ],
   "source": [
    "y_trains = torch.empty((len(train), len(LEVELS)), dtype=torch.long)\n",
    "y_devs = torch.empty((len(dev), len(LEVELS)), dtype=torch.long)\n",
    "y_tests = torch.empty((len(test), len(LEVELS)), dtype=torch.long)\n",
    "\n",
    "for i in range(len(LEVELS)):\n",
    "    y_trains[:, i] = torch.tensor(train[f'label_{LEVELS[i]}'].apply(lambda x: label_to_idx(x, i+1)).values, dtype=torch.long)\n",
    "    y_devs[:, i] = torch.tensor(dev[f'label_{LEVELS[i]}'].apply(lambda x: label_to_idx(x, i+1)).values, dtype=torch.long)\n",
    "    y_tests[:, i] = torch.tensor(test[f'label_{LEVELS[i]}'].apply(lambda x: label_to_idx(x, i+1)).values, dtype=torch.long)\n",
    "\n",
    "y_trains.shape, y_devs.shape, y_tests.shape"
   ]
  },
  {
   "cell_type": "markdown",
   "id": "341b691c",
   "metadata": {
    "papermill": {
     "duration": 0.023428,
     "end_time": "2024-01-18T02:14:04.687793",
     "exception": false,
     "start_time": "2024-01-18T02:14:04.664365",
     "status": "completed"
    },
    "tags": []
   },
   "source": [
    "### Class weights"
   ]
  },
  {
   "cell_type": "code",
   "execution_count": 8,
   "id": "ab65268f",
   "metadata": {
    "execution": {
     "iopub.execute_input": "2024-01-18T02:14:04.736957Z",
     "iopub.status.busy": "2024-01-18T02:14:04.736348Z",
     "iopub.status.idle": "2024-01-18T02:14:05.120246Z",
     "shell.execute_reply": "2024-01-18T02:14:05.119328Z"
    },
    "papermill": {
     "duration": 0.410467,
     "end_time": "2024-01-18T02:14:05.122369",
     "exception": false,
     "start_time": "2024-01-18T02:14:04.711902",
     "status": "completed"
    },
    "tags": []
   },
   "outputs": [
    {
     "data": {
      "text/plain": [
       "[tensor([0.2427, 0.7573], device='cuda:0'),\n",
       " tensor([0.4130, 0.0805, 0.1099, 0.3845, 0.0121], device='cuda:0'),\n",
       " tensor([0.8039, 0.1772, 0.0042, 0.0146], device='cuda:0'),\n",
       " tensor([0.1635, 0.1742, 0.5863, 0.0111, 0.0649], device='cuda:0'),\n",
       " tensor([0.0379, 0.0579, 0.3773, 0.5138, 0.0023, 0.0108], device='cuda:0'),\n",
       " tensor([0.7563, 0.2199, 0.0054, 0.0185], device='cuda:0')]"
      ]
     },
     "execution_count": 8,
     "metadata": {},
     "output_type": "execute_result"
    }
   ],
   "source": [
    "classes_weights = []\n",
    "for i in range(len(LEVELS)):\n",
    "    w = 1 / torch.bincount(y_trains[:, i]).float()\n",
    "    w = w / w.sum()\n",
    "    classes_weights.append(w.to(device))\n",
    "classes_weights"
   ]
  },
  {
   "cell_type": "markdown",
   "id": "4d34a22c",
   "metadata": {
    "papermill": {
     "duration": 0.023677,
     "end_time": "2024-01-18T02:14:05.170944",
     "exception": false,
     "start_time": "2024-01-18T02:14:05.147267",
     "status": "completed"
    },
    "tags": []
   },
   "source": [
    "## **BERT Embeddings**"
   ]
  },
  {
   "cell_type": "code",
   "execution_count": 9,
   "id": "9ed2aa4b",
   "metadata": {
    "execution": {
     "iopub.execute_input": "2024-01-18T02:14:05.220216Z",
     "iopub.status.busy": "2024-01-18T02:14:05.219928Z",
     "iopub.status.idle": "2024-01-18T02:14:26.431832Z",
     "shell.execute_reply": "2024-01-18T02:14:26.430880Z"
    },
    "papermill": {
     "duration": 21.239008,
     "end_time": "2024-01-18T02:14:26.433853",
     "exception": false,
     "start_time": "2024-01-18T02:14:05.194845",
     "status": "completed"
    },
    "tags": []
   },
   "outputs": [
    {
     "data": {
      "application/vnd.jupyter.widget-view+json": {
       "model_id": "25c55103b53c473f97c4539f405572ec",
       "version_major": 2,
       "version_minor": 0
      },
      "text/plain": [
       "config.json:   0%|          | 0.00/558 [00:00<?, ?B/s]"
      ]
     },
     "metadata": {},
     "output_type": "display_data"
    },
    {
     "data": {
      "application/vnd.jupyter.widget-view+json": {
       "model_id": "8cb42fa7d3924cb1b8064b9452f01c0a",
       "version_major": 2,
       "version_minor": 0
      },
      "text/plain": [
       "vocab.txt:   0%|          | 0.00/843k [00:00<?, ?B/s]"
      ]
     },
     "metadata": {},
     "output_type": "display_data"
    },
    {
     "data": {
      "application/vnd.jupyter.widget-view+json": {
       "model_id": "18b2c86ee81743b7a0e0b2a9e089b436",
       "version_major": 2,
       "version_minor": 0
      },
      "text/plain": [
       "bpe.codes:   0%|          | 0.00/1.08M [00:00<?, ?B/s]"
      ]
     },
     "metadata": {},
     "output_type": "display_data"
    },
    {
     "data": {
      "application/vnd.jupyter.widget-view+json": {
       "model_id": "36aa538b81a74ae98f097aa56bb474b3",
       "version_major": 2,
       "version_minor": 0
      },
      "text/plain": [
       "tokenizer.json:   0%|          | 0.00/2.91M [00:00<?, ?B/s]"
      ]
     },
     "metadata": {},
     "output_type": "display_data"
    },
    {
     "data": {
      "application/vnd.jupyter.widget-view+json": {
       "model_id": "af8fd09c3fee44a09354e6521e5eab67",
       "version_major": 2,
       "version_minor": 0
      },
      "text/plain": [
       "pytorch_model.bin:   0%|          | 0.00/543M [00:00<?, ?B/s]"
      ]
     },
     "metadata": {},
     "output_type": "display_data"
    },
    {
     "data": {
      "text/plain": [
       "'bertweet-base'"
      ]
     },
     "execution_count": 9,
     "metadata": {},
     "output_type": "execute_result"
    }
   ],
   "source": [
    "# model_path = 'distilbert-base-uncased' # cpu\n",
    "model_path = 'vinai/bertweet-base' # gpu\n",
    "\n",
    "tokenizer = AutoTokenizer.from_pretrained(model_path)\n",
    "bert_model = AutoModel.from_pretrained(model_path)\n",
    "\n",
    "model_name = model_path.split('/')[-1]\n",
    "assert len(model_name.split('/')) == 1\n",
    "\n",
    "model_name"
   ]
  },
  {
   "cell_type": "markdown",
   "id": "5efc853c",
   "metadata": {
    "papermill": {
     "duration": 0.024549,
     "end_time": "2024-01-18T02:14:26.483968",
     "exception": false,
     "start_time": "2024-01-18T02:14:26.459419",
     "status": "completed"
    },
    "tags": []
   },
   "source": [
    "### Padding by batch Dataset"
   ]
  },
  {
   "cell_type": "code",
   "execution_count": 10,
   "id": "486a30aa",
   "metadata": {
    "execution": {
     "iopub.execute_input": "2024-01-18T02:14:26.534992Z",
     "iopub.status.busy": "2024-01-18T02:14:26.534536Z",
     "iopub.status.idle": "2024-01-18T02:14:26.543344Z",
     "shell.execute_reply": "2024-01-18T02:14:26.542690Z"
    },
    "papermill": {
     "duration": 0.036582,
     "end_time": "2024-01-18T02:14:26.545189",
     "exception": false,
     "start_time": "2024-01-18T02:14:26.508607",
     "status": "completed"
    },
    "tags": []
   },
   "outputs": [],
   "source": [
    "class MiniBatchPaddingDataset(Dataset):\n",
    "    def __init__(self, x, y, batch_size=BATCH_SIZE):\n",
    "        self.y = y\n",
    "        self.batch_size = batch_size\n",
    "\n",
    "        # padding by max length in each batch\n",
    "        self.num_batches = math.ceil(len(x) / self.batch_size)\n",
    "\n",
    "        self.input_ids = []\n",
    "        self.attention_masks = []\n",
    "        \n",
    "        for batch in range(self.num_batches):\n",
    "            batch_start = batch * self.batch_size\n",
    "            batch_end = min((batch + 1) * self.batch_size, len(x))\n",
    "\n",
    "            batch_encodings = tokenizer(x[batch_start:batch_end], \n",
    "                                        padding=True, \n",
    "                                        max_length=120,\n",
    "                                        truncation=True)\n",
    "            batch_input_ids = batch_encodings['input_ids']\n",
    "            batch_attention_mask = batch_encodings['attention_mask']\n",
    "\n",
    "            self.input_ids += batch_input_ids\n",
    "            self.attention_masks += batch_attention_mask\n",
    "            \n",
    "\n",
    "    def __getitem__(self, index):\n",
    "        input_ids = torch.tensor(self.input_ids[index])\n",
    "        attention_mask = torch.tensor(self.attention_masks[index])\n",
    "        labels = torch.tensor(self.y[index])\n",
    "        inputs = torch.stack((input_ids, attention_mask))\n",
    "\n",
    "        return inputs, labels\n",
    "    \n",
    "    def __len__(self):\n",
    "        return len(self.input_ids)"
   ]
  },
  {
   "cell_type": "code",
   "execution_count": 11,
   "id": "c0b4b6a4",
   "metadata": {
    "execution": {
     "iopub.execute_input": "2024-01-18T02:14:26.595781Z",
     "iopub.status.busy": "2024-01-18T02:14:26.595469Z",
     "iopub.status.idle": "2024-01-18T02:14:32.876868Z",
     "shell.execute_reply": "2024-01-18T02:14:32.875890Z"
    },
    "papermill": {
     "duration": 6.309384,
     "end_time": "2024-01-18T02:14:32.879251",
     "exception": false,
     "start_time": "2024-01-18T02:14:26.569867",
     "status": "completed"
    },
    "tags": []
   },
   "outputs": [],
   "source": [
    "x_trains = train['text'].tolist()\n",
    "x_devs = dev['text'].tolist()\n",
    "x_tests = test['text'].tolist()\n",
    "\n",
    "train_dataset = MiniBatchPaddingDataset(x_trains, y_trains)\n",
    "dev_dataset = MiniBatchPaddingDataset(x_devs, y_devs)\n",
    "test_dataset = MiniBatchPaddingDataset(x_tests, y_tests)"
   ]
  },
  {
   "cell_type": "markdown",
   "id": "918ec646",
   "metadata": {
    "papermill": {
     "duration": 0.024979,
     "end_time": "2024-01-18T02:14:32.929702",
     "exception": false,
     "start_time": "2024-01-18T02:14:32.904723",
     "status": "completed"
    },
    "tags": []
   },
   "source": [
    "### Dataloader"
   ]
  },
  {
   "cell_type": "code",
   "execution_count": 12,
   "id": "fe3da603",
   "metadata": {
    "execution": {
     "iopub.execute_input": "2024-01-18T02:14:32.980766Z",
     "iopub.status.busy": "2024-01-18T02:14:32.980431Z",
     "iopub.status.idle": "2024-01-18T02:14:32.985460Z",
     "shell.execute_reply": "2024-01-18T02:14:32.984663Z"
    },
    "papermill": {
     "duration": 0.033048,
     "end_time": "2024-01-18T02:14:32.987428",
     "exception": false,
     "start_time": "2024-01-18T02:14:32.954380",
     "status": "completed"
    },
    "tags": []
   },
   "outputs": [],
   "source": [
    "train_loader = DataLoader(train_dataset, batch_size=BATCH_SIZE, shuffle=False)\n",
    "dev_loader = DataLoader(dev_dataset, batch_size=BATCH_SIZE, shuffle=False)\n",
    "test_loader = DataLoader(test_dataset, batch_size=BATCH_SIZE, shuffle=False)"
   ]
  },
  {
   "cell_type": "code",
   "execution_count": 13,
   "id": "0fc1ab8e",
   "metadata": {
    "execution": {
     "iopub.execute_input": "2024-01-18T02:14:33.037863Z",
     "iopub.status.busy": "2024-01-18T02:14:33.037589Z",
     "iopub.status.idle": "2024-01-18T02:14:34.711069Z",
     "shell.execute_reply": "2024-01-18T02:14:34.710210Z"
    },
    "papermill": {
     "duration": 1.701122,
     "end_time": "2024-01-18T02:14:34.713238",
     "exception": false,
     "start_time": "2024-01-18T02:14:33.012116",
     "status": "completed"
    },
    "tags": []
   },
   "outputs": [
    {
     "name": "stdout",
     "output_type": "stream",
     "text": [
      "torch.Size([24, 2, 64])\n",
      "torch.Size([24, 6])\n"
     ]
    },
    {
     "data": {
      "text/plain": [
       "torch.Size([24, 64, 768])"
      ]
     },
     "execution_count": 13,
     "metadata": {},
     "output_type": "execute_result"
    }
   ],
   "source": [
    "for inputs, labels in train_loader:\n",
    "    print(inputs.shape)\n",
    "    print(labels.shape)\n",
    "\n",
    "    break\n",
    "    \n",
    "bert_model(inputs[:, 0, :], inputs[:, 1, :])['last_hidden_state'].shape"
   ]
  },
  {
   "cell_type": "markdown",
   "id": "5ea33261",
   "metadata": {
    "papermill": {
     "duration": 0.024889,
     "end_time": "2024-01-18T02:14:34.765024",
     "exception": false,
     "start_time": "2024-01-18T02:14:34.740135",
     "status": "completed"
    },
    "tags": []
   },
   "source": [
    "### Embedding Layer"
   ]
  },
  {
   "cell_type": "code",
   "execution_count": 14,
   "id": "569071c5",
   "metadata": {
    "execution": {
     "iopub.execute_input": "2024-01-18T02:14:34.815830Z",
     "iopub.status.busy": "2024-01-18T02:14:34.815520Z",
     "iopub.status.idle": "2024-01-18T02:14:34.822332Z",
     "shell.execute_reply": "2024-01-18T02:14:34.821510Z"
    },
    "papermill": {
     "duration": 0.034347,
     "end_time": "2024-01-18T02:14:34.824196",
     "exception": false,
     "start_time": "2024-01-18T02:14:34.789849",
     "status": "completed"
    },
    "tags": []
   },
   "outputs": [],
   "source": [
    "class BERT_Embedding(torch.nn.Module):\n",
    "    def __init__(self, model):\n",
    "        super(BERT_Embedding, self).__init__()\n",
    "        self.bert_model = model\n",
    "\n",
    "    def forward(self, input_ids, attention_mask):\n",
    "        input_ids = input_ids\n",
    "        attention_mask = attention_mask\n",
    "\n",
    "        # inputs shape: (batch_size, max_seq_len)\n",
    "        # outputs shape: (batch_size, max_seq_len, embedding_size)\n",
    "        outputs = self.bert_model(input_ids, attention_mask)\n",
    "        outputs = outputs['last_hidden_state']\n",
    "        # print('bert embedding outputs:', outputs.shape)\n",
    "        return outputs\n",
    "    \n",
    "    def __getitem__(self):\n",
    "        return self.bert_model\n",
    "        \n",
    "    def get_embedding_size(self):\n",
    "        return self.bert_model.config.hidden_size\n",
    "    \n",
    "    def get_embedding_dim(self):\n",
    "        return self.bert_model.config.hidden_size\n"
   ]
  },
  {
   "cell_type": "markdown",
   "id": "8577d36e",
   "metadata": {
    "papermill": {
     "duration": 0.024566,
     "end_time": "2024-01-18T02:14:34.873576",
     "exception": false,
     "start_time": "2024-01-18T02:14:34.849010",
     "status": "completed"
    },
    "tags": []
   },
   "source": [
    "## **Model**"
   ]
  },
  {
   "cell_type": "markdown",
   "id": "42cc3501",
   "metadata": {
    "papermill": {
     "duration": 0.024583,
     "end_time": "2024-01-18T02:14:34.923169",
     "exception": false,
     "start_time": "2024-01-18T02:14:34.898586",
     "status": "completed"
    },
    "tags": []
   },
   "source": [
    "### **MultiConvos**"
   ]
  },
  {
   "cell_type": "code",
   "execution_count": 15,
   "id": "b1eca6cc",
   "metadata": {
    "execution": {
     "iopub.execute_input": "2024-01-18T02:14:34.974280Z",
     "iopub.status.busy": "2024-01-18T02:14:34.974014Z",
     "iopub.status.idle": "2024-01-18T02:14:34.989881Z",
     "shell.execute_reply": "2024-01-18T02:14:34.989054Z"
    },
    "papermill": {
     "duration": 0.043424,
     "end_time": "2024-01-18T02:14:34.991651",
     "exception": false,
     "start_time": "2024-01-18T02:14:34.948227",
     "status": "completed"
    },
    "tags": []
   },
   "outputs": [],
   "source": [
    "# multi convos layer\n",
    "class MultiConvos(nn.Module):\n",
    "\n",
    "    class GlobalMaxPool1d(nn.Module):\n",
    "        def __init__(self):\n",
    "            super(MultiConvos.GlobalMaxPool1d, self).__init__()\n",
    "\n",
    "        def forward(self, inputs):\n",
    "            return torch.max(inputs, dim=-1)[0]\n",
    "       \n",
    "    class ConcatTensor(nn.Module):\n",
    "        def __init__(self):\n",
    "            super(MultiConvos.ConcatTensor, self).__init__()\n",
    "\n",
    "        def forward(self, inputs):\n",
    "            return torch.cat(inputs, dim=1)\n",
    "\n",
    "    \n",
    "    def __init__(self, configs=None, dropout_concat=0, input_dim=None, **kwargs):\n",
    "        super(MultiConvos, self).__init__(**kwargs)\n",
    "\n",
    "        if input_dim is None:\n",
    "            Exception('Please specify input_dim')\n",
    "\n",
    "        if configs is None:\n",
    "            self.configs = {3: {'filters': 32, 'dropout': 0.25},\n",
    "                            4: {'filters': 32, 'dropout': 0.25},\n",
    "                            5: {'filters': 32, 'dropout': 0.25}}\n",
    "        else:\n",
    "            self.configs = configs\n",
    "            \n",
    "        self.convs = nn.ModuleList()  # Use nn.ModuleList instead of a regular list\n",
    "        for key in self.configs:\n",
    "            # input shape: (batch_size, embedding_size, max_seq_len)\n",
    "            # output shape: (batch_size, filters, max_seq_len)\n",
    "            conv = nn.Conv1d(in_channels=input_dim, \n",
    "                             out_channels=int(self.configs[key]['filters']), \n",
    "                             kernel_size=int(key))\n",
    "            nn.init.kaiming_normal_(conv.weight)\n",
    "            if float(self.configs[key]['dropout']) > 0:\n",
    "                dropout = nn.Dropout(p=float(self.configs[key]['dropout']))\n",
    "            else:\n",
    "                dropout = None\n",
    "\n",
    "            # input shape: (batch_size, filters, max_seq_len)\n",
    "            # output shape: (batch_size, filters)\n",
    "            pool = MultiConvos.GlobalMaxPool1d()\n",
    "            self.convs.append(nn.Sequential(conv, nn.ReLU(), dropout, pool))  # Apply activation function separately\n",
    "#             self.convs.append(nn.Sequential(conv, dropout, pool))  # Apply activation function separately\n",
    "\n",
    "        # self.concat = nn.Concatenate(dim=1)\n",
    "        if dropout_concat > 0:\n",
    "            self.dropout_concat = nn.Dropout(p=dropout_concat)\n",
    "        else:\n",
    "            self.dropout_concat = None\n",
    "\n",
    "    def forward(self, inputs: torch.Tensor):\n",
    "        # transpose to (batch_size, embedding_size, max_seq_len)\n",
    "        # inputs = inputs.transpose(1, 2)\n",
    "        inputs = inputs.permute(0, 2, 1)\n",
    "        # print(inputs.shape)\n",
    "        convs = []\n",
    "        for i, key in enumerate(self.configs):\n",
    "            # convolutional layer\n",
    "            conv = self.convs[i][0](inputs)\n",
    "            # activation function: ReLU\n",
    "            conv = self.convs[i][1](conv)\n",
    "            if self.convs[i][2] is not None:\n",
    "                conv = self.convs[i][2](conv)\n",
    "            # global max pooling\n",
    "            conv = self.convs[i][3](conv)\n",
    "#             print(conv.shape)\n",
    "            convs.append(conv)\n",
    "        # concat all convs\n",
    "        concat = MultiConvos.ConcatTensor()(convs)\n",
    "        if self.dropout_concat is not None:\n",
    "            concat = self.dropout_concat(concat)\n",
    "        return concat\n",
    "    \n",
    "    def __output_dim__(self):\n",
    "        return sum([self.configs[key]['filters'] for key in self.configs])"
   ]
  },
  {
   "cell_type": "markdown",
   "id": "7e78217d",
   "metadata": {
    "papermill": {
     "duration": 0.024575,
     "end_time": "2024-01-18T02:14:35.041187",
     "exception": false,
     "start_time": "2024-01-18T02:14:35.016612",
     "status": "completed"
    },
    "tags": []
   },
   "source": [
    "### **Model**"
   ]
  },
  {
   "cell_type": "code",
   "execution_count": 16,
   "id": "bafe6b48",
   "metadata": {
    "execution": {
     "iopub.execute_input": "2024-01-18T02:14:35.091817Z",
     "iopub.status.busy": "2024-01-18T02:14:35.091518Z",
     "iopub.status.idle": "2024-01-18T02:14:35.101397Z",
     "shell.execute_reply": "2024-01-18T02:14:35.100667Z"
    },
    "papermill": {
     "duration": 0.037194,
     "end_time": "2024-01-18T02:14:35.103115",
     "exception": false,
     "start_time": "2024-01-18T02:14:35.065921",
     "status": "completed"
    },
    "tags": []
   },
   "outputs": [],
   "source": [
    "class MultiTask_CNN_Model(nn.Module):\n",
    "    def __init__(self, \n",
    "                 convo_configs=None, \n",
    "                 dropout_concat=0.1, \n",
    "                 dense_dim=128,\n",
    "                 dropout_embedding=0.1,\n",
    "                **kwargs):\n",
    "        super(MultiTask_CNN_Model, self).__init__(**kwargs)\n",
    "        \n",
    "        self.bert_embedding = BERT_Embedding(bert_model)\n",
    "        self.embedding_dropout = nn.Dropout(dropout_embedding)\n",
    "        self.multi_convos = MultiConvos(convo_configs, \n",
    "                                        dropout_concat=dropout_concat,\n",
    "                                        input_dim=self.bert_embedding.get_embedding_dim())\n",
    "        self.denses = nn.ModuleList()\n",
    "        self.FCs = nn.ModuleList()\n",
    "        dense_input_size = self.multi_convos.__output_dim__()\n",
    "\n",
    "        for i in range(0, len(LEVELS)):\n",
    "            self.denses.append(nn.Sequential(nn.Linear(dense_input_size, dense_dim), \n",
    "                                             nn.ReLU(), nn.Dropout(0.2)))\n",
    "#             self.FCs.append(nn.Sequential(nn.Linear(dense_dim, ALL_LABELS[i].shape[0]), \n",
    "#                                           nn.Softmax(dim=1)))\n",
    "            self.FCs.append(nn.Linear(dense_dim, ALL_LABELS[i].shape[0]))\n",
    "#             self.FCs.append(nn.Linear(dense_input_size, ALL_LABELS[i].shape[0]))\n",
    "\n",
    "    def forward(self, inputs):\n",
    "        bert_embedding = self.bert_embedding(inputs[:, 0, :], inputs[:, 1, :])\n",
    "        bert_embedding = self.embedding_dropout(bert_embedding)\n",
    "        multi_convos = self.multi_convos(bert_embedding)\n",
    "#         print(multi_convos[:, 0])\n",
    "        # print(multi_convos.shape)\n",
    "        denses = []\n",
    "        for i in range(0, len(LEVELS)):\n",
    "            denses.append(self.denses[i](multi_convos))\n",
    "        logits = []\n",
    "        for i in range(0, len(LEVELS)):\n",
    "            logits.append(self.FCs[i](denses[i]))\n",
    "#             logits.append(self.FCs[i](multi_convos))\n",
    "#         print(logits[0])\n",
    "        return logits"
   ]
  },
  {
   "cell_type": "markdown",
   "id": "a80e9efa",
   "metadata": {
    "papermill": {
     "duration": 0.024519,
     "end_time": "2024-01-18T02:14:35.152298",
     "exception": false,
     "start_time": "2024-01-18T02:14:35.127779",
     "status": "completed"
    },
    "tags": []
   },
   "source": [
    "## **Training**"
   ]
  },
  {
   "cell_type": "markdown",
   "id": "efe455f4",
   "metadata": {
    "papermill": {
     "duration": 0.02474,
     "end_time": "2024-01-18T02:14:35.201778",
     "exception": false,
     "start_time": "2024-01-18T02:14:35.177038",
     "status": "completed"
    },
    "tags": []
   },
   "source": [
    "### Losses and Metrics"
   ]
  },
  {
   "cell_type": "code",
   "execution_count": 17,
   "id": "1a3b5b3f",
   "metadata": {
    "execution": {
     "iopub.execute_input": "2024-01-18T02:14:35.252646Z",
     "iopub.status.busy": "2024-01-18T02:14:35.252378Z",
     "iopub.status.idle": "2024-01-18T02:14:35.267338Z",
     "shell.execute_reply": "2024-01-18T02:14:35.266533Z"
    },
    "papermill": {
     "duration": 0.042574,
     "end_time": "2024-01-18T02:14:35.269116",
     "exception": false,
     "start_time": "2024-01-18T02:14:35.226542",
     "status": "completed"
    },
    "tags": []
   },
   "outputs": [],
   "source": [
    "def loss_fn(logits, labels, classes_weights, task_weights=None):\n",
    "    losses = torch.zeros(len(LEVELS)).to(device)\n",
    "    for i in range(len(LEVELS)):\n",
    "        losses[i] = nn.functional.cross_entropy(logits[i], labels[:, i], \n",
    "                                                weight=classes_weights[i])\n",
    "    \n",
    "    predict_labels = []\n",
    "    for i in range(len(LEVELS)):\n",
    "        predict_labels.append(torch.argmax(logits[i], dim=1))\n",
    "\n",
    "\n",
    "    # torch.where: for each sample in batch that matches the condition, return the index of the sample\n",
    "    # torch.logical_and: for each sample in batch, return True if both conditions are True\n",
    "    # torch.tensor: convert numpy array to tensor\n",
    "    # idx_to_label: convert index to label\n",
    "    # [0].shape[0]: get the number of samples in batch that matches the condition\n",
    "\n",
    "    for i in range(1, len(LEVELS)):\n",
    "        # if model 1 predicts not sexist and any other models predict sexist: other models loss * 10 (for each sample in batch)\n",
    "        false_negatives = torch.where(torch.logical_and(torch.tensor(idx_to_label(predict_labels[0].cpu(), 1) == 'not sexist'), \n",
    "                                                        torch.tensor(idx_to_label(predict_labels[i].cpu(), i+1) != 'not sexist')\n",
    "                                                        ))[0].shape[0]\n",
    "        losses[i] *= 5 * false_negatives / BATCH_SIZE if false_negatives > 0 else 1\n",
    "\n",
    "        # if model 1 predicts sexist and any other models predict not sexist: other models loss * 10 (for each sample in batch)\n",
    "        false_positives = torch.where(torch.logical_and(torch.tensor(idx_to_label(predict_labels[0].cpu(), 1) == 'sexist'),\n",
    "                                                        torch.tensor(idx_to_label(predict_labels[i].cpu(), i+1) == 'not sexist'))\n",
    "                                    )[0].shape[0]\n",
    "        losses[i] *= 5 * false_positives / BATCH_SIZE if false_positives > 0 else 1\n",
    "\n",
    "\n",
    "    for i in range(2, len(LEVELS)):\n",
    "        # print(i, LEVELS[i])\n",
    "        # if model 2 predicts '{i-1}' and model 3_{i-1} predicts other: model 3_{i-1} loss * 10 (for each sample in batch)\n",
    "        wrong = torch.where(torch.logical_and(torch.logical_and(torch.tensor(idx_to_label(predict_labels[0].cpu(), 1) == 'sexist'),\n",
    "                                                                torch.tensor(idx_to_label(predict_labels[1].cpu(), 2) == str(i-1))),\n",
    "                                            torch.tensor(idx_to_label(predict_labels[i].cpu(), i+1) != 'other'))\n",
    "                            )[0].shape[0]\n",
    "        losses[i] *= 5 * wrong / BATCH_SIZE if wrong > 0 else 1\n",
    "\n",
    "        # if model 2 predicts '{i-1}' and any other models not 3_{i-1} don't predict other: other models loss * 10 (for each sample in batch)\n",
    "        other_levels = np.setdiff1d(LEVELS, np.array(['1', '2', LEVELS[i]]))\n",
    "        for level in other_levels:\n",
    "            wrong_other = torch.where(torch.logical_and(torch.logical_and(torch.tensor(idx_to_label(predict_labels[0].cpu(), 1) == 'sexist'),\n",
    "                                                                        torch.tensor(idx_to_label(predict_labels[1].cpu(), 2) == str(i-1))),\n",
    "                                                        torch.tensor(idx_to_label(predict_labels[LEVELS.tolist().index(level)].cpu(), \n",
    "                                                                                  LEVELS.tolist().index(level) + 1) != 'other'))\n",
    "                                    )[0].shape[0]\n",
    "            losses[LEVELS.tolist().index(level)] *= 5 * wrong_other / BATCH_SIZE if wrong_other > 0 else 1\n",
    "\n",
    "    if task_weights is None:\n",
    "        loss = losses.sum()\n",
    "    else:\n",
    "        loss = (losses * task_weights).sum()\n",
    "\n",
    "    return loss, losses"
   ]
  },
  {
   "cell_type": "code",
   "execution_count": 18,
   "id": "c8a59875",
   "metadata": {
    "execution": {
     "iopub.execute_input": "2024-01-18T02:14:35.319838Z",
     "iopub.status.busy": "2024-01-18T02:14:35.319556Z",
     "iopub.status.idle": "2024-01-18T02:14:35.324896Z",
     "shell.execute_reply": "2024-01-18T02:14:35.324120Z"
    },
    "papermill": {
     "duration": 0.03272,
     "end_time": "2024-01-18T02:14:35.326636",
     "exception": false,
     "start_time": "2024-01-18T02:14:35.293916",
     "status": "completed"
    },
    "tags": []
   },
   "outputs": [],
   "source": [
    "def multi_task_metrics_batch(logits_batch, labels_batch):\n",
    "    batch_f1s = []\n",
    "    metrics = [MulticlassF1Score(num_classes=ALL_LABELS[i].shape[0], average='macro', device=device) for i in range(len(LEVELS))]\n",
    "    # calculate f1 score for each level by batch\n",
    "    for i in range(len(LEVELS)):\n",
    "        metrics[i].update(logits_batch[i], labels_batch[:, i])\n",
    "        batch_f1s.append(metrics[i].compute())\n",
    "    return batch_f1s"
   ]
  },
  {
   "cell_type": "markdown",
   "id": "30963410",
   "metadata": {
    "papermill": {
     "duration": 0.024636,
     "end_time": "2024-01-18T02:14:35.375987",
     "exception": false,
     "start_time": "2024-01-18T02:14:35.351351",
     "status": "completed"
    },
    "tags": []
   },
   "source": [
    "### Training and Evaluation"
   ]
  },
  {
   "cell_type": "code",
   "execution_count": 19,
   "id": "fadebe57",
   "metadata": {
    "execution": {
     "iopub.execute_input": "2024-01-18T02:14:35.426599Z",
     "iopub.status.busy": "2024-01-18T02:14:35.426337Z",
     "iopub.status.idle": "2024-01-18T02:14:35.435006Z",
     "shell.execute_reply": "2024-01-18T02:14:35.434080Z"
    },
    "papermill": {
     "duration": 0.036145,
     "end_time": "2024-01-18T02:14:35.436930",
     "exception": false,
     "start_time": "2024-01-18T02:14:35.400785",
     "status": "completed"
    },
    "tags": []
   },
   "outputs": [],
   "source": [
    "def train_epoch(model, loader, optimizer, device, classes_weights, task_weights):\n",
    "    model.train()\n",
    "    joint_losses = []\n",
    "    multi_losses = []\n",
    "    multi_f1s = []\n",
    "\n",
    "    for batch in tqdm(loader):        \n",
    "        logits = model(batch[0].to(device))\n",
    "        labels = batch[1].to(device)\n",
    "        joint_loss, multitask_losses = loss_fn(logits, labels, classes_weights, task_weights)\n",
    "        \n",
    "        joint_losses.append(joint_loss.item())\n",
    "        multi_losses.append(multitask_losses)\n",
    "\n",
    "        joint_loss.backward()\n",
    "        optimizer.step()\n",
    "        optimizer.zero_grad()\n",
    "        \n",
    "        f1s = multi_task_metrics_batch(logits, labels)\n",
    "        multi_f1s.append(f1s)\n",
    "\n",
    "    epoch_joint_loss = torch.mean(torch.tensor(joint_losses))\n",
    "\n",
    "    epoch_multi_losses = []\n",
    "    epoch_multi_f1s = []\n",
    "    for i in range(len(LEVELS)):\n",
    "        epoch_multi_losses.append(torch.mean(torch.tensor([loss[i].item() for loss in multi_losses])))\n",
    "        epoch_multi_f1s.append(torch.mean(torch.tensor([f1[i] for f1 in multi_f1s])))\n",
    "\n",
    "    return epoch_joint_loss, epoch_multi_losses, epoch_multi_f1s"
   ]
  },
  {
   "cell_type": "code",
   "execution_count": 20,
   "id": "9ef17ada",
   "metadata": {
    "execution": {
     "iopub.execute_input": "2024-01-18T02:14:35.487857Z",
     "iopub.status.busy": "2024-01-18T02:14:35.487571Z",
     "iopub.status.idle": "2024-01-18T02:14:35.495531Z",
     "shell.execute_reply": "2024-01-18T02:14:35.494859Z"
    },
    "papermill": {
     "duration": 0.035418,
     "end_time": "2024-01-18T02:14:35.497466",
     "exception": false,
     "start_time": "2024-01-18T02:14:35.462048",
     "status": "completed"
    },
    "tags": []
   },
   "outputs": [],
   "source": [
    "def eval_epoch(model, loader, device, classes_weights, task_weights):\n",
    "    model.eval()\n",
    "    joint_losses = []\n",
    "    multi_losses = []\n",
    "    multi_f1s = []\n",
    "    \n",
    "    with torch.no_grad():\n",
    "        for batch in tqdm(loader):\n",
    "            logits = model(batch[0].to(device))\n",
    "            labels = batch[1].to(device)\n",
    "            joint_loss, multitask_losses = loss_fn(logits, labels, classes_weights, task_weights)\n",
    "            \n",
    "            joint_losses.append(joint_loss.item())\n",
    "            multi_losses.append(multitask_losses)\n",
    "\n",
    "            f1s = multi_task_metrics_batch(logits, labels)\n",
    "            multi_f1s.append(f1s)\n",
    "                        \n",
    "    epoch_loss = torch.mean(torch.tensor(joint_losses), dim=0)\n",
    "    epoch_multi_losses = []\n",
    "    epoch_multi_f1s = []\n",
    "    for i in range(len(LEVELS)):\n",
    "        epoch_multi_losses.append(torch.mean(torch.tensor([loss[i].item() for loss in multi_losses])))\n",
    "        epoch_multi_f1s.append(torch.mean(torch.tensor([f1[i] for f1 in multi_f1s])))\n",
    "\n",
    "    return epoch_loss, epoch_multi_losses, epoch_multi_f1s"
   ]
  },
  {
   "cell_type": "code",
   "execution_count": 21,
   "id": "80ebf4c4",
   "metadata": {
    "execution": {
     "iopub.execute_input": "2024-01-18T02:14:35.548235Z",
     "iopub.status.busy": "2024-01-18T02:14:35.547983Z",
     "iopub.status.idle": "2024-01-18T02:14:35.556245Z",
     "shell.execute_reply": "2024-01-18T02:14:35.555406Z"
    },
    "papermill": {
     "duration": 0.035696,
     "end_time": "2024-01-18T02:14:35.558078",
     "exception": false,
     "start_time": "2024-01-18T02:14:35.522382",
     "status": "completed"
    },
    "tags": []
   },
   "outputs": [],
   "source": [
    "def train_and_validate(model, train_loader, dev_loader, optimizer, device, classes_weights, epochs=3, task_weights=None):\n",
    "    train_losses = []\n",
    "    train_multi_losses = []\n",
    "    train_f1s = []\n",
    "    dev_losses = []\n",
    "    dev_multi_losses = []\n",
    "    dev_f1s = []\n",
    "    optimizer.zero_grad()\n",
    "    \n",
    "    for epoch in range(epochs):\n",
    "        print(f'Epoch {epoch+1}')\n",
    "        train_loss, train_multi_loss, train_f1 = train_epoch(model, train_loader, optimizer, device, classes_weights, task_weights)\n",
    "        train_losses.append(train_loss)\n",
    "        print(f'Train loss: {train_losses[-1]:.6f}')\n",
    "\n",
    "        train_multi_losses.append(train_multi_loss)\n",
    "        train_f1s.append(train_f1)\n",
    "        for i in range(len(LEVELS)):\n",
    "            print(f'> Level {LEVELS[i]}: loss {train_multi_losses[-1][i]:.5f}')\n",
    "        \n",
    "        dev_loss, dev_multi_loss, dev_f1 = eval_epoch(model, dev_loader, device, classes_weights, task_weights)\n",
    "        dev_losses.append(dev_loss)\n",
    "        print(f'Dev loss: {dev_losses[-1]:.5f}')\n",
    "\n",
    "        dev_multi_losses.append(dev_multi_loss)\n",
    "        dev_f1s.append(dev_f1)\n",
    "        for i in range(len(LEVELS)):\n",
    "            print(f'> Level {LEVELS[i]}: loss {dev_multi_losses[-1][i]:.5f}')\n",
    "            \n",
    "        print('=================== \\n')\n",
    "    \n",
    "    return train_losses, train_multi_losses, train_f1s, dev_losses, dev_multi_losses, dev_f1s"
   ]
  },
  {
   "cell_type": "markdown",
   "id": "cb0e5745",
   "metadata": {
    "papermill": {
     "duration": 0.024973,
     "end_time": "2024-01-18T02:14:35.607918",
     "exception": false,
     "start_time": "2024-01-18T02:14:35.582945",
     "status": "completed"
    },
    "tags": []
   },
   "source": [
    "### Config"
   ]
  },
  {
   "cell_type": "code",
   "execution_count": 22,
   "id": "63dea1a1",
   "metadata": {
    "execution": {
     "iopub.execute_input": "2024-01-18T02:14:35.659140Z",
     "iopub.status.busy": "2024-01-18T02:14:35.658407Z",
     "iopub.status.idle": "2024-01-18T02:14:35.855142Z",
     "shell.execute_reply": "2024-01-18T02:14:35.854224Z"
    },
    "papermill": {
     "duration": 0.224351,
     "end_time": "2024-01-18T02:14:35.857141",
     "exception": false,
     "start_time": "2024-01-18T02:14:35.632790",
     "status": "completed"
    },
    "tags": []
   },
   "outputs": [
    {
     "name": "stdout",
     "output_type": "stream",
     "text": [
      "device: cuda\n"
     ]
    }
   ],
   "source": [
    "print('device:', device)\n",
    "\n",
    "multi_convos_config = {\n",
    "    1: {'filters': 128, 'dropout': 0.5},\n",
    "    2: {'filters': 256, 'dropout': 0.5},\n",
    "    3: {'filters': 256, 'dropout': 0.5},\n",
    "    4: {'filters': 128, 'dropout': 0.5},\n",
    "    5: {'filters': 64, 'dropout': 0.5},\n",
    "    6: {'filters': 64, 'dropout': 0.5}\n",
    "}\n",
    "    \n",
    "model = MultiTask_CNN_Model(multi_convos_config, \n",
    "                            dense_dim=256, \n",
    "                            dropout_concat=0.5,\n",
    "                            dropout_embedding=0.5)\n",
    "model.to(device)\n",
    "# print(model)\n",
    "\n",
    "optimizer = Adam(model.parameters(), lr=5e-6, weight_decay=1e-8)\n",
    "\n",
    "task_weights = torch.tensor([1.0, 1.5, 2.0, 2.0, 2.0, 2.0]).to(device)"
   ]
  },
  {
   "cell_type": "markdown",
   "id": "d865832c",
   "metadata": {
    "papermill": {
     "duration": 0.02463,
     "end_time": "2024-01-18T02:14:35.907088",
     "exception": false,
     "start_time": "2024-01-18T02:14:35.882458",
     "status": "completed"
    },
    "tags": []
   },
   "source": [
    "### **Visualize Model**"
   ]
  },
  {
   "cell_type": "code",
   "execution_count": 23,
   "id": "1e5e9e2d",
   "metadata": {
    "execution": {
     "iopub.execute_input": "2024-01-18T02:14:35.958375Z",
     "iopub.status.busy": "2024-01-18T02:14:35.958103Z",
     "iopub.status.idle": "2024-01-18T02:14:37.286914Z",
     "shell.execute_reply": "2024-01-18T02:14:37.286012Z"
    },
    "papermill": {
     "duration": 1.358362,
     "end_time": "2024-01-18T02:14:37.290366",
     "exception": false,
     "start_time": "2024-01-18T02:14:35.932004",
     "status": "completed"
    },
    "tags": []
   },
   "outputs": [
    {
     "data": {
      "image/svg+xml": [
       "<?xml version=\"1.0\" encoding=\"UTF-8\" standalone=\"no\"?>\n",
       "<!DOCTYPE svg PUBLIC \"-//W3C//DTD SVG 1.1//EN\"\n",
       " \"http://www.w3.org/Graphics/SVG/1.1/DTD/svg11.dtd\">\n",
       "<!-- Generated by graphviz version 9.0.0 (20231125.0833)\n",
       " -->\n",
       "<!-- Title: MultiTask_CNN_Model Pages: 1 -->\n",
       "<svg width=\"1414pt\" height=\"1250pt\"\n",
       " viewBox=\"0.00 0.00 1414.00 1249.75\" xmlns=\"http://www.w3.org/2000/svg\" xmlns:xlink=\"http://www.w3.org/1999/xlink\">\n",
       "<g id=\"graph0\" class=\"graph\" transform=\"scale(1 1) rotate(0) translate(4 1245.75)\">\n",
       "<title>MultiTask_CNN_Model</title>\n",
       "<polygon fill=\"white\" stroke=\"none\" points=\"-4,4 -4,-1245.75 1410,-1245.75 1410,4 -4,4\"/>\n",
       "<g id=\"clust1\" class=\"cluster\">\n",
       "<title>cluster_2</title>\n",
       "<polygon fill=\"none\" stroke=\"black\" stroke-dasharray=\"5,2\" points=\"575,-1036 575,-1118.25 841,-1118.25 841,-1036 575,-1036\"/>\n",
       "<text text-anchor=\"middle\" x=\"637.75\" y=\"-1102.85\" font-family=\"Times,serif\" font-size=\"12.00\">BERT_Embedding</text>\n",
       "</g>\n",
       "<g id=\"clust2\" class=\"cluster\">\n",
       "<title>cluster_3</title>\n",
       "<polygon fill=\"none\" stroke=\"black\" stroke-dasharray=\"5,2\" points=\"8,-393.75 8,-956 1398,-956 1398,-393.75 8,-393.75\"/>\n",
       "<text text-anchor=\"middle\" x=\"53.88\" y=\"-940.6\" font-family=\"Times,serif\" font-size=\"12.00\">MultiConvos</text>\n",
       "</g>\n",
       "<g id=\"clust3\" class=\"cluster\">\n",
       "<title>cluster_4</title>\n",
       "<polygon fill=\"none\" stroke=\"black\" stroke-dasharray=\"5,2\" points=\"199,-143.5 199,-385.75 367,-385.75 367,-143.5 199,-143.5\"/>\n",
       "<text text-anchor=\"middle\" x=\"238.88\" y=\"-370.35\" font-family=\"Times,serif\" font-size=\"12.00\">Sequential</text>\n",
       "</g>\n",
       "<g id=\"clust4\" class=\"cluster\">\n",
       "<title>cluster_5</title>\n",
       "<polygon fill=\"none\" stroke=\"black\" stroke-dasharray=\"5,2\" points=\"375,-143.5 375,-385.75 543,-385.75 543,-143.5 375,-143.5\"/>\n",
       "<text text-anchor=\"middle\" x=\"414.88\" y=\"-370.35\" font-family=\"Times,serif\" font-size=\"12.00\">Sequential</text>\n",
       "</g>\n",
       "<g id=\"clust5\" class=\"cluster\">\n",
       "<title>cluster_6</title>\n",
       "<polygon fill=\"none\" stroke=\"black\" stroke-dasharray=\"5,2\" points=\"551,-143.5 551,-385.75 719,-385.75 719,-143.5 551,-143.5\"/>\n",
       "<text text-anchor=\"middle\" x=\"590.88\" y=\"-370.35\" font-family=\"Times,serif\" font-size=\"12.00\">Sequential</text>\n",
       "</g>\n",
       "<g id=\"clust6\" class=\"cluster\">\n",
       "<title>cluster_7</title>\n",
       "<polygon fill=\"none\" stroke=\"black\" stroke-dasharray=\"5,2\" points=\"727,-143.5 727,-385.75 895,-385.75 895,-143.5 727,-143.5\"/>\n",
       "<text text-anchor=\"middle\" x=\"766.88\" y=\"-370.35\" font-family=\"Times,serif\" font-size=\"12.00\">Sequential</text>\n",
       "</g>\n",
       "<g id=\"clust7\" class=\"cluster\">\n",
       "<title>cluster_8</title>\n",
       "<polygon fill=\"none\" stroke=\"black\" stroke-dasharray=\"5,2\" points=\"903,-143.5 903,-385.75 1071,-385.75 1071,-143.5 903,-143.5\"/>\n",
       "<text text-anchor=\"middle\" x=\"942.88\" y=\"-370.35\" font-family=\"Times,serif\" font-size=\"12.00\">Sequential</text>\n",
       "</g>\n",
       "<g id=\"clust8\" class=\"cluster\">\n",
       "<title>cluster_9</title>\n",
       "<polygon fill=\"none\" stroke=\"black\" stroke-dasharray=\"5,2\" points=\"1079,-143.5 1079,-385.75 1247,-385.75 1247,-143.5 1079,-143.5\"/>\n",
       "<text text-anchor=\"middle\" x=\"1118.88\" y=\"-370.35\" font-family=\"Times,serif\" font-size=\"12.00\">Sequential</text>\n",
       "</g>\n",
       "<!-- 0 -->\n",
       "<g id=\"node1\" class=\"node\">\n",
       "<title>0</title>\n",
       "<polygon fill=\"lightyellow\" stroke=\"none\" points=\"772.38,-1241.75 643.62,-1241.75 643.62,-1206.25 772.38,-1206.25 772.38,-1241.75\"/>\n",
       "<polygon fill=\"none\" stroke=\"black\" points=\"643.62,-1206.25 643.62,-1241.75 712.88,-1241.75 712.88,-1206.25 643.62,-1206.25\"/>\n",
       "<text text-anchor=\"start\" x=\"648.62\" y=\"-1227.25\" font-family=\"Linux libertine\" font-size=\"10.00\">input&#45;tensor</text>\n",
       "<text text-anchor=\"start\" x=\"659.88\" y=\"-1214.5\" font-family=\"Linux libertine\" font-size=\"10.00\">depth:0</text>\n",
       "<polygon fill=\"none\" stroke=\"black\" points=\"712.88,-1206.25 712.88,-1241.75 772.38,-1241.75 772.38,-1206.25 712.88,-1206.25\"/>\n",
       "<text text-anchor=\"start\" x=\"717.88\" y=\"-1220.88\" font-family=\"Linux libertine\" font-size=\"10.00\">(24, 2, 64)</text>\n",
       "</g>\n",
       "<!-- 1 -->\n",
       "<g id=\"node2\" class=\"node\">\n",
       "<title>1</title>\n",
       "<polygon fill=\"aliceblue\" stroke=\"none\" points=\"699,-1170.25 521,-1170.25 521,-1126.25 699,-1126.25 699,-1170.25\"/>\n",
       "<polygon fill=\"none\" stroke=\"black\" points=\"521,-1126.25 521,-1170.25 590,-1170.25 590,-1126.25 521,-1126.25\"/>\n",
       "<text text-anchor=\"start\" x=\"525.88\" y=\"-1151.5\" font-family=\"Linux libertine\" font-size=\"10.00\">__getitem__</text>\n",
       "<text text-anchor=\"start\" x=\"537.12\" y=\"-1138.75\" font-family=\"Linux libertine\" font-size=\"10.00\">depth:1</text>\n",
       "<polygon fill=\"none\" stroke=\"black\" points=\"590,-1148.25 590,-1170.25 637,-1170.25 637,-1148.25 590,-1148.25\"/>\n",
       "<text text-anchor=\"start\" x=\"599.62\" y=\"-1155.75\" font-family=\"Linux libertine\" font-size=\"10.00\">input:</text>\n",
       "<polygon fill=\"none\" stroke=\"black\" points=\"637,-1148.25 637,-1170.25 699,-1170.25 699,-1148.25 637,-1148.25\"/>\n",
       "<text text-anchor=\"start\" x=\"641.75\" y=\"-1155.75\" font-family=\"Linux libertine\" font-size=\"10.00\">(24, 2, 64) </text>\n",
       "<polygon fill=\"none\" stroke=\"black\" points=\"590,-1126.25 590,-1148.25 637,-1148.25 637,-1126.25 590,-1126.25\"/>\n",
       "<text text-anchor=\"start\" x=\"594.75\" y=\"-1133.75\" font-family=\"Linux libertine\" font-size=\"10.00\">output: </text>\n",
       "<polygon fill=\"none\" stroke=\"black\" points=\"637,-1126.25 637,-1148.25 699,-1148.25 699,-1126.25 637,-1126.25\"/>\n",
       "<text text-anchor=\"start\" x=\"647.75\" y=\"-1133.75\" font-family=\"Linux libertine\" font-size=\"10.00\">(24, 64) </text>\n",
       "</g>\n",
       "<!-- 0&#45;&gt;1 -->\n",
       "<g id=\"edge1\" class=\"edge\">\n",
       "<title>0&#45;&gt;1</title>\n",
       "<path fill=\"none\" stroke=\"black\" d=\"M685.76,-1206.26C674.2,-1197.56 659.77,-1186.7 646.61,-1176.8\"/>\n",
       "<polygon fill=\"black\" stroke=\"black\" points=\"649.06,-1174.27 638.97,-1171.05 644.85,-1179.86 649.06,-1174.27\"/>\n",
       "</g>\n",
       "<!-- 2 -->\n",
       "<g id=\"node3\" class=\"node\">\n",
       "<title>2</title>\n",
       "<polygon fill=\"aliceblue\" stroke=\"none\" points=\"895,-1170.25 717,-1170.25 717,-1126.25 895,-1126.25 895,-1170.25\"/>\n",
       "<polygon fill=\"none\" stroke=\"black\" points=\"717,-1126.25 717,-1170.25 786,-1170.25 786,-1126.25 717,-1126.25\"/>\n",
       "<text text-anchor=\"start\" x=\"721.88\" y=\"-1151.5\" font-family=\"Linux libertine\" font-size=\"10.00\">__getitem__</text>\n",
       "<text text-anchor=\"start\" x=\"733.12\" y=\"-1138.75\" font-family=\"Linux libertine\" font-size=\"10.00\">depth:1</text>\n",
       "<polygon fill=\"none\" stroke=\"black\" points=\"786,-1148.25 786,-1170.25 833,-1170.25 833,-1148.25 786,-1148.25\"/>\n",
       "<text text-anchor=\"start\" x=\"795.62\" y=\"-1155.75\" font-family=\"Linux libertine\" font-size=\"10.00\">input:</text>\n",
       "<polygon fill=\"none\" stroke=\"black\" points=\"833,-1148.25 833,-1170.25 895,-1170.25 895,-1148.25 833,-1148.25\"/>\n",
       "<text text-anchor=\"start\" x=\"837.75\" y=\"-1155.75\" font-family=\"Linux libertine\" font-size=\"10.00\">(24, 2, 64) </text>\n",
       "<polygon fill=\"none\" stroke=\"black\" points=\"786,-1126.25 786,-1148.25 833,-1148.25 833,-1126.25 786,-1126.25\"/>\n",
       "<text text-anchor=\"start\" x=\"790.75\" y=\"-1133.75\" font-family=\"Linux libertine\" font-size=\"10.00\">output: </text>\n",
       "<polygon fill=\"none\" stroke=\"black\" points=\"833,-1126.25 833,-1148.25 895,-1148.25 895,-1126.25 833,-1126.25\"/>\n",
       "<text text-anchor=\"start\" x=\"843.75\" y=\"-1133.75\" font-family=\"Linux libertine\" font-size=\"10.00\">(24, 64) </text>\n",
       "</g>\n",
       "<!-- 0&#45;&gt;2 -->\n",
       "<g id=\"edge2\" class=\"edge\">\n",
       "<title>0&#45;&gt;2</title>\n",
       "<path fill=\"none\" stroke=\"black\" d=\"M730.24,-1206.26C741.8,-1197.56 756.23,-1186.7 769.39,-1176.8\"/>\n",
       "<polygon fill=\"black\" stroke=\"black\" points=\"771.15,-1179.86 777.03,-1171.05 766.94,-1174.27 771.15,-1179.86\"/>\n",
       "</g>\n",
       "<!-- 3 -->\n",
       "<g id=\"node4\" class=\"node\">\n",
       "<title>3</title>\n",
       "<polygon fill=\"#c1ffc1\" stroke=\"none\" points=\"832.5,-1088 583.5,-1088 583.5,-1044 832.5,-1044 832.5,-1088\"/>\n",
       "<polygon fill=\"none\" stroke=\"black\" points=\"583.5,-1044 583.5,-1088 661.5,-1088 661.5,-1044 583.5,-1044\"/>\n",
       "<text text-anchor=\"start\" x=\"588.38\" y=\"-1069.25\" font-family=\"Linux libertine\" font-size=\"10.00\">RobertaModel</text>\n",
       "<text text-anchor=\"start\" x=\"604.12\" y=\"-1056.5\" font-family=\"Linux libertine\" font-size=\"10.00\">depth:2</text>\n",
       "<polygon fill=\"none\" stroke=\"black\" points=\"661.5,-1066 661.5,-1088 708.5,-1088 708.5,-1066 661.5,-1066\"/>\n",
       "<text text-anchor=\"start\" x=\"671.12\" y=\"-1073.5\" font-family=\"Linux libertine\" font-size=\"10.00\">input:</text>\n",
       "<polygon fill=\"none\" stroke=\"black\" points=\"708.5,-1066 708.5,-1088 832.5,-1088 832.5,-1066 708.5,-1066\"/>\n",
       "<text text-anchor=\"start\" x=\"741.25\" y=\"-1073.5\" font-family=\"Linux libertine\" font-size=\"10.00\">2 x (24, 64) </text>\n",
       "<polygon fill=\"none\" stroke=\"black\" points=\"661.5,-1044 661.5,-1066 708.5,-1066 708.5,-1044 661.5,-1044\"/>\n",
       "<text text-anchor=\"start\" x=\"666.25\" y=\"-1051.5\" font-family=\"Linux libertine\" font-size=\"10.00\">output: </text>\n",
       "<polygon fill=\"none\" stroke=\"black\" points=\"708.5,-1044 708.5,-1066 832.5,-1066 832.5,-1044 708.5,-1044\"/>\n",
       "<text text-anchor=\"start\" x=\"713.5\" y=\"-1051.5\" font-family=\"Linux libertine\" font-size=\"10.00\">(24, 64, 768), (24, 768) </text>\n",
       "</g>\n",
       "<!-- 1&#45;&gt;3 -->\n",
       "<g id=\"edge3\" class=\"edge\">\n",
       "<title>1&#45;&gt;3</title>\n",
       "<path fill=\"none\" stroke=\"black\" d=\"M635.49,-1126.37C647.18,-1116.81 661.19,-1105.33 673.78,-1095.02\"/>\n",
       "<polygon fill=\"black\" stroke=\"black\" points=\"675.94,-1097.77 681.46,-1088.73 671.51,-1092.36 675.94,-1097.77\"/>\n",
       "</g>\n",
       "<!-- 2&#45;&gt;3 -->\n",
       "<g id=\"edge4\" class=\"edge\">\n",
       "<title>2&#45;&gt;3</title>\n",
       "<path fill=\"none\" stroke=\"black\" d=\"M780.51,-1126.37C768.82,-1116.81 754.81,-1105.33 742.22,-1095.02\"/>\n",
       "<polygon fill=\"black\" stroke=\"black\" points=\"744.49,-1092.36 734.54,-1088.73 740.06,-1097.77 744.49,-1092.36\"/>\n",
       "</g>\n",
       "<!-- 4 -->\n",
       "<g id=\"node5\" class=\"node\">\n",
       "<title>4</title>\n",
       "<polygon fill=\"#c1ffc1\" stroke=\"none\" points=\"793,-1008 623,-1008 623,-964 793,-964 793,-1008\"/>\n",
       "<polygon fill=\"none\" stroke=\"black\" points=\"623,-964 623,-1008 672,-1008 672,-964 623,-964\"/>\n",
       "<text text-anchor=\"start\" x=\"628\" y=\"-989.25\" font-family=\"Linux libertine\" font-size=\"10.00\">Dropout</text>\n",
       "<text text-anchor=\"start\" x=\"629.12\" y=\"-976.5\" font-family=\"Linux libertine\" font-size=\"10.00\">depth:1</text>\n",
       "<polygon fill=\"none\" stroke=\"black\" points=\"672,-986 672,-1008 719,-1008 719,-986 672,-986\"/>\n",
       "<text text-anchor=\"start\" x=\"681.62\" y=\"-993.5\" font-family=\"Linux libertine\" font-size=\"10.00\">input:</text>\n",
       "<polygon fill=\"none\" stroke=\"black\" points=\"719,-986 719,-1008 793,-1008 793,-986 719,-986\"/>\n",
       "<text text-anchor=\"start\" x=\"723.75\" y=\"-993.5\" font-family=\"Linux libertine\" font-size=\"10.00\">(24, 64, 768) </text>\n",
       "<polygon fill=\"none\" stroke=\"black\" points=\"672,-964 672,-986 719,-986 719,-964 672,-964\"/>\n",
       "<text text-anchor=\"start\" x=\"676.75\" y=\"-971.5\" font-family=\"Linux libertine\" font-size=\"10.00\">output: </text>\n",
       "<polygon fill=\"none\" stroke=\"black\" points=\"719,-964 719,-986 793,-986 793,-964 719,-964\"/>\n",
       "<text text-anchor=\"start\" x=\"723.75\" y=\"-971.5\" font-family=\"Linux libertine\" font-size=\"10.00\">(24, 64, 768) </text>\n",
       "</g>\n",
       "<!-- 3&#45;&gt;4 -->\n",
       "<g id=\"edge5\" class=\"edge\">\n",
       "<title>3&#45;&gt;4</title>\n",
       "<path fill=\"none\" stroke=\"black\" d=\"M708,-1044.1C708,-1036.49 708,-1027.7 708,-1019.34\"/>\n",
       "<polygon fill=\"black\" stroke=\"black\" points=\"711.5,-1019.47 708,-1009.47 704.5,-1019.47 711.5,-1019.47\"/>\n",
       "</g>\n",
       "<!-- 5 -->\n",
       "<g id=\"node6\" class=\"node\">\n",
       "<title>5</title>\n",
       "<polygon fill=\"aliceblue\" stroke=\"none\" points=\"794,-925.75 622,-925.75 622,-881.75 794,-881.75 794,-925.75\"/>\n",
       "<polygon fill=\"none\" stroke=\"black\" points=\"622,-881.75 622,-925.75 673,-925.75 673,-881.75 622,-881.75\"/>\n",
       "<text text-anchor=\"start\" x=\"626.88\" y=\"-907\" font-family=\"Linux libertine\" font-size=\"10.00\">permute</text>\n",
       "<text text-anchor=\"start\" x=\"629.12\" y=\"-894.25\" font-family=\"Linux libertine\" font-size=\"10.00\">depth:2</text>\n",
       "<polygon fill=\"none\" stroke=\"black\" points=\"673,-903.75 673,-925.75 720,-925.75 720,-903.75 673,-903.75\"/>\n",
       "<text text-anchor=\"start\" x=\"682.62\" y=\"-911.25\" font-family=\"Linux libertine\" font-size=\"10.00\">input:</text>\n",
       "<polygon fill=\"none\" stroke=\"black\" points=\"720,-903.75 720,-925.75 794,-925.75 794,-903.75 720,-903.75\"/>\n",
       "<text text-anchor=\"start\" x=\"724.75\" y=\"-911.25\" font-family=\"Linux libertine\" font-size=\"10.00\">(24, 64, 768) </text>\n",
       "<polygon fill=\"none\" stroke=\"black\" points=\"673,-881.75 673,-903.75 720,-903.75 720,-881.75 673,-881.75\"/>\n",
       "<text text-anchor=\"start\" x=\"677.75\" y=\"-889.25\" font-family=\"Linux libertine\" font-size=\"10.00\">output: </text>\n",
       "<polygon fill=\"none\" stroke=\"black\" points=\"720,-881.75 720,-903.75 794,-903.75 794,-881.75 720,-881.75\"/>\n",
       "<text text-anchor=\"start\" x=\"724.75\" y=\"-889.25\" font-family=\"Linux libertine\" font-size=\"10.00\">(24, 768, 64) </text>\n",
       "</g>\n",
       "<!-- 4&#45;&gt;5 -->\n",
       "<g id=\"edge6\" class=\"edge\">\n",
       "<title>4&#45;&gt;5</title>\n",
       "<path fill=\"none\" stroke=\"black\" d=\"M708,-964.33C708,-955.97 708,-946.13 708,-936.87\"/>\n",
       "<polygon fill=\"black\" stroke=\"black\" points=\"711.5,-937.14 708,-927.14 704.5,-937.14 711.5,-937.14\"/>\n",
       "</g>\n",
       "<!-- 6 -->\n",
       "<g id=\"node7\" class=\"node\">\n",
       "<title>6</title>\n",
       "<polygon fill=\"#c1ffc1\" stroke=\"none\" points=\"295.5,-845.75 128.5,-845.75 128.5,-801.75 295.5,-801.75 295.5,-845.75\"/>\n",
       "<polygon fill=\"none\" stroke=\"black\" points=\"128.5,-801.75 128.5,-845.75 174.5,-845.75 174.5,-801.75 128.5,-801.75\"/>\n",
       "<text text-anchor=\"start\" x=\"133.12\" y=\"-827\" font-family=\"Linux libertine\" font-size=\"10.00\">Conv1d</text>\n",
       "<text text-anchor=\"start\" x=\"133.12\" y=\"-814.25\" font-family=\"Linux libertine\" font-size=\"10.00\">depth:2</text>\n",
       "<polygon fill=\"none\" stroke=\"black\" points=\"174.5,-823.75 174.5,-845.75 221.5,-845.75 221.5,-823.75 174.5,-823.75\"/>\n",
       "<text text-anchor=\"start\" x=\"184.12\" y=\"-831.25\" font-family=\"Linux libertine\" font-size=\"10.00\">input:</text>\n",
       "<polygon fill=\"none\" stroke=\"black\" points=\"221.5,-823.75 221.5,-845.75 295.5,-845.75 295.5,-823.75 221.5,-823.75\"/>\n",
       "<text text-anchor=\"start\" x=\"226.25\" y=\"-831.25\" font-family=\"Linux libertine\" font-size=\"10.00\">(24, 768, 64) </text>\n",
       "<polygon fill=\"none\" stroke=\"black\" points=\"174.5,-801.75 174.5,-823.75 221.5,-823.75 221.5,-801.75 174.5,-801.75\"/>\n",
       "<text text-anchor=\"start\" x=\"179.25\" y=\"-809.25\" font-family=\"Linux libertine\" font-size=\"10.00\">output: </text>\n",
       "<polygon fill=\"none\" stroke=\"black\" points=\"221.5,-801.75 221.5,-823.75 295.5,-823.75 295.5,-801.75 221.5,-801.75\"/>\n",
       "<text text-anchor=\"start\" x=\"226.25\" y=\"-809.25\" font-family=\"Linux libertine\" font-size=\"10.00\">(24, 128, 64) </text>\n",
       "</g>\n",
       "<!-- 5&#45;&gt;6 -->\n",
       "<g id=\"edge7\" class=\"edge\">\n",
       "<title>5&#45;&gt;6</title>\n",
       "<path fill=\"none\" stroke=\"black\" d=\"M622,-890.69C544.7,-879.66 428.11,-862.54 327,-845.75 320.3,-844.64 313.38,-843.46 306.43,-842.24\"/>\n",
       "<polygon fill=\"black\" stroke=\"black\" points=\"307.43,-838.87 296.97,-840.58 306.22,-845.76 307.43,-838.87\"/>\n",
       "</g>\n",
       "<!-- 10 -->\n",
       "<g id=\"node11\" class=\"node\">\n",
       "<title>10</title>\n",
       "<polygon fill=\"#c1ffc1\" stroke=\"none\" points=\"502.5,-845.75 335.5,-845.75 335.5,-801.75 502.5,-801.75 502.5,-845.75\"/>\n",
       "<polygon fill=\"none\" stroke=\"black\" points=\"335.5,-801.75 335.5,-845.75 381.5,-845.75 381.5,-801.75 335.5,-801.75\"/>\n",
       "<text text-anchor=\"start\" x=\"340.12\" y=\"-827\" font-family=\"Linux libertine\" font-size=\"10.00\">Conv1d</text>\n",
       "<text text-anchor=\"start\" x=\"340.12\" y=\"-814.25\" font-family=\"Linux libertine\" font-size=\"10.00\">depth:2</text>\n",
       "<polygon fill=\"none\" stroke=\"black\" points=\"381.5,-823.75 381.5,-845.75 428.5,-845.75 428.5,-823.75 381.5,-823.75\"/>\n",
       "<text text-anchor=\"start\" x=\"391.12\" y=\"-831.25\" font-family=\"Linux libertine\" font-size=\"10.00\">input:</text>\n",
       "<polygon fill=\"none\" stroke=\"black\" points=\"428.5,-823.75 428.5,-845.75 502.5,-845.75 502.5,-823.75 428.5,-823.75\"/>\n",
       "<text text-anchor=\"start\" x=\"433.25\" y=\"-831.25\" font-family=\"Linux libertine\" font-size=\"10.00\">(24, 768, 64) </text>\n",
       "<polygon fill=\"none\" stroke=\"black\" points=\"381.5,-801.75 381.5,-823.75 428.5,-823.75 428.5,-801.75 381.5,-801.75\"/>\n",
       "<text text-anchor=\"start\" x=\"386.25\" y=\"-809.25\" font-family=\"Linux libertine\" font-size=\"10.00\">output: </text>\n",
       "<polygon fill=\"none\" stroke=\"black\" points=\"428.5,-801.75 428.5,-823.75 502.5,-823.75 502.5,-801.75 428.5,-801.75\"/>\n",
       "<text text-anchor=\"start\" x=\"433.25\" y=\"-809.25\" font-family=\"Linux libertine\" font-size=\"10.00\">(24, 256, 63) </text>\n",
       "</g>\n",
       "<!-- 5&#45;&gt;10 -->\n",
       "<g id=\"edge8\" class=\"edge\">\n",
       "<title>5&#45;&gt;10</title>\n",
       "<path fill=\"none\" stroke=\"black\" d=\"M630.55,-881.85C592.65,-871.62 546.84,-859.25 507.56,-848.65\"/>\n",
       "<polygon fill=\"black\" stroke=\"black\" points=\"508.69,-845.33 498.12,-846.1 506.86,-852.09 508.69,-845.33\"/>\n",
       "</g>\n",
       "<!-- 14 -->\n",
       "<g id=\"node15\" class=\"node\">\n",
       "<title>14</title>\n",
       "<polygon fill=\"#c1ffc1\" stroke=\"none\" points=\"687.5,-845.75 520.5,-845.75 520.5,-801.75 687.5,-801.75 687.5,-845.75\"/>\n",
       "<polygon fill=\"none\" stroke=\"black\" points=\"520.5,-801.75 520.5,-845.75 566.5,-845.75 566.5,-801.75 520.5,-801.75\"/>\n",
       "<text text-anchor=\"start\" x=\"525.12\" y=\"-827\" font-family=\"Linux libertine\" font-size=\"10.00\">Conv1d</text>\n",
       "<text text-anchor=\"start\" x=\"525.12\" y=\"-814.25\" font-family=\"Linux libertine\" font-size=\"10.00\">depth:2</text>\n",
       "<polygon fill=\"none\" stroke=\"black\" points=\"566.5,-823.75 566.5,-845.75 613.5,-845.75 613.5,-823.75 566.5,-823.75\"/>\n",
       "<text text-anchor=\"start\" x=\"576.12\" y=\"-831.25\" font-family=\"Linux libertine\" font-size=\"10.00\">input:</text>\n",
       "<polygon fill=\"none\" stroke=\"black\" points=\"613.5,-823.75 613.5,-845.75 687.5,-845.75 687.5,-823.75 613.5,-823.75\"/>\n",
       "<text text-anchor=\"start\" x=\"618.25\" y=\"-831.25\" font-family=\"Linux libertine\" font-size=\"10.00\">(24, 768, 64) </text>\n",
       "<polygon fill=\"none\" stroke=\"black\" points=\"566.5,-801.75 566.5,-823.75 613.5,-823.75 613.5,-801.75 566.5,-801.75\"/>\n",
       "<text text-anchor=\"start\" x=\"571.25\" y=\"-809.25\" font-family=\"Linux libertine\" font-size=\"10.00\">output: </text>\n",
       "<polygon fill=\"none\" stroke=\"black\" points=\"613.5,-801.75 613.5,-823.75 687.5,-823.75 687.5,-801.75 613.5,-801.75\"/>\n",
       "<text text-anchor=\"start\" x=\"618.25\" y=\"-809.25\" font-family=\"Linux libertine\" font-size=\"10.00\">(24, 256, 62) </text>\n",
       "</g>\n",
       "<!-- 5&#45;&gt;14 -->\n",
       "<g id=\"edge9\" class=\"edge\">\n",
       "<title>5&#45;&gt;14</title>\n",
       "<path fill=\"none\" stroke=\"black\" d=\"M680.13,-881.85C668.12,-872.84 653.91,-862.18 641.03,-852.53\"/>\n",
       "<polygon fill=\"black\" stroke=\"black\" points=\"643.26,-849.82 633.16,-846.62 639.06,-855.42 643.26,-849.82\"/>\n",
       "</g>\n",
       "<!-- 18 -->\n",
       "<g id=\"node19\" class=\"node\">\n",
       "<title>18</title>\n",
       "<polygon fill=\"#c1ffc1\" stroke=\"none\" points=\"895.5,-845.75 728.5,-845.75 728.5,-801.75 895.5,-801.75 895.5,-845.75\"/>\n",
       "<polygon fill=\"none\" stroke=\"black\" points=\"728.5,-801.75 728.5,-845.75 774.5,-845.75 774.5,-801.75 728.5,-801.75\"/>\n",
       "<text text-anchor=\"start\" x=\"733.12\" y=\"-827\" font-family=\"Linux libertine\" font-size=\"10.00\">Conv1d</text>\n",
       "<text text-anchor=\"start\" x=\"733.12\" y=\"-814.25\" font-family=\"Linux libertine\" font-size=\"10.00\">depth:2</text>\n",
       "<polygon fill=\"none\" stroke=\"black\" points=\"774.5,-823.75 774.5,-845.75 821.5,-845.75 821.5,-823.75 774.5,-823.75\"/>\n",
       "<text text-anchor=\"start\" x=\"784.12\" y=\"-831.25\" font-family=\"Linux libertine\" font-size=\"10.00\">input:</text>\n",
       "<polygon fill=\"none\" stroke=\"black\" points=\"821.5,-823.75 821.5,-845.75 895.5,-845.75 895.5,-823.75 821.5,-823.75\"/>\n",
       "<text text-anchor=\"start\" x=\"826.25\" y=\"-831.25\" font-family=\"Linux libertine\" font-size=\"10.00\">(24, 768, 64) </text>\n",
       "<polygon fill=\"none\" stroke=\"black\" points=\"774.5,-801.75 774.5,-823.75 821.5,-823.75 821.5,-801.75 774.5,-801.75\"/>\n",
       "<text text-anchor=\"start\" x=\"779.25\" y=\"-809.25\" font-family=\"Linux libertine\" font-size=\"10.00\">output: </text>\n",
       "<polygon fill=\"none\" stroke=\"black\" points=\"821.5,-801.75 821.5,-823.75 895.5,-823.75 895.5,-801.75 821.5,-801.75\"/>\n",
       "<text text-anchor=\"start\" x=\"826.25\" y=\"-809.25\" font-family=\"Linux libertine\" font-size=\"10.00\">(24, 128, 61) </text>\n",
       "</g>\n",
       "<!-- 5&#45;&gt;18 -->\n",
       "<g id=\"edge10\" class=\"edge\">\n",
       "<title>5&#45;&gt;18</title>\n",
       "<path fill=\"none\" stroke=\"black\" d=\"M735.87,-881.85C747.88,-872.84 762.09,-862.18 774.97,-852.53\"/>\n",
       "<polygon fill=\"black\" stroke=\"black\" points=\"776.94,-855.42 782.84,-846.62 772.74,-849.82 776.94,-855.42\"/>\n",
       "</g>\n",
       "<!-- 22 -->\n",
       "<g id=\"node23\" class=\"node\">\n",
       "<title>22</title>\n",
       "<polygon fill=\"#c1ffc1\" stroke=\"none\" points=\"1091.5,-845.75 924.5,-845.75 924.5,-801.75 1091.5,-801.75 1091.5,-845.75\"/>\n",
       "<polygon fill=\"none\" stroke=\"black\" points=\"924.5,-801.75 924.5,-845.75 970.5,-845.75 970.5,-801.75 924.5,-801.75\"/>\n",
       "<text text-anchor=\"start\" x=\"929.12\" y=\"-827\" font-family=\"Linux libertine\" font-size=\"10.00\">Conv1d</text>\n",
       "<text text-anchor=\"start\" x=\"929.12\" y=\"-814.25\" font-family=\"Linux libertine\" font-size=\"10.00\">depth:2</text>\n",
       "<polygon fill=\"none\" stroke=\"black\" points=\"970.5,-823.75 970.5,-845.75 1017.5,-845.75 1017.5,-823.75 970.5,-823.75\"/>\n",
       "<text text-anchor=\"start\" x=\"980.12\" y=\"-831.25\" font-family=\"Linux libertine\" font-size=\"10.00\">input:</text>\n",
       "<polygon fill=\"none\" stroke=\"black\" points=\"1017.5,-823.75 1017.5,-845.75 1091.5,-845.75 1091.5,-823.75 1017.5,-823.75\"/>\n",
       "<text text-anchor=\"start\" x=\"1022.25\" y=\"-831.25\" font-family=\"Linux libertine\" font-size=\"10.00\">(24, 768, 64) </text>\n",
       "<polygon fill=\"none\" stroke=\"black\" points=\"970.5,-801.75 970.5,-823.75 1017.5,-823.75 1017.5,-801.75 970.5,-801.75\"/>\n",
       "<text text-anchor=\"start\" x=\"975.25\" y=\"-809.25\" font-family=\"Linux libertine\" font-size=\"10.00\">output: </text>\n",
       "<polygon fill=\"none\" stroke=\"black\" points=\"1017.5,-801.75 1017.5,-823.75 1091.5,-823.75 1091.5,-801.75 1017.5,-801.75\"/>\n",
       "<text text-anchor=\"start\" x=\"1025.25\" y=\"-809.25\" font-family=\"Linux libertine\" font-size=\"10.00\">(24, 64, 60) </text>\n",
       "</g>\n",
       "<!-- 5&#45;&gt;22 -->\n",
       "<g id=\"edge11\" class=\"edge\">\n",
       "<title>5&#45;&gt;22</title>\n",
       "<path fill=\"none\" stroke=\"black\" d=\"M788.39,-881.85C827.82,-871.6 875.5,-859.2 916.33,-848.58\"/>\n",
       "<polygon fill=\"black\" stroke=\"black\" points=\"917.12,-851.99 925.92,-846.09 915.36,-845.22 917.12,-851.99\"/>\n",
       "</g>\n",
       "<!-- 26 -->\n",
       "<g id=\"node27\" class=\"node\">\n",
       "<title>26</title>\n",
       "<polygon fill=\"#c1ffc1\" stroke=\"none\" points=\"1282.5,-845.75 1115.5,-845.75 1115.5,-801.75 1282.5,-801.75 1282.5,-845.75\"/>\n",
       "<polygon fill=\"none\" stroke=\"black\" points=\"1115.5,-801.75 1115.5,-845.75 1161.5,-845.75 1161.5,-801.75 1115.5,-801.75\"/>\n",
       "<text text-anchor=\"start\" x=\"1120.12\" y=\"-827\" font-family=\"Linux libertine\" font-size=\"10.00\">Conv1d</text>\n",
       "<text text-anchor=\"start\" x=\"1120.12\" y=\"-814.25\" font-family=\"Linux libertine\" font-size=\"10.00\">depth:2</text>\n",
       "<polygon fill=\"none\" stroke=\"black\" points=\"1161.5,-823.75 1161.5,-845.75 1208.5,-845.75 1208.5,-823.75 1161.5,-823.75\"/>\n",
       "<text text-anchor=\"start\" x=\"1171.12\" y=\"-831.25\" font-family=\"Linux libertine\" font-size=\"10.00\">input:</text>\n",
       "<polygon fill=\"none\" stroke=\"black\" points=\"1208.5,-823.75 1208.5,-845.75 1282.5,-845.75 1282.5,-823.75 1208.5,-823.75\"/>\n",
       "<text text-anchor=\"start\" x=\"1213.25\" y=\"-831.25\" font-family=\"Linux libertine\" font-size=\"10.00\">(24, 768, 64) </text>\n",
       "<polygon fill=\"none\" stroke=\"black\" points=\"1161.5,-801.75 1161.5,-823.75 1208.5,-823.75 1208.5,-801.75 1161.5,-801.75\"/>\n",
       "<text text-anchor=\"start\" x=\"1166.25\" y=\"-809.25\" font-family=\"Linux libertine\" font-size=\"10.00\">output: </text>\n",
       "<polygon fill=\"none\" stroke=\"black\" points=\"1208.5,-801.75 1208.5,-823.75 1282.5,-823.75 1282.5,-801.75 1208.5,-801.75\"/>\n",
       "<text text-anchor=\"start\" x=\"1216.25\" y=\"-809.25\" font-family=\"Linux libertine\" font-size=\"10.00\">(24, 64, 59) </text>\n",
       "</g>\n",
       "<!-- 5&#45;&gt;26 -->\n",
       "<g id=\"edge12\" class=\"edge\">\n",
       "<title>5&#45;&gt;26</title>\n",
       "<path fill=\"none\" stroke=\"black\" d=\"M793.75,-892C873.54,-881.59 995.65,-864.66 1101,-845.75 1102.2,-845.53 1103.41,-845.32 1104.62,-845.09\"/>\n",
       "<polygon fill=\"black\" stroke=\"black\" points=\"1105.01,-848.58 1114.18,-843.28 1103.71,-841.7 1105.01,-848.58\"/>\n",
       "</g>\n",
       "<!-- 7 -->\n",
       "<g id=\"node8\" class=\"node\">\n",
       "<title>7</title>\n",
       "<polygon fill=\"#c1ffc1\" stroke=\"none\" points=\"273.5,-765.75 106.5,-765.75 106.5,-721.75 273.5,-721.75 273.5,-765.75\"/>\n",
       "<polygon fill=\"none\" stroke=\"black\" points=\"106.5,-721.75 106.5,-765.75 152.5,-765.75 152.5,-721.75 106.5,-721.75\"/>\n",
       "<text text-anchor=\"start\" x=\"116.75\" y=\"-747\" font-family=\"Linux libertine\" font-size=\"10.00\">ReLU</text>\n",
       "<text text-anchor=\"start\" x=\"111.12\" y=\"-734.25\" font-family=\"Linux libertine\" font-size=\"10.00\">depth:2</text>\n",
       "<polygon fill=\"none\" stroke=\"black\" points=\"152.5,-743.75 152.5,-765.75 199.5,-765.75 199.5,-743.75 152.5,-743.75\"/>\n",
       "<text text-anchor=\"start\" x=\"162.12\" y=\"-751.25\" font-family=\"Linux libertine\" font-size=\"10.00\">input:</text>\n",
       "<polygon fill=\"none\" stroke=\"black\" points=\"199.5,-743.75 199.5,-765.75 273.5,-765.75 273.5,-743.75 199.5,-743.75\"/>\n",
       "<text text-anchor=\"start\" x=\"204.25\" y=\"-751.25\" font-family=\"Linux libertine\" font-size=\"10.00\">(24, 128, 64) </text>\n",
       "<polygon fill=\"none\" stroke=\"black\" points=\"152.5,-721.75 152.5,-743.75 199.5,-743.75 199.5,-721.75 152.5,-721.75\"/>\n",
       "<text text-anchor=\"start\" x=\"157.25\" y=\"-729.25\" font-family=\"Linux libertine\" font-size=\"10.00\">output: </text>\n",
       "<polygon fill=\"none\" stroke=\"black\" points=\"199.5,-721.75 199.5,-743.75 273.5,-743.75 273.5,-721.75 199.5,-721.75\"/>\n",
       "<text text-anchor=\"start\" x=\"204.25\" y=\"-729.25\" font-family=\"Linux libertine\" font-size=\"10.00\">(24, 128, 64) </text>\n",
       "</g>\n",
       "<!-- 6&#45;&gt;7 -->\n",
       "<g id=\"edge13\" class=\"edge\">\n",
       "<title>6&#45;&gt;7</title>\n",
       "<path fill=\"none\" stroke=\"black\" d=\"M206.1,-801.85C203.91,-794.07 201.37,-785.05 198.96,-776.51\"/>\n",
       "<polygon fill=\"black\" stroke=\"black\" points=\"202.41,-775.84 196.32,-767.17 195.67,-777.74 202.41,-775.84\"/>\n",
       "</g>\n",
       "<!-- 8 -->\n",
       "<g id=\"node9\" class=\"node\">\n",
       "<title>8</title>\n",
       "<polygon fill=\"#c1ffc1\" stroke=\"none\" points=\"247,-685.75 77,-685.75 77,-641.75 247,-641.75 247,-685.75\"/>\n",
       "<polygon fill=\"none\" stroke=\"black\" points=\"77,-641.75 77,-685.75 126,-685.75 126,-641.75 77,-641.75\"/>\n",
       "<text text-anchor=\"start\" x=\"82\" y=\"-667\" font-family=\"Linux libertine\" font-size=\"10.00\">Dropout</text>\n",
       "<text text-anchor=\"start\" x=\"83.12\" y=\"-654.25\" font-family=\"Linux libertine\" font-size=\"10.00\">depth:2</text>\n",
       "<polygon fill=\"none\" stroke=\"black\" points=\"126,-663.75 126,-685.75 173,-685.75 173,-663.75 126,-663.75\"/>\n",
       "<text text-anchor=\"start\" x=\"135.62\" y=\"-671.25\" font-family=\"Linux libertine\" font-size=\"10.00\">input:</text>\n",
       "<polygon fill=\"none\" stroke=\"black\" points=\"173,-663.75 173,-685.75 247,-685.75 247,-663.75 173,-663.75\"/>\n",
       "<text text-anchor=\"start\" x=\"177.75\" y=\"-671.25\" font-family=\"Linux libertine\" font-size=\"10.00\">(24, 128, 64) </text>\n",
       "<polygon fill=\"none\" stroke=\"black\" points=\"126,-641.75 126,-663.75 173,-663.75 173,-641.75 126,-641.75\"/>\n",
       "<text text-anchor=\"start\" x=\"130.75\" y=\"-649.25\" font-family=\"Linux libertine\" font-size=\"10.00\">output: </text>\n",
       "<polygon fill=\"none\" stroke=\"black\" points=\"173,-641.75 173,-663.75 247,-663.75 247,-641.75 173,-641.75\"/>\n",
       "<text text-anchor=\"start\" x=\"177.75\" y=\"-649.25\" font-family=\"Linux libertine\" font-size=\"10.00\">(24, 128, 64) </text>\n",
       "</g>\n",
       "<!-- 7&#45;&gt;8 -->\n",
       "<g id=\"edge14\" class=\"edge\">\n",
       "<title>7&#45;&gt;8</title>\n",
       "<path fill=\"none\" stroke=\"black\" d=\"M182.5,-721.85C179.7,-714.07 176.47,-705.05 173.4,-696.51\"/>\n",
       "<polygon fill=\"black\" stroke=\"black\" points=\"176.71,-695.36 170.04,-687.13 170.12,-697.73 176.71,-695.36\"/>\n",
       "</g>\n",
       "<!-- 9 -->\n",
       "<g id=\"node10\" class=\"node\">\n",
       "<title>9</title>\n",
       "<polygon fill=\"#c1ffc1\" stroke=\"none\" points=\"232,-605.75 16,-605.75 16,-561.75 232,-561.75 232,-605.75\"/>\n",
       "<polygon fill=\"none\" stroke=\"black\" points=\"16,-561.75 16,-605.75 111,-605.75 111,-561.75 16,-561.75\"/>\n",
       "<text text-anchor=\"start\" x=\"20.75\" y=\"-587\" font-family=\"Linux libertine\" font-size=\"10.00\">GlobalMaxPool1d</text>\n",
       "<text text-anchor=\"start\" x=\"45.12\" y=\"-574.25\" font-family=\"Linux libertine\" font-size=\"10.00\">depth:2</text>\n",
       "<polygon fill=\"none\" stroke=\"black\" points=\"111,-583.75 111,-605.75 158,-605.75 158,-583.75 111,-583.75\"/>\n",
       "<text text-anchor=\"start\" x=\"120.62\" y=\"-591.25\" font-family=\"Linux libertine\" font-size=\"10.00\">input:</text>\n",
       "<polygon fill=\"none\" stroke=\"black\" points=\"158,-583.75 158,-605.75 232,-605.75 232,-583.75 158,-583.75\"/>\n",
       "<text text-anchor=\"start\" x=\"162.75\" y=\"-591.25\" font-family=\"Linux libertine\" font-size=\"10.00\">(24, 128, 64) </text>\n",
       "<polygon fill=\"none\" stroke=\"black\" points=\"111,-561.75 111,-583.75 158,-583.75 158,-561.75 111,-561.75\"/>\n",
       "<text text-anchor=\"start\" x=\"115.75\" y=\"-569.25\" font-family=\"Linux libertine\" font-size=\"10.00\">output: </text>\n",
       "<polygon fill=\"none\" stroke=\"black\" points=\"158,-561.75 158,-583.75 232,-583.75 232,-561.75 158,-561.75\"/>\n",
       "<text text-anchor=\"start\" x=\"171.75\" y=\"-569.25\" font-family=\"Linux libertine\" font-size=\"10.00\">(24, 128) </text>\n",
       "</g>\n",
       "<!-- 8&#45;&gt;9 -->\n",
       "<g id=\"edge15\" class=\"edge\">\n",
       "<title>8&#45;&gt;9</title>\n",
       "<path fill=\"none\" stroke=\"black\" d=\"M151.82,-641.85C147.94,-633.89 143.44,-624.64 139.19,-615.94\"/>\n",
       "<polygon fill=\"black\" stroke=\"black\" points=\"142.4,-614.53 134.87,-607.07 136.11,-617.59 142.4,-614.53\"/>\n",
       "</g>\n",
       "<!-- 30 -->\n",
       "<g id=\"node31\" class=\"node\">\n",
       "<title>30</title>\n",
       "<polygon fill=\"#c1ffc1\" stroke=\"none\" points=\"871.5,-525.75 546.5,-525.75 546.5,-481.75 871.5,-481.75 871.5,-525.75\"/>\n",
       "<polygon fill=\"none\" stroke=\"black\" points=\"546.5,-481.75 546.5,-525.75 621.5,-525.75 621.5,-481.75 546.5,-481.75\"/>\n",
       "<text text-anchor=\"start\" x=\"551.38\" y=\"-507\" font-family=\"Linux libertine\" font-size=\"10.00\">ConcatTensor</text>\n",
       "<text text-anchor=\"start\" x=\"565.62\" y=\"-494.25\" font-family=\"Linux libertine\" font-size=\"10.00\">depth:2</text>\n",
       "<polygon fill=\"none\" stroke=\"black\" points=\"621.5,-503.75 621.5,-525.75 668.5,-525.75 668.5,-503.75 621.5,-503.75\"/>\n",
       "<text text-anchor=\"start\" x=\"631.12\" y=\"-511.25\" font-family=\"Linux libertine\" font-size=\"10.00\">input:</text>\n",
       "<polygon fill=\"none\" stroke=\"black\" points=\"668.5,-503.75 668.5,-525.75 871.5,-525.75 871.5,-503.75 668.5,-503.75\"/>\n",
       "<text text-anchor=\"start\" x=\"673.25\" y=\"-511.25\" font-family=\"Linux libertine\" font-size=\"10.00\">2 x (24, 128), 2 x (24, 256), 2 x (24, 64) </text>\n",
       "<polygon fill=\"none\" stroke=\"black\" points=\"621.5,-481.75 621.5,-503.75 668.5,-503.75 668.5,-481.75 621.5,-481.75\"/>\n",
       "<text text-anchor=\"start\" x=\"626.25\" y=\"-489.25\" font-family=\"Linux libertine\" font-size=\"10.00\">output: </text>\n",
       "<polygon fill=\"none\" stroke=\"black\" points=\"668.5,-481.75 668.5,-503.75 871.5,-503.75 871.5,-481.75 668.5,-481.75\"/>\n",
       "<text text-anchor=\"start\" x=\"746.75\" y=\"-489.25\" font-family=\"Linux libertine\" font-size=\"10.00\">(24, 896) </text>\n",
       "</g>\n",
       "<!-- 9&#45;&gt;30 -->\n",
       "<g id=\"edge16\" class=\"edge\">\n",
       "<title>9&#45;&gt;30</title>\n",
       "<path fill=\"none\" stroke=\"black\" d=\"M231.7,-563.18C234.83,-562.69 237.94,-562.21 241,-561.75 338.12,-547.13 447.02,-533.69 535.31,-523.54\"/>\n",
       "<polygon fill=\"black\" stroke=\"black\" points=\"535.48,-527.05 545.02,-522.43 534.69,-520.09 535.48,-527.05\"/>\n",
       "</g>\n",
       "<!-- 11 -->\n",
       "<g id=\"node12\" class=\"node\">\n",
       "<title>11</title>\n",
       "<polygon fill=\"#c1ffc1\" stroke=\"none\" points=\"486.5,-765.75 319.5,-765.75 319.5,-721.75 486.5,-721.75 486.5,-765.75\"/>\n",
       "<polygon fill=\"none\" stroke=\"black\" points=\"319.5,-721.75 319.5,-765.75 365.5,-765.75 365.5,-721.75 319.5,-721.75\"/>\n",
       "<text text-anchor=\"start\" x=\"329.75\" y=\"-747\" font-family=\"Linux libertine\" font-size=\"10.00\">ReLU</text>\n",
       "<text text-anchor=\"start\" x=\"324.12\" y=\"-734.25\" font-family=\"Linux libertine\" font-size=\"10.00\">depth:2</text>\n",
       "<polygon fill=\"none\" stroke=\"black\" points=\"365.5,-743.75 365.5,-765.75 412.5,-765.75 412.5,-743.75 365.5,-743.75\"/>\n",
       "<text text-anchor=\"start\" x=\"375.12\" y=\"-751.25\" font-family=\"Linux libertine\" font-size=\"10.00\">input:</text>\n",
       "<polygon fill=\"none\" stroke=\"black\" points=\"412.5,-743.75 412.5,-765.75 486.5,-765.75 486.5,-743.75 412.5,-743.75\"/>\n",
       "<text text-anchor=\"start\" x=\"417.25\" y=\"-751.25\" font-family=\"Linux libertine\" font-size=\"10.00\">(24, 256, 63) </text>\n",
       "<polygon fill=\"none\" stroke=\"black\" points=\"365.5,-721.75 365.5,-743.75 412.5,-743.75 412.5,-721.75 365.5,-721.75\"/>\n",
       "<text text-anchor=\"start\" x=\"370.25\" y=\"-729.25\" font-family=\"Linux libertine\" font-size=\"10.00\">output: </text>\n",
       "<polygon fill=\"none\" stroke=\"black\" points=\"412.5,-721.75 412.5,-743.75 486.5,-743.75 486.5,-721.75 412.5,-721.75\"/>\n",
       "<text text-anchor=\"start\" x=\"417.25\" y=\"-729.25\" font-family=\"Linux libertine\" font-size=\"10.00\">(24, 256, 63) </text>\n",
       "</g>\n",
       "<!-- 10&#45;&gt;11 -->\n",
       "<g id=\"edge17\" class=\"edge\">\n",
       "<title>10&#45;&gt;11</title>\n",
       "<path fill=\"none\" stroke=\"black\" d=\"M414.71,-801.85C413.13,-794.15 411.31,-785.25 409.57,-776.8\"/>\n",
       "<polygon fill=\"black\" stroke=\"black\" points=\"413.04,-776.29 407.6,-767.19 406.18,-777.69 413.04,-776.29\"/>\n",
       "</g>\n",
       "<!-- 12 -->\n",
       "<g id=\"node13\" class=\"node\">\n",
       "<title>12</title>\n",
       "<polygon fill=\"#c1ffc1\" stroke=\"none\" points=\"473,-685.75 303,-685.75 303,-641.75 473,-641.75 473,-685.75\"/>\n",
       "<polygon fill=\"none\" stroke=\"black\" points=\"303,-641.75 303,-685.75 352,-685.75 352,-641.75 303,-641.75\"/>\n",
       "<text text-anchor=\"start\" x=\"308\" y=\"-667\" font-family=\"Linux libertine\" font-size=\"10.00\">Dropout</text>\n",
       "<text text-anchor=\"start\" x=\"309.12\" y=\"-654.25\" font-family=\"Linux libertine\" font-size=\"10.00\">depth:2</text>\n",
       "<polygon fill=\"none\" stroke=\"black\" points=\"352,-663.75 352,-685.75 399,-685.75 399,-663.75 352,-663.75\"/>\n",
       "<text text-anchor=\"start\" x=\"361.62\" y=\"-671.25\" font-family=\"Linux libertine\" font-size=\"10.00\">input:</text>\n",
       "<polygon fill=\"none\" stroke=\"black\" points=\"399,-663.75 399,-685.75 473,-685.75 473,-663.75 399,-663.75\"/>\n",
       "<text text-anchor=\"start\" x=\"403.75\" y=\"-671.25\" font-family=\"Linux libertine\" font-size=\"10.00\">(24, 256, 63) </text>\n",
       "<polygon fill=\"none\" stroke=\"black\" points=\"352,-641.75 352,-663.75 399,-663.75 399,-641.75 352,-641.75\"/>\n",
       "<text text-anchor=\"start\" x=\"356.75\" y=\"-649.25\" font-family=\"Linux libertine\" font-size=\"10.00\">output: </text>\n",
       "<polygon fill=\"none\" stroke=\"black\" points=\"399,-641.75 399,-663.75 473,-663.75 473,-641.75 399,-641.75\"/>\n",
       "<text text-anchor=\"start\" x=\"403.75\" y=\"-649.25\" font-family=\"Linux libertine\" font-size=\"10.00\">(24, 256, 63) </text>\n",
       "</g>\n",
       "<!-- 11&#45;&gt;12 -->\n",
       "<g id=\"edge18\" class=\"edge\">\n",
       "<title>11&#45;&gt;12</title>\n",
       "<path fill=\"none\" stroke=\"black\" d=\"M398.98,-721.85C397.5,-714.15 395.79,-705.25 394.16,-696.8\"/>\n",
       "<polygon fill=\"black\" stroke=\"black\" points=\"397.64,-696.36 392.32,-687.2 390.77,-697.68 397.64,-696.36\"/>\n",
       "</g>\n",
       "<!-- 13 -->\n",
       "<g id=\"node14\" class=\"node\">\n",
       "<title>13</title>\n",
       "<polygon fill=\"#c1ffc1\" stroke=\"none\" points=\"466,-605.75 250,-605.75 250,-561.75 466,-561.75 466,-605.75\"/>\n",
       "<polygon fill=\"none\" stroke=\"black\" points=\"250,-561.75 250,-605.75 345,-605.75 345,-561.75 250,-561.75\"/>\n",
       "<text text-anchor=\"start\" x=\"254.75\" y=\"-587\" font-family=\"Linux libertine\" font-size=\"10.00\">GlobalMaxPool1d</text>\n",
       "<text text-anchor=\"start\" x=\"279.12\" y=\"-574.25\" font-family=\"Linux libertine\" font-size=\"10.00\">depth:2</text>\n",
       "<polygon fill=\"none\" stroke=\"black\" points=\"345,-583.75 345,-605.75 392,-605.75 392,-583.75 345,-583.75\"/>\n",
       "<text text-anchor=\"start\" x=\"354.62\" y=\"-591.25\" font-family=\"Linux libertine\" font-size=\"10.00\">input:</text>\n",
       "<polygon fill=\"none\" stroke=\"black\" points=\"392,-583.75 392,-605.75 466,-605.75 466,-583.75 392,-583.75\"/>\n",
       "<text text-anchor=\"start\" x=\"396.75\" y=\"-591.25\" font-family=\"Linux libertine\" font-size=\"10.00\">(24, 256, 63) </text>\n",
       "<polygon fill=\"none\" stroke=\"black\" points=\"345,-561.75 345,-583.75 392,-583.75 392,-561.75 345,-561.75\"/>\n",
       "<text text-anchor=\"start\" x=\"349.75\" y=\"-569.25\" font-family=\"Linux libertine\" font-size=\"10.00\">output: </text>\n",
       "<polygon fill=\"none\" stroke=\"black\" points=\"392,-561.75 392,-583.75 466,-583.75 466,-561.75 392,-561.75\"/>\n",
       "<text text-anchor=\"start\" x=\"405.75\" y=\"-569.25\" font-family=\"Linux libertine\" font-size=\"10.00\">(24, 256) </text>\n",
       "</g>\n",
       "<!-- 12&#45;&gt;13 -->\n",
       "<g id=\"edge19\" class=\"edge\">\n",
       "<title>12&#45;&gt;13</title>\n",
       "<path fill=\"none\" stroke=\"black\" d=\"M379.96,-641.85C376.93,-633.98 373.42,-624.85 370.11,-616.22\"/>\n",
       "<polygon fill=\"black\" stroke=\"black\" points=\"373.46,-615.2 366.6,-607.12 366.93,-617.71 373.46,-615.2\"/>\n",
       "</g>\n",
       "<!-- 13&#45;&gt;30 -->\n",
       "<g id=\"edge20\" class=\"edge\">\n",
       "<title>13&#45;&gt;30</title>\n",
       "<path fill=\"none\" stroke=\"black\" d=\"M452.06,-561.85C498.78,-551.46 555.4,-538.88 603.58,-528.18\"/>\n",
       "<polygon fill=\"black\" stroke=\"black\" points=\"604.2,-531.62 613.2,-526.04 602.68,-524.79 604.2,-531.62\"/>\n",
       "</g>\n",
       "<!-- 15 -->\n",
       "<g id=\"node16\" class=\"node\">\n",
       "<title>15</title>\n",
       "<polygon fill=\"#c1ffc1\" stroke=\"none\" points=\"686.5,-765.75 519.5,-765.75 519.5,-721.75 686.5,-721.75 686.5,-765.75\"/>\n",
       "<polygon fill=\"none\" stroke=\"black\" points=\"519.5,-721.75 519.5,-765.75 565.5,-765.75 565.5,-721.75 519.5,-721.75\"/>\n",
       "<text text-anchor=\"start\" x=\"529.75\" y=\"-747\" font-family=\"Linux libertine\" font-size=\"10.00\">ReLU</text>\n",
       "<text text-anchor=\"start\" x=\"524.12\" y=\"-734.25\" font-family=\"Linux libertine\" font-size=\"10.00\">depth:2</text>\n",
       "<polygon fill=\"none\" stroke=\"black\" points=\"565.5,-743.75 565.5,-765.75 612.5,-765.75 612.5,-743.75 565.5,-743.75\"/>\n",
       "<text text-anchor=\"start\" x=\"575.12\" y=\"-751.25\" font-family=\"Linux libertine\" font-size=\"10.00\">input:</text>\n",
       "<polygon fill=\"none\" stroke=\"black\" points=\"612.5,-743.75 612.5,-765.75 686.5,-765.75 686.5,-743.75 612.5,-743.75\"/>\n",
       "<text text-anchor=\"start\" x=\"617.25\" y=\"-751.25\" font-family=\"Linux libertine\" font-size=\"10.00\">(24, 256, 62) </text>\n",
       "<polygon fill=\"none\" stroke=\"black\" points=\"565.5,-721.75 565.5,-743.75 612.5,-743.75 612.5,-721.75 565.5,-721.75\"/>\n",
       "<text text-anchor=\"start\" x=\"570.25\" y=\"-729.25\" font-family=\"Linux libertine\" font-size=\"10.00\">output: </text>\n",
       "<polygon fill=\"none\" stroke=\"black\" points=\"612.5,-721.75 612.5,-743.75 686.5,-743.75 686.5,-721.75 612.5,-721.75\"/>\n",
       "<text text-anchor=\"start\" x=\"617.25\" y=\"-729.25\" font-family=\"Linux libertine\" font-size=\"10.00\">(24, 256, 62) </text>\n",
       "</g>\n",
       "<!-- 14&#45;&gt;15 -->\n",
       "<g id=\"edge21\" class=\"edge\">\n",
       "<title>14&#45;&gt;15</title>\n",
       "<path fill=\"none\" stroke=\"black\" d=\"M603.73,-801.85C603.63,-794.24 603.52,-785.45 603.41,-777.09\"/>\n",
       "<polygon fill=\"black\" stroke=\"black\" points=\"606.92,-777.18 603.29,-767.22 599.92,-777.27 606.92,-777.18\"/>\n",
       "</g>\n",
       "<!-- 16 -->\n",
       "<g id=\"node17\" class=\"node\">\n",
       "<title>16</title>\n",
       "<polygon fill=\"#c1ffc1\" stroke=\"none\" points=\"684,-685.75 514,-685.75 514,-641.75 684,-641.75 684,-685.75\"/>\n",
       "<polygon fill=\"none\" stroke=\"black\" points=\"514,-641.75 514,-685.75 563,-685.75 563,-641.75 514,-641.75\"/>\n",
       "<text text-anchor=\"start\" x=\"519\" y=\"-667\" font-family=\"Linux libertine\" font-size=\"10.00\">Dropout</text>\n",
       "<text text-anchor=\"start\" x=\"520.12\" y=\"-654.25\" font-family=\"Linux libertine\" font-size=\"10.00\">depth:2</text>\n",
       "<polygon fill=\"none\" stroke=\"black\" points=\"563,-663.75 563,-685.75 610,-685.75 610,-663.75 563,-663.75\"/>\n",
       "<text text-anchor=\"start\" x=\"572.62\" y=\"-671.25\" font-family=\"Linux libertine\" font-size=\"10.00\">input:</text>\n",
       "<polygon fill=\"none\" stroke=\"black\" points=\"610,-663.75 610,-685.75 684,-685.75 684,-663.75 610,-663.75\"/>\n",
       "<text text-anchor=\"start\" x=\"614.75\" y=\"-671.25\" font-family=\"Linux libertine\" font-size=\"10.00\">(24, 256, 62) </text>\n",
       "<polygon fill=\"none\" stroke=\"black\" points=\"563,-641.75 563,-663.75 610,-663.75 610,-641.75 563,-641.75\"/>\n",
       "<text text-anchor=\"start\" x=\"567.75\" y=\"-649.25\" font-family=\"Linux libertine\" font-size=\"10.00\">output: </text>\n",
       "<polygon fill=\"none\" stroke=\"black\" points=\"610,-641.75 610,-663.75 684,-663.75 684,-641.75 610,-641.75\"/>\n",
       "<text text-anchor=\"start\" x=\"614.75\" y=\"-649.25\" font-family=\"Linux libertine\" font-size=\"10.00\">(24, 256, 62) </text>\n",
       "</g>\n",
       "<!-- 15&#45;&gt;16 -->\n",
       "<g id=\"edge22\" class=\"edge\">\n",
       "<title>15&#45;&gt;16</title>\n",
       "<path fill=\"none\" stroke=\"black\" d=\"M601.93,-721.85C601.54,-714.24 601.09,-705.45 600.66,-697.09\"/>\n",
       "<polygon fill=\"black\" stroke=\"black\" points=\"604.16,-697.03 600.15,-687.22 597.17,-697.39 604.16,-697.03\"/>\n",
       "</g>\n",
       "<!-- 17 -->\n",
       "<g id=\"node18\" class=\"node\">\n",
       "<title>17</title>\n",
       "<polygon fill=\"#c1ffc1\" stroke=\"none\" points=\"700,-605.75 484,-605.75 484,-561.75 700,-561.75 700,-605.75\"/>\n",
       "<polygon fill=\"none\" stroke=\"black\" points=\"484,-561.75 484,-605.75 579,-605.75 579,-561.75 484,-561.75\"/>\n",
       "<text text-anchor=\"start\" x=\"488.75\" y=\"-587\" font-family=\"Linux libertine\" font-size=\"10.00\">GlobalMaxPool1d</text>\n",
       "<text text-anchor=\"start\" x=\"513.12\" y=\"-574.25\" font-family=\"Linux libertine\" font-size=\"10.00\">depth:2</text>\n",
       "<polygon fill=\"none\" stroke=\"black\" points=\"579,-583.75 579,-605.75 626,-605.75 626,-583.75 579,-583.75\"/>\n",
       "<text text-anchor=\"start\" x=\"588.62\" y=\"-591.25\" font-family=\"Linux libertine\" font-size=\"10.00\">input:</text>\n",
       "<polygon fill=\"none\" stroke=\"black\" points=\"626,-583.75 626,-605.75 700,-605.75 700,-583.75 626,-583.75\"/>\n",
       "<text text-anchor=\"start\" x=\"630.75\" y=\"-591.25\" font-family=\"Linux libertine\" font-size=\"10.00\">(24, 256, 62) </text>\n",
       "<polygon fill=\"none\" stroke=\"black\" points=\"579,-561.75 579,-583.75 626,-583.75 626,-561.75 579,-561.75\"/>\n",
       "<text text-anchor=\"start\" x=\"583.75\" y=\"-569.25\" font-family=\"Linux libertine\" font-size=\"10.00\">output: </text>\n",
       "<polygon fill=\"none\" stroke=\"black\" points=\"626,-561.75 626,-583.75 700,-583.75 700,-561.75 626,-561.75\"/>\n",
       "<text text-anchor=\"start\" x=\"639.75\" y=\"-569.25\" font-family=\"Linux libertine\" font-size=\"10.00\">(24, 256) </text>\n",
       "</g>\n",
       "<!-- 16&#45;&gt;17 -->\n",
       "<g id=\"edge23\" class=\"edge\">\n",
       "<title>16&#45;&gt;17</title>\n",
       "<path fill=\"none\" stroke=\"black\" d=\"M597.12,-641.85C596.44,-634.24 595.65,-625.45 594.9,-617.09\"/>\n",
       "<polygon fill=\"black\" stroke=\"black\" points=\"598.4,-616.86 594.02,-607.22 591.42,-617.49 598.4,-616.86\"/>\n",
       "</g>\n",
       "<!-- 17&#45;&gt;30 -->\n",
       "<g id=\"edge24\" class=\"edge\">\n",
       "<title>17&#45;&gt;30</title>\n",
       "<path fill=\"none\" stroke=\"black\" d=\"M623.35,-561.85C637.12,-552.67 653.47,-541.77 668.18,-531.96\"/>\n",
       "<polygon fill=\"black\" stroke=\"black\" points=\"669.92,-535.01 676.3,-526.55 666.04,-529.18 669.92,-535.01\"/>\n",
       "</g>\n",
       "<!-- 19 -->\n",
       "<g id=\"node20\" class=\"node\">\n",
       "<title>19</title>\n",
       "<polygon fill=\"#c1ffc1\" stroke=\"none\" points=\"905.5,-765.75 738.5,-765.75 738.5,-721.75 905.5,-721.75 905.5,-765.75\"/>\n",
       "<polygon fill=\"none\" stroke=\"black\" points=\"738.5,-721.75 738.5,-765.75 784.5,-765.75 784.5,-721.75 738.5,-721.75\"/>\n",
       "<text text-anchor=\"start\" x=\"748.75\" y=\"-747\" font-family=\"Linux libertine\" font-size=\"10.00\">ReLU</text>\n",
       "<text text-anchor=\"start\" x=\"743.12\" y=\"-734.25\" font-family=\"Linux libertine\" font-size=\"10.00\">depth:2</text>\n",
       "<polygon fill=\"none\" stroke=\"black\" points=\"784.5,-743.75 784.5,-765.75 831.5,-765.75 831.5,-743.75 784.5,-743.75\"/>\n",
       "<text text-anchor=\"start\" x=\"794.12\" y=\"-751.25\" font-family=\"Linux libertine\" font-size=\"10.00\">input:</text>\n",
       "<polygon fill=\"none\" stroke=\"black\" points=\"831.5,-743.75 831.5,-765.75 905.5,-765.75 905.5,-743.75 831.5,-743.75\"/>\n",
       "<text text-anchor=\"start\" x=\"836.25\" y=\"-751.25\" font-family=\"Linux libertine\" font-size=\"10.00\">(24, 128, 61) </text>\n",
       "<polygon fill=\"none\" stroke=\"black\" points=\"784.5,-721.75 784.5,-743.75 831.5,-743.75 831.5,-721.75 784.5,-721.75\"/>\n",
       "<text text-anchor=\"start\" x=\"789.25\" y=\"-729.25\" font-family=\"Linux libertine\" font-size=\"10.00\">output: </text>\n",
       "<polygon fill=\"none\" stroke=\"black\" points=\"831.5,-721.75 831.5,-743.75 905.5,-743.75 905.5,-721.75 831.5,-721.75\"/>\n",
       "<text text-anchor=\"start\" x=\"836.25\" y=\"-729.25\" font-family=\"Linux libertine\" font-size=\"10.00\">(24, 128, 61) </text>\n",
       "</g>\n",
       "<!-- 18&#45;&gt;19 -->\n",
       "<g id=\"edge25\" class=\"edge\">\n",
       "<title>18&#45;&gt;19</title>\n",
       "<path fill=\"none\" stroke=\"black\" d=\"M814.68,-801.85C815.66,-794.24 816.78,-785.45 817.85,-777.09\"/>\n",
       "<polygon fill=\"black\" stroke=\"black\" points=\"821.32,-777.58 819.12,-767.21 814.38,-776.69 821.32,-777.58\"/>\n",
       "</g>\n",
       "<!-- 20 -->\n",
       "<g id=\"node21\" class=\"node\">\n",
       "<title>20</title>\n",
       "<polygon fill=\"#c1ffc1\" stroke=\"none\" points=\"910,-685.75 740,-685.75 740,-641.75 910,-641.75 910,-685.75\"/>\n",
       "<polygon fill=\"none\" stroke=\"black\" points=\"740,-641.75 740,-685.75 789,-685.75 789,-641.75 740,-641.75\"/>\n",
       "<text text-anchor=\"start\" x=\"745\" y=\"-667\" font-family=\"Linux libertine\" font-size=\"10.00\">Dropout</text>\n",
       "<text text-anchor=\"start\" x=\"746.12\" y=\"-654.25\" font-family=\"Linux libertine\" font-size=\"10.00\">depth:2</text>\n",
       "<polygon fill=\"none\" stroke=\"black\" points=\"789,-663.75 789,-685.75 836,-685.75 836,-663.75 789,-663.75\"/>\n",
       "<text text-anchor=\"start\" x=\"798.62\" y=\"-671.25\" font-family=\"Linux libertine\" font-size=\"10.00\">input:</text>\n",
       "<polygon fill=\"none\" stroke=\"black\" points=\"836,-663.75 836,-685.75 910,-685.75 910,-663.75 836,-663.75\"/>\n",
       "<text text-anchor=\"start\" x=\"840.75\" y=\"-671.25\" font-family=\"Linux libertine\" font-size=\"10.00\">(24, 128, 61) </text>\n",
       "<polygon fill=\"none\" stroke=\"black\" points=\"789,-641.75 789,-663.75 836,-663.75 836,-641.75 789,-641.75\"/>\n",
       "<text text-anchor=\"start\" x=\"793.75\" y=\"-649.25\" font-family=\"Linux libertine\" font-size=\"10.00\">output: </text>\n",
       "<polygon fill=\"none\" stroke=\"black\" points=\"836,-641.75 836,-663.75 910,-663.75 910,-641.75 836,-641.75\"/>\n",
       "<text text-anchor=\"start\" x=\"840.75\" y=\"-649.25\" font-family=\"Linux libertine\" font-size=\"10.00\">(24, 128, 61) </text>\n",
       "</g>\n",
       "<!-- 19&#45;&gt;20 -->\n",
       "<g id=\"edge26\" class=\"edge\">\n",
       "<title>19&#45;&gt;20</title>\n",
       "<path fill=\"none\" stroke=\"black\" d=\"M822.8,-721.85C823.1,-714.24 823.43,-705.45 823.76,-697.09\"/>\n",
       "<polygon fill=\"black\" stroke=\"black\" points=\"827.25,-697.35 824.14,-687.22 820.25,-697.08 827.25,-697.35\"/>\n",
       "</g>\n",
       "<!-- 21 -->\n",
       "<g id=\"node22\" class=\"node\">\n",
       "<title>21</title>\n",
       "<polygon fill=\"#c1ffc1\" stroke=\"none\" points=\"934,-605.75 718,-605.75 718,-561.75 934,-561.75 934,-605.75\"/>\n",
       "<polygon fill=\"none\" stroke=\"black\" points=\"718,-561.75 718,-605.75 813,-605.75 813,-561.75 718,-561.75\"/>\n",
       "<text text-anchor=\"start\" x=\"722.75\" y=\"-587\" font-family=\"Linux libertine\" font-size=\"10.00\">GlobalMaxPool1d</text>\n",
       "<text text-anchor=\"start\" x=\"747.12\" y=\"-574.25\" font-family=\"Linux libertine\" font-size=\"10.00\">depth:2</text>\n",
       "<polygon fill=\"none\" stroke=\"black\" points=\"813,-583.75 813,-605.75 860,-605.75 860,-583.75 813,-583.75\"/>\n",
       "<text text-anchor=\"start\" x=\"822.62\" y=\"-591.25\" font-family=\"Linux libertine\" font-size=\"10.00\">input:</text>\n",
       "<polygon fill=\"none\" stroke=\"black\" points=\"860,-583.75 860,-605.75 934,-605.75 934,-583.75 860,-583.75\"/>\n",
       "<text text-anchor=\"start\" x=\"864.75\" y=\"-591.25\" font-family=\"Linux libertine\" font-size=\"10.00\">(24, 128, 61) </text>\n",
       "<polygon fill=\"none\" stroke=\"black\" points=\"813,-561.75 813,-583.75 860,-583.75 860,-561.75 813,-561.75\"/>\n",
       "<text text-anchor=\"start\" x=\"817.75\" y=\"-569.25\" font-family=\"Linux libertine\" font-size=\"10.00\">output: </text>\n",
       "<polygon fill=\"none\" stroke=\"black\" points=\"860,-561.75 860,-583.75 934,-583.75 934,-561.75 860,-561.75\"/>\n",
       "<text text-anchor=\"start\" x=\"873.75\" y=\"-569.25\" font-family=\"Linux libertine\" font-size=\"10.00\">(24, 128) </text>\n",
       "</g>\n",
       "<!-- 20&#45;&gt;21 -->\n",
       "<g id=\"edge27\" class=\"edge\">\n",
       "<title>20&#45;&gt;21</title>\n",
       "<path fill=\"none\" stroke=\"black\" d=\"M825.27,-641.85C825.37,-634.24 825.48,-625.45 825.59,-617.09\"/>\n",
       "<polygon fill=\"black\" stroke=\"black\" points=\"829.08,-617.27 825.71,-607.22 822.08,-617.18 829.08,-617.27\"/>\n",
       "</g>\n",
       "<!-- 21&#45;&gt;30 -->\n",
       "<g id=\"edge28\" class=\"edge\">\n",
       "<title>21&#45;&gt;30</title>\n",
       "<path fill=\"none\" stroke=\"black\" d=\"M794.65,-561.85C780.88,-552.67 764.53,-541.77 749.82,-531.96\"/>\n",
       "<polygon fill=\"black\" stroke=\"black\" points=\"751.96,-529.18 741.7,-526.55 748.08,-535.01 751.96,-529.18\"/>\n",
       "</g>\n",
       "<!-- 23 -->\n",
       "<g id=\"node24\" class=\"node\">\n",
       "<title>23</title>\n",
       "<polygon fill=\"#c1ffc1\" stroke=\"none\" points=\"1091.5,-765.75 930.5,-765.75 930.5,-721.75 1091.5,-721.75 1091.5,-765.75\"/>\n",
       "<polygon fill=\"none\" stroke=\"black\" points=\"930.5,-721.75 930.5,-765.75 976.5,-765.75 976.5,-721.75 930.5,-721.75\"/>\n",
       "<text text-anchor=\"start\" x=\"940.75\" y=\"-747\" font-family=\"Linux libertine\" font-size=\"10.00\">ReLU</text>\n",
       "<text text-anchor=\"start\" x=\"935.12\" y=\"-734.25\" font-family=\"Linux libertine\" font-size=\"10.00\">depth:2</text>\n",
       "<polygon fill=\"none\" stroke=\"black\" points=\"976.5,-743.75 976.5,-765.75 1023.5,-765.75 1023.5,-743.75 976.5,-743.75\"/>\n",
       "<text text-anchor=\"start\" x=\"986.12\" y=\"-751.25\" font-family=\"Linux libertine\" font-size=\"10.00\">input:</text>\n",
       "<polygon fill=\"none\" stroke=\"black\" points=\"1023.5,-743.75 1023.5,-765.75 1091.5,-765.75 1091.5,-743.75 1023.5,-743.75\"/>\n",
       "<text text-anchor=\"start\" x=\"1028.25\" y=\"-751.25\" font-family=\"Linux libertine\" font-size=\"10.00\">(24, 64, 60) </text>\n",
       "<polygon fill=\"none\" stroke=\"black\" points=\"976.5,-721.75 976.5,-743.75 1023.5,-743.75 1023.5,-721.75 976.5,-721.75\"/>\n",
       "<text text-anchor=\"start\" x=\"981.25\" y=\"-729.25\" font-family=\"Linux libertine\" font-size=\"10.00\">output: </text>\n",
       "<polygon fill=\"none\" stroke=\"black\" points=\"1023.5,-721.75 1023.5,-743.75 1091.5,-743.75 1091.5,-721.75 1023.5,-721.75\"/>\n",
       "<text text-anchor=\"start\" x=\"1028.25\" y=\"-729.25\" font-family=\"Linux libertine\" font-size=\"10.00\">(24, 64, 60) </text>\n",
       "</g>\n",
       "<!-- 22&#45;&gt;23 -->\n",
       "<g id=\"edge29\" class=\"edge\">\n",
       "<title>22&#45;&gt;23</title>\n",
       "<path fill=\"none\" stroke=\"black\" d=\"M1008.8,-801.85C1009.1,-794.24 1009.43,-785.45 1009.76,-777.09\"/>\n",
       "<polygon fill=\"black\" stroke=\"black\" points=\"1013.25,-777.35 1010.14,-767.22 1006.25,-777.08 1013.25,-777.35\"/>\n",
       "</g>\n",
       "<!-- 24 -->\n",
       "<g id=\"node25\" class=\"node\">\n",
       "<title>24</title>\n",
       "<polygon fill=\"#c1ffc1\" stroke=\"none\" points=\"1098,-685.75 934,-685.75 934,-641.75 1098,-641.75 1098,-685.75\"/>\n",
       "<polygon fill=\"none\" stroke=\"black\" points=\"934,-641.75 934,-685.75 983,-685.75 983,-641.75 934,-641.75\"/>\n",
       "<text text-anchor=\"start\" x=\"939\" y=\"-667\" font-family=\"Linux libertine\" font-size=\"10.00\">Dropout</text>\n",
       "<text text-anchor=\"start\" x=\"940.12\" y=\"-654.25\" font-family=\"Linux libertine\" font-size=\"10.00\">depth:2</text>\n",
       "<polygon fill=\"none\" stroke=\"black\" points=\"983,-663.75 983,-685.75 1030,-685.75 1030,-663.75 983,-663.75\"/>\n",
       "<text text-anchor=\"start\" x=\"992.62\" y=\"-671.25\" font-family=\"Linux libertine\" font-size=\"10.00\">input:</text>\n",
       "<polygon fill=\"none\" stroke=\"black\" points=\"1030,-663.75 1030,-685.75 1098,-685.75 1098,-663.75 1030,-663.75\"/>\n",
       "<text text-anchor=\"start\" x=\"1034.75\" y=\"-671.25\" font-family=\"Linux libertine\" font-size=\"10.00\">(24, 64, 60) </text>\n",
       "<polygon fill=\"none\" stroke=\"black\" points=\"983,-641.75 983,-663.75 1030,-663.75 1030,-641.75 983,-641.75\"/>\n",
       "<text text-anchor=\"start\" x=\"987.75\" y=\"-649.25\" font-family=\"Linux libertine\" font-size=\"10.00\">output: </text>\n",
       "<polygon fill=\"none\" stroke=\"black\" points=\"1030,-641.75 1030,-663.75 1098,-663.75 1098,-641.75 1030,-641.75\"/>\n",
       "<text text-anchor=\"start\" x=\"1034.75\" y=\"-649.25\" font-family=\"Linux libertine\" font-size=\"10.00\">(24, 64, 60) </text>\n",
       "</g>\n",
       "<!-- 23&#45;&gt;24 -->\n",
       "<g id=\"edge30\" class=\"edge\">\n",
       "<title>23&#45;&gt;24</title>\n",
       "<path fill=\"none\" stroke=\"black\" d=\"M1012.34,-721.85C1012.83,-714.24 1013.39,-705.45 1013.93,-697.09\"/>\n",
       "<polygon fill=\"black\" stroke=\"black\" points=\"1017.41,-697.42 1014.56,-687.22 1010.43,-696.98 1017.41,-697.42\"/>\n",
       "</g>\n",
       "<!-- 25 -->\n",
       "<g id=\"node26\" class=\"node\">\n",
       "<title>25</title>\n",
       "<polygon fill=\"#c1ffc1\" stroke=\"none\" points=\"1162,-605.75 952,-605.75 952,-561.75 1162,-561.75 1162,-605.75\"/>\n",
       "<polygon fill=\"none\" stroke=\"black\" points=\"952,-561.75 952,-605.75 1047,-605.75 1047,-561.75 952,-561.75\"/>\n",
       "<text text-anchor=\"start\" x=\"956.75\" y=\"-587\" font-family=\"Linux libertine\" font-size=\"10.00\">GlobalMaxPool1d</text>\n",
       "<text text-anchor=\"start\" x=\"981.12\" y=\"-574.25\" font-family=\"Linux libertine\" font-size=\"10.00\">depth:2</text>\n",
       "<polygon fill=\"none\" stroke=\"black\" points=\"1047,-583.75 1047,-605.75 1094,-605.75 1094,-583.75 1047,-583.75\"/>\n",
       "<text text-anchor=\"start\" x=\"1056.62\" y=\"-591.25\" font-family=\"Linux libertine\" font-size=\"10.00\">input:</text>\n",
       "<polygon fill=\"none\" stroke=\"black\" points=\"1094,-583.75 1094,-605.75 1162,-605.75 1162,-583.75 1094,-583.75\"/>\n",
       "<text text-anchor=\"start\" x=\"1098.75\" y=\"-591.25\" font-family=\"Linux libertine\" font-size=\"10.00\">(24, 64, 60) </text>\n",
       "<polygon fill=\"none\" stroke=\"black\" points=\"1047,-561.75 1047,-583.75 1094,-583.75 1094,-561.75 1047,-561.75\"/>\n",
       "<text text-anchor=\"start\" x=\"1051.75\" y=\"-569.25\" font-family=\"Linux libertine\" font-size=\"10.00\">output: </text>\n",
       "<polygon fill=\"none\" stroke=\"black\" points=\"1094,-561.75 1094,-583.75 1162,-583.75 1162,-561.75 1094,-561.75\"/>\n",
       "<text text-anchor=\"start\" x=\"1107.75\" y=\"-569.25\" font-family=\"Linux libertine\" font-size=\"10.00\">(24, 64) </text>\n",
       "</g>\n",
       "<!-- 24&#45;&gt;25 -->\n",
       "<g id=\"edge31\" class=\"edge\">\n",
       "<title>24&#45;&gt;25</title>\n",
       "<path fill=\"none\" stroke=\"black\" d=\"M1026.99,-641.85C1031.22,-633.8 1036.14,-624.44 1040.76,-615.65\"/>\n",
       "<polygon fill=\"black\" stroke=\"black\" points=\"1043.72,-617.53 1045.28,-607.05 1037.53,-614.27 1043.72,-617.53\"/>\n",
       "</g>\n",
       "<!-- 25&#45;&gt;30 -->\n",
       "<g id=\"edge32\" class=\"edge\">\n",
       "<title>25&#45;&gt;30</title>\n",
       "<path fill=\"none\" stroke=\"black\" d=\"M963.74,-561.85C917.42,-551.46 861.29,-538.88 813.52,-528.18\"/>\n",
       "<polygon fill=\"black\" stroke=\"black\" points=\"814.52,-524.81 803.99,-526.04 812.98,-531.64 814.52,-524.81\"/>\n",
       "</g>\n",
       "<!-- 27 -->\n",
       "<g id=\"node28\" class=\"node\">\n",
       "<title>27</title>\n",
       "<polygon fill=\"#c1ffc1\" stroke=\"none\" points=\"1281.5,-765.75 1120.5,-765.75 1120.5,-721.75 1281.5,-721.75 1281.5,-765.75\"/>\n",
       "<polygon fill=\"none\" stroke=\"black\" points=\"1120.5,-721.75 1120.5,-765.75 1166.5,-765.75 1166.5,-721.75 1120.5,-721.75\"/>\n",
       "<text text-anchor=\"start\" x=\"1130.75\" y=\"-747\" font-family=\"Linux libertine\" font-size=\"10.00\">ReLU</text>\n",
       "<text text-anchor=\"start\" x=\"1125.12\" y=\"-734.25\" font-family=\"Linux libertine\" font-size=\"10.00\">depth:2</text>\n",
       "<polygon fill=\"none\" stroke=\"black\" points=\"1166.5,-743.75 1166.5,-765.75 1213.5,-765.75 1213.5,-743.75 1166.5,-743.75\"/>\n",
       "<text text-anchor=\"start\" x=\"1176.12\" y=\"-751.25\" font-family=\"Linux libertine\" font-size=\"10.00\">input:</text>\n",
       "<polygon fill=\"none\" stroke=\"black\" points=\"1213.5,-743.75 1213.5,-765.75 1281.5,-765.75 1281.5,-743.75 1213.5,-743.75\"/>\n",
       "<text text-anchor=\"start\" x=\"1218.25\" y=\"-751.25\" font-family=\"Linux libertine\" font-size=\"10.00\">(24, 64, 59) </text>\n",
       "<polygon fill=\"none\" stroke=\"black\" points=\"1166.5,-721.75 1166.5,-743.75 1213.5,-743.75 1213.5,-721.75 1166.5,-721.75\"/>\n",
       "<text text-anchor=\"start\" x=\"1171.25\" y=\"-729.25\" font-family=\"Linux libertine\" font-size=\"10.00\">output: </text>\n",
       "<polygon fill=\"none\" stroke=\"black\" points=\"1213.5,-721.75 1213.5,-743.75 1281.5,-743.75 1281.5,-721.75 1213.5,-721.75\"/>\n",
       "<text text-anchor=\"start\" x=\"1218.25\" y=\"-729.25\" font-family=\"Linux libertine\" font-size=\"10.00\">(24, 64, 59) </text>\n",
       "</g>\n",
       "<!-- 26&#45;&gt;27 -->\n",
       "<g id=\"edge33\" class=\"edge\">\n",
       "<title>26&#45;&gt;27</title>\n",
       "<path fill=\"none\" stroke=\"black\" d=\"M1199.54,-801.85C1199.73,-794.24 1199.96,-785.45 1200.17,-777.09\"/>\n",
       "<polygon fill=\"black\" stroke=\"black\" points=\"1203.67,-777.31 1200.42,-767.22 1196.67,-777.13 1203.67,-777.31\"/>\n",
       "</g>\n",
       "<!-- 28 -->\n",
       "<g id=\"node29\" class=\"node\">\n",
       "<title>28</title>\n",
       "<polygon fill=\"#c1ffc1\" stroke=\"none\" points=\"1283,-685.75 1119,-685.75 1119,-641.75 1283,-641.75 1283,-685.75\"/>\n",
       "<polygon fill=\"none\" stroke=\"black\" points=\"1119,-641.75 1119,-685.75 1168,-685.75 1168,-641.75 1119,-641.75\"/>\n",
       "<text text-anchor=\"start\" x=\"1124\" y=\"-667\" font-family=\"Linux libertine\" font-size=\"10.00\">Dropout</text>\n",
       "<text text-anchor=\"start\" x=\"1125.12\" y=\"-654.25\" font-family=\"Linux libertine\" font-size=\"10.00\">depth:2</text>\n",
       "<polygon fill=\"none\" stroke=\"black\" points=\"1168,-663.75 1168,-685.75 1215,-685.75 1215,-663.75 1168,-663.75\"/>\n",
       "<text text-anchor=\"start\" x=\"1177.62\" y=\"-671.25\" font-family=\"Linux libertine\" font-size=\"10.00\">input:</text>\n",
       "<polygon fill=\"none\" stroke=\"black\" points=\"1215,-663.75 1215,-685.75 1283,-685.75 1283,-663.75 1215,-663.75\"/>\n",
       "<text text-anchor=\"start\" x=\"1219.75\" y=\"-671.25\" font-family=\"Linux libertine\" font-size=\"10.00\">(24, 64, 59) </text>\n",
       "<polygon fill=\"none\" stroke=\"black\" points=\"1168,-641.75 1168,-663.75 1215,-663.75 1215,-641.75 1168,-641.75\"/>\n",
       "<text text-anchor=\"start\" x=\"1172.75\" y=\"-649.25\" font-family=\"Linux libertine\" font-size=\"10.00\">output: </text>\n",
       "<polygon fill=\"none\" stroke=\"black\" points=\"1215,-641.75 1215,-663.75 1283,-663.75 1283,-641.75 1215,-641.75\"/>\n",
       "<text text-anchor=\"start\" x=\"1219.75\" y=\"-649.25\" font-family=\"Linux libertine\" font-size=\"10.00\">(24, 64, 59) </text>\n",
       "</g>\n",
       "<!-- 27&#45;&gt;28 -->\n",
       "<g id=\"edge34\" class=\"edge\">\n",
       "<title>27&#45;&gt;28</title>\n",
       "<path fill=\"none\" stroke=\"black\" d=\"M1201,-721.85C1201,-714.24 1201,-705.45 1201,-697.09\"/>\n",
       "<polygon fill=\"black\" stroke=\"black\" points=\"1204.5,-697.22 1201,-687.22 1197.5,-697.22 1204.5,-697.22\"/>\n",
       "</g>\n",
       "<!-- 29 -->\n",
       "<g id=\"node30\" class=\"node\">\n",
       "<title>29</title>\n",
       "<polygon fill=\"#c1ffc1\" stroke=\"none\" points=\"1390,-605.75 1180,-605.75 1180,-561.75 1390,-561.75 1390,-605.75\"/>\n",
       "<polygon fill=\"none\" stroke=\"black\" points=\"1180,-561.75 1180,-605.75 1275,-605.75 1275,-561.75 1180,-561.75\"/>\n",
       "<text text-anchor=\"start\" x=\"1184.75\" y=\"-587\" font-family=\"Linux libertine\" font-size=\"10.00\">GlobalMaxPool1d</text>\n",
       "<text text-anchor=\"start\" x=\"1209.12\" y=\"-574.25\" font-family=\"Linux libertine\" font-size=\"10.00\">depth:2</text>\n",
       "<polygon fill=\"none\" stroke=\"black\" points=\"1275,-583.75 1275,-605.75 1322,-605.75 1322,-583.75 1275,-583.75\"/>\n",
       "<text text-anchor=\"start\" x=\"1284.62\" y=\"-591.25\" font-family=\"Linux libertine\" font-size=\"10.00\">input:</text>\n",
       "<polygon fill=\"none\" stroke=\"black\" points=\"1322,-583.75 1322,-605.75 1390,-605.75 1390,-583.75 1322,-583.75\"/>\n",
       "<text text-anchor=\"start\" x=\"1326.75\" y=\"-591.25\" font-family=\"Linux libertine\" font-size=\"10.00\">(24, 64, 59) </text>\n",
       "<polygon fill=\"none\" stroke=\"black\" points=\"1275,-561.75 1275,-583.75 1322,-583.75 1322,-561.75 1275,-561.75\"/>\n",
       "<text text-anchor=\"start\" x=\"1279.75\" y=\"-569.25\" font-family=\"Linux libertine\" font-size=\"10.00\">output: </text>\n",
       "<polygon fill=\"none\" stroke=\"black\" points=\"1322,-561.75 1322,-583.75 1390,-583.75 1390,-561.75 1322,-561.75\"/>\n",
       "<text text-anchor=\"start\" x=\"1335.75\" y=\"-569.25\" font-family=\"Linux libertine\" font-size=\"10.00\">(24, 64) </text>\n",
       "</g>\n",
       "<!-- 28&#45;&gt;29 -->\n",
       "<g id=\"edge35\" class=\"edge\">\n",
       "<title>28&#45;&gt;29</title>\n",
       "<path fill=\"none\" stroke=\"black\" d=\"M1223.51,-641.85C1232.93,-633.1 1244.02,-622.8 1254.18,-613.37\"/>\n",
       "<polygon fill=\"black\" stroke=\"black\" points=\"1256.37,-616.11 1261.32,-606.74 1251.61,-610.98 1256.37,-616.11\"/>\n",
       "</g>\n",
       "<!-- 29&#45;&gt;30 -->\n",
       "<g id=\"edge36\" class=\"edge\">\n",
       "<title>29&#45;&gt;30</title>\n",
       "<path fill=\"none\" stroke=\"black\" d=\"M1180.06,-563.18C1177.01,-562.69 1173.98,-562.21 1171,-561.75 1075.92,-547.14 969.37,-533.79 882.58,-523.69\"/>\n",
       "<polygon fill=\"black\" stroke=\"black\" points=\"883.13,-520.23 872.79,-522.56 882.32,-527.19 883.13,-520.23\"/>\n",
       "</g>\n",
       "<!-- 31 -->\n",
       "<g id=\"node32\" class=\"node\">\n",
       "<title>31</title>\n",
       "<polygon fill=\"#c1ffc1\" stroke=\"none\" points=\"785,-445.75 633,-445.75 633,-401.75 785,-401.75 785,-445.75\"/>\n",
       "<polygon fill=\"none\" stroke=\"black\" points=\"633,-401.75 633,-445.75 682,-445.75 682,-401.75 633,-401.75\"/>\n",
       "<text text-anchor=\"start\" x=\"638\" y=\"-427\" font-family=\"Linux libertine\" font-size=\"10.00\">Dropout</text>\n",
       "<text text-anchor=\"start\" x=\"639.12\" y=\"-414.25\" font-family=\"Linux libertine\" font-size=\"10.00\">depth:2</text>\n",
       "<polygon fill=\"none\" stroke=\"black\" points=\"682,-423.75 682,-445.75 729,-445.75 729,-423.75 682,-423.75\"/>\n",
       "<text text-anchor=\"start\" x=\"691.62\" y=\"-431.25\" font-family=\"Linux libertine\" font-size=\"10.00\">input:</text>\n",
       "<polygon fill=\"none\" stroke=\"black\" points=\"729,-423.75 729,-445.75 785,-445.75 785,-423.75 729,-423.75\"/>\n",
       "<text text-anchor=\"start\" x=\"733.75\" y=\"-431.25\" font-family=\"Linux libertine\" font-size=\"10.00\">(24, 896) </text>\n",
       "<polygon fill=\"none\" stroke=\"black\" points=\"682,-401.75 682,-423.75 729,-423.75 729,-401.75 682,-401.75\"/>\n",
       "<text text-anchor=\"start\" x=\"686.75\" y=\"-409.25\" font-family=\"Linux libertine\" font-size=\"10.00\">output: </text>\n",
       "<polygon fill=\"none\" stroke=\"black\" points=\"729,-401.75 729,-423.75 785,-423.75 785,-401.75 729,-401.75\"/>\n",
       "<text text-anchor=\"start\" x=\"733.75\" y=\"-409.25\" font-family=\"Linux libertine\" font-size=\"10.00\">(24, 896) </text>\n",
       "</g>\n",
       "<!-- 30&#45;&gt;31 -->\n",
       "<g id=\"edge37\" class=\"edge\">\n",
       "<title>30&#45;&gt;31</title>\n",
       "<path fill=\"none\" stroke=\"black\" d=\"M709,-481.85C709,-474.24 709,-465.45 709,-457.09\"/>\n",
       "<polygon fill=\"black\" stroke=\"black\" points=\"712.5,-457.22 709,-447.22 705.5,-457.22 712.5,-457.22\"/>\n",
       "</g>\n",
       "<!-- 32 -->\n",
       "<g id=\"node33\" class=\"node\">\n",
       "<title>32</title>\n",
       "<polygon fill=\"#c1ffc1\" stroke=\"none\" points=\"357.5,-355.5 208.5,-355.5 208.5,-311.5 357.5,-311.5 357.5,-355.5\"/>\n",
       "<polygon fill=\"none\" stroke=\"black\" points=\"208.5,-311.5 208.5,-355.5 254.5,-355.5 254.5,-311.5 208.5,-311.5\"/>\n",
       "<text text-anchor=\"start\" x=\"216.5\" y=\"-336.75\" font-family=\"Linux libertine\" font-size=\"10.00\">Linear</text>\n",
       "<text text-anchor=\"start\" x=\"213.12\" y=\"-324\" font-family=\"Linux libertine\" font-size=\"10.00\">depth:2</text>\n",
       "<polygon fill=\"none\" stroke=\"black\" points=\"254.5,-333.5 254.5,-355.5 301.5,-355.5 301.5,-333.5 254.5,-333.5\"/>\n",
       "<text text-anchor=\"start\" x=\"264.12\" y=\"-341\" font-family=\"Linux libertine\" font-size=\"10.00\">input:</text>\n",
       "<polygon fill=\"none\" stroke=\"black\" points=\"301.5,-333.5 301.5,-355.5 357.5,-355.5 357.5,-333.5 301.5,-333.5\"/>\n",
       "<text text-anchor=\"start\" x=\"306.25\" y=\"-341\" font-family=\"Linux libertine\" font-size=\"10.00\">(24, 896) </text>\n",
       "<polygon fill=\"none\" stroke=\"black\" points=\"254.5,-311.5 254.5,-333.5 301.5,-333.5 301.5,-311.5 254.5,-311.5\"/>\n",
       "<text text-anchor=\"start\" x=\"259.25\" y=\"-319\" font-family=\"Linux libertine\" font-size=\"10.00\">output: </text>\n",
       "<polygon fill=\"none\" stroke=\"black\" points=\"301.5,-311.5 301.5,-333.5 357.5,-333.5 357.5,-311.5 301.5,-311.5\"/>\n",
       "<text text-anchor=\"start\" x=\"306.25\" y=\"-319\" font-family=\"Linux libertine\" font-size=\"10.00\">(24, 256) </text>\n",
       "</g>\n",
       "<!-- 31&#45;&gt;32 -->\n",
       "<g id=\"edge38\" class=\"edge\">\n",
       "<title>31&#45;&gt;32</title>\n",
       "<path fill=\"none\" stroke=\"black\" d=\"M633.26,-423.38C563.48,-421.9 457.9,-414.38 371,-385.75 353.64,-380.03 335.96,-370.58 321.04,-361.34\"/>\n",
       "<polygon fill=\"black\" stroke=\"black\" points=\"323.25,-358.59 312.94,-356.15 319.47,-364.49 323.25,-358.59\"/>\n",
       "</g>\n",
       "<!-- 35 -->\n",
       "<g id=\"node36\" class=\"node\">\n",
       "<title>35</title>\n",
       "<polygon fill=\"#c1ffc1\" stroke=\"none\" points=\"534.5,-355.5 385.5,-355.5 385.5,-311.5 534.5,-311.5 534.5,-355.5\"/>\n",
       "<polygon fill=\"none\" stroke=\"black\" points=\"385.5,-311.5 385.5,-355.5 431.5,-355.5 431.5,-311.5 385.5,-311.5\"/>\n",
       "<text text-anchor=\"start\" x=\"393.5\" y=\"-336.75\" font-family=\"Linux libertine\" font-size=\"10.00\">Linear</text>\n",
       "<text text-anchor=\"start\" x=\"390.12\" y=\"-324\" font-family=\"Linux libertine\" font-size=\"10.00\">depth:2</text>\n",
       "<polygon fill=\"none\" stroke=\"black\" points=\"431.5,-333.5 431.5,-355.5 478.5,-355.5 478.5,-333.5 431.5,-333.5\"/>\n",
       "<text text-anchor=\"start\" x=\"441.12\" y=\"-341\" font-family=\"Linux libertine\" font-size=\"10.00\">input:</text>\n",
       "<polygon fill=\"none\" stroke=\"black\" points=\"478.5,-333.5 478.5,-355.5 534.5,-355.5 534.5,-333.5 478.5,-333.5\"/>\n",
       "<text text-anchor=\"start\" x=\"483.25\" y=\"-341\" font-family=\"Linux libertine\" font-size=\"10.00\">(24, 896) </text>\n",
       "<polygon fill=\"none\" stroke=\"black\" points=\"431.5,-311.5 431.5,-333.5 478.5,-333.5 478.5,-311.5 431.5,-311.5\"/>\n",
       "<text text-anchor=\"start\" x=\"436.25\" y=\"-319\" font-family=\"Linux libertine\" font-size=\"10.00\">output: </text>\n",
       "<polygon fill=\"none\" stroke=\"black\" points=\"478.5,-311.5 478.5,-333.5 534.5,-333.5 534.5,-311.5 478.5,-311.5\"/>\n",
       "<text text-anchor=\"start\" x=\"483.25\" y=\"-319\" font-family=\"Linux libertine\" font-size=\"10.00\">(24, 256) </text>\n",
       "</g>\n",
       "<!-- 31&#45;&gt;35 -->\n",
       "<g id=\"edge42\" class=\"edge\">\n",
       "<title>31&#45;&gt;35</title>\n",
       "<path fill=\"none\" stroke=\"black\" d=\"M633.35,-410.49C605.62,-404.7 574.34,-396.62 547,-385.75 530.85,-379.33 514.17,-370.2 499.78,-361.42\"/>\n",
       "<polygon fill=\"black\" stroke=\"black\" points=\"501.84,-358.57 491.5,-356.23 498.12,-364.51 501.84,-358.57\"/>\n",
       "</g>\n",
       "<!-- 38 -->\n",
       "<g id=\"node39\" class=\"node\">\n",
       "<title>38</title>\n",
       "<polygon fill=\"#c1ffc1\" stroke=\"none\" points=\"709.5,-355.5 560.5,-355.5 560.5,-311.5 709.5,-311.5 709.5,-355.5\"/>\n",
       "<polygon fill=\"none\" stroke=\"black\" points=\"560.5,-311.5 560.5,-355.5 606.5,-355.5 606.5,-311.5 560.5,-311.5\"/>\n",
       "<text text-anchor=\"start\" x=\"568.5\" y=\"-336.75\" font-family=\"Linux libertine\" font-size=\"10.00\">Linear</text>\n",
       "<text text-anchor=\"start\" x=\"565.12\" y=\"-324\" font-family=\"Linux libertine\" font-size=\"10.00\">depth:2</text>\n",
       "<polygon fill=\"none\" stroke=\"black\" points=\"606.5,-333.5 606.5,-355.5 653.5,-355.5 653.5,-333.5 606.5,-333.5\"/>\n",
       "<text text-anchor=\"start\" x=\"616.12\" y=\"-341\" font-family=\"Linux libertine\" font-size=\"10.00\">input:</text>\n",
       "<polygon fill=\"none\" stroke=\"black\" points=\"653.5,-333.5 653.5,-355.5 709.5,-355.5 709.5,-333.5 653.5,-333.5\"/>\n",
       "<text text-anchor=\"start\" x=\"658.25\" y=\"-341\" font-family=\"Linux libertine\" font-size=\"10.00\">(24, 896) </text>\n",
       "<polygon fill=\"none\" stroke=\"black\" points=\"606.5,-311.5 606.5,-333.5 653.5,-333.5 653.5,-311.5 606.5,-311.5\"/>\n",
       "<text text-anchor=\"start\" x=\"611.25\" y=\"-319\" font-family=\"Linux libertine\" font-size=\"10.00\">output: </text>\n",
       "<polygon fill=\"none\" stroke=\"black\" points=\"653.5,-311.5 653.5,-333.5 709.5,-333.5 709.5,-311.5 653.5,-311.5\"/>\n",
       "<text text-anchor=\"start\" x=\"658.25\" y=\"-319\" font-family=\"Linux libertine\" font-size=\"10.00\">(24, 256) </text>\n",
       "</g>\n",
       "<!-- 31&#45;&gt;38 -->\n",
       "<g id=\"edge46\" class=\"edge\">\n",
       "<title>31&#45;&gt;38</title>\n",
       "<path fill=\"none\" stroke=\"black\" d=\"M691.46,-401.84C681.97,-390.52 670.09,-376.35 659.68,-363.93\"/>\n",
       "<polygon fill=\"black\" stroke=\"black\" points=\"662.49,-361.84 653.38,-356.42 657.13,-366.34 662.49,-361.84\"/>\n",
       "</g>\n",
       "<!-- 41 -->\n",
       "<g id=\"node42\" class=\"node\">\n",
       "<title>41</title>\n",
       "<polygon fill=\"#c1ffc1\" stroke=\"none\" points=\"884.5,-355.5 735.5,-355.5 735.5,-311.5 884.5,-311.5 884.5,-355.5\"/>\n",
       "<polygon fill=\"none\" stroke=\"black\" points=\"735.5,-311.5 735.5,-355.5 781.5,-355.5 781.5,-311.5 735.5,-311.5\"/>\n",
       "<text text-anchor=\"start\" x=\"743.5\" y=\"-336.75\" font-family=\"Linux libertine\" font-size=\"10.00\">Linear</text>\n",
       "<text text-anchor=\"start\" x=\"740.12\" y=\"-324\" font-family=\"Linux libertine\" font-size=\"10.00\">depth:2</text>\n",
       "<polygon fill=\"none\" stroke=\"black\" points=\"781.5,-333.5 781.5,-355.5 828.5,-355.5 828.5,-333.5 781.5,-333.5\"/>\n",
       "<text text-anchor=\"start\" x=\"791.12\" y=\"-341\" font-family=\"Linux libertine\" font-size=\"10.00\">input:</text>\n",
       "<polygon fill=\"none\" stroke=\"black\" points=\"828.5,-333.5 828.5,-355.5 884.5,-355.5 884.5,-333.5 828.5,-333.5\"/>\n",
       "<text text-anchor=\"start\" x=\"833.25\" y=\"-341\" font-family=\"Linux libertine\" font-size=\"10.00\">(24, 896) </text>\n",
       "<polygon fill=\"none\" stroke=\"black\" points=\"781.5,-311.5 781.5,-333.5 828.5,-333.5 828.5,-311.5 781.5,-311.5\"/>\n",
       "<text text-anchor=\"start\" x=\"786.25\" y=\"-319\" font-family=\"Linux libertine\" font-size=\"10.00\">output: </text>\n",
       "<polygon fill=\"none\" stroke=\"black\" points=\"828.5,-311.5 828.5,-333.5 884.5,-333.5 884.5,-311.5 828.5,-311.5\"/>\n",
       "<text text-anchor=\"start\" x=\"833.25\" y=\"-319\" font-family=\"Linux libertine\" font-size=\"10.00\">(24, 256) </text>\n",
       "</g>\n",
       "<!-- 31&#45;&gt;41 -->\n",
       "<g id=\"edge50\" class=\"edge\">\n",
       "<title>31&#45;&gt;41</title>\n",
       "<path fill=\"none\" stroke=\"black\" d=\"M732.94,-401.84C746.39,-390.08 763.37,-375.24 777.96,-362.49\"/>\n",
       "<polygon fill=\"black\" stroke=\"black\" points=\"779.87,-365.48 785.1,-356.26 775.26,-360.2 779.87,-365.48\"/>\n",
       "</g>\n",
       "<!-- 44 -->\n",
       "<g id=\"node45\" class=\"node\">\n",
       "<title>44</title>\n",
       "<polygon fill=\"#c1ffc1\" stroke=\"none\" points=\"1060.5,-355.5 911.5,-355.5 911.5,-311.5 1060.5,-311.5 1060.5,-355.5\"/>\n",
       "<polygon fill=\"none\" stroke=\"black\" points=\"911.5,-311.5 911.5,-355.5 957.5,-355.5 957.5,-311.5 911.5,-311.5\"/>\n",
       "<text text-anchor=\"start\" x=\"919.5\" y=\"-336.75\" font-family=\"Linux libertine\" font-size=\"10.00\">Linear</text>\n",
       "<text text-anchor=\"start\" x=\"916.12\" y=\"-324\" font-family=\"Linux libertine\" font-size=\"10.00\">depth:2</text>\n",
       "<polygon fill=\"none\" stroke=\"black\" points=\"957.5,-333.5 957.5,-355.5 1004.5,-355.5 1004.5,-333.5 957.5,-333.5\"/>\n",
       "<text text-anchor=\"start\" x=\"967.12\" y=\"-341\" font-family=\"Linux libertine\" font-size=\"10.00\">input:</text>\n",
       "<polygon fill=\"none\" stroke=\"black\" points=\"1004.5,-333.5 1004.5,-355.5 1060.5,-355.5 1060.5,-333.5 1004.5,-333.5\"/>\n",
       "<text text-anchor=\"start\" x=\"1009.25\" y=\"-341\" font-family=\"Linux libertine\" font-size=\"10.00\">(24, 896) </text>\n",
       "<polygon fill=\"none\" stroke=\"black\" points=\"957.5,-311.5 957.5,-333.5 1004.5,-333.5 1004.5,-311.5 957.5,-311.5\"/>\n",
       "<text text-anchor=\"start\" x=\"962.25\" y=\"-319\" font-family=\"Linux libertine\" font-size=\"10.00\">output: </text>\n",
       "<polygon fill=\"none\" stroke=\"black\" points=\"1004.5,-311.5 1004.5,-333.5 1060.5,-333.5 1060.5,-311.5 1004.5,-311.5\"/>\n",
       "<text text-anchor=\"start\" x=\"1009.25\" y=\"-319\" font-family=\"Linux libertine\" font-size=\"10.00\">(24, 256) </text>\n",
       "</g>\n",
       "<!-- 31&#45;&gt;44 -->\n",
       "<g id=\"edge54\" class=\"edge\">\n",
       "<title>31&#45;&gt;44</title>\n",
       "<path fill=\"none\" stroke=\"black\" d=\"M784.62,-414.05C820.12,-408.46 862.55,-399.57 899,-385.75 915.38,-379.54 932.23,-370.37 946.69,-361.49\"/>\n",
       "<polygon fill=\"black\" stroke=\"black\" points=\"948.41,-364.54 955,-356.25 944.67,-358.63 948.41,-364.54\"/>\n",
       "</g>\n",
       "<!-- 47 -->\n",
       "<g id=\"node48\" class=\"node\">\n",
       "<title>47</title>\n",
       "<polygon fill=\"#c1ffc1\" stroke=\"none\" points=\"1236.5,-355.5 1087.5,-355.5 1087.5,-311.5 1236.5,-311.5 1236.5,-355.5\"/>\n",
       "<polygon fill=\"none\" stroke=\"black\" points=\"1087.5,-311.5 1087.5,-355.5 1133.5,-355.5 1133.5,-311.5 1087.5,-311.5\"/>\n",
       "<text text-anchor=\"start\" x=\"1095.5\" y=\"-336.75\" font-family=\"Linux libertine\" font-size=\"10.00\">Linear</text>\n",
       "<text text-anchor=\"start\" x=\"1092.12\" y=\"-324\" font-family=\"Linux libertine\" font-size=\"10.00\">depth:2</text>\n",
       "<polygon fill=\"none\" stroke=\"black\" points=\"1133.5,-333.5 1133.5,-355.5 1180.5,-355.5 1180.5,-333.5 1133.5,-333.5\"/>\n",
       "<text text-anchor=\"start\" x=\"1143.12\" y=\"-341\" font-family=\"Linux libertine\" font-size=\"10.00\">input:</text>\n",
       "<polygon fill=\"none\" stroke=\"black\" points=\"1180.5,-333.5 1180.5,-355.5 1236.5,-355.5 1236.5,-333.5 1180.5,-333.5\"/>\n",
       "<text text-anchor=\"start\" x=\"1185.25\" y=\"-341\" font-family=\"Linux libertine\" font-size=\"10.00\">(24, 896) </text>\n",
       "<polygon fill=\"none\" stroke=\"black\" points=\"1133.5,-311.5 1133.5,-333.5 1180.5,-333.5 1180.5,-311.5 1133.5,-311.5\"/>\n",
       "<text text-anchor=\"start\" x=\"1138.25\" y=\"-319\" font-family=\"Linux libertine\" font-size=\"10.00\">output: </text>\n",
       "<polygon fill=\"none\" stroke=\"black\" points=\"1180.5,-311.5 1180.5,-333.5 1236.5,-333.5 1236.5,-311.5 1180.5,-311.5\"/>\n",
       "<text text-anchor=\"start\" x=\"1185.25\" y=\"-319\" font-family=\"Linux libertine\" font-size=\"10.00\">(24, 256) </text>\n",
       "</g>\n",
       "<!-- 31&#45;&gt;47 -->\n",
       "<g id=\"edge58\" class=\"edge\">\n",
       "<title>31&#45;&gt;47</title>\n",
       "<path fill=\"none\" stroke=\"black\" d=\"M784.9,-418.91C875.96,-413.64 1022.88,-402.82 1075,-385.75 1092.22,-380.11 1109.72,-370.67 1124.46,-361.42\"/>\n",
       "<polygon fill=\"black\" stroke=\"black\" points=\"1125.97,-364.61 1132.45,-356.23 1122.16,-358.74 1125.97,-364.61\"/>\n",
       "</g>\n",
       "<!-- 33 -->\n",
       "<g id=\"node34\" class=\"node\">\n",
       "<title>33</title>\n",
       "<polygon fill=\"#c1ffc1\" stroke=\"none\" points=\"357.5,-275.5 208.5,-275.5 208.5,-231.5 357.5,-231.5 357.5,-275.5\"/>\n",
       "<polygon fill=\"none\" stroke=\"black\" points=\"208.5,-231.5 208.5,-275.5 254.5,-275.5 254.5,-231.5 208.5,-231.5\"/>\n",
       "<text text-anchor=\"start\" x=\"218.75\" y=\"-256.75\" font-family=\"Linux libertine\" font-size=\"10.00\">ReLU</text>\n",
       "<text text-anchor=\"start\" x=\"213.12\" y=\"-244\" font-family=\"Linux libertine\" font-size=\"10.00\">depth:2</text>\n",
       "<polygon fill=\"none\" stroke=\"black\" points=\"254.5,-253.5 254.5,-275.5 301.5,-275.5 301.5,-253.5 254.5,-253.5\"/>\n",
       "<text text-anchor=\"start\" x=\"264.12\" y=\"-261\" font-family=\"Linux libertine\" font-size=\"10.00\">input:</text>\n",
       "<polygon fill=\"none\" stroke=\"black\" points=\"301.5,-253.5 301.5,-275.5 357.5,-275.5 357.5,-253.5 301.5,-253.5\"/>\n",
       "<text text-anchor=\"start\" x=\"306.25\" y=\"-261\" font-family=\"Linux libertine\" font-size=\"10.00\">(24, 256) </text>\n",
       "<polygon fill=\"none\" stroke=\"black\" points=\"254.5,-231.5 254.5,-253.5 301.5,-253.5 301.5,-231.5 254.5,-231.5\"/>\n",
       "<text text-anchor=\"start\" x=\"259.25\" y=\"-239\" font-family=\"Linux libertine\" font-size=\"10.00\">output: </text>\n",
       "<polygon fill=\"none\" stroke=\"black\" points=\"301.5,-231.5 301.5,-253.5 357.5,-253.5 357.5,-231.5 301.5,-231.5\"/>\n",
       "<text text-anchor=\"start\" x=\"306.25\" y=\"-239\" font-family=\"Linux libertine\" font-size=\"10.00\">(24, 256) </text>\n",
       "</g>\n",
       "<!-- 32&#45;&gt;33 -->\n",
       "<g id=\"edge39\" class=\"edge\">\n",
       "<title>32&#45;&gt;33</title>\n",
       "<path fill=\"none\" stroke=\"black\" d=\"M283,-311.6C283,-303.99 283,-295.2 283,-286.84\"/>\n",
       "<polygon fill=\"black\" stroke=\"black\" points=\"286.5,-286.97 283,-276.97 279.5,-286.97 286.5,-286.97\"/>\n",
       "</g>\n",
       "<!-- 34 -->\n",
       "<g id=\"node35\" class=\"node\">\n",
       "<title>34</title>\n",
       "<polygon fill=\"#c1ffc1\" stroke=\"none\" points=\"359,-195.5 207,-195.5 207,-151.5 359,-151.5 359,-195.5\"/>\n",
       "<polygon fill=\"none\" stroke=\"black\" points=\"207,-151.5 207,-195.5 256,-195.5 256,-151.5 207,-151.5\"/>\n",
       "<text text-anchor=\"start\" x=\"212\" y=\"-176.75\" font-family=\"Linux libertine\" font-size=\"10.00\">Dropout</text>\n",
       "<text text-anchor=\"start\" x=\"213.12\" y=\"-164\" font-family=\"Linux libertine\" font-size=\"10.00\">depth:2</text>\n",
       "<polygon fill=\"none\" stroke=\"black\" points=\"256,-173.5 256,-195.5 303,-195.5 303,-173.5 256,-173.5\"/>\n",
       "<text text-anchor=\"start\" x=\"265.62\" y=\"-181\" font-family=\"Linux libertine\" font-size=\"10.00\">input:</text>\n",
       "<polygon fill=\"none\" stroke=\"black\" points=\"303,-173.5 303,-195.5 359,-195.5 359,-173.5 303,-173.5\"/>\n",
       "<text text-anchor=\"start\" x=\"307.75\" y=\"-181\" font-family=\"Linux libertine\" font-size=\"10.00\">(24, 256) </text>\n",
       "<polygon fill=\"none\" stroke=\"black\" points=\"256,-151.5 256,-173.5 303,-173.5 303,-151.5 256,-151.5\"/>\n",
       "<text text-anchor=\"start\" x=\"260.75\" y=\"-159\" font-family=\"Linux libertine\" font-size=\"10.00\">output: </text>\n",
       "<polygon fill=\"none\" stroke=\"black\" points=\"303,-151.5 303,-173.5 359,-173.5 359,-151.5 303,-151.5\"/>\n",
       "<text text-anchor=\"start\" x=\"307.75\" y=\"-159\" font-family=\"Linux libertine\" font-size=\"10.00\">(24, 256) </text>\n",
       "</g>\n",
       "<!-- 33&#45;&gt;34 -->\n",
       "<g id=\"edge40\" class=\"edge\">\n",
       "<title>33&#45;&gt;34</title>\n",
       "<path fill=\"none\" stroke=\"black\" d=\"M283,-231.6C283,-223.99 283,-215.2 283,-206.84\"/>\n",
       "<polygon fill=\"black\" stroke=\"black\" points=\"286.5,-206.97 283,-196.97 279.5,-206.97 286.5,-206.97\"/>\n",
       "</g>\n",
       "<!-- 50 -->\n",
       "<g id=\"node51\" class=\"node\">\n",
       "<title>50</title>\n",
       "<polygon fill=\"#c1ffc1\" stroke=\"none\" points=\"357.5,-115.5 208.5,-115.5 208.5,-71.5 357.5,-71.5 357.5,-115.5\"/>\n",
       "<polygon fill=\"none\" stroke=\"black\" points=\"208.5,-71.5 208.5,-115.5 254.5,-115.5 254.5,-71.5 208.5,-71.5\"/>\n",
       "<text text-anchor=\"start\" x=\"216.5\" y=\"-96.75\" font-family=\"Linux libertine\" font-size=\"10.00\">Linear</text>\n",
       "<text text-anchor=\"start\" x=\"213.12\" y=\"-84\" font-family=\"Linux libertine\" font-size=\"10.00\">depth:1</text>\n",
       "<polygon fill=\"none\" stroke=\"black\" points=\"254.5,-93.5 254.5,-115.5 301.5,-115.5 301.5,-93.5 254.5,-93.5\"/>\n",
       "<text text-anchor=\"start\" x=\"264.12\" y=\"-101\" font-family=\"Linux libertine\" font-size=\"10.00\">input:</text>\n",
       "<polygon fill=\"none\" stroke=\"black\" points=\"301.5,-93.5 301.5,-115.5 357.5,-115.5 357.5,-93.5 301.5,-93.5\"/>\n",
       "<text text-anchor=\"start\" x=\"306.25\" y=\"-101\" font-family=\"Linux libertine\" font-size=\"10.00\">(24, 256) </text>\n",
       "<polygon fill=\"none\" stroke=\"black\" points=\"254.5,-71.5 254.5,-93.5 301.5,-93.5 301.5,-71.5 254.5,-71.5\"/>\n",
       "<text text-anchor=\"start\" x=\"259.25\" y=\"-79\" font-family=\"Linux libertine\" font-size=\"10.00\">output: </text>\n",
       "<polygon fill=\"none\" stroke=\"black\" points=\"301.5,-71.5 301.5,-93.5 357.5,-93.5 357.5,-71.5 301.5,-71.5\"/>\n",
       "<text text-anchor=\"start\" x=\"312.25\" y=\"-79\" font-family=\"Linux libertine\" font-size=\"10.00\">(24, 2) </text>\n",
       "</g>\n",
       "<!-- 34&#45;&gt;50 -->\n",
       "<g id=\"edge41\" class=\"edge\">\n",
       "<title>34&#45;&gt;50</title>\n",
       "<path fill=\"none\" stroke=\"black\" d=\"M283,-151.6C283,-143.99 283,-135.2 283,-126.84\"/>\n",
       "<polygon fill=\"black\" stroke=\"black\" points=\"286.5,-126.97 283,-116.97 279.5,-126.97 286.5,-126.97\"/>\n",
       "</g>\n",
       "<!-- 36 -->\n",
       "<g id=\"node37\" class=\"node\">\n",
       "<title>36</title>\n",
       "<polygon fill=\"#c1ffc1\" stroke=\"none\" points=\"534.5,-275.5 385.5,-275.5 385.5,-231.5 534.5,-231.5 534.5,-275.5\"/>\n",
       "<polygon fill=\"none\" stroke=\"black\" points=\"385.5,-231.5 385.5,-275.5 431.5,-275.5 431.5,-231.5 385.5,-231.5\"/>\n",
       "<text text-anchor=\"start\" x=\"395.75\" y=\"-256.75\" font-family=\"Linux libertine\" font-size=\"10.00\">ReLU</text>\n",
       "<text text-anchor=\"start\" x=\"390.12\" y=\"-244\" font-family=\"Linux libertine\" font-size=\"10.00\">depth:2</text>\n",
       "<polygon fill=\"none\" stroke=\"black\" points=\"431.5,-253.5 431.5,-275.5 478.5,-275.5 478.5,-253.5 431.5,-253.5\"/>\n",
       "<text text-anchor=\"start\" x=\"441.12\" y=\"-261\" font-family=\"Linux libertine\" font-size=\"10.00\">input:</text>\n",
       "<polygon fill=\"none\" stroke=\"black\" points=\"478.5,-253.5 478.5,-275.5 534.5,-275.5 534.5,-253.5 478.5,-253.5\"/>\n",
       "<text text-anchor=\"start\" x=\"483.25\" y=\"-261\" font-family=\"Linux libertine\" font-size=\"10.00\">(24, 256) </text>\n",
       "<polygon fill=\"none\" stroke=\"black\" points=\"431.5,-231.5 431.5,-253.5 478.5,-253.5 478.5,-231.5 431.5,-231.5\"/>\n",
       "<text text-anchor=\"start\" x=\"436.25\" y=\"-239\" font-family=\"Linux libertine\" font-size=\"10.00\">output: </text>\n",
       "<polygon fill=\"none\" stroke=\"black\" points=\"478.5,-231.5 478.5,-253.5 534.5,-253.5 534.5,-231.5 478.5,-231.5\"/>\n",
       "<text text-anchor=\"start\" x=\"483.25\" y=\"-239\" font-family=\"Linux libertine\" font-size=\"10.00\">(24, 256) </text>\n",
       "</g>\n",
       "<!-- 35&#45;&gt;36 -->\n",
       "<g id=\"edge43\" class=\"edge\">\n",
       "<title>35&#45;&gt;36</title>\n",
       "<path fill=\"none\" stroke=\"black\" d=\"M460,-311.6C460,-303.99 460,-295.2 460,-286.84\"/>\n",
       "<polygon fill=\"black\" stroke=\"black\" points=\"463.5,-286.97 460,-276.97 456.5,-286.97 463.5,-286.97\"/>\n",
       "</g>\n",
       "<!-- 37 -->\n",
       "<g id=\"node38\" class=\"node\">\n",
       "<title>37</title>\n",
       "<polygon fill=\"#c1ffc1\" stroke=\"none\" points=\"535,-195.5 383,-195.5 383,-151.5 535,-151.5 535,-195.5\"/>\n",
       "<polygon fill=\"none\" stroke=\"black\" points=\"383,-151.5 383,-195.5 432,-195.5 432,-151.5 383,-151.5\"/>\n",
       "<text text-anchor=\"start\" x=\"388\" y=\"-176.75\" font-family=\"Linux libertine\" font-size=\"10.00\">Dropout</text>\n",
       "<text text-anchor=\"start\" x=\"389.12\" y=\"-164\" font-family=\"Linux libertine\" font-size=\"10.00\">depth:2</text>\n",
       "<polygon fill=\"none\" stroke=\"black\" points=\"432,-173.5 432,-195.5 479,-195.5 479,-173.5 432,-173.5\"/>\n",
       "<text text-anchor=\"start\" x=\"441.62\" y=\"-181\" font-family=\"Linux libertine\" font-size=\"10.00\">input:</text>\n",
       "<polygon fill=\"none\" stroke=\"black\" points=\"479,-173.5 479,-195.5 535,-195.5 535,-173.5 479,-173.5\"/>\n",
       "<text text-anchor=\"start\" x=\"483.75\" y=\"-181\" font-family=\"Linux libertine\" font-size=\"10.00\">(24, 256) </text>\n",
       "<polygon fill=\"none\" stroke=\"black\" points=\"432,-151.5 432,-173.5 479,-173.5 479,-151.5 432,-151.5\"/>\n",
       "<text text-anchor=\"start\" x=\"436.75\" y=\"-159\" font-family=\"Linux libertine\" font-size=\"10.00\">output: </text>\n",
       "<polygon fill=\"none\" stroke=\"black\" points=\"479,-151.5 479,-173.5 535,-173.5 535,-151.5 479,-151.5\"/>\n",
       "<text text-anchor=\"start\" x=\"483.75\" y=\"-159\" font-family=\"Linux libertine\" font-size=\"10.00\">(24, 256) </text>\n",
       "</g>\n",
       "<!-- 36&#45;&gt;37 -->\n",
       "<g id=\"edge44\" class=\"edge\">\n",
       "<title>36&#45;&gt;37</title>\n",
       "<path fill=\"none\" stroke=\"black\" d=\"M459.73,-231.6C459.63,-223.99 459.52,-215.2 459.41,-206.84\"/>\n",
       "<polygon fill=\"black\" stroke=\"black\" points=\"462.92,-206.93 459.29,-196.97 455.92,-207.02 462.92,-206.93\"/>\n",
       "</g>\n",
       "<!-- 52 -->\n",
       "<g id=\"node53\" class=\"node\">\n",
       "<title>52</title>\n",
       "<polygon fill=\"#c1ffc1\" stroke=\"none\" points=\"533.5,-115.5 384.5,-115.5 384.5,-71.5 533.5,-71.5 533.5,-115.5\"/>\n",
       "<polygon fill=\"none\" stroke=\"black\" points=\"384.5,-71.5 384.5,-115.5 430.5,-115.5 430.5,-71.5 384.5,-71.5\"/>\n",
       "<text text-anchor=\"start\" x=\"392.5\" y=\"-96.75\" font-family=\"Linux libertine\" font-size=\"10.00\">Linear</text>\n",
       "<text text-anchor=\"start\" x=\"389.12\" y=\"-84\" font-family=\"Linux libertine\" font-size=\"10.00\">depth:1</text>\n",
       "<polygon fill=\"none\" stroke=\"black\" points=\"430.5,-93.5 430.5,-115.5 477.5,-115.5 477.5,-93.5 430.5,-93.5\"/>\n",
       "<text text-anchor=\"start\" x=\"440.12\" y=\"-101\" font-family=\"Linux libertine\" font-size=\"10.00\">input:</text>\n",
       "<polygon fill=\"none\" stroke=\"black\" points=\"477.5,-93.5 477.5,-115.5 533.5,-115.5 533.5,-93.5 477.5,-93.5\"/>\n",
       "<text text-anchor=\"start\" x=\"482.25\" y=\"-101\" font-family=\"Linux libertine\" font-size=\"10.00\">(24, 256) </text>\n",
       "<polygon fill=\"none\" stroke=\"black\" points=\"430.5,-71.5 430.5,-93.5 477.5,-93.5 477.5,-71.5 430.5,-71.5\"/>\n",
       "<text text-anchor=\"start\" x=\"435.25\" y=\"-79\" font-family=\"Linux libertine\" font-size=\"10.00\">output: </text>\n",
       "<polygon fill=\"none\" stroke=\"black\" points=\"477.5,-71.5 477.5,-93.5 533.5,-93.5 533.5,-71.5 477.5,-71.5\"/>\n",
       "<text text-anchor=\"start\" x=\"488.25\" y=\"-79\" font-family=\"Linux libertine\" font-size=\"10.00\">(24, 5) </text>\n",
       "</g>\n",
       "<!-- 37&#45;&gt;52 -->\n",
       "<g id=\"edge45\" class=\"edge\">\n",
       "<title>37&#45;&gt;52</title>\n",
       "<path fill=\"none\" stroke=\"black\" d=\"M459,-151.6C459,-143.99 459,-135.2 459,-126.84\"/>\n",
       "<polygon fill=\"black\" stroke=\"black\" points=\"462.5,-126.97 459,-116.97 455.5,-126.97 462.5,-126.97\"/>\n",
       "</g>\n",
       "<!-- 39 -->\n",
       "<g id=\"node40\" class=\"node\">\n",
       "<title>39</title>\n",
       "<polygon fill=\"#c1ffc1\" stroke=\"none\" points=\"709.5,-275.5 560.5,-275.5 560.5,-231.5 709.5,-231.5 709.5,-275.5\"/>\n",
       "<polygon fill=\"none\" stroke=\"black\" points=\"560.5,-231.5 560.5,-275.5 606.5,-275.5 606.5,-231.5 560.5,-231.5\"/>\n",
       "<text text-anchor=\"start\" x=\"570.75\" y=\"-256.75\" font-family=\"Linux libertine\" font-size=\"10.00\">ReLU</text>\n",
       "<text text-anchor=\"start\" x=\"565.12\" y=\"-244\" font-family=\"Linux libertine\" font-size=\"10.00\">depth:2</text>\n",
       "<polygon fill=\"none\" stroke=\"black\" points=\"606.5,-253.5 606.5,-275.5 653.5,-275.5 653.5,-253.5 606.5,-253.5\"/>\n",
       "<text text-anchor=\"start\" x=\"616.12\" y=\"-261\" font-family=\"Linux libertine\" font-size=\"10.00\">input:</text>\n",
       "<polygon fill=\"none\" stroke=\"black\" points=\"653.5,-253.5 653.5,-275.5 709.5,-275.5 709.5,-253.5 653.5,-253.5\"/>\n",
       "<text text-anchor=\"start\" x=\"658.25\" y=\"-261\" font-family=\"Linux libertine\" font-size=\"10.00\">(24, 256) </text>\n",
       "<polygon fill=\"none\" stroke=\"black\" points=\"606.5,-231.5 606.5,-253.5 653.5,-253.5 653.5,-231.5 606.5,-231.5\"/>\n",
       "<text text-anchor=\"start\" x=\"611.25\" y=\"-239\" font-family=\"Linux libertine\" font-size=\"10.00\">output: </text>\n",
       "<polygon fill=\"none\" stroke=\"black\" points=\"653.5,-231.5 653.5,-253.5 709.5,-253.5 709.5,-231.5 653.5,-231.5\"/>\n",
       "<text text-anchor=\"start\" x=\"658.25\" y=\"-239\" font-family=\"Linux libertine\" font-size=\"10.00\">(24, 256) </text>\n",
       "</g>\n",
       "<!-- 38&#45;&gt;39 -->\n",
       "<g id=\"edge47\" class=\"edge\">\n",
       "<title>38&#45;&gt;39</title>\n",
       "<path fill=\"none\" stroke=\"black\" d=\"M635,-311.6C635,-303.99 635,-295.2 635,-286.84\"/>\n",
       "<polygon fill=\"black\" stroke=\"black\" points=\"638.5,-286.97 635,-276.97 631.5,-286.97 638.5,-286.97\"/>\n",
       "</g>\n",
       "<!-- 40 -->\n",
       "<g id=\"node41\" class=\"node\">\n",
       "<title>40</title>\n",
       "<polygon fill=\"#c1ffc1\" stroke=\"none\" points=\"711,-195.5 559,-195.5 559,-151.5 711,-151.5 711,-195.5\"/>\n",
       "<polygon fill=\"none\" stroke=\"black\" points=\"559,-151.5 559,-195.5 608,-195.5 608,-151.5 559,-151.5\"/>\n",
       "<text text-anchor=\"start\" x=\"564\" y=\"-176.75\" font-family=\"Linux libertine\" font-size=\"10.00\">Dropout</text>\n",
       "<text text-anchor=\"start\" x=\"565.12\" y=\"-164\" font-family=\"Linux libertine\" font-size=\"10.00\">depth:2</text>\n",
       "<polygon fill=\"none\" stroke=\"black\" points=\"608,-173.5 608,-195.5 655,-195.5 655,-173.5 608,-173.5\"/>\n",
       "<text text-anchor=\"start\" x=\"617.62\" y=\"-181\" font-family=\"Linux libertine\" font-size=\"10.00\">input:</text>\n",
       "<polygon fill=\"none\" stroke=\"black\" points=\"655,-173.5 655,-195.5 711,-195.5 711,-173.5 655,-173.5\"/>\n",
       "<text text-anchor=\"start\" x=\"659.75\" y=\"-181\" font-family=\"Linux libertine\" font-size=\"10.00\">(24, 256) </text>\n",
       "<polygon fill=\"none\" stroke=\"black\" points=\"608,-151.5 608,-173.5 655,-173.5 655,-151.5 608,-151.5\"/>\n",
       "<text text-anchor=\"start\" x=\"612.75\" y=\"-159\" font-family=\"Linux libertine\" font-size=\"10.00\">output: </text>\n",
       "<polygon fill=\"none\" stroke=\"black\" points=\"655,-151.5 655,-173.5 711,-173.5 711,-151.5 655,-151.5\"/>\n",
       "<text text-anchor=\"start\" x=\"659.75\" y=\"-159\" font-family=\"Linux libertine\" font-size=\"10.00\">(24, 256) </text>\n",
       "</g>\n",
       "<!-- 39&#45;&gt;40 -->\n",
       "<g id=\"edge48\" class=\"edge\">\n",
       "<title>39&#45;&gt;40</title>\n",
       "<path fill=\"none\" stroke=\"black\" d=\"M635,-231.6C635,-223.99 635,-215.2 635,-206.84\"/>\n",
       "<polygon fill=\"black\" stroke=\"black\" points=\"638.5,-206.97 635,-196.97 631.5,-206.97 638.5,-206.97\"/>\n",
       "</g>\n",
       "<!-- 54 -->\n",
       "<g id=\"node55\" class=\"node\">\n",
       "<title>54</title>\n",
       "<polygon fill=\"#c1ffc1\" stroke=\"none\" points=\"709.5,-115.5 560.5,-115.5 560.5,-71.5 709.5,-71.5 709.5,-115.5\"/>\n",
       "<polygon fill=\"none\" stroke=\"black\" points=\"560.5,-71.5 560.5,-115.5 606.5,-115.5 606.5,-71.5 560.5,-71.5\"/>\n",
       "<text text-anchor=\"start\" x=\"568.5\" y=\"-96.75\" font-family=\"Linux libertine\" font-size=\"10.00\">Linear</text>\n",
       "<text text-anchor=\"start\" x=\"565.12\" y=\"-84\" font-family=\"Linux libertine\" font-size=\"10.00\">depth:1</text>\n",
       "<polygon fill=\"none\" stroke=\"black\" points=\"606.5,-93.5 606.5,-115.5 653.5,-115.5 653.5,-93.5 606.5,-93.5\"/>\n",
       "<text text-anchor=\"start\" x=\"616.12\" y=\"-101\" font-family=\"Linux libertine\" font-size=\"10.00\">input:</text>\n",
       "<polygon fill=\"none\" stroke=\"black\" points=\"653.5,-93.5 653.5,-115.5 709.5,-115.5 709.5,-93.5 653.5,-93.5\"/>\n",
       "<text text-anchor=\"start\" x=\"658.25\" y=\"-101\" font-family=\"Linux libertine\" font-size=\"10.00\">(24, 256) </text>\n",
       "<polygon fill=\"none\" stroke=\"black\" points=\"606.5,-71.5 606.5,-93.5 653.5,-93.5 653.5,-71.5 606.5,-71.5\"/>\n",
       "<text text-anchor=\"start\" x=\"611.25\" y=\"-79\" font-family=\"Linux libertine\" font-size=\"10.00\">output: </text>\n",
       "<polygon fill=\"none\" stroke=\"black\" points=\"653.5,-71.5 653.5,-93.5 709.5,-93.5 709.5,-71.5 653.5,-71.5\"/>\n",
       "<text text-anchor=\"start\" x=\"664.25\" y=\"-79\" font-family=\"Linux libertine\" font-size=\"10.00\">(24, 4) </text>\n",
       "</g>\n",
       "<!-- 40&#45;&gt;54 -->\n",
       "<g id=\"edge49\" class=\"edge\">\n",
       "<title>40&#45;&gt;54</title>\n",
       "<path fill=\"none\" stroke=\"black\" d=\"M635,-151.6C635,-143.99 635,-135.2 635,-126.84\"/>\n",
       "<polygon fill=\"black\" stroke=\"black\" points=\"638.5,-126.97 635,-116.97 631.5,-126.97 638.5,-126.97\"/>\n",
       "</g>\n",
       "<!-- 42 -->\n",
       "<g id=\"node43\" class=\"node\">\n",
       "<title>42</title>\n",
       "<polygon fill=\"#c1ffc1\" stroke=\"none\" points=\"884.5,-275.5 735.5,-275.5 735.5,-231.5 884.5,-231.5 884.5,-275.5\"/>\n",
       "<polygon fill=\"none\" stroke=\"black\" points=\"735.5,-231.5 735.5,-275.5 781.5,-275.5 781.5,-231.5 735.5,-231.5\"/>\n",
       "<text text-anchor=\"start\" x=\"745.75\" y=\"-256.75\" font-family=\"Linux libertine\" font-size=\"10.00\">ReLU</text>\n",
       "<text text-anchor=\"start\" x=\"740.12\" y=\"-244\" font-family=\"Linux libertine\" font-size=\"10.00\">depth:2</text>\n",
       "<polygon fill=\"none\" stroke=\"black\" points=\"781.5,-253.5 781.5,-275.5 828.5,-275.5 828.5,-253.5 781.5,-253.5\"/>\n",
       "<text text-anchor=\"start\" x=\"791.12\" y=\"-261\" font-family=\"Linux libertine\" font-size=\"10.00\">input:</text>\n",
       "<polygon fill=\"none\" stroke=\"black\" points=\"828.5,-253.5 828.5,-275.5 884.5,-275.5 884.5,-253.5 828.5,-253.5\"/>\n",
       "<text text-anchor=\"start\" x=\"833.25\" y=\"-261\" font-family=\"Linux libertine\" font-size=\"10.00\">(24, 256) </text>\n",
       "<polygon fill=\"none\" stroke=\"black\" points=\"781.5,-231.5 781.5,-253.5 828.5,-253.5 828.5,-231.5 781.5,-231.5\"/>\n",
       "<text text-anchor=\"start\" x=\"786.25\" y=\"-239\" font-family=\"Linux libertine\" font-size=\"10.00\">output: </text>\n",
       "<polygon fill=\"none\" stroke=\"black\" points=\"828.5,-231.5 828.5,-253.5 884.5,-253.5 884.5,-231.5 828.5,-231.5\"/>\n",
       "<text text-anchor=\"start\" x=\"833.25\" y=\"-239\" font-family=\"Linux libertine\" font-size=\"10.00\">(24, 256) </text>\n",
       "</g>\n",
       "<!-- 41&#45;&gt;42 -->\n",
       "<g id=\"edge51\" class=\"edge\">\n",
       "<title>41&#45;&gt;42</title>\n",
       "<path fill=\"none\" stroke=\"black\" d=\"M810,-311.6C810,-303.99 810,-295.2 810,-286.84\"/>\n",
       "<polygon fill=\"black\" stroke=\"black\" points=\"813.5,-286.97 810,-276.97 806.5,-286.97 813.5,-286.97\"/>\n",
       "</g>\n",
       "<!-- 43 -->\n",
       "<g id=\"node44\" class=\"node\">\n",
       "<title>43</title>\n",
       "<polygon fill=\"#c1ffc1\" stroke=\"none\" points=\"887,-195.5 735,-195.5 735,-151.5 887,-151.5 887,-195.5\"/>\n",
       "<polygon fill=\"none\" stroke=\"black\" points=\"735,-151.5 735,-195.5 784,-195.5 784,-151.5 735,-151.5\"/>\n",
       "<text text-anchor=\"start\" x=\"740\" y=\"-176.75\" font-family=\"Linux libertine\" font-size=\"10.00\">Dropout</text>\n",
       "<text text-anchor=\"start\" x=\"741.12\" y=\"-164\" font-family=\"Linux libertine\" font-size=\"10.00\">depth:2</text>\n",
       "<polygon fill=\"none\" stroke=\"black\" points=\"784,-173.5 784,-195.5 831,-195.5 831,-173.5 784,-173.5\"/>\n",
       "<text text-anchor=\"start\" x=\"793.62\" y=\"-181\" font-family=\"Linux libertine\" font-size=\"10.00\">input:</text>\n",
       "<polygon fill=\"none\" stroke=\"black\" points=\"831,-173.5 831,-195.5 887,-195.5 887,-173.5 831,-173.5\"/>\n",
       "<text text-anchor=\"start\" x=\"835.75\" y=\"-181\" font-family=\"Linux libertine\" font-size=\"10.00\">(24, 256) </text>\n",
       "<polygon fill=\"none\" stroke=\"black\" points=\"784,-151.5 784,-173.5 831,-173.5 831,-151.5 784,-151.5\"/>\n",
       "<text text-anchor=\"start\" x=\"788.75\" y=\"-159\" font-family=\"Linux libertine\" font-size=\"10.00\">output: </text>\n",
       "<polygon fill=\"none\" stroke=\"black\" points=\"831,-151.5 831,-173.5 887,-173.5 887,-151.5 831,-151.5\"/>\n",
       "<text text-anchor=\"start\" x=\"835.75\" y=\"-159\" font-family=\"Linux libertine\" font-size=\"10.00\">(24, 256) </text>\n",
       "</g>\n",
       "<!-- 42&#45;&gt;43 -->\n",
       "<g id=\"edge52\" class=\"edge\">\n",
       "<title>42&#45;&gt;43</title>\n",
       "<path fill=\"none\" stroke=\"black\" d=\"M810.27,-231.6C810.37,-223.99 810.48,-215.2 810.59,-206.84\"/>\n",
       "<polygon fill=\"black\" stroke=\"black\" points=\"814.08,-207.02 810.71,-196.97 807.08,-206.93 814.08,-207.02\"/>\n",
       "</g>\n",
       "<!-- 56 -->\n",
       "<g id=\"node57\" class=\"node\">\n",
       "<title>56</title>\n",
       "<polygon fill=\"#c1ffc1\" stroke=\"none\" points=\"885.5,-115.5 736.5,-115.5 736.5,-71.5 885.5,-71.5 885.5,-115.5\"/>\n",
       "<polygon fill=\"none\" stroke=\"black\" points=\"736.5,-71.5 736.5,-115.5 782.5,-115.5 782.5,-71.5 736.5,-71.5\"/>\n",
       "<text text-anchor=\"start\" x=\"744.5\" y=\"-96.75\" font-family=\"Linux libertine\" font-size=\"10.00\">Linear</text>\n",
       "<text text-anchor=\"start\" x=\"741.12\" y=\"-84\" font-family=\"Linux libertine\" font-size=\"10.00\">depth:1</text>\n",
       "<polygon fill=\"none\" stroke=\"black\" points=\"782.5,-93.5 782.5,-115.5 829.5,-115.5 829.5,-93.5 782.5,-93.5\"/>\n",
       "<text text-anchor=\"start\" x=\"792.12\" y=\"-101\" font-family=\"Linux libertine\" font-size=\"10.00\">input:</text>\n",
       "<polygon fill=\"none\" stroke=\"black\" points=\"829.5,-93.5 829.5,-115.5 885.5,-115.5 885.5,-93.5 829.5,-93.5\"/>\n",
       "<text text-anchor=\"start\" x=\"834.25\" y=\"-101\" font-family=\"Linux libertine\" font-size=\"10.00\">(24, 256) </text>\n",
       "<polygon fill=\"none\" stroke=\"black\" points=\"782.5,-71.5 782.5,-93.5 829.5,-93.5 829.5,-71.5 782.5,-71.5\"/>\n",
       "<text text-anchor=\"start\" x=\"787.25\" y=\"-79\" font-family=\"Linux libertine\" font-size=\"10.00\">output: </text>\n",
       "<polygon fill=\"none\" stroke=\"black\" points=\"829.5,-71.5 829.5,-93.5 885.5,-93.5 885.5,-71.5 829.5,-71.5\"/>\n",
       "<text text-anchor=\"start\" x=\"840.25\" y=\"-79\" font-family=\"Linux libertine\" font-size=\"10.00\">(24, 5) </text>\n",
       "</g>\n",
       "<!-- 43&#45;&gt;56 -->\n",
       "<g id=\"edge53\" class=\"edge\">\n",
       "<title>43&#45;&gt;56</title>\n",
       "<path fill=\"none\" stroke=\"black\" d=\"M811,-151.6C811,-143.99 811,-135.2 811,-126.84\"/>\n",
       "<polygon fill=\"black\" stroke=\"black\" points=\"814.5,-126.97 811,-116.97 807.5,-126.97 814.5,-126.97\"/>\n",
       "</g>\n",
       "<!-- 45 -->\n",
       "<g id=\"node46\" class=\"node\">\n",
       "<title>45</title>\n",
       "<polygon fill=\"#c1ffc1\" stroke=\"none\" points=\"1060.5,-275.5 911.5,-275.5 911.5,-231.5 1060.5,-231.5 1060.5,-275.5\"/>\n",
       "<polygon fill=\"none\" stroke=\"black\" points=\"911.5,-231.5 911.5,-275.5 957.5,-275.5 957.5,-231.5 911.5,-231.5\"/>\n",
       "<text text-anchor=\"start\" x=\"921.75\" y=\"-256.75\" font-family=\"Linux libertine\" font-size=\"10.00\">ReLU</text>\n",
       "<text text-anchor=\"start\" x=\"916.12\" y=\"-244\" font-family=\"Linux libertine\" font-size=\"10.00\">depth:2</text>\n",
       "<polygon fill=\"none\" stroke=\"black\" points=\"957.5,-253.5 957.5,-275.5 1004.5,-275.5 1004.5,-253.5 957.5,-253.5\"/>\n",
       "<text text-anchor=\"start\" x=\"967.12\" y=\"-261\" font-family=\"Linux libertine\" font-size=\"10.00\">input:</text>\n",
       "<polygon fill=\"none\" stroke=\"black\" points=\"1004.5,-253.5 1004.5,-275.5 1060.5,-275.5 1060.5,-253.5 1004.5,-253.5\"/>\n",
       "<text text-anchor=\"start\" x=\"1009.25\" y=\"-261\" font-family=\"Linux libertine\" font-size=\"10.00\">(24, 256) </text>\n",
       "<polygon fill=\"none\" stroke=\"black\" points=\"957.5,-231.5 957.5,-253.5 1004.5,-253.5 1004.5,-231.5 957.5,-231.5\"/>\n",
       "<text text-anchor=\"start\" x=\"962.25\" y=\"-239\" font-family=\"Linux libertine\" font-size=\"10.00\">output: </text>\n",
       "<polygon fill=\"none\" stroke=\"black\" points=\"1004.5,-231.5 1004.5,-253.5 1060.5,-253.5 1060.5,-231.5 1004.5,-231.5\"/>\n",
       "<text text-anchor=\"start\" x=\"1009.25\" y=\"-239\" font-family=\"Linux libertine\" font-size=\"10.00\">(24, 256) </text>\n",
       "</g>\n",
       "<!-- 44&#45;&gt;45 -->\n",
       "<g id=\"edge55\" class=\"edge\">\n",
       "<title>44&#45;&gt;45</title>\n",
       "<path fill=\"none\" stroke=\"black\" d=\"M986,-311.6C986,-303.99 986,-295.2 986,-286.84\"/>\n",
       "<polygon fill=\"black\" stroke=\"black\" points=\"989.5,-286.97 986,-276.97 982.5,-286.97 989.5,-286.97\"/>\n",
       "</g>\n",
       "<!-- 46 -->\n",
       "<g id=\"node47\" class=\"node\">\n",
       "<title>46</title>\n",
       "<polygon fill=\"#c1ffc1\" stroke=\"none\" points=\"1063,-195.5 911,-195.5 911,-151.5 1063,-151.5 1063,-195.5\"/>\n",
       "<polygon fill=\"none\" stroke=\"black\" points=\"911,-151.5 911,-195.5 960,-195.5 960,-151.5 911,-151.5\"/>\n",
       "<text text-anchor=\"start\" x=\"916\" y=\"-176.75\" font-family=\"Linux libertine\" font-size=\"10.00\">Dropout</text>\n",
       "<text text-anchor=\"start\" x=\"917.12\" y=\"-164\" font-family=\"Linux libertine\" font-size=\"10.00\">depth:2</text>\n",
       "<polygon fill=\"none\" stroke=\"black\" points=\"960,-173.5 960,-195.5 1007,-195.5 1007,-173.5 960,-173.5\"/>\n",
       "<text text-anchor=\"start\" x=\"969.62\" y=\"-181\" font-family=\"Linux libertine\" font-size=\"10.00\">input:</text>\n",
       "<polygon fill=\"none\" stroke=\"black\" points=\"1007,-173.5 1007,-195.5 1063,-195.5 1063,-173.5 1007,-173.5\"/>\n",
       "<text text-anchor=\"start\" x=\"1011.75\" y=\"-181\" font-family=\"Linux libertine\" font-size=\"10.00\">(24, 256) </text>\n",
       "<polygon fill=\"none\" stroke=\"black\" points=\"960,-151.5 960,-173.5 1007,-173.5 1007,-151.5 960,-151.5\"/>\n",
       "<text text-anchor=\"start\" x=\"964.75\" y=\"-159\" font-family=\"Linux libertine\" font-size=\"10.00\">output: </text>\n",
       "<polygon fill=\"none\" stroke=\"black\" points=\"1007,-151.5 1007,-173.5 1063,-173.5 1063,-151.5 1007,-151.5\"/>\n",
       "<text text-anchor=\"start\" x=\"1011.75\" y=\"-159\" font-family=\"Linux libertine\" font-size=\"10.00\">(24, 256) </text>\n",
       "</g>\n",
       "<!-- 45&#45;&gt;46 -->\n",
       "<g id=\"edge56\" class=\"edge\">\n",
       "<title>45&#45;&gt;46</title>\n",
       "<path fill=\"none\" stroke=\"black\" d=\"M986.27,-231.6C986.37,-223.99 986.48,-215.2 986.59,-206.84\"/>\n",
       "<polygon fill=\"black\" stroke=\"black\" points=\"990.08,-207.02 986.71,-196.97 983.08,-206.93 990.08,-207.02\"/>\n",
       "</g>\n",
       "<!-- 58 -->\n",
       "<g id=\"node59\" class=\"node\">\n",
       "<title>58</title>\n",
       "<polygon fill=\"#c1ffc1\" stroke=\"none\" points=\"1061.5,-115.5 912.5,-115.5 912.5,-71.5 1061.5,-71.5 1061.5,-115.5\"/>\n",
       "<polygon fill=\"none\" stroke=\"black\" points=\"912.5,-71.5 912.5,-115.5 958.5,-115.5 958.5,-71.5 912.5,-71.5\"/>\n",
       "<text text-anchor=\"start\" x=\"920.5\" y=\"-96.75\" font-family=\"Linux libertine\" font-size=\"10.00\">Linear</text>\n",
       "<text text-anchor=\"start\" x=\"917.12\" y=\"-84\" font-family=\"Linux libertine\" font-size=\"10.00\">depth:1</text>\n",
       "<polygon fill=\"none\" stroke=\"black\" points=\"958.5,-93.5 958.5,-115.5 1005.5,-115.5 1005.5,-93.5 958.5,-93.5\"/>\n",
       "<text text-anchor=\"start\" x=\"968.12\" y=\"-101\" font-family=\"Linux libertine\" font-size=\"10.00\">input:</text>\n",
       "<polygon fill=\"none\" stroke=\"black\" points=\"1005.5,-93.5 1005.5,-115.5 1061.5,-115.5 1061.5,-93.5 1005.5,-93.5\"/>\n",
       "<text text-anchor=\"start\" x=\"1010.25\" y=\"-101\" font-family=\"Linux libertine\" font-size=\"10.00\">(24, 256) </text>\n",
       "<polygon fill=\"none\" stroke=\"black\" points=\"958.5,-71.5 958.5,-93.5 1005.5,-93.5 1005.5,-71.5 958.5,-71.5\"/>\n",
       "<text text-anchor=\"start\" x=\"963.25\" y=\"-79\" font-family=\"Linux libertine\" font-size=\"10.00\">output: </text>\n",
       "<polygon fill=\"none\" stroke=\"black\" points=\"1005.5,-71.5 1005.5,-93.5 1061.5,-93.5 1061.5,-71.5 1005.5,-71.5\"/>\n",
       "<text text-anchor=\"start\" x=\"1016.25\" y=\"-79\" font-family=\"Linux libertine\" font-size=\"10.00\">(24, 6) </text>\n",
       "</g>\n",
       "<!-- 46&#45;&gt;58 -->\n",
       "<g id=\"edge57\" class=\"edge\">\n",
       "<title>46&#45;&gt;58</title>\n",
       "<path fill=\"none\" stroke=\"black\" d=\"M987,-151.6C987,-143.99 987,-135.2 987,-126.84\"/>\n",
       "<polygon fill=\"black\" stroke=\"black\" points=\"990.5,-126.97 987,-116.97 983.5,-126.97 990.5,-126.97\"/>\n",
       "</g>\n",
       "<!-- 48 -->\n",
       "<g id=\"node49\" class=\"node\">\n",
       "<title>48</title>\n",
       "<polygon fill=\"#c1ffc1\" stroke=\"none\" points=\"1236.5,-275.5 1087.5,-275.5 1087.5,-231.5 1236.5,-231.5 1236.5,-275.5\"/>\n",
       "<polygon fill=\"none\" stroke=\"black\" points=\"1087.5,-231.5 1087.5,-275.5 1133.5,-275.5 1133.5,-231.5 1087.5,-231.5\"/>\n",
       "<text text-anchor=\"start\" x=\"1097.75\" y=\"-256.75\" font-family=\"Linux libertine\" font-size=\"10.00\">ReLU</text>\n",
       "<text text-anchor=\"start\" x=\"1092.12\" y=\"-244\" font-family=\"Linux libertine\" font-size=\"10.00\">depth:2</text>\n",
       "<polygon fill=\"none\" stroke=\"black\" points=\"1133.5,-253.5 1133.5,-275.5 1180.5,-275.5 1180.5,-253.5 1133.5,-253.5\"/>\n",
       "<text text-anchor=\"start\" x=\"1143.12\" y=\"-261\" font-family=\"Linux libertine\" font-size=\"10.00\">input:</text>\n",
       "<polygon fill=\"none\" stroke=\"black\" points=\"1180.5,-253.5 1180.5,-275.5 1236.5,-275.5 1236.5,-253.5 1180.5,-253.5\"/>\n",
       "<text text-anchor=\"start\" x=\"1185.25\" y=\"-261\" font-family=\"Linux libertine\" font-size=\"10.00\">(24, 256) </text>\n",
       "<polygon fill=\"none\" stroke=\"black\" points=\"1133.5,-231.5 1133.5,-253.5 1180.5,-253.5 1180.5,-231.5 1133.5,-231.5\"/>\n",
       "<text text-anchor=\"start\" x=\"1138.25\" y=\"-239\" font-family=\"Linux libertine\" font-size=\"10.00\">output: </text>\n",
       "<polygon fill=\"none\" stroke=\"black\" points=\"1180.5,-231.5 1180.5,-253.5 1236.5,-253.5 1236.5,-231.5 1180.5,-231.5\"/>\n",
       "<text text-anchor=\"start\" x=\"1185.25\" y=\"-239\" font-family=\"Linux libertine\" font-size=\"10.00\">(24, 256) </text>\n",
       "</g>\n",
       "<!-- 47&#45;&gt;48 -->\n",
       "<g id=\"edge59\" class=\"edge\">\n",
       "<title>47&#45;&gt;48</title>\n",
       "<path fill=\"none\" stroke=\"black\" d=\"M1162,-311.6C1162,-303.99 1162,-295.2 1162,-286.84\"/>\n",
       "<polygon fill=\"black\" stroke=\"black\" points=\"1165.5,-286.97 1162,-276.97 1158.5,-286.97 1165.5,-286.97\"/>\n",
       "</g>\n",
       "<!-- 49 -->\n",
       "<g id=\"node50\" class=\"node\">\n",
       "<title>49</title>\n",
       "<polygon fill=\"#c1ffc1\" stroke=\"none\" points=\"1239,-195.5 1087,-195.5 1087,-151.5 1239,-151.5 1239,-195.5\"/>\n",
       "<polygon fill=\"none\" stroke=\"black\" points=\"1087,-151.5 1087,-195.5 1136,-195.5 1136,-151.5 1087,-151.5\"/>\n",
       "<text text-anchor=\"start\" x=\"1092\" y=\"-176.75\" font-family=\"Linux libertine\" font-size=\"10.00\">Dropout</text>\n",
       "<text text-anchor=\"start\" x=\"1093.12\" y=\"-164\" font-family=\"Linux libertine\" font-size=\"10.00\">depth:2</text>\n",
       "<polygon fill=\"none\" stroke=\"black\" points=\"1136,-173.5 1136,-195.5 1183,-195.5 1183,-173.5 1136,-173.5\"/>\n",
       "<text text-anchor=\"start\" x=\"1145.62\" y=\"-181\" font-family=\"Linux libertine\" font-size=\"10.00\">input:</text>\n",
       "<polygon fill=\"none\" stroke=\"black\" points=\"1183,-173.5 1183,-195.5 1239,-195.5 1239,-173.5 1183,-173.5\"/>\n",
       "<text text-anchor=\"start\" x=\"1187.75\" y=\"-181\" font-family=\"Linux libertine\" font-size=\"10.00\">(24, 256) </text>\n",
       "<polygon fill=\"none\" stroke=\"black\" points=\"1136,-151.5 1136,-173.5 1183,-173.5 1183,-151.5 1136,-151.5\"/>\n",
       "<text text-anchor=\"start\" x=\"1140.75\" y=\"-159\" font-family=\"Linux libertine\" font-size=\"10.00\">output: </text>\n",
       "<polygon fill=\"none\" stroke=\"black\" points=\"1183,-151.5 1183,-173.5 1239,-173.5 1239,-151.5 1183,-151.5\"/>\n",
       "<text text-anchor=\"start\" x=\"1187.75\" y=\"-159\" font-family=\"Linux libertine\" font-size=\"10.00\">(24, 256) </text>\n",
       "</g>\n",
       "<!-- 48&#45;&gt;49 -->\n",
       "<g id=\"edge60\" class=\"edge\">\n",
       "<title>48&#45;&gt;49</title>\n",
       "<path fill=\"none\" stroke=\"black\" d=\"M1162.27,-231.6C1162.37,-223.99 1162.48,-215.2 1162.59,-206.84\"/>\n",
       "<polygon fill=\"black\" stroke=\"black\" points=\"1166.08,-207.02 1162.71,-196.97 1159.08,-206.93 1166.08,-207.02\"/>\n",
       "</g>\n",
       "<!-- 60 -->\n",
       "<g id=\"node61\" class=\"node\">\n",
       "<title>60</title>\n",
       "<polygon fill=\"#c1ffc1\" stroke=\"none\" points=\"1237.5,-115.5 1088.5,-115.5 1088.5,-71.5 1237.5,-71.5 1237.5,-115.5\"/>\n",
       "<polygon fill=\"none\" stroke=\"black\" points=\"1088.5,-71.5 1088.5,-115.5 1134.5,-115.5 1134.5,-71.5 1088.5,-71.5\"/>\n",
       "<text text-anchor=\"start\" x=\"1096.5\" y=\"-96.75\" font-family=\"Linux libertine\" font-size=\"10.00\">Linear</text>\n",
       "<text text-anchor=\"start\" x=\"1093.12\" y=\"-84\" font-family=\"Linux libertine\" font-size=\"10.00\">depth:1</text>\n",
       "<polygon fill=\"none\" stroke=\"black\" points=\"1134.5,-93.5 1134.5,-115.5 1181.5,-115.5 1181.5,-93.5 1134.5,-93.5\"/>\n",
       "<text text-anchor=\"start\" x=\"1144.12\" y=\"-101\" font-family=\"Linux libertine\" font-size=\"10.00\">input:</text>\n",
       "<polygon fill=\"none\" stroke=\"black\" points=\"1181.5,-93.5 1181.5,-115.5 1237.5,-115.5 1237.5,-93.5 1181.5,-93.5\"/>\n",
       "<text text-anchor=\"start\" x=\"1186.25\" y=\"-101\" font-family=\"Linux libertine\" font-size=\"10.00\">(24, 256) </text>\n",
       "<polygon fill=\"none\" stroke=\"black\" points=\"1134.5,-71.5 1134.5,-93.5 1181.5,-93.5 1181.5,-71.5 1134.5,-71.5\"/>\n",
       "<text text-anchor=\"start\" x=\"1139.25\" y=\"-79\" font-family=\"Linux libertine\" font-size=\"10.00\">output: </text>\n",
       "<polygon fill=\"none\" stroke=\"black\" points=\"1181.5,-71.5 1181.5,-93.5 1237.5,-93.5 1237.5,-71.5 1181.5,-71.5\"/>\n",
       "<text text-anchor=\"start\" x=\"1192.25\" y=\"-79\" font-family=\"Linux libertine\" font-size=\"10.00\">(24, 4) </text>\n",
       "</g>\n",
       "<!-- 49&#45;&gt;60 -->\n",
       "<g id=\"edge61\" class=\"edge\">\n",
       "<title>49&#45;&gt;60</title>\n",
       "<path fill=\"none\" stroke=\"black\" d=\"M1163,-151.6C1163,-143.99 1163,-135.2 1163,-126.84\"/>\n",
       "<polygon fill=\"black\" stroke=\"black\" points=\"1166.5,-126.97 1163,-116.97 1159.5,-126.97 1166.5,-126.97\"/>\n",
       "</g>\n",
       "<!-- 51 -->\n",
       "<g id=\"node52\" class=\"node\">\n",
       "<title>51</title>\n",
       "<polygon fill=\"lightyellow\" stroke=\"none\" points=\"341.75,-35.5 224.25,-35.5 224.25,0 341.75,0 341.75,-35.5\"/>\n",
       "<polygon fill=\"none\" stroke=\"black\" points=\"224.25,0 224.25,-35.5 300.25,-35.5 300.25,0 224.25,0\"/>\n",
       "<text text-anchor=\"start\" x=\"229.25\" y=\"-21\" font-family=\"Linux libertine\" font-size=\"10.00\">output&#45;tensor</text>\n",
       "<text text-anchor=\"start\" x=\"243.88\" y=\"-8.25\" font-family=\"Linux libertine\" font-size=\"10.00\">depth:0</text>\n",
       "<polygon fill=\"none\" stroke=\"black\" points=\"300.25,0 300.25,-35.5 341.75,-35.5 341.75,0 300.25,0\"/>\n",
       "<text text-anchor=\"start\" x=\"305.25\" y=\"-14.62\" font-family=\"Linux libertine\" font-size=\"10.00\">(24, 2)</text>\n",
       "</g>\n",
       "<!-- 50&#45;&gt;51 -->\n",
       "<g id=\"edge62\" class=\"edge\">\n",
       "<title>50&#45;&gt;51</title>\n",
       "<path fill=\"none\" stroke=\"black\" d=\"M283,-71.56C283,-63.78 283,-54.83 283,-46.53\"/>\n",
       "<polygon fill=\"black\" stroke=\"black\" points=\"286.5,-46.56 283,-36.56 279.5,-46.56 286.5,-46.56\"/>\n",
       "</g>\n",
       "<!-- 53 -->\n",
       "<g id=\"node54\" class=\"node\">\n",
       "<title>53</title>\n",
       "<polygon fill=\"lightyellow\" stroke=\"none\" points=\"517.75,-35.5 400.25,-35.5 400.25,0 517.75,0 517.75,-35.5\"/>\n",
       "<polygon fill=\"none\" stroke=\"black\" points=\"400.25,0 400.25,-35.5 476.25,-35.5 476.25,0 400.25,0\"/>\n",
       "<text text-anchor=\"start\" x=\"405.25\" y=\"-21\" font-family=\"Linux libertine\" font-size=\"10.00\">output&#45;tensor</text>\n",
       "<text text-anchor=\"start\" x=\"419.88\" y=\"-8.25\" font-family=\"Linux libertine\" font-size=\"10.00\">depth:0</text>\n",
       "<polygon fill=\"none\" stroke=\"black\" points=\"476.25,0 476.25,-35.5 517.75,-35.5 517.75,0 476.25,0\"/>\n",
       "<text text-anchor=\"start\" x=\"481.25\" y=\"-14.62\" font-family=\"Linux libertine\" font-size=\"10.00\">(24, 5)</text>\n",
       "</g>\n",
       "<!-- 52&#45;&gt;53 -->\n",
       "<g id=\"edge63\" class=\"edge\">\n",
       "<title>52&#45;&gt;53</title>\n",
       "<path fill=\"none\" stroke=\"black\" d=\"M459,-71.56C459,-63.78 459,-54.83 459,-46.53\"/>\n",
       "<polygon fill=\"black\" stroke=\"black\" points=\"462.5,-46.56 459,-36.56 455.5,-46.56 462.5,-46.56\"/>\n",
       "</g>\n",
       "<!-- 55 -->\n",
       "<g id=\"node56\" class=\"node\">\n",
       "<title>55</title>\n",
       "<polygon fill=\"lightyellow\" stroke=\"none\" points=\"693.75,-35.5 576.25,-35.5 576.25,0 693.75,0 693.75,-35.5\"/>\n",
       "<polygon fill=\"none\" stroke=\"black\" points=\"576.25,0 576.25,-35.5 652.25,-35.5 652.25,0 576.25,0\"/>\n",
       "<text text-anchor=\"start\" x=\"581.25\" y=\"-21\" font-family=\"Linux libertine\" font-size=\"10.00\">output&#45;tensor</text>\n",
       "<text text-anchor=\"start\" x=\"595.88\" y=\"-8.25\" font-family=\"Linux libertine\" font-size=\"10.00\">depth:0</text>\n",
       "<polygon fill=\"none\" stroke=\"black\" points=\"652.25,0 652.25,-35.5 693.75,-35.5 693.75,0 652.25,0\"/>\n",
       "<text text-anchor=\"start\" x=\"657.25\" y=\"-14.62\" font-family=\"Linux libertine\" font-size=\"10.00\">(24, 4)</text>\n",
       "</g>\n",
       "<!-- 54&#45;&gt;55 -->\n",
       "<g id=\"edge64\" class=\"edge\">\n",
       "<title>54&#45;&gt;55</title>\n",
       "<path fill=\"none\" stroke=\"black\" d=\"M635,-71.56C635,-63.78 635,-54.83 635,-46.53\"/>\n",
       "<polygon fill=\"black\" stroke=\"black\" points=\"638.5,-46.56 635,-36.56 631.5,-46.56 638.5,-46.56\"/>\n",
       "</g>\n",
       "<!-- 57 -->\n",
       "<g id=\"node58\" class=\"node\">\n",
       "<title>57</title>\n",
       "<polygon fill=\"lightyellow\" stroke=\"none\" points=\"869.75,-35.5 752.25,-35.5 752.25,0 869.75,0 869.75,-35.5\"/>\n",
       "<polygon fill=\"none\" stroke=\"black\" points=\"752.25,0 752.25,-35.5 828.25,-35.5 828.25,0 752.25,0\"/>\n",
       "<text text-anchor=\"start\" x=\"757.25\" y=\"-21\" font-family=\"Linux libertine\" font-size=\"10.00\">output&#45;tensor</text>\n",
       "<text text-anchor=\"start\" x=\"771.88\" y=\"-8.25\" font-family=\"Linux libertine\" font-size=\"10.00\">depth:0</text>\n",
       "<polygon fill=\"none\" stroke=\"black\" points=\"828.25,0 828.25,-35.5 869.75,-35.5 869.75,0 828.25,0\"/>\n",
       "<text text-anchor=\"start\" x=\"833.25\" y=\"-14.62\" font-family=\"Linux libertine\" font-size=\"10.00\">(24, 5)</text>\n",
       "</g>\n",
       "<!-- 56&#45;&gt;57 -->\n",
       "<g id=\"edge65\" class=\"edge\">\n",
       "<title>56&#45;&gt;57</title>\n",
       "<path fill=\"none\" stroke=\"black\" d=\"M811,-71.56C811,-63.78 811,-54.83 811,-46.53\"/>\n",
       "<polygon fill=\"black\" stroke=\"black\" points=\"814.5,-46.56 811,-36.56 807.5,-46.56 814.5,-46.56\"/>\n",
       "</g>\n",
       "<!-- 59 -->\n",
       "<g id=\"node60\" class=\"node\">\n",
       "<title>59</title>\n",
       "<polygon fill=\"lightyellow\" stroke=\"none\" points=\"1045.75,-35.5 928.25,-35.5 928.25,0 1045.75,0 1045.75,-35.5\"/>\n",
       "<polygon fill=\"none\" stroke=\"black\" points=\"928.25,0 928.25,-35.5 1004.25,-35.5 1004.25,0 928.25,0\"/>\n",
       "<text text-anchor=\"start\" x=\"933.25\" y=\"-21\" font-family=\"Linux libertine\" font-size=\"10.00\">output&#45;tensor</text>\n",
       "<text text-anchor=\"start\" x=\"947.88\" y=\"-8.25\" font-family=\"Linux libertine\" font-size=\"10.00\">depth:0</text>\n",
       "<polygon fill=\"none\" stroke=\"black\" points=\"1004.25,0 1004.25,-35.5 1045.75,-35.5 1045.75,0 1004.25,0\"/>\n",
       "<text text-anchor=\"start\" x=\"1009.25\" y=\"-14.62\" font-family=\"Linux libertine\" font-size=\"10.00\">(24, 6)</text>\n",
       "</g>\n",
       "<!-- 58&#45;&gt;59 -->\n",
       "<g id=\"edge66\" class=\"edge\">\n",
       "<title>58&#45;&gt;59</title>\n",
       "<path fill=\"none\" stroke=\"black\" d=\"M987,-71.56C987,-63.78 987,-54.83 987,-46.53\"/>\n",
       "<polygon fill=\"black\" stroke=\"black\" points=\"990.5,-46.56 987,-36.56 983.5,-46.56 990.5,-46.56\"/>\n",
       "</g>\n",
       "<!-- 61 -->\n",
       "<g id=\"node62\" class=\"node\">\n",
       "<title>61</title>\n",
       "<polygon fill=\"lightyellow\" stroke=\"none\" points=\"1221.75,-35.5 1104.25,-35.5 1104.25,0 1221.75,0 1221.75,-35.5\"/>\n",
       "<polygon fill=\"none\" stroke=\"black\" points=\"1104.25,0 1104.25,-35.5 1180.25,-35.5 1180.25,0 1104.25,0\"/>\n",
       "<text text-anchor=\"start\" x=\"1109.25\" y=\"-21\" font-family=\"Linux libertine\" font-size=\"10.00\">output&#45;tensor</text>\n",
       "<text text-anchor=\"start\" x=\"1123.88\" y=\"-8.25\" font-family=\"Linux libertine\" font-size=\"10.00\">depth:0</text>\n",
       "<polygon fill=\"none\" stroke=\"black\" points=\"1180.25,0 1180.25,-35.5 1221.75,-35.5 1221.75,0 1180.25,0\"/>\n",
       "<text text-anchor=\"start\" x=\"1185.25\" y=\"-14.62\" font-family=\"Linux libertine\" font-size=\"10.00\">(24, 4)</text>\n",
       "</g>\n",
       "<!-- 60&#45;&gt;61 -->\n",
       "<g id=\"edge67\" class=\"edge\">\n",
       "<title>60&#45;&gt;61</title>\n",
       "<path fill=\"none\" stroke=\"black\" d=\"M1163,-71.56C1163,-63.78 1163,-54.83 1163,-46.53\"/>\n",
       "<polygon fill=\"black\" stroke=\"black\" points=\"1166.5,-46.56 1163,-36.56 1159.5,-46.56 1166.5,-46.56\"/>\n",
       "</g>\n",
       "</g>\n",
       "</svg>\n"
      ],
      "text/plain": [
       "<graphviz.graphs.Digraph at 0x7ccf9a75fdc0>"
      ]
     },
     "execution_count": 23,
     "metadata": {},
     "output_type": "execute_result"
    }
   ],
   "source": [
    "model_graph = draw_graph(model, \n",
    "                         input_data=(inputs),\n",
    "                         expand_nested=True,\n",
    "                         depth=2,\n",
    "                         graph_name='MultiTask_CNN_Model',\n",
    "                         save_graph=True)\n",
    "model_graph.visual_graph"
   ]
  },
  {
   "cell_type": "markdown",
   "id": "84a7ff6f",
   "metadata": {
    "papermill": {
     "duration": 0.02709,
     "end_time": "2024-01-18T02:14:37.345323",
     "exception": false,
     "start_time": "2024-01-18T02:14:37.318233",
     "status": "completed"
    },
    "tags": []
   },
   "source": [
    "### Start training"
   ]
  },
  {
   "cell_type": "code",
   "execution_count": 24,
   "id": "cd87ad85",
   "metadata": {
    "execution": {
     "iopub.execute_input": "2024-01-18T02:14:37.401537Z",
     "iopub.status.busy": "2024-01-18T02:14:37.400820Z",
     "iopub.status.idle": "2024-01-18T03:11:20.895493Z",
     "shell.execute_reply": "2024-01-18T03:11:20.894180Z"
    },
    "papermill": {
     "duration": 3403.52607,
     "end_time": "2024-01-18T03:11:20.898701",
     "exception": false,
     "start_time": "2024-01-18T02:14:37.372631",
     "status": "completed"
    },
    "tags": []
   },
   "outputs": [
    {
     "name": "stdout",
     "output_type": "stream",
     "text": [
      "Epoch 1\n"
     ]
    },
    {
     "name": "stderr",
     "output_type": "stream",
     "text": [
      "100%|██████████| 584/584 [01:46<00:00,  5.46it/s]\n"
     ]
    },
    {
     "name": "stdout",
     "output_type": "stream",
     "text": [
      "Train loss: 22.020157\n",
      "> Level 1: loss 0.77562\n",
      "> Level 2: loss 2.34330\n",
      "> Level 3_1: loss 1.95306\n",
      "> Level 3_2: loss 2.20828\n",
      "> Level 3_3: loss 2.56775\n",
      "> Level 3_4: loss 2.13571\n"
     ]
    },
    {
     "name": "stderr",
     "output_type": "stream",
     "text": [
      "100%|██████████| 84/84 [00:05<00:00, 16.05it/s]\n"
     ]
    },
    {
     "name": "stdout",
     "output_type": "stream",
     "text": [
      "Dev loss: 8.88594\n",
      "> Level 1: loss 0.69187\n",
      "> Level 2: loss 0.84361\n",
      "> Level 3_1: loss 0.88380\n",
      "> Level 3_2: loss 0.93319\n",
      "> Level 3_3: loss 1.02248\n",
      "> Level 3_4: loss 0.62486\n",
      "=================== \n",
      "\n",
      "Epoch 2\n"
     ]
    },
    {
     "name": "stderr",
     "output_type": "stream",
     "text": [
      "100%|██████████| 584/584 [01:46<00:00,  5.47it/s]\n"
     ]
    },
    {
     "name": "stdout",
     "output_type": "stream",
     "text": [
      "Train loss: 19.975014\n",
      "> Level 1: loss 0.72551\n",
      "> Level 2: loss 2.16781\n",
      "> Level 3_1: loss 1.82197\n",
      "> Level 3_2: loss 2.07005\n",
      "> Level 3_3: loss 2.28239\n",
      "> Level 3_4: loss 1.82449\n"
     ]
    },
    {
     "name": "stderr",
     "output_type": "stream",
     "text": [
      "100%|██████████| 84/84 [00:05<00:00, 15.83it/s]\n"
     ]
    },
    {
     "name": "stdout",
     "output_type": "stream",
     "text": [
      "Dev loss: 6.43526\n",
      "> Level 1: loss 0.67975\n",
      "> Level 2: loss 0.62396\n",
      "> Level 3_1: loss 0.54101\n",
      "> Level 3_2: loss 0.54157\n",
      "> Level 3_3: loss 0.52735\n",
      "> Level 3_4: loss 0.79985\n",
      "=================== \n",
      "\n",
      "Epoch 3\n"
     ]
    },
    {
     "name": "stderr",
     "output_type": "stream",
     "text": [
      "100%|██████████| 584/584 [01:47<00:00,  5.44it/s]\n"
     ]
    },
    {
     "name": "stdout",
     "output_type": "stream",
     "text": [
      "Train loss: 13.534686\n",
      "> Level 1: loss 0.66393\n",
      "> Level 2: loss 1.70768\n",
      "> Level 3_1: loss 1.06893\n",
      "> Level 3_2: loss 1.43537\n",
      "> Level 3_3: loss 1.59428\n",
      "> Level 3_4: loss 1.05604\n"
     ]
    },
    {
     "name": "stderr",
     "output_type": "stream",
     "text": [
      "100%|██████████| 84/84 [00:05<00:00, 15.98it/s]\n"
     ]
    },
    {
     "name": "stdout",
     "output_type": "stream",
     "text": [
      "Dev loss: 7.05303\n",
      "> Level 1: loss 0.64162\n",
      "> Level 2: loss 0.97942\n",
      "> Level 3_1: loss 0.54506\n",
      "> Level 3_2: loss 0.62493\n",
      "> Level 3_3: loss 0.82437\n",
      "> Level 3_4: loss 0.47678\n",
      "=================== \n",
      "\n",
      "Epoch 4\n"
     ]
    },
    {
     "name": "stderr",
     "output_type": "stream",
     "text": [
      "100%|██████████| 584/584 [01:47<00:00,  5.45it/s]\n"
     ]
    },
    {
     "name": "stdout",
     "output_type": "stream",
     "text": [
      "Train loss: 6.090767\n",
      "> Level 1: loss 0.56373\n",
      "> Level 2: loss 0.80372\n",
      "> Level 3_1: loss 0.41516\n",
      "> Level 3_2: loss 0.60750\n",
      "> Level 3_3: loss 0.73754\n",
      "> Level 3_4: loss 0.40053\n"
     ]
    },
    {
     "name": "stderr",
     "output_type": "stream",
     "text": [
      "100%|██████████| 84/84 [00:05<00:00, 15.90it/s]\n"
     ]
    },
    {
     "name": "stdout",
     "output_type": "stream",
     "text": [
      "Dev loss: 7.58186\n",
      "> Level 1: loss 0.57136\n",
      "> Level 2: loss 0.94381\n",
      "> Level 3_1: loss 0.66523\n",
      "> Level 3_2: loss 0.77847\n",
      "> Level 3_3: loss 0.84241\n",
      "> Level 3_4: loss 0.51127\n",
      "=================== \n",
      "\n",
      "Epoch 5\n"
     ]
    },
    {
     "name": "stderr",
     "output_type": "stream",
     "text": [
      "100%|██████████| 584/584 [01:47<00:00,  5.45it/s]\n"
     ]
    },
    {
     "name": "stdout",
     "output_type": "stream",
     "text": [
      "Train loss: 4.432605\n",
      "> Level 1: loss 0.46922\n",
      "> Level 2: loss 0.59845\n",
      "> Level 3_1: loss 0.27188\n",
      "> Level 3_2: loss 0.45423\n",
      "> Level 3_3: loss 0.49497\n",
      "> Level 3_4: loss 0.31177\n"
     ]
    },
    {
     "name": "stderr",
     "output_type": "stream",
     "text": [
      "100%|██████████| 84/84 [00:05<00:00, 15.87it/s]\n"
     ]
    },
    {
     "name": "stdout",
     "output_type": "stream",
     "text": [
      "Dev loss: 7.32477\n",
      "> Level 1: loss 0.52219\n",
      "> Level 2: loss 0.80709\n",
      "> Level 3_1: loss 0.63501\n",
      "> Level 3_2: loss 0.79244\n",
      "> Level 3_3: loss 0.87568\n",
      "> Level 3_4: loss 0.49284\n",
      "=================== \n",
      "\n",
      "Epoch 6\n"
     ]
    },
    {
     "name": "stderr",
     "output_type": "stream",
     "text": [
      "100%|██████████| 584/584 [01:47<00:00,  5.43it/s]\n"
     ]
    },
    {
     "name": "stdout",
     "output_type": "stream",
     "text": [
      "Train loss: 3.882925\n",
      "> Level 1: loss 0.40939\n",
      "> Level 2: loss 0.50998\n",
      "> Level 3_1: loss 0.25185\n",
      "> Level 3_2: loss 0.39380\n",
      "> Level 3_3: loss 0.44618\n",
      "> Level 3_4: loss 0.26245\n"
     ]
    },
    {
     "name": "stderr",
     "output_type": "stream",
     "text": [
      "100%|██████████| 84/84 [00:05<00:00, 15.85it/s]\n"
     ]
    },
    {
     "name": "stdout",
     "output_type": "stream",
     "text": [
      "Dev loss: 7.22652\n",
      "> Level 1: loss 0.48755\n",
      "> Level 2: loss 0.77047\n",
      "> Level 3_1: loss 0.56272\n",
      "> Level 3_2: loss 0.88015\n",
      "> Level 3_3: loss 0.82758\n",
      "> Level 3_4: loss 0.52118\n",
      "=================== \n",
      "\n",
      "Epoch 7\n"
     ]
    },
    {
     "name": "stderr",
     "output_type": "stream",
     "text": [
      "100%|██████████| 584/584 [01:47<00:00,  5.44it/s]\n"
     ]
    },
    {
     "name": "stdout",
     "output_type": "stream",
     "text": [
      "Train loss: 3.865915\n",
      "> Level 1: loss 0.36687\n",
      "> Level 2: loss 0.46383\n",
      "> Level 3_1: loss 0.25960\n",
      "> Level 3_2: loss 0.40347\n",
      "> Level 3_3: loss 0.44811\n",
      "> Level 3_4: loss 0.29047\n"
     ]
    },
    {
     "name": "stderr",
     "output_type": "stream",
     "text": [
      "100%|██████████| 84/84 [00:05<00:00, 15.96it/s]\n"
     ]
    },
    {
     "name": "stdout",
     "output_type": "stream",
     "text": [
      "Dev loss: 7.66854\n",
      "> Level 1: loss 0.46527\n",
      "> Level 2: loss 0.77922\n",
      "> Level 3_1: loss 0.62198\n",
      "> Level 3_2: loss 0.96401\n",
      "> Level 3_3: loss 0.79750\n",
      "> Level 3_4: loss 0.63373\n",
      "=================== \n",
      "\n",
      "Epoch 8\n"
     ]
    },
    {
     "name": "stderr",
     "output_type": "stream",
     "text": [
      "100%|██████████| 584/584 [01:47<00:00,  5.42it/s]\n"
     ]
    },
    {
     "name": "stdout",
     "output_type": "stream",
     "text": [
      "Train loss: 3.907800\n",
      "> Level 1: loss 0.32086\n",
      "> Level 2: loss 0.42168\n",
      "> Level 3_1: loss 0.26555\n",
      "> Level 3_2: loss 0.45937\n",
      "> Level 3_3: loss 0.46851\n",
      "> Level 3_4: loss 0.28378\n"
     ]
    },
    {
     "name": "stderr",
     "output_type": "stream",
     "text": [
      "100%|██████████| 84/84 [00:05<00:00, 15.63it/s]\n"
     ]
    },
    {
     "name": "stdout",
     "output_type": "stream",
     "text": [
      "Dev loss: 6.91266\n",
      "> Level 1: loss 0.45100\n",
      "> Level 2: loss 0.73851\n",
      "> Level 3_1: loss 0.54166\n",
      "> Level 3_2: loss 0.80084\n",
      "> Level 3_3: loss 0.79008\n",
      "> Level 3_4: loss 0.54437\n",
      "=================== \n",
      "\n",
      "Epoch 9\n"
     ]
    },
    {
     "name": "stderr",
     "output_type": "stream",
     "text": [
      "100%|██████████| 584/584 [01:48<00:00,  5.39it/s]\n"
     ]
    },
    {
     "name": "stdout",
     "output_type": "stream",
     "text": [
      "Train loss: 3.717730\n",
      "> Level 1: loss 0.29105\n",
      "> Level 2: loss 0.38660\n",
      "> Level 3_1: loss 0.24686\n",
      "> Level 3_2: loss 0.46908\n",
      "> Level 3_3: loss 0.44742\n",
      "> Level 3_4: loss 0.26002\n"
     ]
    },
    {
     "name": "stderr",
     "output_type": "stream",
     "text": [
      "100%|██████████| 84/84 [00:05<00:00, 15.77it/s]\n"
     ]
    },
    {
     "name": "stdout",
     "output_type": "stream",
     "text": [
      "Dev loss: 7.19189\n",
      "> Level 1: loss 0.43798\n",
      "> Level 2: loss 0.71981\n",
      "> Level 3_1: loss 0.61145\n",
      "> Level 3_2: loss 0.84964\n",
      "> Level 3_3: loss 0.80751\n",
      "> Level 3_4: loss 0.56848\n",
      "=================== \n",
      "\n",
      "Epoch 10\n"
     ]
    },
    {
     "name": "stderr",
     "output_type": "stream",
     "text": [
      "100%|██████████| 584/584 [01:47<00:00,  5.45it/s]\n"
     ]
    },
    {
     "name": "stdout",
     "output_type": "stream",
     "text": [
      "Train loss: 3.835577\n",
      "> Level 1: loss 0.25434\n",
      "> Level 2: loss 0.36611\n",
      "> Level 3_1: loss 0.25703\n",
      "> Level 3_2: loss 0.51340\n",
      "> Level 3_3: loss 0.48342\n",
      "> Level 3_4: loss 0.26218\n"
     ]
    },
    {
     "name": "stderr",
     "output_type": "stream",
     "text": [
      "100%|██████████| 84/84 [00:05<00:00, 15.68it/s]\n"
     ]
    },
    {
     "name": "stdout",
     "output_type": "stream",
     "text": [
      "Dev loss: 6.74654\n",
      "> Level 1: loss 0.42821\n",
      "> Level 2: loss 0.65014\n",
      "> Level 3_1: loss 0.59013\n",
      "> Level 3_2: loss 0.79070\n",
      "> Level 3_3: loss 0.76510\n",
      "> Level 3_4: loss 0.52564\n",
      "=================== \n",
      "\n",
      "Epoch 11\n"
     ]
    },
    {
     "name": "stderr",
     "output_type": "stream",
     "text": [
      "100%|██████████| 584/584 [01:47<00:00,  5.42it/s]\n"
     ]
    },
    {
     "name": "stdout",
     "output_type": "stream",
     "text": [
      "Train loss: 3.649428\n",
      "> Level 1: loss 0.23079\n",
      "> Level 2: loss 0.35775\n",
      "> Level 3_1: loss 0.24905\n",
      "> Level 3_2: loss 0.49531\n",
      "> Level 3_3: loss 0.46030\n",
      "> Level 3_4: loss 0.23635\n"
     ]
    },
    {
     "name": "stderr",
     "output_type": "stream",
     "text": [
      "100%|██████████| 84/84 [00:05<00:00, 15.72it/s]\n"
     ]
    },
    {
     "name": "stdout",
     "output_type": "stream",
     "text": [
      "Dev loss: 7.13992\n",
      "> Level 1: loss 0.43008\n",
      "> Level 2: loss 0.68819\n",
      "> Level 3_1: loss 0.61635\n",
      "> Level 3_2: loss 0.85265\n",
      "> Level 3_3: loss 0.80320\n",
      "> Level 3_4: loss 0.56659\n",
      "=================== \n",
      "\n",
      "Epoch 12\n"
     ]
    },
    {
     "name": "stderr",
     "output_type": "stream",
     "text": [
      "100%|██████████| 584/584 [01:47<00:00,  5.43it/s]\n"
     ]
    },
    {
     "name": "stdout",
     "output_type": "stream",
     "text": [
      "Train loss: 3.666031\n",
      "> Level 1: loss 0.21471\n",
      "> Level 2: loss 0.33247\n",
      "> Level 3_1: loss 0.21983\n",
      "> Level 3_2: loss 0.52077\n",
      "> Level 3_3: loss 0.50586\n",
      "> Level 3_4: loss 0.22985\n"
     ]
    },
    {
     "name": "stderr",
     "output_type": "stream",
     "text": [
      "100%|██████████| 84/84 [00:05<00:00, 15.78it/s]\n"
     ]
    },
    {
     "name": "stdout",
     "output_type": "stream",
     "text": [
      "Dev loss: 7.02313\n",
      "> Level 1: loss 0.43526\n",
      "> Level 2: loss 0.60685\n",
      "> Level 3_1: loss 0.61015\n",
      "> Level 3_2: loss 0.84846\n",
      "> Level 3_3: loss 0.83956\n",
      "> Level 3_4: loss 0.54063\n",
      "=================== \n",
      "\n",
      "Epoch 13\n"
     ]
    },
    {
     "name": "stderr",
     "output_type": "stream",
     "text": [
      "100%|██████████| 584/584 [01:47<00:00,  5.42it/s]\n"
     ]
    },
    {
     "name": "stdout",
     "output_type": "stream",
     "text": [
      "Train loss: 3.588262\n",
      "> Level 1: loss 0.18945\n",
      "> Level 2: loss 0.32456\n",
      "> Level 3_1: loss 0.23010\n",
      "> Level 3_2: loss 0.51067\n",
      "> Level 3_3: loss 0.48652\n",
      "> Level 3_4: loss 0.22870\n"
     ]
    },
    {
     "name": "stderr",
     "output_type": "stream",
     "text": [
      "100%|██████████| 84/84 [00:05<00:00, 15.64it/s]\n"
     ]
    },
    {
     "name": "stdout",
     "output_type": "stream",
     "text": [
      "Dev loss: 6.45668\n",
      "> Level 1: loss 0.42796\n",
      "> Level 2: loss 0.62234\n",
      "> Level 3_1: loss 0.49211\n",
      "> Level 3_2: loss 0.76744\n",
      "> Level 3_3: loss 0.75849\n",
      "> Level 3_4: loss 0.52956\n",
      "=================== \n",
      "\n",
      "Epoch 14\n"
     ]
    },
    {
     "name": "stderr",
     "output_type": "stream",
     "text": [
      "100%|██████████| 584/584 [01:47<00:00,  5.43it/s]\n"
     ]
    },
    {
     "name": "stdout",
     "output_type": "stream",
     "text": [
      "Train loss: 3.467331\n",
      "> Level 1: loss 0.17815\n",
      "> Level 2: loss 0.30748\n",
      "> Level 3_1: loss 0.21250\n",
      "> Level 3_2: loss 0.53338\n",
      "> Level 3_3: loss 0.46745\n",
      "> Level 3_4: loss 0.20065\n"
     ]
    },
    {
     "name": "stderr",
     "output_type": "stream",
     "text": [
      "100%|██████████| 84/84 [00:05<00:00, 15.76it/s]\n"
     ]
    },
    {
     "name": "stdout",
     "output_type": "stream",
     "text": [
      "Dev loss: 7.28296\n",
      "> Level 1: loss 0.42724\n",
      "> Level 2: loss 0.58930\n",
      "> Level 3_1: loss 0.61548\n",
      "> Level 3_2: loss 0.91279\n",
      "> Level 3_3: loss 0.84295\n",
      "> Level 3_4: loss 0.61466\n",
      "=================== \n",
      "\n",
      "Epoch 15\n"
     ]
    },
    {
     "name": "stderr",
     "output_type": "stream",
     "text": [
      "100%|██████████| 584/584 [01:47<00:00,  5.42it/s]\n"
     ]
    },
    {
     "name": "stdout",
     "output_type": "stream",
     "text": [
      "Train loss: 3.194836\n",
      "> Level 1: loss 0.16053\n",
      "> Level 2: loss 0.29875\n",
      "> Level 3_1: loss 0.21067\n",
      "> Level 3_2: loss 0.47671\n",
      "> Level 3_3: loss 0.42174\n",
      "> Level 3_4: loss 0.18397\n"
     ]
    },
    {
     "name": "stderr",
     "output_type": "stream",
     "text": [
      "100%|██████████| 84/84 [00:05<00:00, 15.85it/s]\n"
     ]
    },
    {
     "name": "stdout",
     "output_type": "stream",
     "text": [
      "Dev loss: 6.73331\n",
      "> Level 1: loss 0.41717\n",
      "> Level 2: loss 0.63743\n",
      "> Level 3_1: loss 0.62477\n",
      "> Level 3_2: loss 0.82589\n",
      "> Level 3_3: loss 0.62926\n",
      "> Level 3_4: loss 0.60008\n",
      "=================== \n",
      "\n",
      "Epoch 16\n"
     ]
    },
    {
     "name": "stderr",
     "output_type": "stream",
     "text": [
      "100%|██████████| 584/584 [01:47<00:00,  5.42it/s]\n"
     ]
    },
    {
     "name": "stdout",
     "output_type": "stream",
     "text": [
      "Train loss: 3.067363\n",
      "> Level 1: loss 0.15260\n",
      "> Level 2: loss 0.28134\n",
      "> Level 3_1: loss 0.19391\n",
      "> Level 3_2: loss 0.45879\n",
      "> Level 3_3: loss 0.43359\n",
      "> Level 3_4: loss 0.16009\n"
     ]
    },
    {
     "name": "stderr",
     "output_type": "stream",
     "text": [
      "100%|██████████| 84/84 [00:05<00:00, 15.70it/s]\n"
     ]
    },
    {
     "name": "stdout",
     "output_type": "stream",
     "text": [
      "Dev loss: 6.82027\n",
      "> Level 1: loss 0.41565\n",
      "> Level 2: loss 0.63980\n",
      "> Level 3_1: loss 0.59984\n",
      "> Level 3_2: loss 0.81536\n",
      "> Level 3_3: loss 0.70543\n",
      "> Level 3_4: loss 0.60183\n",
      "=================== \n",
      "\n",
      "Epoch 17\n"
     ]
    },
    {
     "name": "stderr",
     "output_type": "stream",
     "text": [
      "100%|██████████| 584/584 [01:47<00:00,  5.42it/s]\n"
     ]
    },
    {
     "name": "stdout",
     "output_type": "stream",
     "text": [
      "Train loss: 2.826512\n",
      "> Level 1: loss 0.13507\n",
      "> Level 2: loss 0.27234\n",
      "> Level 3_1: loss 0.17000\n",
      "> Level 3_2: loss 0.43409\n",
      "> Level 3_3: loss 0.39244\n",
      "> Level 3_4: loss 0.14493\n"
     ]
    },
    {
     "name": "stderr",
     "output_type": "stream",
     "text": [
      "100%|██████████| 84/84 [00:05<00:00, 15.66it/s]\n"
     ]
    },
    {
     "name": "stdout",
     "output_type": "stream",
     "text": [
      "Dev loss: 6.47450\n",
      "> Level 1: loss 0.39706\n",
      "> Level 2: loss 0.60500\n",
      "> Level 3_1: loss 0.53960\n",
      "> Level 3_2: loss 0.77034\n",
      "> Level 3_3: loss 0.68132\n",
      "> Level 3_4: loss 0.59372\n",
      "=================== \n",
      "\n",
      "Epoch 18\n"
     ]
    },
    {
     "name": "stderr",
     "output_type": "stream",
     "text": [
      "100%|██████████| 584/584 [01:47<00:00,  5.43it/s]\n"
     ]
    },
    {
     "name": "stdout",
     "output_type": "stream",
     "text": [
      "Train loss: 2.651730\n",
      "> Level 1: loss 0.12323\n",
      "> Level 2: loss 0.23839\n",
      "> Level 3_1: loss 0.15680\n",
      "> Level 3_2: loss 0.40830\n",
      "> Level 3_3: loss 0.37808\n",
      "> Level 3_4: loss 0.14228\n"
     ]
    },
    {
     "name": "stderr",
     "output_type": "stream",
     "text": [
      "100%|██████████| 84/84 [00:05<00:00, 15.72it/s]\n"
     ]
    },
    {
     "name": "stdout",
     "output_type": "stream",
     "text": [
      "Dev loss: 6.32566\n",
      "> Level 1: loss 0.38734\n",
      "> Level 2: loss 0.58772\n",
      "> Level 3_1: loss 0.53757\n",
      "> Level 3_2: loss 0.77039\n",
      "> Level 3_3: loss 0.63179\n",
      "> Level 3_4: loss 0.58862\n",
      "=================== \n",
      "\n",
      "Epoch 19\n"
     ]
    },
    {
     "name": "stderr",
     "output_type": "stream",
     "text": [
      "100%|██████████| 584/584 [01:47<00:00,  5.42it/s]\n"
     ]
    },
    {
     "name": "stdout",
     "output_type": "stream",
     "text": [
      "Train loss: 2.491777\n",
      "> Level 1: loss 0.11535\n",
      "> Level 2: loss 0.22882\n",
      "> Level 3_1: loss 0.15331\n",
      "> Level 3_2: loss 0.38423\n",
      "> Level 3_3: loss 0.36034\n",
      "> Level 3_4: loss 0.11872\n"
     ]
    },
    {
     "name": "stderr",
     "output_type": "stream",
     "text": [
      "100%|██████████| 84/84 [00:05<00:00, 15.69it/s]\n"
     ]
    },
    {
     "name": "stdout",
     "output_type": "stream",
     "text": [
      "Dev loss: 6.65011\n",
      "> Level 1: loss 0.41816\n",
      "> Level 2: loss 0.58234\n",
      "> Level 3_1: loss 0.54932\n",
      "> Level 3_2: loss 0.75698\n",
      "> Level 3_3: loss 0.68157\n",
      "> Level 3_4: loss 0.69136\n",
      "=================== \n",
      "\n",
      "Epoch 20\n"
     ]
    },
    {
     "name": "stderr",
     "output_type": "stream",
     "text": [
      "100%|██████████| 584/584 [01:47<00:00,  5.43it/s]\n"
     ]
    },
    {
     "name": "stdout",
     "output_type": "stream",
     "text": [
      "Train loss: 2.283329\n",
      "> Level 1: loss 0.09599\n",
      "> Level 2: loss 0.20762\n",
      "> Level 3_1: loss 0.10765\n",
      "> Level 3_2: loss 0.37214\n",
      "> Level 3_3: loss 0.35216\n",
      "> Level 3_4: loss 0.10601\n"
     ]
    },
    {
     "name": "stderr",
     "output_type": "stream",
     "text": [
      "100%|██████████| 84/84 [00:05<00:00, 15.67it/s]\n"
     ]
    },
    {
     "name": "stdout",
     "output_type": "stream",
     "text": [
      "Dev loss: 6.87998\n",
      "> Level 1: loss 0.42476\n",
      "> Level 2: loss 0.59524\n",
      "> Level 3_1: loss 0.53099\n",
      "> Level 3_2: loss 0.86480\n",
      "> Level 3_3: loss 0.73016\n",
      "> Level 3_4: loss 0.65523\n",
      "=================== \n",
      "\n",
      "Epoch 21\n"
     ]
    },
    {
     "name": "stderr",
     "output_type": "stream",
     "text": [
      "100%|██████████| 584/584 [01:47<00:00,  5.43it/s]\n"
     ]
    },
    {
     "name": "stdout",
     "output_type": "stream",
     "text": [
      "Train loss: 2.145269\n",
      "> Level 1: loss 0.09258\n",
      "> Level 2: loss 0.19777\n",
      "> Level 3_1: loss 0.11240\n",
      "> Level 3_2: loss 0.32850\n",
      "> Level 3_3: loss 0.33410\n",
      "> Level 3_4: loss 0.10302\n"
     ]
    },
    {
     "name": "stderr",
     "output_type": "stream",
     "text": [
      "100%|██████████| 84/84 [00:05<00:00, 15.66it/s]\n"
     ]
    },
    {
     "name": "stdout",
     "output_type": "stream",
     "text": [
      "Dev loss: 6.89438\n",
      "> Level 1: loss 0.43821\n",
      "> Level 2: loss 0.59874\n",
      "> Level 3_1: loss 0.62274\n",
      "> Level 3_2: loss 0.77309\n",
      "> Level 3_3: loss 0.65887\n",
      "> Level 3_4: loss 0.72433\n",
      "=================== \n",
      "\n",
      "Epoch 22\n"
     ]
    },
    {
     "name": "stderr",
     "output_type": "stream",
     "text": [
      "100%|██████████| 584/584 [01:47<00:00,  5.42it/s]\n"
     ]
    },
    {
     "name": "stdout",
     "output_type": "stream",
     "text": [
      "Train loss: 1.968612\n",
      "> Level 1: loss 0.07957\n",
      "> Level 2: loss 0.16402\n",
      "> Level 3_1: loss 0.10070\n",
      "> Level 3_2: loss 0.32776\n",
      "> Level 3_3: loss 0.30834\n",
      "> Level 3_4: loss 0.08471\n"
     ]
    },
    {
     "name": "stderr",
     "output_type": "stream",
     "text": [
      "100%|██████████| 84/84 [00:05<00:00, 15.80it/s]\n"
     ]
    },
    {
     "name": "stdout",
     "output_type": "stream",
     "text": [
      "Dev loss: 6.67404\n",
      "> Level 1: loss 0.44536\n",
      "> Level 2: loss 0.60465\n",
      "> Level 3_1: loss 0.54039\n",
      "> Level 3_2: loss 0.82822\n",
      "> Level 3_3: loss 0.63196\n",
      "> Level 3_4: loss 0.66028\n",
      "=================== \n",
      "\n",
      "Epoch 23\n"
     ]
    },
    {
     "name": "stderr",
     "output_type": "stream",
     "text": [
      "100%|██████████| 584/584 [01:47<00:00,  5.42it/s]\n"
     ]
    },
    {
     "name": "stdout",
     "output_type": "stream",
     "text": [
      "Train loss: 1.728854\n",
      "> Level 1: loss 0.07845\n",
      "> Level 2: loss 0.15157\n",
      "> Level 3_1: loss 0.08269\n",
      "> Level 3_2: loss 0.28881\n",
      "> Level 3_3: loss 0.26895\n",
      "> Level 3_4: loss 0.07107\n"
     ]
    },
    {
     "name": "stderr",
     "output_type": "stream",
     "text": [
      "100%|██████████| 84/84 [00:05<00:00, 15.75it/s]\n"
     ]
    },
    {
     "name": "stdout",
     "output_type": "stream",
     "text": [
      "Dev loss: 6.39513\n",
      "> Level 1: loss 0.38492\n",
      "> Level 2: loss 0.64953\n",
      "> Level 3_1: loss 0.51353\n",
      "> Level 3_2: loss 0.73256\n",
      "> Level 3_3: loss 0.62852\n",
      "> Level 3_4: loss 0.64334\n",
      "=================== \n",
      "\n",
      "Epoch 24\n"
     ]
    },
    {
     "name": "stderr",
     "output_type": "stream",
     "text": [
      "100%|██████████| 584/584 [01:47<00:00,  5.42it/s]\n"
     ]
    },
    {
     "name": "stdout",
     "output_type": "stream",
     "text": [
      "Train loss: 1.663054\n",
      "> Level 1: loss 0.06905\n",
      "> Level 2: loss 0.13960\n",
      "> Level 3_1: loss 0.06825\n",
      "> Level 3_2: loss 0.26978\n",
      "> Level 3_3: loss 0.25672\n",
      "> Level 3_4: loss 0.09755\n"
     ]
    },
    {
     "name": "stderr",
     "output_type": "stream",
     "text": [
      "100%|██████████| 84/84 [00:05<00:00, 15.62it/s]\n"
     ]
    },
    {
     "name": "stdout",
     "output_type": "stream",
     "text": [
      "Dev loss: 6.74173\n",
      "> Level 1: loss 0.40710\n",
      "> Level 2: loss 0.59315\n",
      "> Level 3_1: loss 0.53091\n",
      "> Level 3_2: loss 0.80566\n",
      "> Level 3_3: loss 0.71346\n",
      "> Level 3_4: loss 0.67243\n",
      "=================== \n",
      "\n",
      "Epoch 25\n"
     ]
    },
    {
     "name": "stderr",
     "output_type": "stream",
     "text": [
      "100%|██████████| 584/584 [01:47<00:00,  5.42it/s]\n"
     ]
    },
    {
     "name": "stdout",
     "output_type": "stream",
     "text": [
      "Train loss: 1.447800\n",
      "> Level 1: loss 0.06567\n",
      "> Level 2: loss 0.12654\n",
      "> Level 3_1: loss 0.06738\n",
      "> Level 3_2: loss 0.23496\n",
      "> Level 3_3: loss 0.22554\n",
      "> Level 3_4: loss 0.06828\n"
     ]
    },
    {
     "name": "stderr",
     "output_type": "stream",
     "text": [
      "100%|██████████| 84/84 [00:05<00:00, 15.76it/s]\n"
     ]
    },
    {
     "name": "stdout",
     "output_type": "stream",
     "text": [
      "Dev loss: 6.90208\n",
      "> Level 1: loss 0.42856\n",
      "> Level 2: loss 0.68612\n",
      "> Level 3_1: loss 0.56536\n",
      "> Level 3_2: loss 0.78101\n",
      "> Level 3_3: loss 0.71797\n",
      "> Level 3_4: loss 0.65783\n",
      "=================== \n",
      "\n",
      "Epoch 26\n"
     ]
    },
    {
     "name": "stderr",
     "output_type": "stream",
     "text": [
      "100%|██████████| 584/584 [01:47<00:00,  5.43it/s]\n"
     ]
    },
    {
     "name": "stdout",
     "output_type": "stream",
     "text": [
      "Train loss: 1.331202\n",
      "> Level 1: loss 0.05716\n",
      "> Level 2: loss 0.11504\n",
      "> Level 3_1: loss 0.06421\n",
      "> Level 3_2: loss 0.21525\n",
      "> Level 3_3: loss 0.21032\n",
      "> Level 3_4: loss 0.06096\n"
     ]
    },
    {
     "name": "stderr",
     "output_type": "stream",
     "text": [
      "100%|██████████| 84/84 [00:05<00:00, 15.84it/s]\n"
     ]
    },
    {
     "name": "stdout",
     "output_type": "stream",
     "text": [
      "Dev loss: 7.00833\n",
      "> Level 1: loss 0.43308\n",
      "> Level 2: loss 0.63383\n",
      "> Level 3_1: loss 0.56387\n",
      "> Level 3_2: loss 0.77961\n",
      "> Level 3_3: loss 0.77729\n",
      "> Level 3_4: loss 0.69149\n",
      "=================== \n",
      "\n",
      "Epoch 27\n"
     ]
    },
    {
     "name": "stderr",
     "output_type": "stream",
     "text": [
      "100%|██████████| 584/584 [01:47<00:00,  5.42it/s]\n"
     ]
    },
    {
     "name": "stdout",
     "output_type": "stream",
     "text": [
      "Train loss: 1.227286\n",
      "> Level 1: loss 0.05459\n",
      "> Level 2: loss 0.12062\n",
      "> Level 3_1: loss 0.05955\n",
      "> Level 3_2: loss 0.19769\n",
      "> Level 3_3: loss 0.18010\n",
      "> Level 3_4: loss 0.05855\n"
     ]
    },
    {
     "name": "stderr",
     "output_type": "stream",
     "text": [
      "100%|██████████| 84/84 [00:05<00:00, 15.69it/s]\n"
     ]
    },
    {
     "name": "stdout",
     "output_type": "stream",
     "text": [
      "Dev loss: 6.88944\n",
      "> Level 1: loss 0.45692\n",
      "> Level 2: loss 0.61335\n",
      "> Level 3_1: loss 0.57605\n",
      "> Level 3_2: loss 0.75823\n",
      "> Level 3_3: loss 0.76781\n",
      "> Level 3_4: loss 0.65416\n",
      "=================== \n",
      "\n",
      "Epoch 28\n"
     ]
    },
    {
     "name": "stderr",
     "output_type": "stream",
     "text": [
      "100%|██████████| 584/584 [01:47<00:00,  5.42it/s]\n"
     ]
    },
    {
     "name": "stdout",
     "output_type": "stream",
     "text": [
      "Train loss: 1.074448\n",
      "> Level 1: loss 0.05264\n",
      "> Level 2: loss 0.08788\n",
      "> Level 3_1: loss 0.04607\n",
      "> Level 3_2: loss 0.17418\n",
      "> Level 3_3: loss 0.16282\n",
      "> Level 3_4: loss 0.06191\n"
     ]
    },
    {
     "name": "stderr",
     "output_type": "stream",
     "text": [
      "100%|██████████| 84/84 [00:05<00:00, 15.83it/s]\n"
     ]
    },
    {
     "name": "stdout",
     "output_type": "stream",
     "text": [
      "Dev loss: 6.86006\n",
      "> Level 1: loss 0.41115\n",
      "> Level 2: loss 0.66116\n",
      "> Level 3_1: loss 0.56316\n",
      "> Level 3_2: loss 0.78595\n",
      "> Level 3_3: loss 0.71268\n",
      "> Level 3_4: loss 0.66680\n",
      "=================== \n",
      "\n",
      "Epoch 29\n"
     ]
    },
    {
     "name": "stderr",
     "output_type": "stream",
     "text": [
      "100%|██████████| 584/584 [01:47<00:00,  5.41it/s]\n"
     ]
    },
    {
     "name": "stdout",
     "output_type": "stream",
     "text": [
      "Train loss: 0.932573\n",
      "> Level 1: loss 0.03640\n",
      "> Level 2: loss 0.07934\n",
      "> Level 3_1: loss 0.03808\n",
      "> Level 3_2: loss 0.15755\n",
      "> Level 3_3: loss 0.14902\n",
      "> Level 3_4: loss 0.04394\n"
     ]
    },
    {
     "name": "stderr",
     "output_type": "stream",
     "text": [
      "100%|██████████| 84/84 [00:05<00:00, 15.72it/s]\n"
     ]
    },
    {
     "name": "stdout",
     "output_type": "stream",
     "text": [
      "Dev loss: 6.72677\n",
      "> Level 1: loss 0.43775\n",
      "> Level 2: loss 0.62076\n",
      "> Level 3_1: loss 0.52014\n",
      "> Level 3_2: loss 0.77557\n",
      "> Level 3_3: loss 0.72130\n",
      "> Level 3_4: loss 0.66193\n",
      "=================== \n",
      "\n",
      "Epoch 30\n"
     ]
    },
    {
     "name": "stderr",
     "output_type": "stream",
     "text": [
      "100%|██████████| 584/584 [01:47<00:00,  5.42it/s]\n"
     ]
    },
    {
     "name": "stdout",
     "output_type": "stream",
     "text": [
      "Train loss: 0.872956\n",
      "> Level 1: loss 0.03582\n",
      "> Level 2: loss 0.06687\n",
      "> Level 3_1: loss 0.06093\n",
      "> Level 3_2: loss 0.14647\n",
      "> Level 3_3: loss 0.11933\n",
      "> Level 3_4: loss 0.04168\n"
     ]
    },
    {
     "name": "stderr",
     "output_type": "stream",
     "text": [
      "100%|██████████| 84/84 [00:05<00:00, 15.69it/s]"
     ]
    },
    {
     "name": "stdout",
     "output_type": "stream",
     "text": [
      "Dev loss: 6.99466\n",
      "> Level 1: loss 0.45944\n",
      "> Level 2: loss 0.61914\n",
      "> Level 3_1: loss 0.59711\n",
      "> Level 3_2: loss 0.74461\n",
      "> Level 3_3: loss 0.71064\n",
      "> Level 3_4: loss 0.75090\n",
      "=================== \n",
      "\n"
     ]
    },
    {
     "name": "stderr",
     "output_type": "stream",
     "text": [
      "\n"
     ]
    }
   ],
   "source": [
    "EPOCHS = 30\n",
    "\n",
    "train_losses, train_multi_losses, train_f1s, dev_losses, dev_multi_losses, dev_f1s = train_and_validate(model, \n",
    "                                                                                                        train_loader, dev_loader,\n",
    "                                                                                                        optimizer, device, \n",
    "                                                                                                        classes_weights=classes_weights,\n",
    "                                                                                                        epochs=EPOCHS,\n",
    "                                                                                                        task_weights=task_weights)"
   ]
  },
  {
   "cell_type": "markdown",
   "id": "956fecaf",
   "metadata": {
    "papermill": {
     "duration": 1.61143,
     "end_time": "2024-01-18T03:11:24.167779",
     "exception": false,
     "start_time": "2024-01-18T03:11:22.556349",
     "status": "completed"
    },
    "tags": []
   },
   "source": [
    "### Plotting"
   ]
  },
  {
   "cell_type": "code",
   "execution_count": 25,
   "id": "49dbfb77",
   "metadata": {
    "execution": {
     "iopub.execute_input": "2024-01-18T03:11:27.373719Z",
     "iopub.status.busy": "2024-01-18T03:11:27.372864Z",
     "iopub.status.idle": "2024-01-18T03:11:27.892689Z",
     "shell.execute_reply": "2024-01-18T03:11:27.891728Z"
    },
    "papermill": {
     "duration": 2.207878,
     "end_time": "2024-01-18T03:11:27.895383",
     "exception": false,
     "start_time": "2024-01-18T03:11:25.687505",
     "status": "completed"
    },
    "tags": []
   },
   "outputs": [
    {
     "data": {
      "image/png": "[encoded data removed]",
      "text/plain": [
       "<Figure size 750x750 with 1 Axes>"
      ]
     },
     "metadata": {},
     "output_type": "display_data"
    }
   ],
   "source": [
    "import matplotlib.pyplot as plt\n",
    "\n",
    "plt.figure(figsize=(5, 5), dpi=150)\n",
    "\n",
    "# losses\n",
    "plt.plot(train_losses, label='train loss')\n",
    "plt.plot(dev_losses, label='val loss')\n",
    "plt.title('Model Joint Loss')\n",
    "plt.ylabel('Loss')\n",
    "plt.xlabel('Epoch')\n",
    "plt.legend()\n",
    "plt.savefig(f'CNN_multi_torch_{model_name}_joint_loss.png')\n",
    "\n",
    "plt.show()"
   ]
  },
  {
   "cell_type": "code",
   "execution_count": 26,
   "id": "5c7fb8b8",
   "metadata": {
    "execution": {
     "iopub.execute_input": "2024-01-18T03:11:31.049475Z",
     "iopub.status.busy": "2024-01-18T03:11:31.049113Z",
     "iopub.status.idle": "2024-01-18T03:11:33.238445Z",
     "shell.execute_reply": "2024-01-18T03:11:33.237588Z"
    },
    "papermill": {
     "duration": 3.80426,
     "end_time": "2024-01-18T03:11:33.242778",
     "exception": false,
     "start_time": "2024-01-18T03:11:29.438518",
     "status": "completed"
    },
    "tags": []
   },
   "outputs": [
    {
     "data": {
      "image/png": "[encoded data removed]",
      "text/plain": [
       "<Figure size 1500x2250 with 6 Axes>"
      ]
     },
     "metadata": {},
     "output_type": "display_data"
    }
   ],
   "source": [
    "plt.figure(figsize=(10, 15), dpi=150)\n",
    "\n",
    "# multi losses\n",
    "for i in range(len(LEVELS)):\n",
    "    plt.subplot(3, 2, i+1)\n",
    "    plt.plot([loss[i] for loss in train_multi_losses], label=f'train level {LEVELS[i]} loss')\n",
    "    plt.plot([loss[i] for loss in dev_multi_losses], label='val loss')\n",
    "    plt.title(f'Model Level {LEVELS[i]} Loss')\n",
    "    plt.ylabel('Loss')\n",
    "    plt.xlabel('Epoch')\n",
    "    plt.legend()\n",
    "\n",
    "plt.savefig(f'CNN_multi_torch_{model_name}_multi_loss.png')\n",
    "\n",
    "plt.show()"
   ]
  },
  {
   "cell_type": "markdown",
   "id": "c1dccf8c",
   "metadata": {
    "papermill": {
     "duration": 1.529378,
     "end_time": "2024-01-18T03:11:36.365567",
     "exception": false,
     "start_time": "2024-01-18T03:11:34.836189",
     "status": "completed"
    },
    "tags": []
   },
   "source": [
    "## **Predict**"
   ]
  },
  {
   "cell_type": "code",
   "execution_count": 27,
   "id": "208669d7",
   "metadata": {
    "execution": {
     "iopub.execute_input": "2024-01-18T03:11:39.702257Z",
     "iopub.status.busy": "2024-01-18T03:11:39.701769Z",
     "iopub.status.idle": "2024-01-18T03:11:39.831885Z",
     "shell.execute_reply": "2024-01-18T03:11:39.830833Z"
    },
    "papermill": {
     "duration": 1.78403,
     "end_time": "2024-01-18T03:11:39.833994",
     "exception": false,
     "start_time": "2024-01-18T03:11:38.049964",
     "status": "completed"
    },
    "tags": []
   },
   "outputs": [],
   "source": [
    "if torch.cuda.is_available():\n",
    "    torch.cuda.empty_cache()"
   ]
  },
  {
   "cell_type": "code",
   "execution_count": 28,
   "id": "1e4ee488",
   "metadata": {
    "execution": {
     "iopub.execute_input": "2024-01-18T03:11:43.050296Z",
     "iopub.status.busy": "2024-01-18T03:11:43.049957Z",
     "iopub.status.idle": "2024-01-18T03:11:51.628179Z",
     "shell.execute_reply": "2024-01-18T03:11:51.627073Z"
    },
    "papermill": {
     "duration": 10.261857,
     "end_time": "2024-01-18T03:11:51.630562",
     "exception": false,
     "start_time": "2024-01-18T03:11:41.368705",
     "status": "completed"
    },
    "tags": []
   },
   "outputs": [
    {
     "name": "stderr",
     "output_type": "stream",
     "text": [
      "100%|██████████| 167/167 [00:08<00:00, 19.52it/s]\n"
     ]
    },
    {
     "data": {
      "text/plain": [
       "torch.Size([6, 4000])"
      ]
     },
     "execution_count": 28,
     "metadata": {},
     "output_type": "execute_result"
    }
   ],
   "source": [
    "test_preds = [[], [], [], [], [], []]\n",
    "\n",
    "model.eval()\n",
    "with torch.no_grad():\n",
    "    for batch in tqdm(test_loader):\n",
    "        logits = model(batch[0].to(device))\n",
    "        \n",
    "        for i in range(len(LEVELS)):\n",
    "            test_preds[i] += torch.argmax(logits[i], dim=1).tolist()\n",
    "#         print('============ \\n')\n",
    "            \n",
    "test_preds = torch.tensor(test_preds)\n",
    "test_preds.shape"
   ]
  },
  {
   "cell_type": "code",
   "execution_count": 29,
   "id": "01e86eee",
   "metadata": {
    "execution": {
     "iopub.execute_input": "2024-01-18T03:11:54.796083Z",
     "iopub.status.busy": "2024-01-18T03:11:54.795704Z",
     "iopub.status.idle": "2024-01-18T03:11:55.008965Z",
     "shell.execute_reply": "2024-01-18T03:11:55.007975Z"
    },
    "papermill": {
     "duration": 1.753125,
     "end_time": "2024-01-18T03:11:55.011093",
     "exception": false,
     "start_time": "2024-01-18T03:11:53.257968",
     "status": "completed"
    },
    "tags": []
   },
   "outputs": [
    {
     "data": {
      "text/html": [
       "<div>\n",
       "<style scoped>\n",
       "    .dataframe tbody tr th:only-of-type {\n",
       "        vertical-align: middle;\n",
       "    }\n",
       "\n",
       "    .dataframe tbody tr th {\n",
       "        vertical-align: top;\n",
       "    }\n",
       "\n",
       "    .dataframe thead th {\n",
       "        text-align: right;\n",
       "    }\n",
       "</style>\n",
       "<table border=\"1\" class=\"dataframe\">\n",
       "  <thead>\n",
       "    <tr style=\"text-align: right;\">\n",
       "      <th></th>\n",
       "      <th>rewire_id</th>\n",
       "      <th>text</th>\n",
       "      <th>label_1</th>\n",
       "      <th>label_2</th>\n",
       "      <th>label_3</th>\n",
       "      <th>label_3_1</th>\n",
       "      <th>label_3_2</th>\n",
       "      <th>label_3_3</th>\n",
       "      <th>label_3_4</th>\n",
       "      <th>tokens</th>\n",
       "      <th>pred_1</th>\n",
       "      <th>pred_2</th>\n",
       "      <th>pred_3_1</th>\n",
       "      <th>pred_3_2</th>\n",
       "      <th>pred_3_3</th>\n",
       "      <th>pred_3_4</th>\n",
       "    </tr>\n",
       "  </thead>\n",
       "  <tbody>\n",
       "    <tr>\n",
       "      <th>0</th>\n",
       "      <td>sexism2022_english-9019</td>\n",
       "      <td>This year, Justin Timberlake should perform in...</td>\n",
       "      <td>not sexist</td>\n",
       "      <td>not sexist</td>\n",
       "      <td>not sexist</td>\n",
       "      <td>not sexist</td>\n",
       "      <td>not sexist</td>\n",
       "      <td>not sexist</td>\n",
       "      <td>not sexist</td>\n",
       "      <td>this year , justin timberlake should perform i...</td>\n",
       "      <td>sexist</td>\n",
       "      <td>1. threats, plans to harm and incitement</td>\n",
       "      <td>1.2 incitement and encouragement of harm</td>\n",
       "      <td>other</td>\n",
       "      <td>other</td>\n",
       "      <td>other</td>\n",
       "    </tr>\n",
       "    <tr>\n",
       "      <th>1</th>\n",
       "      <td>sexism2022_english-8150</td>\n",
       "      <td>Osaka won youth beat old age, 20 vs 37. Serena...</td>\n",
       "      <td>sexist</td>\n",
       "      <td>3. animosity</td>\n",
       "      <td>3.1 casual use of gendered slurs, profanities,...</td>\n",
       "      <td>other</td>\n",
       "      <td>other</td>\n",
       "      <td>3.1 casual use of gendered slurs, profanities,...</td>\n",
       "      <td>other</td>\n",
       "      <td>osaka won youth beat old age , 20 vs 37 . sere...</td>\n",
       "      <td>sexist</td>\n",
       "      <td>3. animosity</td>\n",
       "      <td>other</td>\n",
       "      <td>other</td>\n",
       "      <td>3.1 casual use of gendered slurs, profanities,...</td>\n",
       "      <td>other</td>\n",
       "    </tr>\n",
       "    <tr>\n",
       "      <th>2</th>\n",
       "      <td>sexism2022_english-18136</td>\n",
       "      <td>Yeah the only way a man can satisfy those wome...</td>\n",
       "      <td>sexist</td>\n",
       "      <td>1. threats, plans to harm and incitement</td>\n",
       "      <td>1.2 incitement and encouragement of harm</td>\n",
       "      <td>1.2 incitement and encouragement of harm</td>\n",
       "      <td>other</td>\n",
       "      <td>other</td>\n",
       "      <td>other</td>\n",
       "      <td>yeah the only way a man can satisfy those wome...</td>\n",
       "      <td>sexist</td>\n",
       "      <td>1. threats, plans to harm and incitement</td>\n",
       "      <td>1.1 threats of harm</td>\n",
       "      <td>other</td>\n",
       "      <td>other</td>\n",
       "      <td>other</td>\n",
       "    </tr>\n",
       "    <tr>\n",
       "      <th>3</th>\n",
       "      <td>sexism2022_english-2602</td>\n",
       "      <td>Young girl 'passed around' to sleep with 100 m...</td>\n",
       "      <td>not sexist</td>\n",
       "      <td>not sexist</td>\n",
       "      <td>not sexist</td>\n",
       "      <td>not sexist</td>\n",
       "      <td>not sexist</td>\n",
       "      <td>not sexist</td>\n",
       "      <td>not sexist</td>\n",
       "      <td>young girl ' passed around ' to sleep with 100...</td>\n",
       "      <td>not sexist</td>\n",
       "      <td>not sexist</td>\n",
       "      <td>not sexist</td>\n",
       "      <td>not sexist</td>\n",
       "      <td>not sexist</td>\n",
       "      <td>not sexist</td>\n",
       "    </tr>\n",
       "    <tr>\n",
       "      <th>4</th>\n",
       "      <td>sexism2022_english-1479</td>\n",
       "      <td>You are an inspiration brother. I follow you o...</td>\n",
       "      <td>not sexist</td>\n",
       "      <td>not sexist</td>\n",
       "      <td>not sexist</td>\n",
       "      <td>not sexist</td>\n",
       "      <td>not sexist</td>\n",
       "      <td>not sexist</td>\n",
       "      <td>not sexist</td>\n",
       "      <td>you are an inspiration brother . i follow you ...</td>\n",
       "      <td>not sexist</td>\n",
       "      <td>not sexist</td>\n",
       "      <td>not sexist</td>\n",
       "      <td>not sexist</td>\n",
       "      <td>not sexist</td>\n",
       "      <td>not sexist</td>\n",
       "    </tr>\n",
       "  </tbody>\n",
       "</table>\n",
       "</div>"
      ],
      "text/plain": [
       "                  rewire_id  \\\n",
       "0   sexism2022_english-9019   \n",
       "1   sexism2022_english-8150   \n",
       "2  sexism2022_english-18136   \n",
       "3   sexism2022_english-2602   \n",
       "4   sexism2022_english-1479   \n",
       "\n",
       "                                                text     label_1  \\\n",
       "0  This year, Justin Timberlake should perform in...  not sexist   \n",
       "1  Osaka won youth beat old age, 20 vs 37. Serena...      sexist   \n",
       "2  Yeah the only way a man can satisfy those wome...      sexist   \n",
       "3  Young girl 'passed around' to sleep with 100 m...  not sexist   \n",
       "4  You are an inspiration brother. I follow you o...  not sexist   \n",
       "\n",
       "                                    label_2  \\\n",
       "0                                not sexist   \n",
       "1                              3. animosity   \n",
       "2  1. threats, plans to harm and incitement   \n",
       "3                                not sexist   \n",
       "4                                not sexist   \n",
       "\n",
       "                                             label_3  \\\n",
       "0                                         not sexist   \n",
       "1  3.1 casual use of gendered slurs, profanities,...   \n",
       "2           1.2 incitement and encouragement of harm   \n",
       "3                                         not sexist   \n",
       "4                                         not sexist   \n",
       "\n",
       "                                  label_3_1   label_3_2  \\\n",
       "0                                not sexist  not sexist   \n",
       "1                                     other       other   \n",
       "2  1.2 incitement and encouragement of harm       other   \n",
       "3                                not sexist  not sexist   \n",
       "4                                not sexist  not sexist   \n",
       "\n",
       "                                           label_3_3   label_3_4  \\\n",
       "0                                         not sexist  not sexist   \n",
       "1  3.1 casual use of gendered slurs, profanities,...       other   \n",
       "2                                              other       other   \n",
       "3                                         not sexist  not sexist   \n",
       "4                                         not sexist  not sexist   \n",
       "\n",
       "                                              tokens      pred_1  \\\n",
       "0  this year , justin timberlake should perform i...      sexist   \n",
       "1  osaka won youth beat old age , 20 vs 37 . sere...      sexist   \n",
       "2  yeah the only way a man can satisfy those wome...      sexist   \n",
       "3  young girl ' passed around ' to sleep with 100...  not sexist   \n",
       "4  you are an inspiration brother . i follow you ...  not sexist   \n",
       "\n",
       "                                     pred_2  \\\n",
       "0  1. threats, plans to harm and incitement   \n",
       "1                              3. animosity   \n",
       "2  1. threats, plans to harm and incitement   \n",
       "3                                not sexist   \n",
       "4                                not sexist   \n",
       "\n",
       "                                   pred_3_1    pred_3_2  \\\n",
       "0  1.2 incitement and encouragement of harm       other   \n",
       "1                                     other       other   \n",
       "2                       1.1 threats of harm       other   \n",
       "3                                not sexist  not sexist   \n",
       "4                                not sexist  not sexist   \n",
       "\n",
       "                                            pred_3_3    pred_3_4  \n",
       "0                                              other       other  \n",
       "1  3.1 casual use of gendered slurs, profanities,...       other  \n",
       "2                                              other       other  \n",
       "3                                         not sexist  not sexist  \n",
       "4                                         not sexist  not sexist  "
      ]
     },
     "execution_count": 29,
     "metadata": {},
     "output_type": "execute_result"
    }
   ],
   "source": [
    "for i in range(len(LEVELS)):\n",
    "    test[f'pred_{LEVELS[i]}'] = [idx_to_label(idx, i+1) for idx in test_preds[i]]\n",
    "\n",
    "test.to_csv(f'./{model_name}_test_preds.csv', index=False)\n",
    "test.head()"
   ]
  },
  {
   "cell_type": "code",
   "execution_count": 30,
   "id": "9fe5fde2",
   "metadata": {
    "execution": {
     "iopub.execute_input": "2024-01-18T03:11:58.330328Z",
     "iopub.status.busy": "2024-01-18T03:11:58.329391Z",
     "iopub.status.idle": "2024-01-18T03:11:58.527555Z",
     "shell.execute_reply": "2024-01-18T03:11:58.526369Z"
    },
    "papermill": {
     "duration": 1.875888,
     "end_time": "2024-01-18T03:11:58.530329",
     "exception": false,
     "start_time": "2024-01-18T03:11:56.654441",
     "status": "completed"
    },
    "tags": []
   },
   "outputs": [
    {
     "name": "stdout",
     "output_type": "stream",
     "text": [
      "Level 1\n",
      "              precision    recall  f1-score   support\n",
      "\n",
      "  not sexist     0.9149    0.9119    0.9134      3030\n",
      "      sexist     0.7276    0.7351    0.7313       970\n",
      "\n",
      "    accuracy                         0.8690      4000\n",
      "   macro avg     0.8212    0.8235    0.8223      4000\n",
      "weighted avg     0.8695    0.8690    0.8692      4000\n",
      "\n",
      "Level 2\n",
      "                                          precision    recall  f1-score   support\n",
      "\n",
      "1. threats, plans to harm and incitement     0.4492    0.5955    0.5121        89\n",
      "                           2. derogation     0.4829    0.5925    0.5321       454\n",
      "                            3. animosity     0.4563    0.4865    0.4709       333\n",
      "               4. prejudiced discussions     0.3441    0.3404    0.3422        94\n",
      "                              not sexist     0.9305    0.8835    0.9064      3030\n",
      "\n",
      "                                accuracy                         0.7983      4000\n",
      "                               macro avg     0.5326    0.5797    0.5528      4000\n",
      "                            weighted avg     0.8157    0.7983    0.8056      4000\n",
      "\n",
      "Level 3_1\n",
      "                                          precision    recall  f1-score   support\n",
      "\n",
      "                     1.1 threats of harm     0.2083    0.3125    0.2500        16\n",
      "1.2 incitement and encouragement of harm     0.4020    0.5616    0.4686        73\n",
      "                              not sexist     0.9201    0.9040    0.9119      3030\n",
      "                                   other     0.7124    0.7253    0.7188       881\n",
      "\n",
      "                                accuracy                         0.8560      4000\n",
      "                               macro avg     0.5607    0.6259    0.5873      4000\n",
      "                            weighted avg     0.8620    0.8560    0.8587      4000\n",
      "\n",
      "Level 3_2\n",
      "                                                         precision    recall  f1-score   support\n",
      "\n",
      "                                2.1 descriptive attacks     0.3215    0.5756    0.4126       205\n",
      "                     2.2 aggressive and emotive attacks     0.4297    0.5573    0.4853       192\n",
      "2.3 dehumanising attacks & overt sexual objectification     0.2273    0.3509    0.2759        57\n",
      "                                             not sexist     0.9228    0.8950    0.9087      3030\n",
      "                                                  other     0.5518    0.3818    0.4513       516\n",
      "\n",
      "                                               accuracy                         0.7885      4000\n",
      "                                              macro avg     0.4906    0.5521    0.5067      4000\n",
      "                                           weighted avg     0.8105    0.7885    0.7949      4000\n",
      "\n",
      "Level 3_3\n",
      "                                                            precision    recall  f1-score   support\n",
      "\n",
      "3.1 casual use of gendered slurs, profanities, and insults     0.5299    0.6813    0.5962       182\n",
      "   3.2 immutable gender differences and gender stereotypes     0.2924    0.4202    0.3448       119\n",
      "                       3.3 backhanded gendered compliments     0.0357    0.1111    0.0541        18\n",
      "        3.4 condescending explanations or unwelcome advice     0.0667    0.1429    0.0909        14\n",
      "                                                not sexist     0.9261    0.8815    0.9033      3030\n",
      "                                                     other     0.5712    0.5604    0.5658       637\n",
      "\n",
      "                                                  accuracy                         0.8015      4000\n",
      "                                                 macro avg     0.4037    0.4662    0.4258      4000\n",
      "                                              weighted avg     0.8257    0.8015    0.8123      4000\n",
      "\n",
      "Level 3_4\n",
      "                                                                 precision    recall  f1-score   support\n",
      "\n",
      "                4.1 supporting mistreatment of individual women     0.0566    0.1429    0.0811        21\n",
      "4.2 supporting systemic discrimination against women as a group     0.3594    0.3151    0.3358        73\n",
      "                                                     not sexist     0.9210    0.9040    0.9124      3030\n",
      "                                                          other     0.7085    0.7352    0.7216       876\n",
      "\n",
      "                                                       accuracy                         0.8522      4000\n",
      "                                                      macro avg     0.5114    0.5243    0.5127      4000\n",
      "                                                   weighted avg     0.8597    0.8522    0.8557      4000\n",
      "\n"
     ]
    }
   ],
   "source": [
    "def get_report(preds, labels):\n",
    "    reports = []\n",
    "    for i in range(len(LEVELS)):\n",
    "        print(f'Level {LEVELS[i]}')\n",
    "        # print('Labels:', labels[i].shape, 'Preds:', preds[i].shape)\n",
    "        reports.append(classification_report(labels[i], preds[i], \n",
    "                                             target_names=ALL_LABELS[i], \n",
    "                                             digits=4, output_dict=True))\n",
    "        print(classification_report(labels[i], preds[i], target_names=ALL_LABELS[i], digits=4))\n",
    "    return reports\n",
    "\n",
    "test_reports = get_report(test_preds, y_tests.T)\n",
    "# print(test_reports, sep='\\n')"
   ]
  }
 ],
 "metadata": {
  "kaggle": {
   "accelerator": "gpu",
   "dataSources": [
    {
     "datasetId": 3732869,
     "sourceId": 6497784,
     "sourceType": "datasetVersion"
    },
    {
     "datasetId": 3851897,
     "sourceId": 7019895,
     "sourceType": "datasetVersion"
    }
   ],
   "dockerImageVersionId": 30627,
   "isGpuEnabled": true,
   "isInternetEnabled": true,
   "language": "python",
   "sourceType": "notebook"
  },
  "kernelspec": {
   "display_name": "Python 3",
   "language": "python",
   "name": "python3"
  },
  "language_info": {
   "codemirror_mode": {
    "name": "ipython",
    "version": 3
   },
   "file_extension": ".py",
   "mimetype": "text/x-python",
   "name": "python",
   "nbconvert_exporter": "python",
   "pygments_lexer": "ipython3",
   "version": "3.10.12"
  },
  "papermill": {
   "default_parameters": {},
   "duration": 3513.655977,
   "end_time": "2024-01-18T03:12:02.160963",
   "environment_variables": {},
   "exception": null,
   "input_path": "__notebook__.ipynb",
   "output_path": "__notebook__.ipynb",
   "parameters": {},
   "start_time": "2024-01-18T02:13:28.504986",
   "version": "2.4.0"
  },
  "widgets": {
   "application/vnd.jupyter.widget-state+json": {
    "state": {
     "01533fcd0ef44f8db81110d5c62f48f2": {
      "model_module": "@jupyter-widgets/controls",
      "model_module_version": "1.5.0",
      "model_name": "HTMLModel",
      "state": {
       "_dom_classes": [],
       "_model_module": "@jupyter-widgets/controls",
       "_model_module_version": "1.5.0",
       "_model_name": "HTMLModel",
       "_view_count": null,
       "_view_module": "@jupyter-widgets/controls",
       "_view_module_version": "1.5.0",
       "_view_name": "HTMLView",
       "description": "",
       "description_tooltip": null,
       "layout": "IPY_MODEL_be3d16aae8394ddfbca90da726e5cbea",
       "placeholder": "​",
       "style": "IPY_MODEL_8034541a4cb14e8b9206b4eaf063c2dc",
       "value": " 558/558 [00:00&lt;00:00, 47.8kB/s]"
      }
     },
     "09b41498ca4e4a9f82b4d19fda4c0097": {
      "model_module": "@jupyter-widgets/controls",
      "model_module_version": "1.5.0",
      "model_name": "FloatProgressModel",
      "state": {
       "_dom_classes": [],
       "_model_module": "@jupyter-widgets/controls",
       "_model_module_version": "1.5.0",
       "_model_name": "FloatProgressModel",
       "_view_count": null,
       "_view_module": "@jupyter-widgets/controls",
       "_view_module_version": "1.5.0",
       "_view_name": "ProgressView",
       "bar_style": "success",
       "description": "",
       "description_tooltip": null,
       "layout": "IPY_MODEL_f46bcd43357443048b5fde23002d76b5",
       "max": 2912687.0,
       "min": 0.0,
       "orientation": "horizontal",
       "style": "IPY_MODEL_d5af29da9d644885983cd4ea31e82993",
       "value": 2912687.0
      }
     },
     "10b85f953a214fbd829835670d17f2e1": {
      "model_module": "@jupyter-widgets/controls",
      "model_module_version": "1.5.0",
      "model_name": "FloatProgressModel",
      "state": {
       "_dom_classes": [],
       "_model_module": "@jupyter-widgets/controls",
       "_model_module_version": "1.5.0",
       "_model_name": "FloatProgressModel",
       "_view_count": null,
       "_view_module": "@jupyter-widgets/controls",
       "_view_module_version": "1.5.0",
       "_view_name": "ProgressView",
       "bar_style": "success",
       "description": "",
       "description_tooltip": null,
       "layout": "IPY_MODEL_128b96a89ba141a8ade206553a7e0159",
       "max": 1078931.0,
       "min": 0.0,
       "orientation": "horizontal",
       "style": "IPY_MODEL_f03bee4884674e94ac8032a46542f1e3",
       "value": 1078931.0
      }
     },
     "128b96a89ba141a8ade206553a7e0159": {
      "model_module": "@jupyter-widgets/base",
      "model_module_version": "1.2.0",
      "model_name": "LayoutModel",
      "state": {
       "_model_module": "@jupyter-widgets/base",
       "_model_module_version": "1.2.0",
       "_model_name": "LayoutModel",
       "_view_count": null,
       "_view_module": "@jupyter-widgets/base",
       "_view_module_version": "1.2.0",
       "_view_name": "LayoutView",
       "align_content": null,
       "align_items": null,
       "align_self": null,
       "border": null,
       "bottom": null,
       "display": null,
       "flex": null,
       "flex_flow": null,
       "grid_area": null,
       "grid_auto_columns": null,
       "grid_auto_flow": null,
       "grid_auto_rows": null,
       "grid_column": null,
       "grid_gap": null,
       "grid_row": null,
       "grid_template_areas": null,
       "grid_template_columns": null,
       "grid_template_rows": null,
       "height": null,
       "justify_content": null,
       "justify_items": null,
       "left": null,
       "margin": null,
       "max_height": null,
       "max_width": null,
       "min_height": null,
       "min_width": null,
       "object_fit": null,
       "object_position": null,
       "order": null,
       "overflow": null,
       "overflow_x": null,
       "overflow_y": null,
       "padding": null,
       "right": null,
       "top": null,
       "visibility": null,
       "width": null
      }
     },
     "1377f4608bda4949acfce45a382a3616": {
      "model_module": "@jupyter-widgets/base",
      "model_module_version": "1.2.0",
      "model_name": "LayoutModel",
      "state": {
       "_model_module": "@jupyter-widgets/base",
       "_model_module_version": "1.2.0",
       "_model_name": "LayoutModel",
       "_view_count": null,
       "_view_module": "@jupyter-widgets/base",
       "_view_module_version": "1.2.0",
       "_view_name": "LayoutView",
       "align_content": null,
       "align_items": null,
       "align_self": null,
       "border": null,
       "bottom": null,
       "display": null,
       "flex": null,
       "flex_flow": null,
       "grid_area": null,
       "grid_auto_columns": null,
       "grid_auto_flow": null,
       "grid_auto_rows": null,
       "grid_column": null,
       "grid_gap": null,
       "grid_row": null,
       "grid_template_areas": null,
       "grid_template_columns": null,
       "grid_template_rows": null,
       "height": null,
       "justify_content": null,
       "justify_items": null,
       "left": null,
       "margin": null,
       "max_height": null,
       "max_width": null,
       "min_height": null,
       "min_width": null,
       "object_fit": null,
       "object_position": null,
       "order": null,
       "overflow": null,
       "overflow_x": null,
       "overflow_y": null,
       "padding": null,
       "right": null,
       "top": null,
       "visibility": null,
       "width": null
      }
     },
     "14f59b7f9d8842dcb65192ee232607bd": {
      "model_module": "@jupyter-widgets/controls",
      "model_module_version": "1.5.0",
      "model_name": "HTMLModel",
      "state": {
       "_dom_classes": [],
       "_model_module": "@jupyter-widgets/controls",
       "_model_module_version": "1.5.0",
       "_model_name": "HTMLModel",
       "_view_count": null,
       "_view_module": "@jupyter-widgets/controls",
       "_view_module_version": "1.5.0",
       "_view_name": "HTMLView",
       "description": "",
       "description_tooltip": null,
       "layout": "IPY_MODEL_88ac2c0ad4d34863aebaad12fbe477ae",
       "placeholder": "​",
       "style": "IPY_MODEL_e085c177ab8e4f1fb9d32d0217d52413",
       "value": "pytorch_model.bin: 100%"
      }
     },
     "18b2c86ee81743b7a0e0b2a9e089b436": {
      "model_module": "@jupyter-widgets/controls",
      "model_module_version": "1.5.0",
      "model_name": "HBoxModel",
      "state": {
       "_dom_classes": [],
       "_model_module": "@jupyter-widgets/controls",
       "_model_module_version": "1.5.0",
       "_model_name": "HBoxModel",
       "_view_count": null,
       "_view_module": "@jupyter-widgets/controls",
       "_view_module_version": "1.5.0",
       "_view_name": "HBoxView",
       "box_style": "",
       "children": [
        "IPY_MODEL_c2bd341eca524ae4833746fa6f1325df",
        "IPY_MODEL_10b85f953a214fbd829835670d17f2e1",
        "IPY_MODEL_8b8e5171e7c74b25b1545c8c75dc0db5"
       ],
       "layout": "IPY_MODEL_ae1c64052220463693cc1ab34e446f03"
      }
     },
     "2557100bf28d43f283ddd659ee0d4bce": {
      "model_module": "@jupyter-widgets/base",
      "model_module_version": "1.2.0",
      "model_name": "LayoutModel",
      "state": {
       "_model_module": "@jupyter-widgets/base",
       "_model_module_version": "1.2.0",
       "_model_name": "LayoutModel",
       "_view_count": null,
       "_view_module": "@jupyter-widgets/base",
       "_view_module_version": "1.2.0",
       "_view_name": "LayoutView",
       "align_content": null,
       "align_items": null,
       "align_self": null,
       "border": null,
       "bottom": null,
       "display": null,
       "flex": null,
       "flex_flow": null,
       "grid_area": null,
       "grid_auto_columns": null,
       "grid_auto_flow": null,
       "grid_auto_rows": null,
       "grid_column": null,
       "grid_gap": null,
       "grid_row": null,
       "grid_template_areas": null,
       "grid_template_columns": null,
       "grid_template_rows": null,
       "height": null,
       "justify_content": null,
       "justify_items": null,
       "left": null,
       "margin": null,
       "max_height": null,
       "max_width": null,
       "min_height": null,
       "min_width": null,
       "object_fit": null,
       "object_position": null,
       "order": null,
       "overflow": null,
       "overflow_x": null,
       "overflow_y": null,
       "padding": null,
       "right": null,
       "top": null,
       "visibility": null,
       "width": null
      }
     },
     "25bbdf3aa5cc4e17ba841d97c6fa908d": {
      "model_module": "@jupyter-widgets/controls",
      "model_module_version": "1.5.0",
      "model_name": "HTMLModel",
      "state": {
       "_dom_classes": [],
       "_model_module": "@jupyter-widgets/controls",
       "_model_module_version": "1.5.0",
       "_model_name": "HTMLModel",
       "_view_count": null,
       "_view_module": "@jupyter-widgets/controls",
       "_view_module_version": "1.5.0",
       "_view_name": "HTMLView",
       "description": "",
       "description_tooltip": null,
       "layout": "IPY_MODEL_2b1b119698034a3084eb62b6ca748a68",
       "placeholder": "​",
       "style": "IPY_MODEL_db5d54a63c7349fa9c06cdbf0a758755",
       "value": " 543M/543M [00:15&lt;00:00, 30.7MB/s]"
      }
     },
     "25c55103b53c473f97c4539f405572ec": {
      "model_module": "@jupyter-widgets/controls",
      "model_module_version": "1.5.0",
      "model_name": "HBoxModel",
      "state": {
       "_dom_classes": [],
       "_model_module": "@jupyter-widgets/controls",
       "_model_module_version": "1.5.0",
       "_model_name": "HBoxModel",
       "_view_count": null,
       "_view_module": "@jupyter-widgets/controls",
       "_view_module_version": "1.5.0",
       "_view_name": "HBoxView",
       "box_style": "",
       "children": [
        "IPY_MODEL_f5ca5d9f42f4495eaec8767fafba5ab2",
        "IPY_MODEL_69a0ebc96bd944ddb66e520bd78f6d0f",
        "IPY_MODEL_01533fcd0ef44f8db81110d5c62f48f2"
       ],
       "layout": "IPY_MODEL_8b8835e28e294328b1576158880c69f7"
      }
     },
     "2b1b119698034a3084eb62b6ca748a68": {
      "model_module": "@jupyter-widgets/base",
      "model_module_version": "1.2.0",
      "model_name": "LayoutModel",
      "state": {
       "_model_module": "@jupyter-widgets/base",
       "_model_module_version": "1.2.0",
       "_model_name": "LayoutModel",
       "_view_count": null,
       "_view_module": "@jupyter-widgets/base",
       "_view_module_version": "1.2.0",
       "_view_name": "LayoutView",
       "align_content": null,
       "align_items": null,
       "align_self": null,
       "border": null,
       "bottom": null,
       "display": null,
       "flex": null,
       "flex_flow": null,
       "grid_area": null,
       "grid_auto_columns": null,
       "grid_auto_flow": null,
       "grid_auto_rows": null,
       "grid_column": null,
       "grid_gap": null,
       "grid_row": null,
       "grid_template_areas": null,
       "grid_template_columns": null,
       "grid_template_rows": null,
       "height": null,
       "justify_content": null,
       "justify_items": null,
       "left": null,
       "margin": null,
       "max_height": null,
       "max_width": null,
       "min_height": null,
       "min_width": null,
       "object_fit": null,
       "object_position": null,
       "order": null,
       "overflow": null,
       "overflow_x": null,
       "overflow_y": null,
       "padding": null,
       "right": null,
       "top": null,
       "visibility": null,
       "width": null
      }
     },
     "2bcd4d3f51bf41a184f5f1ce3308d23e": {
      "model_module": "@jupyter-widgets/base",
      "model_module_version": "1.2.0",
      "model_name": "LayoutModel",
      "state": {
       "_model_module": "@jupyter-widgets/base",
       "_model_module_version": "1.2.0",
       "_model_name": "LayoutModel",
       "_view_count": null,
       "_view_module": "@jupyter-widgets/base",
       "_view_module_version": "1.2.0",
       "_view_name": "LayoutView",
       "align_content": null,
       "align_items": null,
       "align_self": null,
       "border": null,
       "bottom": null,
       "display": null,
       "flex": null,
       "flex_flow": null,
       "grid_area": null,
       "grid_auto_columns": null,
       "grid_auto_flow": null,
       "grid_auto_rows": null,
       "grid_column": null,
       "grid_gap": null,
       "grid_row": null,
       "grid_template_areas": null,
       "grid_template_columns": null,
       "grid_template_rows": null,
       "height": null,
       "justify_content": null,
       "justify_items": null,
       "left": null,
       "margin": null,
       "max_height": null,
       "max_width": null,
       "min_height": null,
       "min_width": null,
       "object_fit": null,
       "object_position": null,
       "order": null,
       "overflow": null,
       "overflow_x": null,
       "overflow_y": null,
       "padding": null,
       "right": null,
       "top": null,
       "visibility": null,
       "width": null
      }
     },
     "2ff0207f0dc744708cced840fb8d74eb": {
      "model_module": "@jupyter-widgets/controls",
      "model_module_version": "1.5.0",
      "model_name": "DescriptionStyleModel",
      "state": {
       "_model_module": "@jupyter-widgets/controls",
       "_model_module_version": "1.5.0",
       "_model_name": "DescriptionStyleModel",
       "_view_count": null,
       "_view_module": "@jupyter-widgets/base",
       "_view_module_version": "1.2.0",
       "_view_name": "StyleView",
       "description_width": ""
      }
     },
     "324ae85e6c31471b9d8a6365b8467ae4": {
      "model_module": "@jupyter-widgets/controls",
      "model_module_version": "1.5.0",
      "model_name": "DescriptionStyleModel",
      "state": {
       "_model_module": "@jupyter-widgets/controls",
       "_model_module_version": "1.5.0",
       "_model_name": "DescriptionStyleModel",
       "_view_count": null,
       "_view_module": "@jupyter-widgets/base",
       "_view_module_version": "1.2.0",
       "_view_name": "StyleView",
       "description_width": ""
      }
     },
     "35eb65f611074f7595575447299efa95": {
      "model_module": "@jupyter-widgets/base",
      "model_module_version": "1.2.0",
      "model_name": "LayoutModel",
      "state": {
       "_model_module": "@jupyter-widgets/base",
       "_model_module_version": "1.2.0",
       "_model_name": "LayoutModel",
       "_view_count": null,
       "_view_module": "@jupyter-widgets/base",
       "_view_module_version": "1.2.0",
       "_view_name": "LayoutView",
       "align_content": null,
       "align_items": null,
       "align_self": null,
       "border": null,
       "bottom": null,
       "display": null,
       "flex": null,
       "flex_flow": null,
       "grid_area": null,
       "grid_auto_columns": null,
       "grid_auto_flow": null,
       "grid_auto_rows": null,
       "grid_column": null,
       "grid_gap": null,
       "grid_row": null,
       "grid_template_areas": null,
       "grid_template_columns": null,
       "grid_template_rows": null,
       "height": null,
       "justify_content": null,
       "justify_items": null,
       "left": null,
       "margin": null,
       "max_height": null,
       "max_width": null,
       "min_height": null,
       "min_width": null,
       "object_fit": null,
       "object_position": null,
       "order": null,
       "overflow": null,
       "overflow_x": null,
       "overflow_y": null,
       "padding": null,
       "right": null,
       "top": null,
       "visibility": null,
       "width": null
      }
     },
     "36aa538b81a74ae98f097aa56bb474b3": {
      "model_module": "@jupyter-widgets/controls",
      "model_module_version": "1.5.0",
      "model_name": "HBoxModel",
      "state": {
       "_dom_classes": [],
       "_model_module": "@jupyter-widgets/controls",
       "_model_module_version": "1.5.0",
       "_model_name": "HBoxModel",
       "_view_count": null,
       "_view_module": "@jupyter-widgets/controls",
       "_view_module_version": "1.5.0",
       "_view_name": "HBoxView",
       "box_style": "",
       "children": [
        "IPY_MODEL_c8aff8ff2a4f4f88b0ffda970e4367fa",
        "IPY_MODEL_09b41498ca4e4a9f82b4d19fda4c0097",
        "IPY_MODEL_655216fe664440c7a088f9fdfb334421"
       ],
       "layout": "IPY_MODEL_2bcd4d3f51bf41a184f5f1ce3308d23e"
      }
     },
     "42d5470f53b947be8281f0c867280a27": {
      "model_module": "@jupyter-widgets/base",
      "model_module_version": "1.2.0",
      "model_name": "LayoutModel",
      "state": {
       "_model_module": "@jupyter-widgets/base",
       "_model_module_version": "1.2.0",
       "_model_name": "LayoutModel",
       "_view_count": null,
       "_view_module": "@jupyter-widgets/base",
       "_view_module_version": "1.2.0",
       "_view_name": "LayoutView",
       "align_content": null,
       "align_items": null,
       "align_self": null,
       "border": null,
       "bottom": null,
       "display": null,
       "flex": null,
       "flex_flow": null,
       "grid_area": null,
       "grid_auto_columns": null,
       "grid_auto_flow": null,
       "grid_auto_rows": null,
       "grid_column": null,
       "grid_gap": null,
       "grid_row": null,
       "grid_template_areas": null,
       "grid_template_columns": null,
       "grid_template_rows": null,
       "height": null,
       "justify_content": null,
       "justify_items": null,
       "left": null,
       "margin": null,
       "max_height": null,
       "max_width": null,
       "min_height": null,
       "min_width": null,
       "object_fit": null,
       "object_position": null,
       "order": null,
       "overflow": null,
       "overflow_x": null,
       "overflow_y": null,
       "padding": null,
       "right": null,
       "top": null,
       "visibility": null,
       "width": null
      }
     },
     "5953e353450d4af5a9ea70de448c0865": {
      "model_module": "@jupyter-widgets/controls",
      "model_module_version": "1.5.0",
      "model_name": "ProgressStyleModel",
      "state": {
       "_model_module": "@jupyter-widgets/controls",
       "_model_module_version": "1.5.0",
       "_model_name": "ProgressStyleModel",
       "_view_count": null,
       "_view_module": "@jupyter-widgets/base",
       "_view_module_version": "1.2.0",
       "_view_name": "StyleView",
       "bar_color": null,
       "description_width": ""
      }
     },
     "60dd16aa9429446b9f1c9d8cd021eb28": {
      "model_module": "@jupyter-widgets/base",
      "model_module_version": "1.2.0",
      "model_name": "LayoutModel",
      "state": {
       "_model_module": "@jupyter-widgets/base",
       "_model_module_version": "1.2.0",
       "_model_name": "LayoutModel",
       "_view_count": null,
       "_view_module": "@jupyter-widgets/base",
       "_view_module_version": "1.2.0",
       "_view_name": "LayoutView",
       "align_content": null,
       "align_items": null,
       "align_self": null,
       "border": null,
       "bottom": null,
       "display": null,
       "flex": null,
       "flex_flow": null,
       "grid_area": null,
       "grid_auto_columns": null,
       "grid_auto_flow": null,
       "grid_auto_rows": null,
       "grid_column": null,
       "grid_gap": null,
       "grid_row": null,
       "grid_template_areas": null,
       "grid_template_columns": null,
       "grid_template_rows": null,
       "height": null,
       "justify_content": null,
       "justify_items": null,
       "left": null,
       "margin": null,
       "max_height": null,
       "max_width": null,
       "min_height": null,
       "min_width": null,
       "object_fit": null,
       "object_position": null,
       "order": null,
       "overflow": null,
       "overflow_x": null,
       "overflow_y": null,
       "padding": null,
       "right": null,
       "top": null,
       "visibility": null,
       "width": null
      }
     },
     "655216fe664440c7a088f9fdfb334421": {
      "model_module": "@jupyter-widgets/controls",
      "model_module_version": "1.5.0",
      "model_name": "HTMLModel",
      "state": {
       "_dom_classes": [],
       "_model_module": "@jupyter-widgets/controls",
       "_model_module_version": "1.5.0",
       "_model_name": "HTMLModel",
       "_view_count": null,
       "_view_module": "@jupyter-widgets/controls",
       "_view_module_version": "1.5.0",
       "_view_name": "HTMLView",
       "description": "",
       "description_tooltip": null,
       "layout": "IPY_MODEL_ca6678e5fb0d42b5884b8371c29d4d49",
       "placeholder": "​",
       "style": "IPY_MODEL_2ff0207f0dc744708cced840fb8d74eb",
       "value": " 2.91M/2.91M [00:00&lt;00:00, 9.21MB/s]"
      }
     },
     "69a0ebc96bd944ddb66e520bd78f6d0f": {
      "model_module": "@jupyter-widgets/controls",
      "model_module_version": "1.5.0",
      "model_name": "FloatProgressModel",
      "state": {
       "_dom_classes": [],
       "_model_module": "@jupyter-widgets/controls",
       "_model_module_version": "1.5.0",
       "_model_name": "FloatProgressModel",
       "_view_count": null,
       "_view_module": "@jupyter-widgets/controls",
       "_view_module_version": "1.5.0",
       "_view_name": "ProgressView",
       "bar_style": "success",
       "description": "",
       "description_tooltip": null,
       "layout": "IPY_MODEL_b78ce2dd45da4f718c38b0cca59a077e",
       "max": 558.0,
       "min": 0.0,
       "orientation": "horizontal",
       "style": "IPY_MODEL_6f4ba3f3aba4499b9cbf4834412ab048",
       "value": 558.0
      }
     },
     "6aa832b97b8848bfb4aa29847bc91f3b": {
      "model_module": "@jupyter-widgets/base",
      "model_module_version": "1.2.0",
      "model_name": "LayoutModel",
      "state": {
       "_model_module": "@jupyter-widgets/base",
       "_model_module_version": "1.2.0",
       "_model_name": "LayoutModel",
       "_view_count": null,
       "_view_module": "@jupyter-widgets/base",
       "_view_module_version": "1.2.0",
       "_view_name": "LayoutView",
       "align_content": null,
       "align_items": null,
       "align_self": null,
       "border": null,
       "bottom": null,
       "display": null,
       "flex": null,
       "flex_flow": null,
       "grid_area": null,
       "grid_auto_columns": null,
       "grid_auto_flow": null,
       "grid_auto_rows": null,
       "grid_column": null,
       "grid_gap": null,
       "grid_row": null,
       "grid_template_areas": null,
       "grid_template_columns": null,
       "grid_template_rows": null,
       "height": null,
       "justify_content": null,
       "justify_items": null,
       "left": null,
       "margin": null,
       "max_height": null,
       "max_width": null,
       "min_height": null,
       "min_width": null,
       "object_fit": null,
       "object_position": null,
       "order": null,
       "overflow": null,
       "overflow_x": null,
       "overflow_y": null,
       "padding": null,
       "right": null,
       "top": null,
       "visibility": null,
       "width": null
      }
     },
     "6eaeca873f9f422f8ed97109634238ed": {
      "model_module": "@jupyter-widgets/controls",
      "model_module_version": "1.5.0",
      "model_name": "HTMLModel",
      "state": {
       "_dom_classes": [],
       "_model_module": "@jupyter-widgets/controls",
       "_model_module_version": "1.5.0",
       "_model_name": "HTMLModel",
       "_view_count": null,
       "_view_module": "@jupyter-widgets/controls",
       "_view_module_version": "1.5.0",
       "_view_name": "HTMLView",
       "description": "",
       "description_tooltip": null,
       "layout": "IPY_MODEL_2557100bf28d43f283ddd659ee0d4bce",
       "placeholder": "​",
       "style": "IPY_MODEL_f3f0ac56c1854b91bf457bdbe94cf91b",
       "value": " 843k/843k [00:00&lt;00:00, 37.6MB/s]"
      }
     },
     "6f4ba3f3aba4499b9cbf4834412ab048": {
      "model_module": "@jupyter-widgets/controls",
      "model_module_version": "1.5.0",
      "model_name": "ProgressStyleModel",
      "state": {
       "_model_module": "@jupyter-widgets/controls",
       "_model_module_version": "1.5.0",
       "_model_name": "ProgressStyleModel",
       "_view_count": null,
       "_view_module": "@jupyter-widgets/base",
       "_view_module_version": "1.2.0",
       "_view_name": "StyleView",
       "bar_color": null,
       "description_width": ""
      }
     },
     "8034541a4cb14e8b9206b4eaf063c2dc": {
      "model_module": "@jupyter-widgets/controls",
      "model_module_version": "1.5.0",
      "model_name": "DescriptionStyleModel",
      "state": {
       "_model_module": "@jupyter-widgets/controls",
       "_model_module_version": "1.5.0",
       "_model_name": "DescriptionStyleModel",
       "_view_count": null,
       "_view_module": "@jupyter-widgets/base",
       "_view_module_version": "1.2.0",
       "_view_name": "StyleView",
       "description_width": ""
      }
     },
     "81d8034da3d6420bbc27cc69712f6b00": {
      "model_module": "@jupyter-widgets/base",
      "model_module_version": "1.2.0",
      "model_name": "LayoutModel",
      "state": {
       "_model_module": "@jupyter-widgets/base",
       "_model_module_version": "1.2.0",
       "_model_name": "LayoutModel",
       "_view_count": null,
       "_view_module": "@jupyter-widgets/base",
       "_view_module_version": "1.2.0",
       "_view_name": "LayoutView",
       "align_content": null,
       "align_items": null,
       "align_self": null,
       "border": null,
       "bottom": null,
       "display": null,
       "flex": null,
       "flex_flow": null,
       "grid_area": null,
       "grid_auto_columns": null,
       "grid_auto_flow": null,
       "grid_auto_rows": null,
       "grid_column": null,
       "grid_gap": null,
       "grid_row": null,
       "grid_template_areas": null,
       "grid_template_columns": null,
       "grid_template_rows": null,
       "height": null,
       "justify_content": null,
       "justify_items": null,
       "left": null,
       "margin": null,
       "max_height": null,
       "max_width": null,
       "min_height": null,
       "min_width": null,
       "object_fit": null,
       "object_position": null,
       "order": null,
       "overflow": null,
       "overflow_x": null,
       "overflow_y": null,
       "padding": null,
       "right": null,
       "top": null,
       "visibility": null,
       "width": null
      }
     },
     "86d58aa96fe4468e83b8381a3d1f17b0": {
      "model_module": "@jupyter-widgets/controls",
      "model_module_version": "1.5.0",
      "model_name": "FloatProgressModel",
      "state": {
       "_dom_classes": [],
       "_model_module": "@jupyter-widgets/controls",
       "_model_module_version": "1.5.0",
       "_model_name": "FloatProgressModel",
       "_view_count": null,
       "_view_module": "@jupyter-widgets/controls",
       "_view_module_version": "1.5.0",
       "_view_name": "ProgressView",
       "bar_style": "success",
       "description": "",
       "description_tooltip": null,
       "layout": "IPY_MODEL_6aa832b97b8848bfb4aa29847bc91f3b",
       "max": 843438.0,
       "min": 0.0,
       "orientation": "horizontal",
       "style": "IPY_MODEL_bf3a61d38c35407e870ef43abf7293c5",
       "value": 843438.0
      }
     },
     "88ac2c0ad4d34863aebaad12fbe477ae": {
      "model_module": "@jupyter-widgets/base",
      "model_module_version": "1.2.0",
      "model_name": "LayoutModel",
      "state": {
       "_model_module": "@jupyter-widgets/base",
       "_model_module_version": "1.2.0",
       "_model_name": "LayoutModel",
       "_view_count": null,
       "_view_module": "@jupyter-widgets/base",
       "_view_module_version": "1.2.0",
       "_view_name": "LayoutView",
       "align_content": null,
       "align_items": null,
       "align_self": null,
       "border": null,
       "bottom": null,
       "display": null,
       "flex": null,
       "flex_flow": null,
       "grid_area": null,
       "grid_auto_columns": null,
       "grid_auto_flow": null,
       "grid_auto_rows": null,
       "grid_column": null,
       "grid_gap": null,
       "grid_row": null,
       "grid_template_areas": null,
       "grid_template_columns": null,
       "grid_template_rows": null,
       "height": null,
       "justify_content": null,
       "justify_items": null,
       "left": null,
       "margin": null,
       "max_height": null,
       "max_width": null,
       "min_height": null,
       "min_width": null,
       "object_fit": null,
       "object_position": null,
       "order": null,
       "overflow": null,
       "overflow_x": null,
       "overflow_y": null,
       "padding": null,
       "right": null,
       "top": null,
       "visibility": null,
       "width": null
      }
     },
     "8b8835e28e294328b1576158880c69f7": {
      "model_module": "@jupyter-widgets/base",
      "model_module_version": "1.2.0",
      "model_name": "LayoutModel",
      "state": {
       "_model_module": "@jupyter-widgets/base",
       "_model_module_version": "1.2.0",
       "_model_name": "LayoutModel",
       "_view_count": null,
       "_view_module": "@jupyter-widgets/base",
       "_view_module_version": "1.2.0",
       "_view_name": "LayoutView",
       "align_content": null,
       "align_items": null,
       "align_self": null,
       "border": null,
       "bottom": null,
       "display": null,
       "flex": null,
       "flex_flow": null,
       "grid_area": null,
       "grid_auto_columns": null,
       "grid_auto_flow": null,
       "grid_auto_rows": null,
       "grid_column": null,
       "grid_gap": null,
       "grid_row": null,
       "grid_template_areas": null,
       "grid_template_columns": null,
       "grid_template_rows": null,
       "height": null,
       "justify_content": null,
       "justify_items": null,
       "left": null,
       "margin": null,
       "max_height": null,
       "max_width": null,
       "min_height": null,
       "min_width": null,
       "object_fit": null,
       "object_position": null,
       "order": null,
       "overflow": null,
       "overflow_x": null,
       "overflow_y": null,
       "padding": null,
       "right": null,
       "top": null,
       "visibility": null,
       "width": null
      }
     },
     "8b8e5171e7c74b25b1545c8c75dc0db5": {
      "model_module": "@jupyter-widgets/controls",
      "model_module_version": "1.5.0",
      "model_name": "HTMLModel",
      "state": {
       "_dom_classes": [],
       "_model_module": "@jupyter-widgets/controls",
       "_model_module_version": "1.5.0",
       "_model_name": "HTMLModel",
       "_view_count": null,
       "_view_module": "@jupyter-widgets/controls",
       "_view_module_version": "1.5.0",
       "_view_name": "HTMLView",
       "description": "",
       "description_tooltip": null,
       "layout": "IPY_MODEL_9adc6247da5b438695707fad23ba64b3",
       "placeholder": "​",
       "style": "IPY_MODEL_c910de65bdab4959ac5cd30ccfa45e6f",
       "value": " 1.08M/1.08M [00:00&lt;00:00, 38.2MB/s]"
      }
     },
     "8cb42fa7d3924cb1b8064b9452f01c0a": {
      "model_module": "@jupyter-widgets/controls",
      "model_module_version": "1.5.0",
      "model_name": "HBoxModel",
      "state": {
       "_dom_classes": [],
       "_model_module": "@jupyter-widgets/controls",
       "_model_module_version": "1.5.0",
       "_model_name": "HBoxModel",
       "_view_count": null,
       "_view_module": "@jupyter-widgets/controls",
       "_view_module_version": "1.5.0",
       "_view_name": "HBoxView",
       "box_style": "",
       "children": [
        "IPY_MODEL_a313d80cbad445268fc84c3bc4d9bfd6",
        "IPY_MODEL_86d58aa96fe4468e83b8381a3d1f17b0",
        "IPY_MODEL_6eaeca873f9f422f8ed97109634238ed"
       ],
       "layout": "IPY_MODEL_ff15cf1d38224206a63b69d41aba3e20"
      }
     },
     "9adc6247da5b438695707fad23ba64b3": {
      "model_module": "@jupyter-widgets/base",
      "model_module_version": "1.2.0",
      "model_name": "LayoutModel",
      "state": {
       "_model_module": "@jupyter-widgets/base",
       "_model_module_version": "1.2.0",
       "_model_name": "LayoutModel",
       "_view_count": null,
       "_view_module": "@jupyter-widgets/base",
       "_view_module_version": "1.2.0",
       "_view_name": "LayoutView",
       "align_content": null,
       "align_items": null,
       "align_self": null,
       "border": null,
       "bottom": null,
       "display": null,
       "flex": null,
       "flex_flow": null,
       "grid_area": null,
       "grid_auto_columns": null,
       "grid_auto_flow": null,
       "grid_auto_rows": null,
       "grid_column": null,
       "grid_gap": null,
       "grid_row": null,
       "grid_template_areas": null,
       "grid_template_columns": null,
       "grid_template_rows": null,
       "height": null,
       "justify_content": null,
       "justify_items": null,
       "left": null,
       "margin": null,
       "max_height": null,
       "max_width": null,
       "min_height": null,
       "min_width": null,
       "object_fit": null,
       "object_position": null,
       "order": null,
       "overflow": null,
       "overflow_x": null,
       "overflow_y": null,
       "padding": null,
       "right": null,
       "top": null,
       "visibility": null,
       "width": null
      }
     },
     "a313d80cbad445268fc84c3bc4d9bfd6": {
      "model_module": "@jupyter-widgets/controls",
      "model_module_version": "1.5.0",
      "model_name": "HTMLModel",
      "state": {
       "_dom_classes": [],
       "_model_module": "@jupyter-widgets/controls",
       "_model_module_version": "1.5.0",
       "_model_name": "HTMLModel",
       "_view_count": null,
       "_view_module": "@jupyter-widgets/controls",
       "_view_module_version": "1.5.0",
       "_view_name": "HTMLView",
       "description": "",
       "description_tooltip": null,
       "layout": "IPY_MODEL_1377f4608bda4949acfce45a382a3616",
       "placeholder": "​",
       "style": "IPY_MODEL_e626a0c9bb454ca4a2b16aa0e1d4c4c5",
       "value": "vocab.txt: 100%"
      }
     },
     "ae1c64052220463693cc1ab34e446f03": {
      "model_module": "@jupyter-widgets/base",
      "model_module_version": "1.2.0",
      "model_name": "LayoutModel",
      "state": {
       "_model_module": "@jupyter-widgets/base",
       "_model_module_version": "1.2.0",
       "_model_name": "LayoutModel",
       "_view_count": null,
       "_view_module": "@jupyter-widgets/base",
       "_view_module_version": "1.2.0",
       "_view_name": "LayoutView",
       "align_content": null,
       "align_items": null,
       "align_self": null,
       "border": null,
       "bottom": null,
       "display": null,
       "flex": null,
       "flex_flow": null,
       "grid_area": null,
       "grid_auto_columns": null,
       "grid_auto_flow": null,
       "grid_auto_rows": null,
       "grid_column": null,
       "grid_gap": null,
       "grid_row": null,
       "grid_template_areas": null,
       "grid_template_columns": null,
       "grid_template_rows": null,
       "height": null,
       "justify_content": null,
       "justify_items": null,
       "left": null,
       "margin": null,
       "max_height": null,
       "max_width": null,
       "min_height": null,
       "min_width": null,
       "object_fit": null,
       "object_position": null,
       "order": null,
       "overflow": null,
       "overflow_x": null,
       "overflow_y": null,
       "padding": null,
       "right": null,
       "top": null,
       "visibility": null,
       "width": null
      }
     },
     "af8fd09c3fee44a09354e6521e5eab67": {
      "model_module": "@jupyter-widgets/controls",
      "model_module_version": "1.5.0",
      "model_name": "HBoxModel",
      "state": {
       "_dom_classes": [],
       "_model_module": "@jupyter-widgets/controls",
       "_model_module_version": "1.5.0",
       "_model_name": "HBoxModel",
       "_view_count": null,
       "_view_module": "@jupyter-widgets/controls",
       "_view_module_version": "1.5.0",
       "_view_name": "HBoxView",
       "box_style": "",
       "children": [
        "IPY_MODEL_14f59b7f9d8842dcb65192ee232607bd",
        "IPY_MODEL_e1f37b7355c84f53a425f1ef8269c18f",
        "IPY_MODEL_25bbdf3aa5cc4e17ba841d97c6fa908d"
       ],
       "layout": "IPY_MODEL_42d5470f53b947be8281f0c867280a27"
      }
     },
     "b78ce2dd45da4f718c38b0cca59a077e": {
      "model_module": "@jupyter-widgets/base",
      "model_module_version": "1.2.0",
      "model_name": "LayoutModel",
      "state": {
       "_model_module": "@jupyter-widgets/base",
       "_model_module_version": "1.2.0",
       "_model_name": "LayoutModel",
       "_view_count": null,
       "_view_module": "@jupyter-widgets/base",
       "_view_module_version": "1.2.0",
       "_view_name": "LayoutView",
       "align_content": null,
       "align_items": null,
       "align_self": null,
       "border": null,
       "bottom": null,
       "display": null,
       "flex": null,
       "flex_flow": null,
       "grid_area": null,
       "grid_auto_columns": null,
       "grid_auto_flow": null,
       "grid_auto_rows": null,
       "grid_column": null,
       "grid_gap": null,
       "grid_row": null,
       "grid_template_areas": null,
       "grid_template_columns": null,
       "grid_template_rows": null,
       "height": null,
       "justify_content": null,
       "justify_items": null,
       "left": null,
       "margin": null,
       "max_height": null,
       "max_width": null,
       "min_height": null,
       "min_width": null,
       "object_fit": null,
       "object_position": null,
       "order": null,
       "overflow": null,
       "overflow_x": null,
       "overflow_y": null,
       "padding": null,
       "right": null,
       "top": null,
       "visibility": null,
       "width": null
      }
     },
     "be3d16aae8394ddfbca90da726e5cbea": {
      "model_module": "@jupyter-widgets/base",
      "model_module_version": "1.2.0",
      "model_name": "LayoutModel",
      "state": {
       "_model_module": "@jupyter-widgets/base",
       "_model_module_version": "1.2.0",
       "_model_name": "LayoutModel",
       "_view_count": null,
       "_view_module": "@jupyter-widgets/base",
       "_view_module_version": "1.2.0",
       "_view_name": "LayoutView",
       "align_content": null,
       "align_items": null,
       "align_self": null,
       "border": null,
       "bottom": null,
       "display": null,
       "flex": null,
       "flex_flow": null,
       "grid_area": null,
       "grid_auto_columns": null,
       "grid_auto_flow": null,
       "grid_auto_rows": null,
       "grid_column": null,
       "grid_gap": null,
       "grid_row": null,
       "grid_template_areas": null,
       "grid_template_columns": null,
       "grid_template_rows": null,
       "height": null,
       "justify_content": null,
       "justify_items": null,
       "left": null,
       "margin": null,
       "max_height": null,
       "max_width": null,
       "min_height": null,
       "min_width": null,
       "object_fit": null,
       "object_position": null,
       "order": null,
       "overflow": null,
       "overflow_x": null,
       "overflow_y": null,
       "padding": null,
       "right": null,
       "top": null,
       "visibility": null,
       "width": null
      }
     },
     "bf3a61d38c35407e870ef43abf7293c5": {
      "model_module": "@jupyter-widgets/controls",
      "model_module_version": "1.5.0",
      "model_name": "ProgressStyleModel",
      "state": {
       "_model_module": "@jupyter-widgets/controls",
       "_model_module_version": "1.5.0",
       "_model_name": "ProgressStyleModel",
       "_view_count": null,
       "_view_module": "@jupyter-widgets/base",
       "_view_module_version": "1.2.0",
       "_view_name": "StyleView",
       "bar_color": null,
       "description_width": ""
      }
     },
     "c251cf2055dd4a0889d0c69577eb1544": {
      "model_module": "@jupyter-widgets/controls",
      "model_module_version": "1.5.0",
      "model_name": "DescriptionStyleModel",
      "state": {
       "_model_module": "@jupyter-widgets/controls",
       "_model_module_version": "1.5.0",
       "_model_name": "DescriptionStyleModel",
       "_view_count": null,
       "_view_module": "@jupyter-widgets/base",
       "_view_module_version": "1.2.0",
       "_view_name": "StyleView",
       "description_width": ""
      }
     },
     "c2bd341eca524ae4833746fa6f1325df": {
      "model_module": "@jupyter-widgets/controls",
      "model_module_version": "1.5.0",
      "model_name": "HTMLModel",
      "state": {
       "_dom_classes": [],
       "_model_module": "@jupyter-widgets/controls",
       "_model_module_version": "1.5.0",
       "_model_name": "HTMLModel",
       "_view_count": null,
       "_view_module": "@jupyter-widgets/controls",
       "_view_module_version": "1.5.0",
       "_view_name": "HTMLView",
       "description": "",
       "description_tooltip": null,
       "layout": "IPY_MODEL_35eb65f611074f7595575447299efa95",
       "placeholder": "​",
       "style": "IPY_MODEL_c251cf2055dd4a0889d0c69577eb1544",
       "value": "bpe.codes: 100%"
      }
     },
     "c8aff8ff2a4f4f88b0ffda970e4367fa": {
      "model_module": "@jupyter-widgets/controls",
      "model_module_version": "1.5.0",
      "model_name": "HTMLModel",
      "state": {
       "_dom_classes": [],
       "_model_module": "@jupyter-widgets/controls",
       "_model_module_version": "1.5.0",
       "_model_name": "HTMLModel",
       "_view_count": null,
       "_view_module": "@jupyter-widgets/controls",
       "_view_module_version": "1.5.0",
       "_view_name": "HTMLView",
       "description": "",
       "description_tooltip": null,
       "layout": "IPY_MODEL_e45cccc052a849a5bb9c8467cdd58e28",
       "placeholder": "​",
       "style": "IPY_MODEL_d05b2281c3874c9eb3d3ef91ac21de55",
       "value": "tokenizer.json: 100%"
      }
     },
     "c910de65bdab4959ac5cd30ccfa45e6f": {
      "model_module": "@jupyter-widgets/controls",
      "model_module_version": "1.5.0",
      "model_name": "DescriptionStyleModel",
      "state": {
       "_model_module": "@jupyter-widgets/controls",
       "_model_module_version": "1.5.0",
       "_model_name": "DescriptionStyleModel",
       "_view_count": null,
       "_view_module": "@jupyter-widgets/base",
       "_view_module_version": "1.2.0",
       "_view_name": "StyleView",
       "description_width": ""
      }
     },
     "ca6678e5fb0d42b5884b8371c29d4d49": {
      "model_module": "@jupyter-widgets/base",
      "model_module_version": "1.2.0",
      "model_name": "LayoutModel",
      "state": {
       "_model_module": "@jupyter-widgets/base",
       "_model_module_version": "1.2.0",
       "_model_name": "LayoutModel",
       "_view_count": null,
       "_view_module": "@jupyter-widgets/base",
       "_view_module_version": "1.2.0",
       "_view_name": "LayoutView",
       "align_content": null,
       "align_items": null,
       "align_self": null,
       "border": null,
       "bottom": null,
       "display": null,
       "flex": null,
       "flex_flow": null,
       "grid_area": null,
       "grid_auto_columns": null,
       "grid_auto_flow": null,
       "grid_auto_rows": null,
       "grid_column": null,
       "grid_gap": null,
       "grid_row": null,
       "grid_template_areas": null,
       "grid_template_columns": null,
       "grid_template_rows": null,
       "height": null,
       "justify_content": null,
       "justify_items": null,
       "left": null,
       "margin": null,
       "max_height": null,
       "max_width": null,
       "min_height": null,
       "min_width": null,
       "object_fit": null,
       "object_position": null,
       "order": null,
       "overflow": null,
       "overflow_x": null,
       "overflow_y": null,
       "padding": null,
       "right": null,
       "top": null,
       "visibility": null,
       "width": null
      }
     },
     "d05b2281c3874c9eb3d3ef91ac21de55": {
      "model_module": "@jupyter-widgets/controls",
      "model_module_version": "1.5.0",
      "model_name": "DescriptionStyleModel",
      "state": {
       "_model_module": "@jupyter-widgets/controls",
       "_model_module_version": "1.5.0",
       "_model_name": "DescriptionStyleModel",
       "_view_count": null,
       "_view_module": "@jupyter-widgets/base",
       "_view_module_version": "1.2.0",
       "_view_name": "StyleView",
       "description_width": ""
      }
     },
     "d5af29da9d644885983cd4ea31e82993": {
      "model_module": "@jupyter-widgets/controls",
      "model_module_version": "1.5.0",
      "model_name": "ProgressStyleModel",
      "state": {
       "_model_module": "@jupyter-widgets/controls",
       "_model_module_version": "1.5.0",
       "_model_name": "ProgressStyleModel",
       "_view_count": null,
       "_view_module": "@jupyter-widgets/base",
       "_view_module_version": "1.2.0",
       "_view_name": "StyleView",
       "bar_color": null,
       "description_width": ""
      }
     },
     "db5d54a63c7349fa9c06cdbf0a758755": {
      "model_module": "@jupyter-widgets/controls",
      "model_module_version": "1.5.0",
      "model_name": "DescriptionStyleModel",
      "state": {
       "_model_module": "@jupyter-widgets/controls",
       "_model_module_version": "1.5.0",
       "_model_name": "DescriptionStyleModel",
       "_view_count": null,
       "_view_module": "@jupyter-widgets/base",
       "_view_module_version": "1.2.0",
       "_view_name": "StyleView",
       "description_width": ""
      }
     },
     "e085c177ab8e4f1fb9d32d0217d52413": {
      "model_module": "@jupyter-widgets/controls",
      "model_module_version": "1.5.0",
      "model_name": "DescriptionStyleModel",
      "state": {
       "_model_module": "@jupyter-widgets/controls",
       "_model_module_version": "1.5.0",
       "_model_name": "DescriptionStyleModel",
       "_view_count": null,
       "_view_module": "@jupyter-widgets/base",
       "_view_module_version": "1.2.0",
       "_view_name": "StyleView",
       "description_width": ""
      }
     },
     "e1f37b7355c84f53a425f1ef8269c18f": {
      "model_module": "@jupyter-widgets/controls",
      "model_module_version": "1.5.0",
      "model_name": "FloatProgressModel",
      "state": {
       "_dom_classes": [],
       "_model_module": "@jupyter-widgets/controls",
       "_model_module_version": "1.5.0",
       "_model_name": "FloatProgressModel",
       "_view_count": null,
       "_view_module": "@jupyter-widgets/controls",
       "_view_module_version": "1.5.0",
       "_view_name": "ProgressView",
       "bar_style": "success",
       "description": "",
       "description_tooltip": null,
       "layout": "IPY_MODEL_60dd16aa9429446b9f1c9d8cd021eb28",
       "max": 542529064.0,
       "min": 0.0,
       "orientation": "horizontal",
       "style": "IPY_MODEL_5953e353450d4af5a9ea70de448c0865",
       "value": 542529064.0
      }
     },
     "e45cccc052a849a5bb9c8467cdd58e28": {
      "model_module": "@jupyter-widgets/base",
      "model_module_version": "1.2.0",
      "model_name": "LayoutModel",
      "state": {
       "_model_module": "@jupyter-widgets/base",
       "_model_module_version": "1.2.0",
       "_model_name": "LayoutModel",
       "_view_count": null,
       "_view_module": "@jupyter-widgets/base",
       "_view_module_version": "1.2.0",
       "_view_name": "LayoutView",
       "align_content": null,
       "align_items": null,
       "align_self": null,
       "border": null,
       "bottom": null,
       "display": null,
       "flex": null,
       "flex_flow": null,
       "grid_area": null,
       "grid_auto_columns": null,
       "grid_auto_flow": null,
       "grid_auto_rows": null,
       "grid_column": null,
       "grid_gap": null,
       "grid_row": null,
       "grid_template_areas": null,
       "grid_template_columns": null,
       "grid_template_rows": null,
       "height": null,
       "justify_content": null,
       "justify_items": null,
       "left": null,
       "margin": null,
       "max_height": null,
       "max_width": null,
       "min_height": null,
       "min_width": null,
       "object_fit": null,
       "object_position": null,
       "order": null,
       "overflow": null,
       "overflow_x": null,
       "overflow_y": null,
       "padding": null,
       "right": null,
       "top": null,
       "visibility": null,
       "width": null
      }
     },
     "e626a0c9bb454ca4a2b16aa0e1d4c4c5": {
      "model_module": "@jupyter-widgets/controls",
      "model_module_version": "1.5.0",
      "model_name": "DescriptionStyleModel",
      "state": {
       "_model_module": "@jupyter-widgets/controls",
       "_model_module_version": "1.5.0",
       "_model_name": "DescriptionStyleModel",
       "_view_count": null,
       "_view_module": "@jupyter-widgets/base",
       "_view_module_version": "1.2.0",
       "_view_name": "StyleView",
       "description_width": ""
      }
     },
     "f03bee4884674e94ac8032a46542f1e3": {
      "model_module": "@jupyter-widgets/controls",
      "model_module_version": "1.5.0",
      "model_name": "ProgressStyleModel",
      "state": {
       "_model_module": "@jupyter-widgets/controls",
       "_model_module_version": "1.5.0",
       "_model_name": "ProgressStyleModel",
       "_view_count": null,
       "_view_module": "@jupyter-widgets/base",
       "_view_module_version": "1.2.0",
       "_view_name": "StyleView",
       "bar_color": null,
       "description_width": ""
      }
     },
     "f3f0ac56c1854b91bf457bdbe94cf91b": {
      "model_module": "@jupyter-widgets/controls",
      "model_module_version": "1.5.0",
      "model_name": "DescriptionStyleModel",
      "state": {
       "_model_module": "@jupyter-widgets/controls",
       "_model_module_version": "1.5.0",
       "_model_name": "DescriptionStyleModel",
       "_view_count": null,
       "_view_module": "@jupyter-widgets/base",
       "_view_module_version": "1.2.0",
       "_view_name": "StyleView",
       "description_width": ""
      }
     },
     "f46bcd43357443048b5fde23002d76b5": {
      "model_module": "@jupyter-widgets/base",
      "model_module_version": "1.2.0",
      "model_name": "LayoutModel",
      "state": {
       "_model_module": "@jupyter-widgets/base",
       "_model_module_version": "1.2.0",
       "_model_name": "LayoutModel",
       "_view_count": null,
       "_view_module": "@jupyter-widgets/base",
       "_view_module_version": "1.2.0",
       "_view_name": "LayoutView",
       "align_content": null,
       "align_items": null,
       "align_self": null,
       "border": null,
       "bottom": null,
       "display": null,
       "flex": null,
       "flex_flow": null,
       "grid_area": null,
       "grid_auto_columns": null,
       "grid_auto_flow": null,
       "grid_auto_rows": null,
       "grid_column": null,
       "grid_gap": null,
       "grid_row": null,
       "grid_template_areas": null,
       "grid_template_columns": null,
       "grid_template_rows": null,
       "height": null,
       "justify_content": null,
       "justify_items": null,
       "left": null,
       "margin": null,
       "max_height": null,
       "max_width": null,
       "min_height": null,
       "min_width": null,
       "object_fit": null,
       "object_position": null,
       "order": null,
       "overflow": null,
       "overflow_x": null,
       "overflow_y": null,
       "padding": null,
       "right": null,
       "top": null,
       "visibility": null,
       "width": null
      }
     },
     "f5ca5d9f42f4495eaec8767fafba5ab2": {
      "model_module": "@jupyter-widgets/controls",
      "model_module_version": "1.5.0",
      "model_name": "HTMLModel",
      "state": {
       "_dom_classes": [],
       "_model_module": "@jupyter-widgets/controls",
       "_model_module_version": "1.5.0",
       "_model_name": "HTMLModel",
       "_view_count": null,
       "_view_module": "@jupyter-widgets/controls",
       "_view_module_version": "1.5.0",
       "_view_name": "HTMLView",
       "description": "",
       "description_tooltip": null,
       "layout": "IPY_MODEL_81d8034da3d6420bbc27cc69712f6b00",
       "placeholder": "​",
       "style": "IPY_MODEL_324ae85e6c31471b9d8a6365b8467ae4",
       "value": "config.json: 100%"
      }
     },
     "ff15cf1d38224206a63b69d41aba3e20": {
      "model_module": "@jupyter-widgets/base",
      "model_module_version": "1.2.0",
      "model_name": "LayoutModel",
      "state": {
       "_model_module": "@jupyter-widgets/base",
       "_model_module_version": "1.2.0",
       "_model_name": "LayoutModel",
       "_view_count": null,
       "_view_module": "@jupyter-widgets/base",
       "_view_module_version": "1.2.0",
       "_view_name": "LayoutView",
       "align_content": null,
       "align_items": null,
       "align_self": null,
       "border": null,
       "bottom": null,
       "display": null,
       "flex": null,
       "flex_flow": null,
       "grid_area": null,
       "grid_auto_columns": null,
       "grid_auto_flow": null,
       "grid_auto_rows": null,
       "grid_column": null,
       "grid_gap": null,
       "grid_row": null,
       "grid_template_areas": null,
       "grid_template_columns": null,
       "grid_template_rows": null,
       "height": null,
       "justify_content": null,
       "justify_items": null,
       "left": null,
       "margin": null,
       "max_height": null,
       "max_width": null,
       "min_height": null,
       "min_width": null,
       "object_fit": null,
       "object_position": null,
       "order": null,
       "overflow": null,
       "overflow_x": null,
       "overflow_y": null,
       "padding": null,
       "right": null,
       "top": null,
       "visibility": null,
       "width": null
      }
     }
    },
    "version_major": 2,
    "version_minor": 0
   }
  }
 },
 "nbformat": 4,
 "nbformat_minor": 5
}
